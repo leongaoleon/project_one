{
 "cells": [
  {
   "cell_type": "markdown",
   "metadata": {},
   "source": [
    "# Examing and Selecting Data Sources:"
   ]
  },
  {
   "cell_type": "code",
   "execution_count": 1,
   "metadata": {},
   "outputs": [],
   "source": [
    "import pandas as pd\n",
    "from datetime import datetime\n",
    "import os    \n",
    "from dotenv  import load_dotenv\n",
    "from pathlib import Path"
   ]
  },
  {
   "cell_type": "markdown",
   "metadata": {},
   "source": [
    "## 1) Testing & Importing Data from Alpaca:"
   ]
  },
  {
   "cell_type": "code",
   "execution_count": 7,
   "metadata": {},
   "outputs": [],
   "source": [
    "import alpaca_trade_api as tradeapi"
   ]
  },
  {
   "cell_type": "code",
   "execution_count": 10,
   "metadata": {},
   "outputs": [
    {
     "name": "stdout",
     "output_type": "stream",
     "text": [
      "<class 'str'>\n",
      "<class 'str'>\n"
     ]
    }
   ],
   "source": [
    "load_dotenv(dotenv_path = Path(\"C:/Users/Leon/API_keys/.env\"))\n",
    "\n",
    "alpaca_api_key = os.getenv(\"ALPACA_API_KEY\")\n",
    "alpaca_secret_key = os.getenv(\"ALPACA_SECRET_KEY\")\n",
    "print(type(alpaca_secret_key))\n",
    "print(type(alpaca_api_key))\n",
    "\n",
    "# Creating Alpaca Object\n",
    "alpaca = tradeapi.REST(alpaca_api_key, alpaca_secret_key, api_version=\"v2\")"
   ]
  },
  {
   "cell_type": "code",
   "execution_count": 11,
   "metadata": {},
   "outputs": [],
   "source": [
    "ticker_alpaca = \"BTC\"\n",
    "timeframe = \"1D\"\n",
    "start_data = pd.Timestamp(\"2017-01-01\", tz=\"America/New_York\").isoformat()\n",
    "end_data = pd.Timestamp(\"2020-12-31\", tz=\"America/New_York\").isoformat()"
   ]
  },
  {
   "cell_type": "code",
   "execution_count": 12,
   "metadata": {},
   "outputs": [
    {
     "data": {
      "text/html": [
       "<div>\n",
       "<style scoped>\n",
       "    .dataframe tbody tr th:only-of-type {\n",
       "        vertical-align: middle;\n",
       "    }\n",
       "\n",
       "    .dataframe tbody tr th {\n",
       "        vertical-align: top;\n",
       "    }\n",
       "\n",
       "    .dataframe thead tr th {\n",
       "        text-align: left;\n",
       "    }\n",
       "\n",
       "    .dataframe thead tr:last-of-type th {\n",
       "        text-align: right;\n",
       "    }\n",
       "</style>\n",
       "<table border=\"1\" class=\"dataframe\">\n",
       "  <thead>\n",
       "    <tr>\n",
       "      <th></th>\n",
       "      <th colspan=\"5\" halign=\"left\">BTC</th>\n",
       "    </tr>\n",
       "    <tr>\n",
       "      <th></th>\n",
       "      <th>open</th>\n",
       "      <th>high</th>\n",
       "      <th>low</th>\n",
       "      <th>close</th>\n",
       "      <th>volume</th>\n",
       "    </tr>\n",
       "    <tr>\n",
       "      <th>time</th>\n",
       "      <th></th>\n",
       "      <th></th>\n",
       "      <th></th>\n",
       "      <th></th>\n",
       "      <th></th>\n",
       "    </tr>\n",
       "  </thead>\n",
       "  <tbody>\n",
       "  </tbody>\n",
       "</table>\n",
       "</div>"
      ],
      "text/plain": [
       "Empty DataFrame\n",
       "Columns: [(BTC, open), (BTC, high), (BTC, low), (BTC, close), (BTC, volume)]\n",
       "Index: []"
      ]
     },
     "execution_count": 12,
     "metadata": {},
     "output_type": "execute_result"
    }
   ],
   "source": [
    "alpaca_df = alpaca.get_barset(\n",
    "    ticker_alpaca, \n",
    "    timeframe, \n",
    "    start=start_data, \n",
    "    end=end_data\n",
    ").df\n",
    "alpaca_df.tail()"
   ]
  },
  {
   "cell_type": "markdown",
   "metadata": {},
   "source": [
    "**Conclusion: Not Selected, as No Avaliable Data from Alpaca.**"
   ]
  },
  {
   "cell_type": "markdown",
   "metadata": {},
   "source": [
    "## 2) Testing & Importing Data from Quandl:"
   ]
  },
  {
   "cell_type": "code",
   "execution_count": 16,
   "metadata": {},
   "outputs": [
    {
     "data": {
      "text/plain": [
       "str"
      ]
     },
     "execution_count": 16,
     "metadata": {},
     "output_type": "execute_result"
    }
   ],
   "source": [
    "import quandl\n",
    "load_dotenv(dotenv_path = Path(\"C:/Users/Leon/API_keys/.env\"))\n",
    "api_key_quandl = os.getenv(\"QUANDL_API_KEY\")\n",
    "type(api_key_quandl)"
   ]
  },
  {
   "cell_type": "code",
   "execution_count": 18,
   "metadata": {},
   "outputs": [
    {
     "data": {
      "text/html": [
       "<div>\n",
       "<style scoped>\n",
       "    .dataframe tbody tr th:only-of-type {\n",
       "        vertical-align: middle;\n",
       "    }\n",
       "\n",
       "    .dataframe tbody tr th {\n",
       "        vertical-align: top;\n",
       "    }\n",
       "\n",
       "    .dataframe thead th {\n",
       "        text-align: right;\n",
       "    }\n",
       "</style>\n",
       "<table border=\"1\" class=\"dataframe\">\n",
       "  <thead>\n",
       "    <tr style=\"text-align: right;\">\n",
       "      <th></th>\n",
       "      <th>Value</th>\n",
       "    </tr>\n",
       "    <tr>\n",
       "      <th>Date</th>\n",
       "      <th></th>\n",
       "    </tr>\n",
       "  </thead>\n",
       "  <tbody>\n",
       "    <tr>\n",
       "      <th>2020-12-27</th>\n",
       "      <td>24693.58</td>\n",
       "    </tr>\n",
       "    <tr>\n",
       "      <th>2020-12-28</th>\n",
       "      <td>26443.21</td>\n",
       "    </tr>\n",
       "    <tr>\n",
       "      <th>2020-12-29</th>\n",
       "      <td>26246.58</td>\n",
       "    </tr>\n",
       "    <tr>\n",
       "      <th>2020-12-30</th>\n",
       "      <td>27036.69</td>\n",
       "    </tr>\n",
       "    <tr>\n",
       "      <th>2020-12-31</th>\n",
       "      <td>27376.37</td>\n",
       "    </tr>\n",
       "  </tbody>\n",
       "</table>\n",
       "</div>"
      ],
      "text/plain": [
       "               Value\n",
       "Date                \n",
       "2020-12-27  24693.58\n",
       "2020-12-28  26443.21\n",
       "2020-12-29  26246.58\n",
       "2020-12-30  27036.69\n",
       "2020-12-31  27376.37"
      ]
     },
     "execution_count": 18,
     "metadata": {},
     "output_type": "execute_result"
    }
   ],
   "source": [
    "quandl_df = quandl.get(\"BCHAIN/MKPRU\", start_date='2017-01-01', end_date='2020-12-31', collaps='daily', api_key= api_key_quandl)\n",
    "quandl_df.tail()"
   ]
  },
  {
   "cell_type": "markdown",
   "metadata": {},
   "source": [
    "**Conclusion: Not Selected, as Missing Volume Data from Quandl.**"
   ]
  },
  {
   "cell_type": "markdown",
   "metadata": {},
   "source": [
    "## 3) Testing & Importing Data from FXCM:"
   ]
  },
  {
   "cell_type": "markdown",
   "metadata": {},
   "source": [
    "Install fxcmpy:"
   ]
  },
  {
   "cell_type": "code",
   "execution_count": 23,
   "metadata": {},
   "outputs": [],
   "source": [
    "# pip install fxcmpy\n",
    "# pip install fxcmpy --upgrade\n",
    "# pip install python-socketio==4.4.0"
   ]
  },
  {
   "cell_type": "code",
   "execution_count": 24,
   "metadata": {},
   "outputs": [],
   "source": [
    "import fxcmpy\n",
    "import socketio"
   ]
  },
  {
   "cell_type": "code",
   "execution_count": 25,
   "metadata": {},
   "outputs": [],
   "source": [
    "con = fxcmpy.fxcmpy(access_token=str(os.getenv(\"FXCM\")), log_level='error', server='demo', log_file='log.txt')"
   ]
  },
  {
   "cell_type": "code",
   "execution_count": 26,
   "metadata": {},
   "outputs": [
    {
     "data": {
      "text/html": [
       "<div>\n",
       "<style scoped>\n",
       "    .dataframe tbody tr th:only-of-type {\n",
       "        vertical-align: middle;\n",
       "    }\n",
       "\n",
       "    .dataframe tbody tr th {\n",
       "        vertical-align: top;\n",
       "    }\n",
       "\n",
       "    .dataframe thead th {\n",
       "        text-align: right;\n",
       "    }\n",
       "</style>\n",
       "<table border=\"1\" class=\"dataframe\">\n",
       "  <thead>\n",
       "    <tr style=\"text-align: right;\">\n",
       "      <th></th>\n",
       "      <th>bidopen</th>\n",
       "      <th>bidclose</th>\n",
       "      <th>bidhigh</th>\n",
       "      <th>bidlow</th>\n",
       "      <th>askopen</th>\n",
       "      <th>askclose</th>\n",
       "      <th>askhigh</th>\n",
       "      <th>asklow</th>\n",
       "      <th>tickqty</th>\n",
       "    </tr>\n",
       "    <tr>\n",
       "      <th>date</th>\n",
       "      <th></th>\n",
       "      <th></th>\n",
       "      <th></th>\n",
       "      <th></th>\n",
       "      <th></th>\n",
       "      <th></th>\n",
       "      <th></th>\n",
       "      <th></th>\n",
       "      <th></th>\n",
       "    </tr>\n",
       "  </thead>\n",
       "  <tbody>\n",
       "    <tr>\n",
       "      <th>2020-12-24 22:00:00</th>\n",
       "      <td>23288.0</td>\n",
       "      <td>23333.0</td>\n",
       "      <td>23457.0</td>\n",
       "      <td>22616.8</td>\n",
       "      <td>23327.0</td>\n",
       "      <td>23379.0</td>\n",
       "      <td>23506.0</td>\n",
       "      <td>22666.0</td>\n",
       "      <td>392172</td>\n",
       "    </tr>\n",
       "    <tr>\n",
       "      <th>2020-12-28 22:00:00</th>\n",
       "      <td>26332.0</td>\n",
       "      <td>26573.6</td>\n",
       "      <td>27458.0</td>\n",
       "      <td>26073.1</td>\n",
       "      <td>26376.1</td>\n",
       "      <td>26618.0</td>\n",
       "      <td>27490.5</td>\n",
       "      <td>26111.0</td>\n",
       "      <td>498917</td>\n",
       "    </tr>\n",
       "    <tr>\n",
       "      <th>2020-12-29 22:00:00</th>\n",
       "      <td>26573.6</td>\n",
       "      <td>26881.0</td>\n",
       "      <td>27166.0</td>\n",
       "      <td>25822.0</td>\n",
       "      <td>26617.0</td>\n",
       "      <td>26933.0</td>\n",
       "      <td>27219.0</td>\n",
       "      <td>25872.8</td>\n",
       "      <td>417727</td>\n",
       "    </tr>\n",
       "    <tr>\n",
       "      <th>2020-12-30 22:00:00</th>\n",
       "      <td>26881.0</td>\n",
       "      <td>28887.0</td>\n",
       "      <td>29001.0</td>\n",
       "      <td>26881.0</td>\n",
       "      <td>26933.0</td>\n",
       "      <td>28941.0</td>\n",
       "      <td>29044.0</td>\n",
       "      <td>26927.0</td>\n",
       "      <td>454514</td>\n",
       "    </tr>\n",
       "    <tr>\n",
       "      <th>2020-12-31 22:00:00</th>\n",
       "      <td>28887.0</td>\n",
       "      <td>28866.3</td>\n",
       "      <td>29282.0</td>\n",
       "      <td>27945.2</td>\n",
       "      <td>28942.0</td>\n",
       "      <td>28943.7</td>\n",
       "      <td>29345.0</td>\n",
       "      <td>27975.0</td>\n",
       "      <td>405988</td>\n",
       "    </tr>\n",
       "  </tbody>\n",
       "</table>\n",
       "</div>"
      ],
      "text/plain": [
       "                     bidopen  bidclose  bidhigh   bidlow  askopen  askclose  \\\n",
       "date                                                                          \n",
       "2020-12-24 22:00:00  23288.0   23333.0  23457.0  22616.8  23327.0   23379.0   \n",
       "2020-12-28 22:00:00  26332.0   26573.6  27458.0  26073.1  26376.1   26618.0   \n",
       "2020-12-29 22:00:00  26573.6   26881.0  27166.0  25822.0  26617.0   26933.0   \n",
       "2020-12-30 22:00:00  26881.0   28887.0  29001.0  26881.0  26933.0   28941.0   \n",
       "2020-12-31 22:00:00  28887.0   28866.3  29282.0  27945.2  28942.0   28943.7   \n",
       "\n",
       "                     askhigh   asklow  tickqty  \n",
       "date                                            \n",
       "2020-12-24 22:00:00  23506.0  22666.0   392172  \n",
       "2020-12-28 22:00:00  27490.5  26111.0   498917  \n",
       "2020-12-29 22:00:00  27219.0  25872.8   417727  \n",
       "2020-12-30 22:00:00  29044.0  26927.0   454514  \n",
       "2020-12-31 22:00:00  29345.0  27975.0   405988  "
      ]
     },
     "execution_count": 26,
     "metadata": {},
     "output_type": "execute_result"
    }
   ],
   "source": [
    "start_data = datetime(2017,1,1)\n",
    "end_data = datetime(2020,12,31)\n",
    "timeframe = \"D1\"\n",
    "\n",
    "fxcm_df = con.get_candles('BTC/USD', period=timeframe, start=start_data, stop=end_data)\n",
    "fxcm_df.tail()"
   ]
  },
  {
   "cell_type": "code",
   "execution_count": 27,
   "metadata": {},
   "outputs": [],
   "source": [
    "# Disconnect\n",
    "con.close()"
   ]
  },
  {
   "cell_type": "markdown",
   "metadata": {},
   "source": [
    "**Conclusion: Not Selected, due to: <br>1) \"tick qty\" is not volume but just an approximate for volume, and   <br> 2) need to convert the spread of bid/ask close to mid-close price.**"
   ]
  },
  {
   "cell_type": "markdown",
   "metadata": {},
   "source": [
    "## 4) Testing & Importing Data from Alpha Vantage:"
   ]
  },
  {
   "cell_type": "code",
   "execution_count": 33,
   "metadata": {},
   "outputs": [],
   "source": [
    "import requests\n",
    "import json"
   ]
  },
  {
   "cell_type": "code",
   "execution_count": 38,
   "metadata": {},
   "outputs": [],
   "source": [
    "demo = \"8JM6BG1YFNGOXRGS\"\n",
    "url = f\"https://www.alphavantage.co/query?function=DIGITAL_CURRENCY_Daily&symbol=BTC&market=CNY&apikey={demo}\"\n",
    "response_data = requests.get(url)   \n",
    "data = response_data.json()"
   ]
  },
  {
   "cell_type": "code",
   "execution_count": 39,
   "metadata": {},
   "outputs": [
    {
     "data": {
      "text/html": [
       "<div>\n",
       "<style scoped>\n",
       "    .dataframe tbody tr th:only-of-type {\n",
       "        vertical-align: middle;\n",
       "    }\n",
       "\n",
       "    .dataframe tbody tr th {\n",
       "        vertical-align: top;\n",
       "    }\n",
       "\n",
       "    .dataframe thead th {\n",
       "        text-align: right;\n",
       "    }\n",
       "</style>\n",
       "<table border=\"1\" class=\"dataframe\">\n",
       "  <thead>\n",
       "    <tr style=\"text-align: right;\">\n",
       "      <th></th>\n",
       "      <th>1a. open (CNY)</th>\n",
       "      <th>1b. open (USD)</th>\n",
       "      <th>2a. high (CNY)</th>\n",
       "      <th>2b. high (USD)</th>\n",
       "      <th>3a. low (CNY)</th>\n",
       "      <th>3b. low (USD)</th>\n",
       "      <th>4a. close (CNY)</th>\n",
       "      <th>4b. close (USD)</th>\n",
       "      <th>5. volume</th>\n",
       "      <th>6. market cap (USD)</th>\n",
       "    </tr>\n",
       "  </thead>\n",
       "  <tbody>\n",
       "    <tr>\n",
       "      <th>2018-04-16</th>\n",
       "      <td>53986.28480500</td>\n",
       "      <td>8355.07000000</td>\n",
       "      <td>54399.36850000</td>\n",
       "      <td>8419.00000000</td>\n",
       "      <td>50832.62050000</td>\n",
       "      <td>7867.00000000</td>\n",
       "      <td>52111.48058000</td>\n",
       "      <td>8064.92000000</td>\n",
       "      <td>36664.06971500</td>\n",
       "      <td>36664.06971500</td>\n",
       "    </tr>\n",
       "    <tr>\n",
       "      <th>2018-04-15</th>\n",
       "      <td>51717.84600000</td>\n",
       "      <td>8004.00000000</td>\n",
       "      <td>54467.47271000</td>\n",
       "      <td>8429.54000000</td>\n",
       "      <td>51685.66773000</td>\n",
       "      <td>7999.02000000</td>\n",
       "      <td>53985.83250000</td>\n",
       "      <td>8355.00000000</td>\n",
       "      <td>27946.72044400</td>\n",
       "      <td>27946.72044400</td>\n",
       "    </tr>\n",
       "    <tr>\n",
       "      <th>2018-04-14</th>\n",
       "      <td>50900.33702000</td>\n",
       "      <td>7877.48000000</td>\n",
       "      <td>52893.83900000</td>\n",
       "      <td>8186.00000000</td>\n",
       "      <td>50464.31500000</td>\n",
       "      <td>7810.00000000</td>\n",
       "      <td>51685.60311500</td>\n",
       "      <td>7999.01000000</td>\n",
       "      <td>31621.28635700</td>\n",
       "      <td>31621.28635700</td>\n",
       "    </tr>\n",
       "    <tr>\n",
       "      <th>2018-04-13</th>\n",
       "      <td>51194.39988500</td>\n",
       "      <td>7922.99000000</td>\n",
       "      <td>53200.04948500</td>\n",
       "      <td>8233.39000000</td>\n",
       "      <td>49960.31800000</td>\n",
       "      <td>7732.00000000</td>\n",
       "      <td>50899.88471500</td>\n",
       "      <td>7877.41000000</td>\n",
       "      <td>55044.52314800</td>\n",
       "      <td>55044.52314800</td>\n",
       "    </tr>\n",
       "    <tr>\n",
       "      <th>2018-04-12</th>\n",
       "      <td>44931.84947000</td>\n",
       "      <td>6953.78000000</td>\n",
       "      <td>51771.02414500</td>\n",
       "      <td>8012.23000000</td>\n",
       "      <td>43571.18680000</td>\n",
       "      <td>6743.20000000</td>\n",
       "      <td>51194.46450000</td>\n",
       "      <td>7923.00000000</td>\n",
       "      <td>64861.59598700</td>\n",
       "      <td>64861.59598700</td>\n",
       "    </tr>\n",
       "  </tbody>\n",
       "</table>\n",
       "</div>"
      ],
      "text/plain": [
       "            1a. open (CNY) 1b. open (USD)  2a. high (CNY) 2b. high (USD)  \\\n",
       "2018-04-16  53986.28480500  8355.07000000  54399.36850000  8419.00000000   \n",
       "2018-04-15  51717.84600000  8004.00000000  54467.47271000  8429.54000000   \n",
       "2018-04-14  50900.33702000  7877.48000000  52893.83900000  8186.00000000   \n",
       "2018-04-13  51194.39988500  7922.99000000  53200.04948500  8233.39000000   \n",
       "2018-04-12  44931.84947000  6953.78000000  51771.02414500  8012.23000000   \n",
       "\n",
       "             3a. low (CNY)  3b. low (USD) 4a. close (CNY) 4b. close (USD)  \\\n",
       "2018-04-16  50832.62050000  7867.00000000  52111.48058000   8064.92000000   \n",
       "2018-04-15  51685.66773000  7999.02000000  53985.83250000   8355.00000000   \n",
       "2018-04-14  50464.31500000  7810.00000000  51685.60311500   7999.01000000   \n",
       "2018-04-13  49960.31800000  7732.00000000  50899.88471500   7877.41000000   \n",
       "2018-04-12  43571.18680000  6743.20000000  51194.46450000   7923.00000000   \n",
       "\n",
       "                 5. volume 6. market cap (USD)  \n",
       "2018-04-16  36664.06971500      36664.06971500  \n",
       "2018-04-15  27946.72044400      27946.72044400  \n",
       "2018-04-14  31621.28635700      31621.28635700  \n",
       "2018-04-13  55044.52314800      55044.52314800  \n",
       "2018-04-12  64861.59598700      64861.59598700  "
      ]
     },
     "execution_count": 39,
     "metadata": {},
     "output_type": "execute_result"
    }
   ],
   "source": [
    "data_json = pd.DataFrame.from_dict(data[\"Time Series (Digital Currency Daily)\"]).T\n",
    "data_json.tail()"
   ]
  },
  {
   "cell_type": "markdown",
   "metadata": {},
   "source": [
    "**Conclusion: Not Selected, due to missing data for 2017.**"
   ]
  },
  {
   "cell_type": "markdown",
   "metadata": {},
   "source": [
    "## 5) Testing & Importing Data from Investing:"
   ]
  },
  {
   "cell_type": "code",
   "execution_count": 29,
   "metadata": {},
   "outputs": [
    {
     "data": {
      "text/html": [
       "<div>\n",
       "<style scoped>\n",
       "    .dataframe tbody tr th:only-of-type {\n",
       "        vertical-align: middle;\n",
       "    }\n",
       "\n",
       "    .dataframe tbody tr th {\n",
       "        vertical-align: top;\n",
       "    }\n",
       "\n",
       "    .dataframe thead th {\n",
       "        text-align: right;\n",
       "    }\n",
       "</style>\n",
       "<table border=\"1\" class=\"dataframe\">\n",
       "  <thead>\n",
       "    <tr style=\"text-align: right;\">\n",
       "      <th></th>\n",
       "      <th>Price</th>\n",
       "      <th>Open</th>\n",
       "      <th>High</th>\n",
       "      <th>Low</th>\n",
       "      <th>Vol.</th>\n",
       "      <th>Change %</th>\n",
       "    </tr>\n",
       "    <tr>\n",
       "      <th>Date</th>\n",
       "      <th></th>\n",
       "      <th></th>\n",
       "      <th></th>\n",
       "      <th></th>\n",
       "      <th></th>\n",
       "      <th></th>\n",
       "    </tr>\n",
       "  </thead>\n",
       "  <tbody>\n",
       "    <tr>\n",
       "      <th>2020-12-14</th>\n",
       "      <td>3,647.49</td>\n",
       "      <td>3,675.27</td>\n",
       "      <td>3,697.61</td>\n",
       "      <td>3,645.84</td>\n",
       "      <td>-</td>\n",
       "      <td>-0.44%</td>\n",
       "    </tr>\n",
       "    <tr>\n",
       "      <th>2020-12-15</th>\n",
       "      <td>3,694.62</td>\n",
       "      <td>3,666.41</td>\n",
       "      <td>3,695.29</td>\n",
       "      <td>3,659.62</td>\n",
       "      <td>-</td>\n",
       "      <td>1.29%</td>\n",
       "    </tr>\n",
       "    <tr>\n",
       "      <th>2020-12-16</th>\n",
       "      <td>3,701.17</td>\n",
       "      <td>3,696.25</td>\n",
       "      <td>3,711.27</td>\n",
       "      <td>3,688.57</td>\n",
       "      <td>-</td>\n",
       "      <td>0.18%</td>\n",
       "    </tr>\n",
       "    <tr>\n",
       "      <th>2020-12-17</th>\n",
       "      <td>3,722.48</td>\n",
       "      <td>3,713.65</td>\n",
       "      <td>3,725.12</td>\n",
       "      <td>3,710.87</td>\n",
       "      <td>-</td>\n",
       "      <td>0.58%</td>\n",
       "    </tr>\n",
       "    <tr>\n",
       "      <th>2020-12-18</th>\n",
       "      <td>3,708.80</td>\n",
       "      <td>3,723.63</td>\n",
       "      <td>3,726.30</td>\n",
       "      <td>3,708.80</td>\n",
       "      <td>-</td>\n",
       "      <td>-0.37%</td>\n",
       "    </tr>\n",
       "  </tbody>\n",
       "</table>\n",
       "</div>"
      ],
      "text/plain": [
       "               Price      Open      High       Low Vol. Change %\n",
       "Date                                                            \n",
       "2020-12-14  3,647.49  3,675.27  3,697.61  3,645.84    -   -0.44%\n",
       "2020-12-15  3,694.62  3,666.41  3,695.29  3,659.62    -    1.29%\n",
       "2020-12-16  3,701.17  3,696.25  3,711.27  3,688.57    -    0.18%\n",
       "2020-12-17  3,722.48  3,713.65  3,725.12  3,710.87    -    0.58%\n",
       "2020-12-18  3,708.80  3,723.63  3,726.30  3,708.80    -   -0.37%"
      ]
     },
     "execution_count": 29,
     "metadata": {},
     "output_type": "execute_result"
    }
   ],
   "source": [
    "csvpath = Path(\"Resources/S&P 500 Historical Data.csv\")\n",
    "csv_df = pd.read_csv(csvpath, index_col=\"Date\", parse_dates=True, infer_datetime_format=True).sort_values(\"Date\")\n",
    "csv_df.tail()"
   ]
  },
  {
   "cell_type": "code",
   "execution_count": 31,
   "metadata": {},
   "outputs": [
    {
     "data": {
      "text/html": [
       "<div>\n",
       "<style scoped>\n",
       "    .dataframe tbody tr th:only-of-type {\n",
       "        vertical-align: middle;\n",
       "    }\n",
       "\n",
       "    .dataframe tbody tr th {\n",
       "        vertical-align: top;\n",
       "    }\n",
       "\n",
       "    .dataframe thead th {\n",
       "        text-align: right;\n",
       "    }\n",
       "</style>\n",
       "<table border=\"1\" class=\"dataframe\">\n",
       "  <thead>\n",
       "    <tr style=\"text-align: right;\">\n",
       "      <th></th>\n",
       "      <th>Price</th>\n",
       "      <th>Open</th>\n",
       "      <th>High</th>\n",
       "      <th>Low</th>\n",
       "      <th>Vol.</th>\n",
       "      <th>Change %</th>\n",
       "    </tr>\n",
       "    <tr>\n",
       "      <th>Date</th>\n",
       "      <th></th>\n",
       "      <th></th>\n",
       "      <th></th>\n",
       "      <th></th>\n",
       "      <th></th>\n",
       "      <th></th>\n",
       "    </tr>\n",
       "  </thead>\n",
       "  <tbody>\n",
       "    <tr>\n",
       "      <th>2020-12-14</th>\n",
       "      <td>19,273.8</td>\n",
       "      <td>19,176.4</td>\n",
       "      <td>19,346.5</td>\n",
       "      <td>19,007.0</td>\n",
       "      <td>67.11K</td>\n",
       "      <td>0.51%</td>\n",
       "    </tr>\n",
       "    <tr>\n",
       "      <th>2020-12-15</th>\n",
       "      <td>19,434.9</td>\n",
       "      <td>19,273.9</td>\n",
       "      <td>19,556.3</td>\n",
       "      <td>19,076.2</td>\n",
       "      <td>98.39K</td>\n",
       "      <td>0.84%</td>\n",
       "    </tr>\n",
       "    <tr>\n",
       "      <th>2020-12-16</th>\n",
       "      <td>21,352.2</td>\n",
       "      <td>19,434.7</td>\n",
       "      <td>21,525.3</td>\n",
       "      <td>19,299.7</td>\n",
       "      <td>199.81K</td>\n",
       "      <td>9.87%</td>\n",
       "    </tr>\n",
       "    <tr>\n",
       "      <th>2020-12-17</th>\n",
       "      <td>22,825.4</td>\n",
       "      <td>21,352.3</td>\n",
       "      <td>23,738.0</td>\n",
       "      <td>21,243.1</td>\n",
       "      <td>310.74K</td>\n",
       "      <td>6.90%</td>\n",
       "    </tr>\n",
       "    <tr>\n",
       "      <th>2020-12-18</th>\n",
       "      <td>22,575.7</td>\n",
       "      <td>22,823.3</td>\n",
       "      <td>23,272.8</td>\n",
       "      <td>22,420.2</td>\n",
       "      <td>195.96K</td>\n",
       "      <td>-1.09%</td>\n",
       "    </tr>\n",
       "  </tbody>\n",
       "</table>\n",
       "</div>"
      ],
      "text/plain": [
       "               Price      Open      High       Low     Vol. Change %\n",
       "Date                                                                \n",
       "2020-12-14  19,273.8  19,176.4  19,346.5  19,007.0   67.11K    0.51%\n",
       "2020-12-15  19,434.9  19,273.9  19,556.3  19,076.2   98.39K    0.84%\n",
       "2020-12-16  21,352.2  19,434.7  21,525.3  19,299.7  199.81K    9.87%\n",
       "2020-12-17  22,825.4  21,352.3  23,738.0  21,243.1  310.74K    6.90%\n",
       "2020-12-18  22,575.7  22,823.3  23,272.8  22,420.2  195.96K   -1.09%"
      ]
     },
     "execution_count": 31,
     "metadata": {},
     "output_type": "execute_result"
    }
   ],
   "source": [
    "csvpath = Path(\"Resources/Bitcoin Historical Data - Investing.com AU.csv\")\n",
    "csv_df = pd.read_csv(csvpath, index_col=\"Date\", parse_dates=True, infer_datetime_format=True).sort_values(\"Date\")\n",
    "csv_df.tail()"
   ]
  },
  {
   "cell_type": "markdown",
   "metadata": {},
   "source": [
    "**Conclusion: Not Selected, due to <br> 1) No Volume Data from Investing. <br>2)  Extra cleaning need for Vol.**"
   ]
  },
  {
   "cell_type": "markdown",
   "metadata": {},
   "source": [
    "### Other Data: M2 US Money Supply:"
   ]
  },
  {
   "cell_type": "code",
   "execution_count": 44,
   "metadata": {},
   "outputs": [
    {
     "name": "stdout",
     "output_type": "stream",
     "text": [
      "M2(billions)    float64\n",
      "dtype: object\n",
      "\n",
      "\n",
      "(206, 1)\n",
      "\n",
      "\n",
      "Empty DataFrame\n",
      "Columns: [M2(billions)]\n",
      "Index: []\n",
      "\n",
      "\n",
      "M2(billions)    0\n",
      "dtype: int64\n",
      "\n",
      "\n",
      "            M2(billions)\n",
      "DATE                    \n",
      "2017-01-02       13214.2\n",
      "2017-01-09       13257.3\n",
      "2017-01-16       13274.1\n",
      "2017-01-23       13292.6\n",
      "2017-01-30       13289.6\n"
     ]
    }
   ],
   "source": [
    "csvpath = Path(\"Resources/M2.csv\")\n",
    "m2_df = pd.read_csv(csvpath, index_col=\"DATE\", parse_dates=True, infer_datetime_format=True).sort_values(\"DATE\")\n",
    "m2_df.rename(columns={\"M2\" : \"M2(billions)\"}, inplace=True)\n",
    "\n",
    "# Checking Data Quality:\n",
    "print(m2_df.dtypes)\n",
    "print(\"\\n\")\n",
    "print(m2_df.shape)\n",
    "print(\"\\n\")\n",
    "print(m2_df[m2_df.duplicated(keep=False)]) #False: Mark all duplicates as True\n",
    "print(\"\\n\")\n",
    "print(m2_df.isnull().sum())\n",
    "print(\"\\n\")\n",
    "print(m2_df.head())"
   ]
  },
  {
   "cell_type": "markdown",
   "metadata": {},
   "source": [
    "**Comment : Investing provides other useful data which might be used for the project, such as M2 money supply of USD.\n",
    "<br>But, there is a large amount of missing daily data.**"
   ]
  },
  {
   "cell_type": "markdown",
   "metadata": {},
   "source": [
    "## 6) Testing & Importing Data from Yahoo Finance:\n"
   ]
  },
  {
   "cell_type": "markdown",
   "metadata": {},
   "source": [
    "<span style=color:red> Install yfinance:"
   ]
  },
  {
   "cell_type": "code",
   "execution_count": 4,
   "metadata": {},
   "outputs": [],
   "source": [
    "# !pip install yfinance\n",
    "import yfinance as yf"
   ]
  },
  {
   "cell_type": "markdown",
   "metadata": {},
   "source": [
    "### Bitcoin USD (BTC-USD):"
   ]
  },
  {
   "cell_type": "code",
   "execution_count": 6,
   "metadata": {},
   "outputs": [
    {
     "name": "stdout",
     "output_type": "stream",
     "text": [
      "[*********************100%***********************]  1 of 1 downloaded\n",
      "Open         float64\n",
      "High         float64\n",
      "Low          float64\n",
      "Close        float64\n",
      "Adj Close    float64\n",
      "Volume         int64\n",
      "dtype: object\n",
      "\n",
      "\n",
      "(1461, 6)\n",
      "\n",
      "\n",
      "Empty DataFrame\n",
      "Columns: [Open, High, Low, Close, Adj Close, Volume]\n",
      "Index: []\n",
      "\n",
      "\n",
      "Open         0\n",
      "High         0\n",
      "Low          0\n",
      "Close        0\n",
      "Adj Close    0\n",
      "Volume       0\n",
      "dtype: int64\n",
      "\n",
      "\n",
      "                Open      High       Low     Close  Adj Close       Volume\n",
      "Date                                                                      \n",
      "2020-12-26  24677.02  26718.07  24522.69  26437.04   26437.04  48332647295\n",
      "2020-12-27  26439.37  28288.84  25922.77  26272.29   26272.29  66479895605\n",
      "2020-12-28  26280.82  27389.11  26207.64  27084.81   27084.81  49056742893\n",
      "2020-12-29  27081.81  27370.72  25987.30  27362.44   27362.44  45265946774\n",
      "2020-12-30  27360.09  28937.74  27360.09  28840.95   28840.95  51287442704\n"
     ]
    }
   ],
   "source": [
    "yf_bitcoin_df = yf.download(\"BTC-USD\", start=\"2017-01-01\", end=\"2020-12-31\")\n",
    "\n",
    "# Checking Data Quality:\n",
    "print(yf_bitcoin_df.dtypes)\n",
    "print(\"\\n\")\n",
    "print(yf_bitcoin_df.shape)\n",
    "print(\"\\n\")\n",
    "print(yf_bitcoin_df[yf_bitcoin_df.duplicated(keep=False)]) #False: Mark all duplicates as True\n",
    "print(\"\\n\")\n",
    "print(yf_bitcoin_df.isnull().sum())\n",
    "print(\"\\n\")\n",
    "print(yf_bitcoin_df.tail())"
   ]
  },
  {
   "cell_type": "markdown",
   "metadata": {},
   "source": [
    "### U.S. Dollar Index (USDX) Futures Contract (DX=F):"
   ]
  },
  {
   "cell_type": "code",
   "execution_count": 40,
   "metadata": {},
   "outputs": [
    {
     "name": "stdout",
     "output_type": "stream",
     "text": [
      "[*********************100%***********************]  1 of 1 downloaded\n",
      "Open         float64\n",
      "High         float64\n",
      "Low          float64\n",
      "Close        float64\n",
      "Adj Close    float64\n",
      "Volume         int64\n",
      "dtype: object\n",
      "\n",
      "\n",
      "(1001, 6)\n",
      "\n",
      "\n",
      "Empty DataFrame\n",
      "Columns: [Open, High, Low, Close, Adj Close, Volume]\n",
      "Index: []\n",
      "\n",
      "\n",
      "Open         0\n",
      "High         0\n",
      "Low          0\n",
      "Close        0\n",
      "Adj Close    0\n",
      "Volume       0\n",
      "dtype: int64\n",
      "\n",
      "\n",
      "              Open    High     Low   Close  Adj Close  Volume\n",
      "Date                                                         \n",
      "2020-12-22  90.100  90.620  89.950  90.546     90.546   21871\n",
      "2020-12-23  90.535  90.580  90.050  90.340     90.340   27553\n",
      "2020-12-28  90.260  90.320  89.895  90.275     90.275   18455\n",
      "2020-12-29  90.160  90.165  89.785  89.918     89.918   17249\n",
      "2020-12-30  89.865  89.900  89.515  89.649     89.649   23431\n"
     ]
    }
   ],
   "source": [
    "yf_dollar_df = yf.download(\"DX=F\", start=\"2017-01-01\", end=\"2020-12-31\")\n",
    "\n",
    "# Checking Data Quality:\n",
    "print(yf_dollar_df.dtypes)\n",
    "print(\"\\n\")\n",
    "print(yf_dollar_df.shape)\n",
    "print(\"\\n\")\n",
    "print(yf_dollar_df[yf_dollar_df.duplicated(keep=False)]) #False: Mark all duplicates as True\n",
    "print(\"\\n\")\n",
    "print(yf_dollar_df.isnull().sum())\n",
    "print(\"\\n\")\n",
    "print(yf_dollar_df.tail())"
   ]
  },
  {
   "cell_type": "markdown",
   "metadata": {},
   "source": [
    "### Gold Futures Contract (GC=F):"
   ]
  },
  {
   "cell_type": "code",
   "execution_count": 41,
   "metadata": {},
   "outputs": [
    {
     "name": "stdout",
     "output_type": "stream",
     "text": [
      "[*********************100%***********************]  1 of 1 downloaded\n",
      "Open         float64\n",
      "High         float64\n",
      "Low          float64\n",
      "Close        float64\n",
      "Adj Close    float64\n",
      "Volume         int64\n",
      "dtype: object\n",
      "\n",
      "\n",
      "(1079, 6)\n",
      "\n",
      "\n",
      "Empty DataFrame\n",
      "Columns: [Open, High, Low, Close, Adj Close, Volume]\n",
      "Index: []\n",
      "\n",
      "\n",
      "Open         0\n",
      "High         0\n",
      "Low          0\n",
      "Close        0\n",
      "Adj Close    0\n",
      "Volume       0\n",
      "dtype: int64\n",
      "\n",
      "\n",
      "              Open    High     Low   Close  Adj Close  Volume\n",
      "Date                                                         \n",
      "2020-12-22  1882.2  1882.2  1861.0  1866.6     1866.6     233\n",
      "2020-12-23  1867.0  1878.8  1864.5  1874.7     1874.7      82\n",
      "2020-12-28  1895.5  1895.8  1873.7  1877.2     1877.2      75\n",
      "2020-12-29  1881.3  1881.3  1879.7  1879.7     1879.7     343\n",
      "2020-12-30  1879.9  1895.8  1877.3  1891.0     1891.0     444\n"
     ]
    }
   ],
   "source": [
    "yf_gold_df = yf.download(\"GC=F\", start=\"2017-01-01\", end=\"2020-12-31\")\n",
    "\n",
    "# Checking Data Quality:\n",
    "print(yf_gold_df.dtypes)\n",
    "print(\"\\n\")\n",
    "print(yf_gold_df.shape)\n",
    "print(\"\\n\")\n",
    "print(yf_gold_df[yf_gold_df.duplicated(keep=False)]) #False: Mark all duplicates as True\n",
    "print(\"\\n\")\n",
    "print(yf_gold_df.isnull().sum())\n",
    "print(\"\\n\")\n",
    "print(yf_gold_df.tail())"
   ]
  },
  {
   "cell_type": "markdown",
   "metadata": {},
   "source": [
    "### Other Data: S&P 500 Index (^GSPC)："
   ]
  },
  {
   "cell_type": "code",
   "execution_count": 42,
   "metadata": {},
   "outputs": [
    {
     "name": "stdout",
     "output_type": "stream",
     "text": [
      "[*********************100%***********************]  1 of 1 downloaded\n",
      "Open         float64\n",
      "High         float64\n",
      "Low          float64\n",
      "Close        float64\n",
      "Adj Close    float64\n",
      "Volume         int64\n",
      "dtype: object\n",
      "\n",
      "\n",
      "(1005, 6)\n",
      "\n",
      "\n",
      "Empty DataFrame\n",
      "Columns: [Open, High, Low, Close, Adj Close, Volume]\n",
      "Index: []\n",
      "\n",
      "\n",
      "Open         0\n",
      "High         0\n",
      "Low          0\n",
      "Close        0\n",
      "Adj Close    0\n",
      "Volume       0\n",
      "dtype: int64\n",
      "\n",
      "\n",
      "               Open     High      Low    Close  Adj Close      Volume\n",
      "Date                                                                 \n",
      "2020-12-22  3698.08  3698.26  3676.16  3687.26    3687.26  4023940000\n",
      "2020-12-23  3693.42  3711.24  3689.28  3690.01    3690.01  3772630000\n",
      "2020-12-24  3694.03  3703.82  3689.32  3703.06    3703.06  1885090000\n",
      "2020-12-28  3723.03  3740.51  3723.03  3735.36    3735.36  3527460000\n",
      "2020-12-29  3750.01  3756.12  3723.31  3727.04    3727.04  3387030000\n"
     ]
    }
   ],
   "source": [
    "yf_sp500_df = yf.download(\"^GSPC\", start=\"2017-01-01\", end=\"2020-12-31\")\n",
    "\n",
    "# Checking Data Quality:\n",
    "print(yf_sp500_df.dtypes)\n",
    "print(\"\\n\")\n",
    "print(yf_sp500_df.shape)\n",
    "print(\"\\n\")\n",
    "print(yf_sp500_df[yf_sp500_df.duplicated(keep=False)]) #False: Mark all duplicates as True\n",
    "print(\"\\n\")\n",
    "print(yf_sp500_df.isnull().sum())\n",
    "print(\"\\n\")\n",
    "print(yf_sp500_df.tail())"
   ]
  },
  {
   "cell_type": "markdown",
   "metadata": {},
   "source": [
    "**Conclusion: Yahoo Finance is Selected, as it provides highest data quality comparing to other sources.**"
   ]
  },
  {
   "cell_type": "markdown",
   "metadata": {},
   "source": [
    "## Rename Columns & Copy Original DataFrames with Selected Columns:"
   ]
  },
  {
   "cell_type": "code",
   "execution_count": 45,
   "metadata": {},
   "outputs": [
    {
     "data": {
      "text/html": [
       "<div>\n",
       "<style scoped>\n",
       "    .dataframe tbody tr th:only-of-type {\n",
       "        vertical-align: middle;\n",
       "    }\n",
       "\n",
       "    .dataframe tbody tr th {\n",
       "        vertical-align: top;\n",
       "    }\n",
       "\n",
       "    .dataframe thead th {\n",
       "        text-align: right;\n",
       "    }\n",
       "</style>\n",
       "<table border=\"1\" class=\"dataframe\">\n",
       "  <thead>\n",
       "    <tr style=\"text-align: right;\">\n",
       "      <th></th>\n",
       "      <th>dollar_Adj Close</th>\n",
       "      <th>dollar_Volume</th>\n",
       "    </tr>\n",
       "    <tr>\n",
       "      <th>Date</th>\n",
       "      <th></th>\n",
       "      <th></th>\n",
       "    </tr>\n",
       "  </thead>\n",
       "  <tbody>\n",
       "    <tr>\n",
       "      <th>2020-12-28</th>\n",
       "      <td>90.275</td>\n",
       "      <td>18455</td>\n",
       "    </tr>\n",
       "    <tr>\n",
       "      <th>2020-12-29</th>\n",
       "      <td>89.918</td>\n",
       "      <td>17249</td>\n",
       "    </tr>\n",
       "    <tr>\n",
       "      <th>2020-12-30</th>\n",
       "      <td>89.649</td>\n",
       "      <td>23431</td>\n",
       "    </tr>\n",
       "  </tbody>\n",
       "</table>\n",
       "</div>"
      ],
      "text/plain": [
       "            dollar_Adj Close  dollar_Volume\n",
       "Date                                       \n",
       "2020-12-28            90.275          18455\n",
       "2020-12-29            89.918          17249\n",
       "2020-12-30            89.649          23431"
      ]
     },
     "execution_count": 45,
     "metadata": {},
     "output_type": "execute_result"
    }
   ],
   "source": [
    "# Rename Columns:\n",
    "selected_dollar_df = yf_dollar_df.copy()\n",
    "selected_dollar_df.columns = [('dollar_'+ column) for column in selected_dollar_df.columns]\n",
    "# Selected Columns:\n",
    "selected_dollar_df = selected_dollar_df.iloc[:,[-2,-1]]\n",
    "selected_dollar_df.tail(3)"
   ]
  },
  {
   "cell_type": "code",
   "execution_count": 46,
   "metadata": {},
   "outputs": [
    {
     "data": {
      "text/html": [
       "<div>\n",
       "<style scoped>\n",
       "    .dataframe tbody tr th:only-of-type {\n",
       "        vertical-align: middle;\n",
       "    }\n",
       "\n",
       "    .dataframe tbody tr th {\n",
       "        vertical-align: top;\n",
       "    }\n",
       "\n",
       "    .dataframe thead th {\n",
       "        text-align: right;\n",
       "    }\n",
       "</style>\n",
       "<table border=\"1\" class=\"dataframe\">\n",
       "  <thead>\n",
       "    <tr style=\"text-align: right;\">\n",
       "      <th></th>\n",
       "      <th>gold_Adj Close</th>\n",
       "      <th>gold_Volume</th>\n",
       "    </tr>\n",
       "    <tr>\n",
       "      <th>Date</th>\n",
       "      <th></th>\n",
       "      <th></th>\n",
       "    </tr>\n",
       "  </thead>\n",
       "  <tbody>\n",
       "    <tr>\n",
       "      <th>2020-12-28</th>\n",
       "      <td>1877.2</td>\n",
       "      <td>75</td>\n",
       "    </tr>\n",
       "    <tr>\n",
       "      <th>2020-12-29</th>\n",
       "      <td>1879.7</td>\n",
       "      <td>343</td>\n",
       "    </tr>\n",
       "    <tr>\n",
       "      <th>2020-12-30</th>\n",
       "      <td>1891.0</td>\n",
       "      <td>444</td>\n",
       "    </tr>\n",
       "  </tbody>\n",
       "</table>\n",
       "</div>"
      ],
      "text/plain": [
       "            gold_Adj Close  gold_Volume\n",
       "Date                                   \n",
       "2020-12-28          1877.2           75\n",
       "2020-12-29          1879.7          343\n",
       "2020-12-30          1891.0          444"
      ]
     },
     "execution_count": 46,
     "metadata": {},
     "output_type": "execute_result"
    }
   ],
   "source": [
    "# Rename Columns:\n",
    "selected_gold_df = yf_gold_df.copy()\n",
    "selected_gold_df.columns = [('gold_'+ column) for column in selected_gold_df.columns]\n",
    "# Selected Columns:\n",
    "selected_gold_df = selected_gold_df.iloc[:,[-2,-1]]\n",
    "selected_gold_df.tail(3)"
   ]
  },
  {
   "cell_type": "code",
   "execution_count": 50,
   "metadata": {},
   "outputs": [
    {
     "data": {
      "text/html": [
       "<div>\n",
       "<style scoped>\n",
       "    .dataframe tbody tr th:only-of-type {\n",
       "        vertical-align: middle;\n",
       "    }\n",
       "\n",
       "    .dataframe tbody tr th {\n",
       "        vertical-align: top;\n",
       "    }\n",
       "\n",
       "    .dataframe thead th {\n",
       "        text-align: right;\n",
       "    }\n",
       "</style>\n",
       "<table border=\"1\" class=\"dataframe\">\n",
       "  <thead>\n",
       "    <tr style=\"text-align: right;\">\n",
       "      <th></th>\n",
       "      <th>bitcoin_Adj Close</th>\n",
       "      <th>bitcoin_Volume</th>\n",
       "    </tr>\n",
       "    <tr>\n",
       "      <th>Date</th>\n",
       "      <th></th>\n",
       "      <th></th>\n",
       "    </tr>\n",
       "  </thead>\n",
       "  <tbody>\n",
       "    <tr>\n",
       "      <th>2020-12-28</th>\n",
       "      <td>27084.81</td>\n",
       "      <td>49056742893</td>\n",
       "    </tr>\n",
       "    <tr>\n",
       "      <th>2020-12-29</th>\n",
       "      <td>27362.44</td>\n",
       "      <td>45265946774</td>\n",
       "    </tr>\n",
       "    <tr>\n",
       "      <th>2020-12-30</th>\n",
       "      <td>28840.95</td>\n",
       "      <td>51287442704</td>\n",
       "    </tr>\n",
       "  </tbody>\n",
       "</table>\n",
       "</div>"
      ],
      "text/plain": [
       "            bitcoin_Adj Close  bitcoin_Volume\n",
       "Date                                         \n",
       "2020-12-28           27084.81     49056742893\n",
       "2020-12-29           27362.44     45265946774\n",
       "2020-12-30           28840.95     51287442704"
      ]
     },
     "execution_count": 50,
     "metadata": {},
     "output_type": "execute_result"
    }
   ],
   "source": [
    "# Rename Columns:\n",
    "selected_bitcoin_df = yf_bitcoin_df.copy()\n",
    "selected_bitcoin_df.columns = [('bitcoin_'+ column) for column in selected_bitcoin_df.columns]\n",
    "# Selected Columns:\n",
    "selected_bitcoin_df = selected_bitcoin_df.iloc[:,[-2,-1]]\n",
    "selected_bitcoin_df.tail(3)"
   ]
  },
  {
   "cell_type": "code",
   "execution_count": 48,
   "metadata": {},
   "outputs": [
    {
     "data": {
      "text/html": [
       "<div>\n",
       "<style scoped>\n",
       "    .dataframe tbody tr th:only-of-type {\n",
       "        vertical-align: middle;\n",
       "    }\n",
       "\n",
       "    .dataframe tbody tr th {\n",
       "        vertical-align: top;\n",
       "    }\n",
       "\n",
       "    .dataframe thead th {\n",
       "        text-align: right;\n",
       "    }\n",
       "</style>\n",
       "<table border=\"1\" class=\"dataframe\">\n",
       "  <thead>\n",
       "    <tr style=\"text-align: right;\">\n",
       "      <th></th>\n",
       "      <th>sp500_Adj Close</th>\n",
       "      <th>sp500_Volume</th>\n",
       "    </tr>\n",
       "    <tr>\n",
       "      <th>Date</th>\n",
       "      <th></th>\n",
       "      <th></th>\n",
       "    </tr>\n",
       "  </thead>\n",
       "  <tbody>\n",
       "    <tr>\n",
       "      <th>2020-12-24</th>\n",
       "      <td>3703.06</td>\n",
       "      <td>1885090000</td>\n",
       "    </tr>\n",
       "    <tr>\n",
       "      <th>2020-12-28</th>\n",
       "      <td>3735.36</td>\n",
       "      <td>3527460000</td>\n",
       "    </tr>\n",
       "    <tr>\n",
       "      <th>2020-12-29</th>\n",
       "      <td>3727.04</td>\n",
       "      <td>3387030000</td>\n",
       "    </tr>\n",
       "  </tbody>\n",
       "</table>\n",
       "</div>"
      ],
      "text/plain": [
       "            sp500_Adj Close  sp500_Volume\n",
       "Date                                     \n",
       "2020-12-24          3703.06    1885090000\n",
       "2020-12-28          3735.36    3527460000\n",
       "2020-12-29          3727.04    3387030000"
      ]
     },
     "execution_count": 48,
     "metadata": {},
     "output_type": "execute_result"
    }
   ],
   "source": [
    "# Rename Columns:\n",
    "selected_sp500_df = yf_sp500_df.copy()\n",
    "selected_sp500_df.columns = [('sp500_'+ column) for column in selected_sp500_df.columns]\n",
    "# Selected Columns:\n",
    "selected_sp500_df = selected_sp500_df.iloc[:,[-2,-1]]\n",
    "selected_sp500_df.tail(3)"
   ]
  },
  {
   "cell_type": "markdown",
   "metadata": {},
   "source": [
    "## Concatenating Selected DataFrames for Further  Analysis:"
   ]
  },
  {
   "cell_type": "code",
   "execution_count": 51,
   "metadata": {},
   "outputs": [
    {
     "name": "stdout",
     "output_type": "stream",
     "text": [
      "dollar_Adj Close     float64\n",
      "dollar_Volume          int64\n",
      "gold_Adj Close       float64\n",
      "gold_Volume            int64\n",
      "bitcoin_Adj Close    float64\n",
      "bitcoin_Volume         int64\n",
      "sp500_Adj Close      float64\n",
      "sp500_Volume           int64\n",
      "dtype: object\n",
      "\n",
      "\n",
      "(994, 8)\n",
      "\n",
      "\n",
      "Empty DataFrame\n",
      "Columns: [dollar_Adj Close, dollar_Volume, gold_Adj Close, gold_Volume, bitcoin_Adj Close, bitcoin_Volume, sp500_Adj Close, sp500_Volume]\n",
      "Index: []\n",
      "\n",
      "\n",
      "dollar_Adj Close     0\n",
      "dollar_Volume        0\n",
      "gold_Adj Close       0\n",
      "gold_Volume          0\n",
      "bitcoin_Adj Close    0\n",
      "bitcoin_Volume       0\n",
      "sp500_Adj Close      0\n",
      "sp500_Volume         0\n",
      "dtype: int64\n",
      "\n",
      "\n",
      "            dollar_Adj Close  dollar_Volume  gold_Adj Close  gold_Volume  \\\n",
      "Date                                                                       \n",
      "2020-12-21            89.949          39253          1879.2          136   \n",
      "2020-12-22            90.546          21871          1866.6          233   \n",
      "2020-12-23            90.340          27553          1874.7           82   \n",
      "2020-12-28            90.275          18455          1877.2           75   \n",
      "2020-12-29            89.918          17249          1879.7          343   \n",
      "\n",
      "            bitcoin_Adj Close  bitcoin_Volume  sp500_Adj Close  sp500_Volume  \n",
      "Date                                                                          \n",
      "2020-12-21           22803.08     45852713981          3694.92    4732160000  \n",
      "2020-12-22           23783.03     44171632681          3687.26    4023940000  \n",
      "2020-12-23           23241.35     51146161904          3690.01    3772630000  \n",
      "2020-12-28           27084.81     49056742893          3735.36    3527460000  \n",
      "2020-12-29           27362.44     45265946774          3727.04    3387030000  \n"
     ]
    }
   ],
   "source": [
    "joined_df = pd.concat([selected_dollar_df, selected_gold_df, selected_bitcoin_df, selected_sp500_df], axis = 'columns', join='inner', sort=True)\n",
    "\n",
    "# Checking Data Quality:\n",
    "print(joined_df.dtypes)\n",
    "print(\"\\n\")\n",
    "print(joined_df.shape)\n",
    "print(\"\\n\")\n",
    "print(joined_df[joined_df.duplicated(keep=False)]) #False: Mark all duplicates as True\n",
    "print(\"\\n\")\n",
    "print(joined_df.isnull().sum())\n",
    "print(\"\\n\")\n",
    "print(joined_df.tail())"
   ]
  },
  {
   "cell_type": "code",
   "execution_count": null,
   "metadata": {},
   "outputs": [],
   "source": []
  },
  {
   "cell_type": "code",
   "execution_count": null,
   "metadata": {},
   "outputs": [],
   "source": []
  },
  {
   "cell_type": "code",
   "execution_count": null,
   "metadata": {},
   "outputs": [],
   "source": []
  }
 ],
 "metadata": {
  "kernelspec": {
   "display_name": "Python 3",
   "language": "python",
   "name": "python3"
  },
  "language_info": {
   "codemirror_mode": {
    "name": "ipython",
    "version": 3
   },
   "file_extension": ".py",
   "mimetype": "text/x-python",
   "name": "python",
   "nbconvert_exporter": "python",
   "pygments_lexer": "ipython3",
   "version": "3.6.8"
  }
 },
 "nbformat": 4,
 "nbformat_minor": 4
}
