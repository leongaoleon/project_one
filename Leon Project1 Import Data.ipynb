{
 "cells": [
  {
   "cell_type": "markdown",
   "metadata": {},
   "source": [
    "# Initial Import"
   ]
  },
  {
   "cell_type": "code",
   "execution_count": 26,
   "metadata": {},
   "outputs": [],
   "source": [
    "import pandas as pd\n",
    "from datetime import datetime\n",
    "import os    \n",
    "from dotenv  import load_dotenv\n",
    "from pathlib import Path\n",
    "%matplotlib inline"
   ]
  },
  {
   "cell_type": "markdown",
   "metadata": {},
   "source": [
    "# Importing Data from Investing by Reading CSV:"
   ]
  },
  {
   "cell_type": "code",
   "execution_count": 76,
   "metadata": {},
   "outputs": [],
   "source": [
    "# optional: header = None, low_memory=False --- column might come with mixed types\n",
    "# csvpath = Path(‘…/…/….  .csv’)\n",
    "# csv_df = pd.read_csv(csvpath, index_col=\"date\", parse_dates=True, infer_datetime_format=True)\n",
    "# df.to_csv(“another/file/name.csv”)"
   ]
  },
  {
   "cell_type": "markdown",
   "metadata": {},
   "source": [
    "## S&P 500 (SPX):"
   ]
  },
  {
   "cell_type": "code",
   "execution_count": 105,
   "metadata": {},
   "outputs": [
    {
     "data": {
      "text/html": [
       "<div>\n",
       "<style scoped>\n",
       "    .dataframe tbody tr th:only-of-type {\n",
       "        vertical-align: middle;\n",
       "    }\n",
       "\n",
       "    .dataframe tbody tr th {\n",
       "        vertical-align: top;\n",
       "    }\n",
       "\n",
       "    .dataframe thead th {\n",
       "        text-align: right;\n",
       "    }\n",
       "</style>\n",
       "<table border=\"1\" class=\"dataframe\">\n",
       "  <thead>\n",
       "    <tr style=\"text-align: right;\">\n",
       "      <th></th>\n",
       "      <th>Price</th>\n",
       "      <th>Open</th>\n",
       "      <th>High</th>\n",
       "      <th>Low</th>\n",
       "      <th>Vol.</th>\n",
       "      <th>Change %</th>\n",
       "    </tr>\n",
       "    <tr>\n",
       "      <th>Date</th>\n",
       "      <th></th>\n",
       "      <th></th>\n",
       "      <th></th>\n",
       "      <th></th>\n",
       "      <th></th>\n",
       "      <th></th>\n",
       "    </tr>\n",
       "  </thead>\n",
       "  <tbody>\n",
       "    <tr>\n",
       "      <th>2020-12-14</th>\n",
       "      <td>3,647.49</td>\n",
       "      <td>3,675.27</td>\n",
       "      <td>3,697.61</td>\n",
       "      <td>3,645.84</td>\n",
       "      <td>-</td>\n",
       "      <td>-0.44%</td>\n",
       "    </tr>\n",
       "    <tr>\n",
       "      <th>2020-12-15</th>\n",
       "      <td>3,694.62</td>\n",
       "      <td>3,666.41</td>\n",
       "      <td>3,695.29</td>\n",
       "      <td>3,659.62</td>\n",
       "      <td>-</td>\n",
       "      <td>1.29%</td>\n",
       "    </tr>\n",
       "    <tr>\n",
       "      <th>2020-12-16</th>\n",
       "      <td>3,701.17</td>\n",
       "      <td>3,696.25</td>\n",
       "      <td>3,711.27</td>\n",
       "      <td>3,688.57</td>\n",
       "      <td>-</td>\n",
       "      <td>0.18%</td>\n",
       "    </tr>\n",
       "    <tr>\n",
       "      <th>2020-12-17</th>\n",
       "      <td>3,722.48</td>\n",
       "      <td>3,713.65</td>\n",
       "      <td>3,725.12</td>\n",
       "      <td>3,710.87</td>\n",
       "      <td>-</td>\n",
       "      <td>0.58%</td>\n",
       "    </tr>\n",
       "    <tr>\n",
       "      <th>2020-12-18</th>\n",
       "      <td>3,708.80</td>\n",
       "      <td>3,723.63</td>\n",
       "      <td>3,726.30</td>\n",
       "      <td>3,708.80</td>\n",
       "      <td>-</td>\n",
       "      <td>-0.37%</td>\n",
       "    </tr>\n",
       "  </tbody>\n",
       "</table>\n",
       "</div>"
      ],
      "text/plain": [
       "               Price      Open      High       Low Vol. Change %\n",
       "Date                                                            \n",
       "2020-12-14  3,647.49  3,675.27  3,697.61  3,645.84    -   -0.44%\n",
       "2020-12-15  3,694.62  3,666.41  3,695.29  3,659.62    -    1.29%\n",
       "2020-12-16  3,701.17  3,696.25  3,711.27  3,688.57    -    0.18%\n",
       "2020-12-17  3,722.48  3,713.65  3,725.12  3,710.87    -    0.58%\n",
       "2020-12-18  3,708.80  3,723.63  3,726.30  3,708.80    -   -0.37%"
      ]
     },
     "execution_count": 105,
     "metadata": {},
     "output_type": "execute_result"
    }
   ],
   "source": [
    "csvpath = Path(\"Resources/S&P 500 Historical Data.csv\")\n",
    "csv_df = pd.read_csv(csvpath, index_col=\"Date\", parse_dates=True, infer_datetime_format=True).sort_values(\"Date\")\n",
    "csv_df.tail()"
   ]
  },
  {
   "cell_type": "markdown",
   "metadata": {},
   "source": [
    "## Gold, XAU/USD Historical Data:"
   ]
  },
  {
   "cell_type": "code",
   "execution_count": 106,
   "metadata": {},
   "outputs": [
    {
     "data": {
      "text/html": [
       "<div>\n",
       "<style scoped>\n",
       "    .dataframe tbody tr th:only-of-type {\n",
       "        vertical-align: middle;\n",
       "    }\n",
       "\n",
       "    .dataframe tbody tr th {\n",
       "        vertical-align: top;\n",
       "    }\n",
       "\n",
       "    .dataframe thead th {\n",
       "        text-align: right;\n",
       "    }\n",
       "</style>\n",
       "<table border=\"1\" class=\"dataframe\">\n",
       "  <thead>\n",
       "    <tr style=\"text-align: right;\">\n",
       "      <th></th>\n",
       "      <th>Price</th>\n",
       "      <th>Open</th>\n",
       "      <th>High</th>\n",
       "      <th>Low</th>\n",
       "      <th>Change %</th>\n",
       "    </tr>\n",
       "    <tr>\n",
       "      <th>Date</th>\n",
       "      <th></th>\n",
       "      <th></th>\n",
       "      <th></th>\n",
       "      <th></th>\n",
       "      <th></th>\n",
       "    </tr>\n",
       "  </thead>\n",
       "  <tbody>\n",
       "    <tr>\n",
       "      <th>2020-12-14</th>\n",
       "      <td>1,827.17</td>\n",
       "      <td>1,839.30</td>\n",
       "      <td>1,839.86</td>\n",
       "      <td>1,819.92</td>\n",
       "      <td>-0.64%</td>\n",
       "    </tr>\n",
       "    <tr>\n",
       "      <th>2020-12-15</th>\n",
       "      <td>1,853.46</td>\n",
       "      <td>1,827.80</td>\n",
       "      <td>1,855.76</td>\n",
       "      <td>1,825.29</td>\n",
       "      <td>1.44%</td>\n",
       "    </tr>\n",
       "    <tr>\n",
       "      <th>2020-12-16</th>\n",
       "      <td>1,864.15</td>\n",
       "      <td>1,853.94</td>\n",
       "      <td>1,866.20</td>\n",
       "      <td>1,844.75</td>\n",
       "      <td>0.58%</td>\n",
       "    </tr>\n",
       "    <tr>\n",
       "      <th>2020-12-17</th>\n",
       "      <td>1,885.87</td>\n",
       "      <td>1,864.26</td>\n",
       "      <td>1,896.26</td>\n",
       "      <td>1,861.83</td>\n",
       "      <td>1.17%</td>\n",
       "    </tr>\n",
       "    <tr>\n",
       "      <th>2020-12-18</th>\n",
       "      <td>1,881.51</td>\n",
       "      <td>1,883.74</td>\n",
       "      <td>1,889.74</td>\n",
       "      <td>1,877.51</td>\n",
       "      <td>-0.23%</td>\n",
       "    </tr>\n",
       "  </tbody>\n",
       "</table>\n",
       "</div>"
      ],
      "text/plain": [
       "               Price      Open      High       Low Change %\n",
       "Date                                                       \n",
       "2020-12-14  1,827.17  1,839.30  1,839.86  1,819.92   -0.64%\n",
       "2020-12-15  1,853.46  1,827.80  1,855.76  1,825.29    1.44%\n",
       "2020-12-16  1,864.15  1,853.94  1,866.20  1,844.75    0.58%\n",
       "2020-12-17  1,885.87  1,864.26  1,896.26  1,861.83    1.17%\n",
       "2020-12-18  1,881.51  1,883.74  1,889.74  1,877.51   -0.23%"
      ]
     },
     "execution_count": 106,
     "metadata": {},
     "output_type": "execute_result"
    }
   ],
   "source": [
    "csvpath = Path(\"Resources/XAU_USD Historical Data.csv\")\n",
    "csv_df = pd.read_csv(csvpath, index_col=\"Date\", parse_dates=True, infer_datetime_format=True).sort_values(\"Date\")\n",
    "csv_df.tail()"
   ]
  },
  {
   "cell_type": "markdown",
   "metadata": {},
   "source": [
    "## US Dollar Index Historical Data:"
   ]
  },
  {
   "cell_type": "code",
   "execution_count": 108,
   "metadata": {},
   "outputs": [
    {
     "data": {
      "text/html": [
       "<div>\n",
       "<style scoped>\n",
       "    .dataframe tbody tr th:only-of-type {\n",
       "        vertical-align: middle;\n",
       "    }\n",
       "\n",
       "    .dataframe tbody tr th {\n",
       "        vertical-align: top;\n",
       "    }\n",
       "\n",
       "    .dataframe thead th {\n",
       "        text-align: right;\n",
       "    }\n",
       "</style>\n",
       "<table border=\"1\" class=\"dataframe\">\n",
       "  <thead>\n",
       "    <tr style=\"text-align: right;\">\n",
       "      <th></th>\n",
       "      <th>Price</th>\n",
       "      <th>Open</th>\n",
       "      <th>High</th>\n",
       "      <th>Low</th>\n",
       "      <th>Vol.</th>\n",
       "      <th>Change %</th>\n",
       "    </tr>\n",
       "    <tr>\n",
       "      <th>Date</th>\n",
       "      <th></th>\n",
       "      <th></th>\n",
       "      <th></th>\n",
       "      <th></th>\n",
       "      <th></th>\n",
       "      <th></th>\n",
       "    </tr>\n",
       "  </thead>\n",
       "  <tbody>\n",
       "    <tr>\n",
       "      <th>2017-12-12</th>\n",
       "      <td>94.10</td>\n",
       "      <td>93.91</td>\n",
       "      <td>94.22</td>\n",
       "      <td>93.76</td>\n",
       "      <td>-</td>\n",
       "      <td>0.25%</td>\n",
       "    </tr>\n",
       "    <tr>\n",
       "      <th>2017-12-13</th>\n",
       "      <td>93.43</td>\n",
       "      <td>94.06</td>\n",
       "      <td>94.11</td>\n",
       "      <td>93.39</td>\n",
       "      <td>-</td>\n",
       "      <td>-0.71%</td>\n",
       "    </tr>\n",
       "    <tr>\n",
       "      <th>2017-12-14</th>\n",
       "      <td>93.49</td>\n",
       "      <td>93.41</td>\n",
       "      <td>93.76</td>\n",
       "      <td>93.28</td>\n",
       "      <td>-</td>\n",
       "      <td>0.06%</td>\n",
       "    </tr>\n",
       "    <tr>\n",
       "      <th>2017-12-15</th>\n",
       "      <td>93.93</td>\n",
       "      <td>93.65</td>\n",
       "      <td>94.00</td>\n",
       "      <td>93.41</td>\n",
       "      <td>-</td>\n",
       "      <td>0.47%</td>\n",
       "    </tr>\n",
       "    <tr>\n",
       "      <th>2017-12-18</th>\n",
       "      <td>93.69</td>\n",
       "      <td>93.98</td>\n",
       "      <td>94.03</td>\n",
       "      <td>93.38</td>\n",
       "      <td>-</td>\n",
       "      <td>-0.26%</td>\n",
       "    </tr>\n",
       "  </tbody>\n",
       "</table>\n",
       "</div>"
      ],
      "text/plain": [
       "            Price   Open   High    Low Vol. Change %\n",
       "Date                                                \n",
       "2017-12-12  94.10  93.91  94.22  93.76    -    0.25%\n",
       "2017-12-13  93.43  94.06  94.11  93.39    -   -0.71%\n",
       "2017-12-14  93.49  93.41  93.76  93.28    -    0.06%\n",
       "2017-12-15  93.93  93.65  94.00  93.41    -    0.47%\n",
       "2017-12-18  93.69  93.98  94.03  93.38    -   -0.26%"
      ]
     },
     "execution_count": 108,
     "metadata": {},
     "output_type": "execute_result"
    }
   ],
   "source": [
    "csvpath = Path(\"Resources/US Dollar Index Historical Data.csv\")\n",
    "csv_df = pd.read_csv(csvpath, index_col=\"Date\", parse_dates=True, infer_datetime_format=True).sort_values(\"Date\")\n",
    "csv_df.tail()"
   ]
  },
  {
   "cell_type": "markdown",
   "metadata": {},
   "source": [
    "## Bitcoin:"
   ]
  },
  {
   "cell_type": "code",
   "execution_count": 107,
   "metadata": {},
   "outputs": [
    {
     "data": {
      "text/html": [
       "<div>\n",
       "<style scoped>\n",
       "    .dataframe tbody tr th:only-of-type {\n",
       "        vertical-align: middle;\n",
       "    }\n",
       "\n",
       "    .dataframe tbody tr th {\n",
       "        vertical-align: top;\n",
       "    }\n",
       "\n",
       "    .dataframe thead th {\n",
       "        text-align: right;\n",
       "    }\n",
       "</style>\n",
       "<table border=\"1\" class=\"dataframe\">\n",
       "  <thead>\n",
       "    <tr style=\"text-align: right;\">\n",
       "      <th></th>\n",
       "      <th>Price</th>\n",
       "      <th>Open</th>\n",
       "      <th>High</th>\n",
       "      <th>Low</th>\n",
       "      <th>Vol.</th>\n",
       "      <th>Change %</th>\n",
       "    </tr>\n",
       "    <tr>\n",
       "      <th>Date</th>\n",
       "      <th></th>\n",
       "      <th></th>\n",
       "      <th></th>\n",
       "      <th></th>\n",
       "      <th></th>\n",
       "      <th></th>\n",
       "    </tr>\n",
       "  </thead>\n",
       "  <tbody>\n",
       "    <tr>\n",
       "      <th>2020-12-14</th>\n",
       "      <td>19,273.8</td>\n",
       "      <td>19,176.4</td>\n",
       "      <td>19,346.5</td>\n",
       "      <td>19,007.0</td>\n",
       "      <td>67.11K</td>\n",
       "      <td>0.51%</td>\n",
       "    </tr>\n",
       "    <tr>\n",
       "      <th>2020-12-15</th>\n",
       "      <td>19,434.9</td>\n",
       "      <td>19,273.9</td>\n",
       "      <td>19,556.3</td>\n",
       "      <td>19,076.2</td>\n",
       "      <td>98.39K</td>\n",
       "      <td>0.84%</td>\n",
       "    </tr>\n",
       "    <tr>\n",
       "      <th>2020-12-16</th>\n",
       "      <td>21,352.2</td>\n",
       "      <td>19,434.7</td>\n",
       "      <td>21,525.3</td>\n",
       "      <td>19,299.7</td>\n",
       "      <td>199.81K</td>\n",
       "      <td>9.87%</td>\n",
       "    </tr>\n",
       "    <tr>\n",
       "      <th>2020-12-17</th>\n",
       "      <td>22,825.4</td>\n",
       "      <td>21,352.3</td>\n",
       "      <td>23,738.0</td>\n",
       "      <td>21,243.1</td>\n",
       "      <td>310.74K</td>\n",
       "      <td>6.90%</td>\n",
       "    </tr>\n",
       "    <tr>\n",
       "      <th>2020-12-18</th>\n",
       "      <td>22,575.7</td>\n",
       "      <td>22,823.3</td>\n",
       "      <td>23,272.8</td>\n",
       "      <td>22,420.2</td>\n",
       "      <td>195.96K</td>\n",
       "      <td>-1.09%</td>\n",
       "    </tr>\n",
       "  </tbody>\n",
       "</table>\n",
       "</div>"
      ],
      "text/plain": [
       "               Price      Open      High       Low     Vol. Change %\n",
       "Date                                                                \n",
       "2020-12-14  19,273.8  19,176.4  19,346.5  19,007.0   67.11K    0.51%\n",
       "2020-12-15  19,434.9  19,273.9  19,556.3  19,076.2   98.39K    0.84%\n",
       "2020-12-16  21,352.2  19,434.7  21,525.3  19,299.7  199.81K    9.87%\n",
       "2020-12-17  22,825.4  21,352.3  23,738.0  21,243.1  310.74K    6.90%\n",
       "2020-12-18  22,575.7  22,823.3  23,272.8  22,420.2  195.96K   -1.09%"
      ]
     },
     "execution_count": 107,
     "metadata": {},
     "output_type": "execute_result"
    }
   ],
   "source": [
    "csvpath = Path(\"Resources/Bitcoin Historical Data - Investing.com AU.csv\")\n",
    "csv_df = pd.read_csv(csvpath, index_col=\"Date\", parse_dates=True, infer_datetime_format=True).sort_values(\"Date\")\n",
    "csv_df.tail()"
   ]
  },
  {
   "cell_type": "markdown",
   "metadata": {},
   "source": [
    "# Importing Data from Alpaca"
   ]
  },
  {
   "cell_type": "code",
   "execution_count": 88,
   "metadata": {},
   "outputs": [],
   "source": [
    "import alpaca_trade_api as tradeapi"
   ]
  },
  {
   "cell_type": "code",
   "execution_count": 89,
   "metadata": {},
   "outputs": [
    {
     "data": {
      "text/plain": [
       "True"
      ]
     },
     "execution_count": 89,
     "metadata": {},
     "output_type": "execute_result"
    }
   ],
   "source": [
    "load_dotenv(dotenv_path = Path(\"C:/Users/Leon/API_keys/.env\"))"
   ]
  },
  {
   "cell_type": "code",
   "execution_count": 90,
   "metadata": {},
   "outputs": [
    {
     "data": {
      "text/plain": [
       "str"
      ]
     },
     "execution_count": 90,
     "metadata": {},
     "output_type": "execute_result"
    }
   ],
   "source": [
    "alpaca_api_key = os.getenv(\"ALPACA_API_KEY\")\n",
    "type(alpaca_api_key)"
   ]
  },
  {
   "cell_type": "code",
   "execution_count": 91,
   "metadata": {},
   "outputs": [
    {
     "data": {
      "text/plain": [
       "str"
      ]
     },
     "execution_count": 91,
     "metadata": {},
     "output_type": "execute_result"
    }
   ],
   "source": [
    "alpaca_secret_key = os.getenv(\"ALPACA_SECRET_KEY\")\n",
    "type(alpaca_secret_key)"
   ]
  },
  {
   "cell_type": "code",
   "execution_count": 92,
   "metadata": {},
   "outputs": [],
   "source": [
    "# Creating Alpaca Object\n",
    "alpaca = tradeapi.REST(alpaca_api_key, alpaca_secret_key, api_version=\"v2\")"
   ]
  },
  {
   "cell_type": "code",
   "execution_count": 93,
   "metadata": {},
   "outputs": [],
   "source": [
    "tickers_alpaca = [\"AAPL\", \"TSLA\"]\n",
    "ticker_alpaca = \"AAPL\"\n",
    "timeframe = \"1D\"\n",
    "start_data = pd.Timestamp(\"2017-01-01\", tz=\"America/New_York\").isoformat()\n",
    "end_data = pd.Timestamp(\"2020-12-18\", tz=\"America/New_York\").isoformat()"
   ]
  },
  {
   "cell_type": "code",
   "execution_count": 94,
   "metadata": {},
   "outputs": [
    {
     "data": {
      "text/html": [
       "<div>\n",
       "<style scoped>\n",
       "    .dataframe tbody tr th:only-of-type {\n",
       "        vertical-align: middle;\n",
       "    }\n",
       "\n",
       "    .dataframe tbody tr th {\n",
       "        vertical-align: top;\n",
       "    }\n",
       "\n",
       "    .dataframe thead tr th {\n",
       "        text-align: left;\n",
       "    }\n",
       "\n",
       "    .dataframe thead tr:last-of-type th {\n",
       "        text-align: right;\n",
       "    }\n",
       "</style>\n",
       "<table border=\"1\" class=\"dataframe\">\n",
       "  <thead>\n",
       "    <tr>\n",
       "      <th></th>\n",
       "      <th colspan=\"5\" halign=\"left\">AAPL</th>\n",
       "    </tr>\n",
       "    <tr>\n",
       "      <th></th>\n",
       "      <th>open</th>\n",
       "      <th>high</th>\n",
       "      <th>low</th>\n",
       "      <th>close</th>\n",
       "      <th>volume</th>\n",
       "    </tr>\n",
       "    <tr>\n",
       "      <th>time</th>\n",
       "      <th></th>\n",
       "      <th></th>\n",
       "      <th></th>\n",
       "      <th></th>\n",
       "      <th></th>\n",
       "    </tr>\n",
       "  </thead>\n",
       "  <tbody>\n",
       "    <tr>\n",
       "      <th>2020-12-14 00:00:00-05:00</th>\n",
       "      <td>122.60</td>\n",
       "      <td>123.35</td>\n",
       "      <td>121.550</td>\n",
       "      <td>121.7700</td>\n",
       "      <td>65119346</td>\n",
       "    </tr>\n",
       "    <tr>\n",
       "      <th>2020-12-15 00:00:00-05:00</th>\n",
       "      <td>124.34</td>\n",
       "      <td>127.90</td>\n",
       "      <td>124.130</td>\n",
       "      <td>127.8900</td>\n",
       "      <td>140585059</td>\n",
       "    </tr>\n",
       "    <tr>\n",
       "      <th>2020-12-16 00:00:00-05:00</th>\n",
       "      <td>127.41</td>\n",
       "      <td>128.37</td>\n",
       "      <td>126.560</td>\n",
       "      <td>127.7500</td>\n",
       "      <td>84637825</td>\n",
       "    </tr>\n",
       "    <tr>\n",
       "      <th>2020-12-17 00:00:00-05:00</th>\n",
       "      <td>128.90</td>\n",
       "      <td>129.58</td>\n",
       "      <td>128.045</td>\n",
       "      <td>128.6500</td>\n",
       "      <td>76704353</td>\n",
       "    </tr>\n",
       "    <tr>\n",
       "      <th>2020-12-18 00:00:00-05:00</th>\n",
       "      <td>128.96</td>\n",
       "      <td>129.10</td>\n",
       "      <td>126.120</td>\n",
       "      <td>126.2743</td>\n",
       "      <td>90236999</td>\n",
       "    </tr>\n",
       "  </tbody>\n",
       "</table>\n",
       "</div>"
      ],
      "text/plain": [
       "                             AAPL                                      \n",
       "                             open    high      low     close     volume\n",
       "time                                                                   \n",
       "2020-12-14 00:00:00-05:00  122.60  123.35  121.550  121.7700   65119346\n",
       "2020-12-15 00:00:00-05:00  124.34  127.90  124.130  127.8900  140585059\n",
       "2020-12-16 00:00:00-05:00  127.41  128.37  126.560  127.7500   84637825\n",
       "2020-12-17 00:00:00-05:00  128.90  129.58  128.045  128.6500   76704353\n",
       "2020-12-18 00:00:00-05:00  128.96  129.10  126.120  126.2743   90236999"
      ]
     },
     "execution_count": 94,
     "metadata": {},
     "output_type": "execute_result"
    }
   ],
   "source": [
    "alpaca_df = alpaca.get_barset(\n",
    "    ticker_alpaca, \n",
    "    timeframe, \n",
    "    start=start_data, \n",
    "    end=end_data\n",
    ").df\n",
    "alpaca_df.tail()"
   ]
  },
  {
   "cell_type": "code",
   "execution_count": 97,
   "metadata": {},
   "outputs": [
    {
     "data": {
      "text/html": [
       "<div>\n",
       "<style scoped>\n",
       "    .dataframe tbody tr th:only-of-type {\n",
       "        vertical-align: middle;\n",
       "    }\n",
       "\n",
       "    .dataframe tbody tr th {\n",
       "        vertical-align: top;\n",
       "    }\n",
       "\n",
       "    .dataframe thead tr th {\n",
       "        text-align: left;\n",
       "    }\n",
       "\n",
       "    .dataframe thead tr:last-of-type th {\n",
       "        text-align: right;\n",
       "    }\n",
       "</style>\n",
       "<table border=\"1\" class=\"dataframe\">\n",
       "  <thead>\n",
       "    <tr>\n",
       "      <th></th>\n",
       "      <th colspan=\"5\" halign=\"left\">XAU</th>\n",
       "    </tr>\n",
       "    <tr>\n",
       "      <th></th>\n",
       "      <th>open</th>\n",
       "      <th>high</th>\n",
       "      <th>low</th>\n",
       "      <th>close</th>\n",
       "      <th>volume</th>\n",
       "    </tr>\n",
       "    <tr>\n",
       "      <th>time</th>\n",
       "      <th></th>\n",
       "      <th></th>\n",
       "      <th></th>\n",
       "      <th></th>\n",
       "      <th></th>\n",
       "    </tr>\n",
       "  </thead>\n",
       "  <tbody>\n",
       "  </tbody>\n",
       "</table>\n",
       "</div>"
      ],
      "text/plain": [
       "Empty DataFrame\n",
       "Columns: [(XAU, open), (XAU, high), (XAU, low), (XAU, close), (XAU, volume)]\n",
       "Index: []"
      ]
     },
     "execution_count": 97,
     "metadata": {},
     "output_type": "execute_result"
    }
   ],
   "source": [
    "alpaca_df = alpaca.get_barset(\n",
    "    \"XAU\", \n",
    "    timeframe, \n",
    "    start=start_data, \n",
    "    end=end_data\n",
    ").df\n",
    "alpaca_df.tail()"
   ]
  },
  {
   "cell_type": "markdown",
   "metadata": {},
   "source": [
    "# Importing Data from Quandl"
   ]
  },
  {
   "cell_type": "markdown",
   "metadata": {},
   "source": [
    "## <span style=\"color:red\"> Change Ticker Here !"
   ]
  },
  {
   "cell_type": "code",
   "execution_count": 35,
   "metadata": {},
   "outputs": [
    {
     "data": {
      "text/plain": [
       "'MULTPL/SP500_REAL_PRICE_MONTH'"
      ]
     },
     "execution_count": 35,
     "metadata": {},
     "output_type": "execute_result"
    }
   ],
   "source": [
    "tickers = [\"AAPL\", \"TSLA\"]\n",
    "ticker = \"AAPL\"\n",
    "\n",
    "\"BCHAIN/MKPRU\"\n",
    "\"PERTH/GOLD_USD_D\"\n",
    "\"CHRIS/ICE_DX1\" \"BCIW/_DXY\"\n",
    "\"MULTPL/SP500_REAL_PRICE_MONTH\""
   ]
  },
  {
   "cell_type": "code",
   "execution_count": 36,
   "metadata": {},
   "outputs": [],
   "source": [
    "import quandl"
   ]
  },
  {
   "cell_type": "code",
   "execution_count": 37,
   "metadata": {},
   "outputs": [
    {
     "data": {
      "text/plain": [
       "True"
      ]
     },
     "execution_count": 37,
     "metadata": {},
     "output_type": "execute_result"
    }
   ],
   "source": [
    "load_dotenv(dotenv_path = Path(\"C:/Users/Leon/API_keys/.env\"))"
   ]
  },
  {
   "cell_type": "code",
   "execution_count": 38,
   "metadata": {},
   "outputs": [
    {
     "data": {
      "text/plain": [
       "str"
      ]
     },
     "execution_count": 38,
     "metadata": {},
     "output_type": "execute_result"
    }
   ],
   "source": [
    "api_key_quandl = os.getenv(\"QUANDL_API_KEY\")\n",
    "type(api_key_quandl)"
   ]
  },
  {
   "cell_type": "code",
   "execution_count": 39,
   "metadata": {},
   "outputs": [
    {
     "data": {
      "text/html": [
       "<div>\n",
       "<style scoped>\n",
       "    .dataframe tbody tr th:only-of-type {\n",
       "        vertical-align: middle;\n",
       "    }\n",
       "\n",
       "    .dataframe tbody tr th {\n",
       "        vertical-align: top;\n",
       "    }\n",
       "\n",
       "    .dataframe thead th {\n",
       "        text-align: right;\n",
       "    }\n",
       "</style>\n",
       "<table border=\"1\" class=\"dataframe\">\n",
       "  <thead>\n",
       "    <tr style=\"text-align: right;\">\n",
       "      <th></th>\n",
       "      <th>Open</th>\n",
       "      <th>High</th>\n",
       "      <th>Low</th>\n",
       "      <th>Close</th>\n",
       "      <th>Volume</th>\n",
       "      <th>Dividend</th>\n",
       "      <th>Split</th>\n",
       "      <th>Adj_Open</th>\n",
       "      <th>Adj_High</th>\n",
       "      <th>Adj_Low</th>\n",
       "      <th>Adj_Close</th>\n",
       "      <th>Adj_Volume</th>\n",
       "    </tr>\n",
       "    <tr>\n",
       "      <th>Date</th>\n",
       "      <th></th>\n",
       "      <th></th>\n",
       "      <th></th>\n",
       "      <th></th>\n",
       "      <th></th>\n",
       "      <th></th>\n",
       "      <th></th>\n",
       "      <th></th>\n",
       "      <th></th>\n",
       "      <th></th>\n",
       "      <th></th>\n",
       "      <th></th>\n",
       "    </tr>\n",
       "  </thead>\n",
       "  <tbody>\n",
       "    <tr>\n",
       "      <th>2017-12-21</th>\n",
       "      <td>174.17</td>\n",
       "      <td>176.020</td>\n",
       "      <td>174.100</td>\n",
       "      <td>175.01</td>\n",
       "      <td>20949896.0</td>\n",
       "      <td>0.0</td>\n",
       "      <td>1.0</td>\n",
       "      <td>41.899570</td>\n",
       "      <td>42.344619</td>\n",
       "      <td>41.882730</td>\n",
       "      <td>42.101646</td>\n",
       "      <td>83799584.0</td>\n",
       "    </tr>\n",
       "    <tr>\n",
       "      <th>2017-12-22</th>\n",
       "      <td>174.68</td>\n",
       "      <td>175.424</td>\n",
       "      <td>174.500</td>\n",
       "      <td>175.01</td>\n",
       "      <td>16349444.0</td>\n",
       "      <td>0.0</td>\n",
       "      <td>1.0</td>\n",
       "      <td>42.022259</td>\n",
       "      <td>42.201241</td>\n",
       "      <td>41.978957</td>\n",
       "      <td>42.101646</td>\n",
       "      <td>65397776.0</td>\n",
       "    </tr>\n",
       "    <tr>\n",
       "      <th>2017-12-26</th>\n",
       "      <td>170.80</td>\n",
       "      <td>171.470</td>\n",
       "      <td>169.679</td>\n",
       "      <td>170.57</td>\n",
       "      <td>33185536.0</td>\n",
       "      <td>0.0</td>\n",
       "      <td>1.0</td>\n",
       "      <td>41.088858</td>\n",
       "      <td>41.250038</td>\n",
       "      <td>40.819183</td>\n",
       "      <td>41.033528</td>\n",
       "      <td>132742144.0</td>\n",
       "    </tr>\n",
       "    <tr>\n",
       "      <th>2017-12-27</th>\n",
       "      <td>170.10</td>\n",
       "      <td>170.780</td>\n",
       "      <td>169.710</td>\n",
       "      <td>170.60</td>\n",
       "      <td>21498213.0</td>\n",
       "      <td>0.0</td>\n",
       "      <td>1.0</td>\n",
       "      <td>40.920461</td>\n",
       "      <td>41.084047</td>\n",
       "      <td>40.826640</td>\n",
       "      <td>41.040745</td>\n",
       "      <td>85992852.0</td>\n",
       "    </tr>\n",
       "    <tr>\n",
       "      <th>2017-12-28</th>\n",
       "      <td>171.00</td>\n",
       "      <td>171.850</td>\n",
       "      <td>170.480</td>\n",
       "      <td>171.08</td>\n",
       "      <td>16480187.0</td>\n",
       "      <td>0.0</td>\n",
       "      <td>1.0</td>\n",
       "      <td>41.136972</td>\n",
       "      <td>41.341454</td>\n",
       "      <td>41.011877</td>\n",
       "      <td>41.156217</td>\n",
       "      <td>65920748.0</td>\n",
       "    </tr>\n",
       "  </tbody>\n",
       "</table>\n",
       "</div>"
      ],
      "text/plain": [
       "              Open     High      Low   Close      Volume  Dividend  Split  \\\n",
       "Date                                                                        \n",
       "2017-12-21  174.17  176.020  174.100  175.01  20949896.0       0.0    1.0   \n",
       "2017-12-22  174.68  175.424  174.500  175.01  16349444.0       0.0    1.0   \n",
       "2017-12-26  170.80  171.470  169.679  170.57  33185536.0       0.0    1.0   \n",
       "2017-12-27  170.10  170.780  169.710  170.60  21498213.0       0.0    1.0   \n",
       "2017-12-28  171.00  171.850  170.480  171.08  16480187.0       0.0    1.0   \n",
       "\n",
       "             Adj_Open   Adj_High    Adj_Low  Adj_Close   Adj_Volume  \n",
       "Date                                                                 \n",
       "2017-12-21  41.899570  42.344619  41.882730  42.101646   83799584.0  \n",
       "2017-12-22  42.022259  42.201241  41.978957  42.101646   65397776.0  \n",
       "2017-12-26  41.088858  41.250038  40.819183  41.033528  132742144.0  \n",
       "2017-12-27  40.920461  41.084047  40.826640  41.040745   85992852.0  \n",
       "2017-12-28  41.136972  41.341454  41.011877  41.156217   65920748.0  "
      ]
     },
     "execution_count": 39,
     "metadata": {},
     "output_type": "execute_result"
    }
   ],
   "source": [
    "# EOD = end of day price\n",
    "quandl_df = quandl.get(f'EOD/{ticker}', start_date='2017-01-01', end_date='2020-12-18', collaps='daily', api_key= api_key_quandl)\n",
    "quandl_df.tail()"
   ]
  },
  {
   "cell_type": "markdown",
   "metadata": {},
   "source": [
    "## Bitcoin Market Price USD:"
   ]
  },
  {
   "cell_type": "code",
   "execution_count": 40,
   "metadata": {},
   "outputs": [
    {
     "data": {
      "text/html": [
       "<div>\n",
       "<style scoped>\n",
       "    .dataframe tbody tr th:only-of-type {\n",
       "        vertical-align: middle;\n",
       "    }\n",
       "\n",
       "    .dataframe tbody tr th {\n",
       "        vertical-align: top;\n",
       "    }\n",
       "\n",
       "    .dataframe thead th {\n",
       "        text-align: right;\n",
       "    }\n",
       "</style>\n",
       "<table border=\"1\" class=\"dataframe\">\n",
       "  <thead>\n",
       "    <tr style=\"text-align: right;\">\n",
       "      <th></th>\n",
       "      <th>Value</th>\n",
       "    </tr>\n",
       "    <tr>\n",
       "      <th>Date</th>\n",
       "      <th></th>\n",
       "    </tr>\n",
       "  </thead>\n",
       "  <tbody>\n",
       "    <tr>\n",
       "      <th>2020-12-14</th>\n",
       "      <td>18803.44</td>\n",
       "    </tr>\n",
       "    <tr>\n",
       "      <th>2020-12-15</th>\n",
       "      <td>19164.48</td>\n",
       "    </tr>\n",
       "    <tr>\n",
       "      <th>2020-12-16</th>\n",
       "      <td>19276.59</td>\n",
       "    </tr>\n",
       "    <tr>\n",
       "      <th>2020-12-17</th>\n",
       "      <td>19439.75</td>\n",
       "    </tr>\n",
       "    <tr>\n",
       "      <th>2020-12-18</th>\n",
       "      <td>21379.48</td>\n",
       "    </tr>\n",
       "  </tbody>\n",
       "</table>\n",
       "</div>"
      ],
      "text/plain": [
       "               Value\n",
       "Date                \n",
       "2020-12-14  18803.44\n",
       "2020-12-15  19164.48\n",
       "2020-12-16  19276.59\n",
       "2020-12-17  19439.75\n",
       "2020-12-18  21379.48"
      ]
     },
     "execution_count": 40,
     "metadata": {},
     "output_type": "execute_result"
    }
   ],
   "source": [
    "quandl_df = quandl.get(\"BCHAIN/MKPRU\", start_date='2017-01-01', end_date='2020-12-18', collaps='daily', api_key= api_key_quandl)\n",
    "quandl_df.tail()"
   ]
  },
  {
   "cell_type": "markdown",
   "metadata": {},
   "source": [
    "## Gold Spot Prices - USD - Daily:"
   ]
  },
  {
   "cell_type": "code",
   "execution_count": 41,
   "metadata": {},
   "outputs": [
    {
     "data": {
      "text/html": [
       "<div>\n",
       "<style scoped>\n",
       "    .dataframe tbody tr th:only-of-type {\n",
       "        vertical-align: middle;\n",
       "    }\n",
       "\n",
       "    .dataframe tbody tr th {\n",
       "        vertical-align: top;\n",
       "    }\n",
       "\n",
       "    .dataframe thead th {\n",
       "        text-align: right;\n",
       "    }\n",
       "</style>\n",
       "<table border=\"1\" class=\"dataframe\">\n",
       "  <thead>\n",
       "    <tr style=\"text-align: right;\">\n",
       "      <th></th>\n",
       "      <th>Bid High</th>\n",
       "      <th>Ask High</th>\n",
       "      <th>Bid Low</th>\n",
       "      <th>Ask Low</th>\n",
       "      <th>Bid Average</th>\n",
       "      <th>Ask Average</th>\n",
       "      <th>6 Month Gold Lease Rates (%PA)</th>\n",
       "    </tr>\n",
       "    <tr>\n",
       "      <th>Date</th>\n",
       "      <th></th>\n",
       "      <th></th>\n",
       "      <th></th>\n",
       "      <th></th>\n",
       "      <th></th>\n",
       "      <th></th>\n",
       "      <th></th>\n",
       "    </tr>\n",
       "  </thead>\n",
       "  <tbody>\n",
       "    <tr>\n",
       "      <th>2020-11-24</th>\n",
       "      <td>1833.29</td>\n",
       "      <td>1842.60</td>\n",
       "      <td>1818.21</td>\n",
       "      <td>1826.98</td>\n",
       "      <td>1824.38</td>\n",
       "      <td>1833.42</td>\n",
       "      <td>None</td>\n",
       "    </tr>\n",
       "    <tr>\n",
       "      <th>2020-11-25</th>\n",
       "      <td>1806.20</td>\n",
       "      <td>1815.70</td>\n",
       "      <td>1799.60</td>\n",
       "      <td>1808.38</td>\n",
       "      <td>1803.18</td>\n",
       "      <td>1811.97</td>\n",
       "      <td>None</td>\n",
       "    </tr>\n",
       "    <tr>\n",
       "      <th>2020-11-26</th>\n",
       "      <td>1811.81</td>\n",
       "      <td>1821.30</td>\n",
       "      <td>1803.19</td>\n",
       "      <td>1812.20</td>\n",
       "      <td>1807.04</td>\n",
       "      <td>1815.96</td>\n",
       "      <td>None</td>\n",
       "    </tr>\n",
       "    <tr>\n",
       "      <th>2020-11-27</th>\n",
       "      <td>1809.36</td>\n",
       "      <td>1818.13</td>\n",
       "      <td>1803.76</td>\n",
       "      <td>1812.53</td>\n",
       "      <td>1805.42</td>\n",
       "      <td>1814.34</td>\n",
       "      <td>None</td>\n",
       "    </tr>\n",
       "    <tr>\n",
       "      <th>2020-11-30</th>\n",
       "      <td>1782.45</td>\n",
       "      <td>1791.80</td>\n",
       "      <td>1762.26</td>\n",
       "      <td>1771.03</td>\n",
       "      <td>1772.88</td>\n",
       "      <td>1781.70</td>\n",
       "      <td>None</td>\n",
       "    </tr>\n",
       "  </tbody>\n",
       "</table>\n",
       "</div>"
      ],
      "text/plain": [
       "            Bid High  Ask High  Bid Low  Ask Low  Bid Average  Ask Average  \\\n",
       "Date                                                                         \n",
       "2020-11-24   1833.29   1842.60  1818.21  1826.98      1824.38      1833.42   \n",
       "2020-11-25   1806.20   1815.70  1799.60  1808.38      1803.18      1811.97   \n",
       "2020-11-26   1811.81   1821.30  1803.19  1812.20      1807.04      1815.96   \n",
       "2020-11-27   1809.36   1818.13  1803.76  1812.53      1805.42      1814.34   \n",
       "2020-11-30   1782.45   1791.80  1762.26  1771.03      1772.88      1781.70   \n",
       "\n",
       "           6 Month Gold Lease Rates (%PA)  \n",
       "Date                                       \n",
       "2020-11-24                           None  \n",
       "2020-11-25                           None  \n",
       "2020-11-26                           None  \n",
       "2020-11-27                           None  \n",
       "2020-11-30                           None  "
      ]
     },
     "execution_count": 41,
     "metadata": {},
     "output_type": "execute_result"
    }
   ],
   "source": [
    "quandl_df = quandl.get(\"PERTH/GOLD_USD_D\", start_date='2017-01-01', end_date='2020-12-18', collaps='daily', api_key= api_key_quandl)\n",
    "quandl_df.tail()"
   ]
  },
  {
   "cell_type": "markdown",
   "metadata": {},
   "source": [
    "## US Dollar Index Futures, Continuous Contract #1 (DX1) (Front Month):"
   ]
  },
  {
   "cell_type": "code",
   "execution_count": 42,
   "metadata": {},
   "outputs": [
    {
     "data": {
      "text/html": [
       "<div>\n",
       "<style scoped>\n",
       "    .dataframe tbody tr th:only-of-type {\n",
       "        vertical-align: middle;\n",
       "    }\n",
       "\n",
       "    .dataframe tbody tr th {\n",
       "        vertical-align: top;\n",
       "    }\n",
       "\n",
       "    .dataframe thead th {\n",
       "        text-align: right;\n",
       "    }\n",
       "</style>\n",
       "<table border=\"1\" class=\"dataframe\">\n",
       "  <thead>\n",
       "    <tr style=\"text-align: right;\">\n",
       "      <th></th>\n",
       "      <th>Open</th>\n",
       "      <th>High</th>\n",
       "      <th>Low</th>\n",
       "      <th>Settle</th>\n",
       "      <th>Change</th>\n",
       "      <th>Wave</th>\n",
       "      <th>Volume</th>\n",
       "      <th>Prev. Day Open Interest</th>\n",
       "      <th>EFP Volume</th>\n",
       "      <th>EFS Volume</th>\n",
       "      <th>Block Volume</th>\n",
       "    </tr>\n",
       "    <tr>\n",
       "      <th>Date</th>\n",
       "      <th></th>\n",
       "      <th></th>\n",
       "      <th></th>\n",
       "      <th></th>\n",
       "      <th></th>\n",
       "      <th></th>\n",
       "      <th></th>\n",
       "      <th></th>\n",
       "      <th></th>\n",
       "      <th></th>\n",
       "      <th></th>\n",
       "    </tr>\n",
       "  </thead>\n",
       "  <tbody>\n",
       "    <tr>\n",
       "      <th>2020-12-11</th>\n",
       "      <td>90.750</td>\n",
       "      <td>91.050</td>\n",
       "      <td>90.630</td>\n",
       "      <td>90.970</td>\n",
       "      <td>0.150</td>\n",
       "      <td>90.929</td>\n",
       "      <td>11372.0</td>\n",
       "      <td>17559.0</td>\n",
       "      <td>NaN</td>\n",
       "      <td>None</td>\n",
       "      <td>250.0</td>\n",
       "    </tr>\n",
       "    <tr>\n",
       "      <th>2020-12-14</th>\n",
       "      <td>90.730</td>\n",
       "      <td>90.845</td>\n",
       "      <td>90.345</td>\n",
       "      <td>90.655</td>\n",
       "      <td>-0.269</td>\n",
       "      <td>90.555</td>\n",
       "      <td>23425.0</td>\n",
       "      <td>34159.0</td>\n",
       "      <td>NaN</td>\n",
       "      <td>None</td>\n",
       "      <td>NaN</td>\n",
       "    </tr>\n",
       "    <tr>\n",
       "      <th>2020-12-15</th>\n",
       "      <td>90.595</td>\n",
       "      <td>90.780</td>\n",
       "      <td>90.345</td>\n",
       "      <td>90.409</td>\n",
       "      <td>-0.246</td>\n",
       "      <td>90.537</td>\n",
       "      <td>22407.0</td>\n",
       "      <td>34769.0</td>\n",
       "      <td>NaN</td>\n",
       "      <td>None</td>\n",
       "      <td>NaN</td>\n",
       "    </tr>\n",
       "    <tr>\n",
       "      <th>2020-12-16</th>\n",
       "      <td>90.435</td>\n",
       "      <td>90.635</td>\n",
       "      <td>90.045</td>\n",
       "      <td>90.359</td>\n",
       "      <td>-0.050</td>\n",
       "      <td>90.276</td>\n",
       "      <td>28284.0</td>\n",
       "      <td>35509.0</td>\n",
       "      <td>NaN</td>\n",
       "      <td>None</td>\n",
       "      <td>NaN</td>\n",
       "    </tr>\n",
       "    <tr>\n",
       "      <th>2020-12-17</th>\n",
       "      <td>90.165</td>\n",
       "      <td>90.180</td>\n",
       "      <td>89.640</td>\n",
       "      <td>89.741</td>\n",
       "      <td>-0.618</td>\n",
       "      <td>89.774</td>\n",
       "      <td>29477.0</td>\n",
       "      <td>34853.0</td>\n",
       "      <td>NaN</td>\n",
       "      <td>None</td>\n",
       "      <td>NaN</td>\n",
       "    </tr>\n",
       "  </tbody>\n",
       "</table>\n",
       "</div>"
      ],
      "text/plain": [
       "              Open    High     Low  Settle  Change    Wave   Volume  \\\n",
       "Date                                                                  \n",
       "2020-12-11  90.750  91.050  90.630  90.970   0.150  90.929  11372.0   \n",
       "2020-12-14  90.730  90.845  90.345  90.655  -0.269  90.555  23425.0   \n",
       "2020-12-15  90.595  90.780  90.345  90.409  -0.246  90.537  22407.0   \n",
       "2020-12-16  90.435  90.635  90.045  90.359  -0.050  90.276  28284.0   \n",
       "2020-12-17  90.165  90.180  89.640  89.741  -0.618  89.774  29477.0   \n",
       "\n",
       "            Prev. Day Open Interest  EFP Volume EFS Volume  Block Volume  \n",
       "Date                                                                      \n",
       "2020-12-11                  17559.0         NaN       None         250.0  \n",
       "2020-12-14                  34159.0         NaN       None           NaN  \n",
       "2020-12-15                  34769.0         NaN       None           NaN  \n",
       "2020-12-16                  35509.0         NaN       None           NaN  \n",
       "2020-12-17                  34853.0         NaN       None           NaN  "
      ]
     },
     "execution_count": 42,
     "metadata": {},
     "output_type": "execute_result"
    }
   ],
   "source": [
    "quandl_df = quandl.get(\"CHRIS/ICE_DX1\", start_date='2017-01-01', end_date='2020-12-18', collaps='daily', api_key= api_key_quandl)\n",
    "quandl_df.tail()"
   ]
  },
  {
   "cell_type": "markdown",
   "metadata": {},
   "source": [
    "## S&P 500 Real Price by Month:"
   ]
  },
  {
   "cell_type": "code",
   "execution_count": 77,
   "metadata": {},
   "outputs": [
    {
     "data": {
      "text/html": [
       "<div>\n",
       "<style scoped>\n",
       "    .dataframe tbody tr th:only-of-type {\n",
       "        vertical-align: middle;\n",
       "    }\n",
       "\n",
       "    .dataframe tbody tr th {\n",
       "        vertical-align: top;\n",
       "    }\n",
       "\n",
       "    .dataframe thead th {\n",
       "        text-align: right;\n",
       "    }\n",
       "</style>\n",
       "<table border=\"1\" class=\"dataframe\">\n",
       "  <thead>\n",
       "    <tr style=\"text-align: right;\">\n",
       "      <th></th>\n",
       "      <th>Value</th>\n",
       "    </tr>\n",
       "    <tr>\n",
       "      <th>Date</th>\n",
       "      <th></th>\n",
       "    </tr>\n",
       "  </thead>\n",
       "  <tbody>\n",
       "    <tr>\n",
       "      <th>2020-09-30</th>\n",
       "      <td>3363.00</td>\n",
       "    </tr>\n",
       "    <tr>\n",
       "      <th>2020-10-01</th>\n",
       "      <td>3418.70</td>\n",
       "    </tr>\n",
       "    <tr>\n",
       "      <th>2020-11-01</th>\n",
       "      <td>3429.33</td>\n",
       "    </tr>\n",
       "    <tr>\n",
       "      <th>2020-11-30</th>\n",
       "      <td>3621.63</td>\n",
       "    </tr>\n",
       "    <tr>\n",
       "      <th>2020-12-01</th>\n",
       "      <td>3662.45</td>\n",
       "    </tr>\n",
       "  </tbody>\n",
       "</table>\n",
       "</div>"
      ],
      "text/plain": [
       "              Value\n",
       "Date               \n",
       "2020-09-30  3363.00\n",
       "2020-10-01  3418.70\n",
       "2020-11-01  3429.33\n",
       "2020-11-30  3621.63\n",
       "2020-12-01  3662.45"
      ]
     },
     "execution_count": 77,
     "metadata": {},
     "output_type": "execute_result"
    }
   ],
   "source": [
    "quandl_df = quandl.get(\"MULTPL/SP500_REAL_PRICE_MONTH\", start_date='2017-01-01', end_date='2020-12-18', collaps='daily', api_key= api_key_quandl)\n",
    "quandl_df.tail()"
   ]
  },
  {
   "cell_type": "markdown",
   "metadata": {},
   "source": [
    "# Importing Data from Yahoo Finance"
   ]
  },
  {
   "cell_type": "markdown",
   "metadata": {},
   "source": [
    "<span style=color:red> Install yfinance:"
   ]
  },
  {
   "cell_type": "code",
   "execution_count": 43,
   "metadata": {},
   "outputs": [],
   "source": [
    "# !pip install yfinance"
   ]
  },
  {
   "cell_type": "code",
   "execution_count": 43,
   "metadata": {},
   "outputs": [],
   "source": [
    "import yfinance as yf"
   ]
  },
  {
   "cell_type": "markdown",
   "metadata": {},
   "source": [
    "## S&P 500 (^GSPC)："
   ]
  },
  {
   "cell_type": "code",
   "execution_count": 82,
   "metadata": {},
   "outputs": [
    {
     "name": "stdout",
     "output_type": "stream",
     "text": [
      "[*********************100%***********************]  1 of 1 downloaded\n"
     ]
    },
    {
     "data": {
      "text/html": [
       "<div>\n",
       "<style scoped>\n",
       "    .dataframe tbody tr th:only-of-type {\n",
       "        vertical-align: middle;\n",
       "    }\n",
       "\n",
       "    .dataframe tbody tr th {\n",
       "        vertical-align: top;\n",
       "    }\n",
       "\n",
       "    .dataframe thead th {\n",
       "        text-align: right;\n",
       "    }\n",
       "</style>\n",
       "<table border=\"1\" class=\"dataframe\">\n",
       "  <thead>\n",
       "    <tr style=\"text-align: right;\">\n",
       "      <th></th>\n",
       "      <th>Open</th>\n",
       "      <th>High</th>\n",
       "      <th>Low</th>\n",
       "      <th>Close</th>\n",
       "      <th>Adj Close</th>\n",
       "      <th>Volume</th>\n",
       "    </tr>\n",
       "    <tr>\n",
       "      <th>Date</th>\n",
       "      <th></th>\n",
       "      <th></th>\n",
       "      <th></th>\n",
       "      <th></th>\n",
       "      <th></th>\n",
       "      <th></th>\n",
       "    </tr>\n",
       "  </thead>\n",
       "  <tbody>\n",
       "    <tr>\n",
       "      <th>2020-12-10</th>\n",
       "      <td>3659.13</td>\n",
       "      <td>3678.49</td>\n",
       "      <td>3645.18</td>\n",
       "      <td>3668.10</td>\n",
       "      <td>3668.10</td>\n",
       "      <td>4618240000</td>\n",
       "    </tr>\n",
       "    <tr>\n",
       "      <th>2020-12-11</th>\n",
       "      <td>3656.08</td>\n",
       "      <td>3665.91</td>\n",
       "      <td>3633.40</td>\n",
       "      <td>3663.46</td>\n",
       "      <td>3663.46</td>\n",
       "      <td>4367150000</td>\n",
       "    </tr>\n",
       "    <tr>\n",
       "      <th>2020-12-14</th>\n",
       "      <td>3675.27</td>\n",
       "      <td>3697.61</td>\n",
       "      <td>3645.84</td>\n",
       "      <td>3647.49</td>\n",
       "      <td>3647.49</td>\n",
       "      <td>4594920000</td>\n",
       "    </tr>\n",
       "    <tr>\n",
       "      <th>2020-12-15</th>\n",
       "      <td>3666.41</td>\n",
       "      <td>3695.29</td>\n",
       "      <td>3659.62</td>\n",
       "      <td>3694.62</td>\n",
       "      <td>3694.62</td>\n",
       "      <td>4360280000</td>\n",
       "    </tr>\n",
       "    <tr>\n",
       "      <th>2020-12-16</th>\n",
       "      <td>3696.25</td>\n",
       "      <td>3711.27</td>\n",
       "      <td>3688.57</td>\n",
       "      <td>3701.17</td>\n",
       "      <td>3701.17</td>\n",
       "      <td>4056950000</td>\n",
       "    </tr>\n",
       "  </tbody>\n",
       "</table>\n",
       "</div>"
      ],
      "text/plain": [
       "               Open     High      Low    Close  Adj Close      Volume\n",
       "Date                                                                 \n",
       "2020-12-10  3659.13  3678.49  3645.18  3668.10    3668.10  4618240000\n",
       "2020-12-11  3656.08  3665.91  3633.40  3663.46    3663.46  4367150000\n",
       "2020-12-14  3675.27  3697.61  3645.84  3647.49    3647.49  4594920000\n",
       "2020-12-15  3666.41  3695.29  3659.62  3694.62    3694.62  4360280000\n",
       "2020-12-16  3696.25  3711.27  3688.57  3701.17    3701.17  4056950000"
      ]
     },
     "execution_count": 82,
     "metadata": {},
     "output_type": "execute_result"
    }
   ],
   "source": [
    "yf_df = yf.download(\"^GSPC\", start=\"2017-01-01\", end=\"2020-12-18\")\n",
    "yf_df.tail()"
   ]
  },
  {
   "cell_type": "markdown",
   "metadata": {},
   "source": [
    "## Bitcoin USD (BTC-USD)"
   ]
  },
  {
   "cell_type": "code",
   "execution_count": 84,
   "metadata": {},
   "outputs": [
    {
     "name": "stdout",
     "output_type": "stream",
     "text": [
      "[*********************100%***********************]  1 of 1 downloaded\n"
     ]
    },
    {
     "data": {
      "text/html": [
       "<div>\n",
       "<style scoped>\n",
       "    .dataframe tbody tr th:only-of-type {\n",
       "        vertical-align: middle;\n",
       "    }\n",
       "\n",
       "    .dataframe tbody tr th {\n",
       "        vertical-align: top;\n",
       "    }\n",
       "\n",
       "    .dataframe thead th {\n",
       "        text-align: right;\n",
       "    }\n",
       "</style>\n",
       "<table border=\"1\" class=\"dataframe\">\n",
       "  <thead>\n",
       "    <tr style=\"text-align: right;\">\n",
       "      <th></th>\n",
       "      <th>Open</th>\n",
       "      <th>High</th>\n",
       "      <th>Low</th>\n",
       "      <th>Close</th>\n",
       "      <th>Adj Close</th>\n",
       "      <th>Volume</th>\n",
       "    </tr>\n",
       "    <tr>\n",
       "      <th>Date</th>\n",
       "      <th></th>\n",
       "      <th></th>\n",
       "      <th></th>\n",
       "      <th></th>\n",
       "      <th></th>\n",
       "      <th></th>\n",
       "    </tr>\n",
       "  </thead>\n",
       "  <tbody>\n",
       "    <tr>\n",
       "      <th>2020-12-13</th>\n",
       "      <td>18806.77</td>\n",
       "      <td>19381.54</td>\n",
       "      <td>18734.33</td>\n",
       "      <td>19142.38</td>\n",
       "      <td>19142.38</td>\n",
       "      <td>25450468637</td>\n",
       "    </tr>\n",
       "    <tr>\n",
       "      <th>2020-12-14</th>\n",
       "      <td>19144.49</td>\n",
       "      <td>19305.10</td>\n",
       "      <td>19012.71</td>\n",
       "      <td>19246.64</td>\n",
       "      <td>19246.64</td>\n",
       "      <td>22473997681</td>\n",
       "    </tr>\n",
       "    <tr>\n",
       "      <th>2020-12-15</th>\n",
       "      <td>19246.92</td>\n",
       "      <td>19525.01</td>\n",
       "      <td>19079.84</td>\n",
       "      <td>19417.08</td>\n",
       "      <td>19417.08</td>\n",
       "      <td>26741982541</td>\n",
       "    </tr>\n",
       "    <tr>\n",
       "      <th>2020-12-16</th>\n",
       "      <td>19418.82</td>\n",
       "      <td>21458.91</td>\n",
       "      <td>19298.32</td>\n",
       "      <td>21310.60</td>\n",
       "      <td>21310.60</td>\n",
       "      <td>44409011479</td>\n",
       "    </tr>\n",
       "    <tr>\n",
       "      <th>2020-12-17</th>\n",
       "      <td>21308.35</td>\n",
       "      <td>23642.66</td>\n",
       "      <td>21234.68</td>\n",
       "      <td>22805.16</td>\n",
       "      <td>22805.16</td>\n",
       "      <td>71378606374</td>\n",
       "    </tr>\n",
       "  </tbody>\n",
       "</table>\n",
       "</div>"
      ],
      "text/plain": [
       "                Open      High       Low     Close  Adj Close       Volume\n",
       "Date                                                                      \n",
       "2020-12-13  18806.77  19381.54  18734.33  19142.38   19142.38  25450468637\n",
       "2020-12-14  19144.49  19305.10  19012.71  19246.64   19246.64  22473997681\n",
       "2020-12-15  19246.92  19525.01  19079.84  19417.08   19417.08  26741982541\n",
       "2020-12-16  19418.82  21458.91  19298.32  21310.60   21310.60  44409011479\n",
       "2020-12-17  21308.35  23642.66  21234.68  22805.16   22805.16  71378606374"
      ]
     },
     "execution_count": 84,
     "metadata": {},
     "output_type": "execute_result"
    }
   ],
   "source": [
    "yf_df = yf.download(\"BTC-USD\", start=\"2017-01-01\", end=\"2020-12-18\")\n",
    "yf_df.tail()"
   ]
  },
  {
   "cell_type": "markdown",
   "metadata": {},
   "source": [
    "## US Dollar/USDX - Index - Cash (DX-Y.NYB)"
   ]
  },
  {
   "cell_type": "code",
   "execution_count": 85,
   "metadata": {},
   "outputs": [
    {
     "name": "stdout",
     "output_type": "stream",
     "text": [
      "[*********************100%***********************]  1 of 1 downloaded\n"
     ]
    },
    {
     "data": {
      "text/html": [
       "<div>\n",
       "<style scoped>\n",
       "    .dataframe tbody tr th:only-of-type {\n",
       "        vertical-align: middle;\n",
       "    }\n",
       "\n",
       "    .dataframe tbody tr th {\n",
       "        vertical-align: top;\n",
       "    }\n",
       "\n",
       "    .dataframe thead th {\n",
       "        text-align: right;\n",
       "    }\n",
       "</style>\n",
       "<table border=\"1\" class=\"dataframe\">\n",
       "  <thead>\n",
       "    <tr style=\"text-align: right;\">\n",
       "      <th></th>\n",
       "      <th>Open</th>\n",
       "      <th>High</th>\n",
       "      <th>Low</th>\n",
       "      <th>Close</th>\n",
       "      <th>Adj Close</th>\n",
       "      <th>Volume</th>\n",
       "    </tr>\n",
       "    <tr>\n",
       "      <th>Date</th>\n",
       "      <th></th>\n",
       "      <th></th>\n",
       "      <th></th>\n",
       "      <th></th>\n",
       "      <th></th>\n",
       "      <th></th>\n",
       "    </tr>\n",
       "  </thead>\n",
       "  <tbody>\n",
       "    <tr>\n",
       "      <th>2020-12-11</th>\n",
       "      <td>90.74</td>\n",
       "      <td>91.04</td>\n",
       "      <td>90.62</td>\n",
       "      <td>90.98</td>\n",
       "      <td>90.98</td>\n",
       "      <td>0</td>\n",
       "    </tr>\n",
       "    <tr>\n",
       "      <th>2020-12-14</th>\n",
       "      <td>90.98</td>\n",
       "      <td>90.98</td>\n",
       "      <td>90.42</td>\n",
       "      <td>90.72</td>\n",
       "      <td>90.72</td>\n",
       "      <td>0</td>\n",
       "    </tr>\n",
       "    <tr>\n",
       "      <th>2020-12-15</th>\n",
       "      <td>90.69</td>\n",
       "      <td>90.82</td>\n",
       "      <td>90.42</td>\n",
       "      <td>90.47</td>\n",
       "      <td>90.47</td>\n",
       "      <td>0</td>\n",
       "    </tr>\n",
       "    <tr>\n",
       "      <th>2020-12-16</th>\n",
       "      <td>90.49</td>\n",
       "      <td>90.70</td>\n",
       "      <td>90.13</td>\n",
       "      <td>90.45</td>\n",
       "      <td>90.45</td>\n",
       "      <td>0</td>\n",
       "    </tr>\n",
       "    <tr>\n",
       "      <th>2020-12-17</th>\n",
       "      <td>90.27</td>\n",
       "      <td>90.27</td>\n",
       "      <td>89.73</td>\n",
       "      <td>89.82</td>\n",
       "      <td>89.82</td>\n",
       "      <td>0</td>\n",
       "    </tr>\n",
       "  </tbody>\n",
       "</table>\n",
       "</div>"
      ],
      "text/plain": [
       "             Open   High    Low  Close  Adj Close  Volume\n",
       "Date                                                     \n",
       "2020-12-11  90.74  91.04  90.62  90.98      90.98       0\n",
       "2020-12-14  90.98  90.98  90.42  90.72      90.72       0\n",
       "2020-12-15  90.69  90.82  90.42  90.47      90.47       0\n",
       "2020-12-16  90.49  90.70  90.13  90.45      90.45       0\n",
       "2020-12-17  90.27  90.27  89.73  89.82      89.82       0"
      ]
     },
     "execution_count": 85,
     "metadata": {},
     "output_type": "execute_result"
    }
   ],
   "source": [
    "yf_df = yf.download(\"DX-Y.NYB\", start=\"2017-01-01\", end=\"2020-12-18\")\n",
    "yf_df.tail()"
   ]
  },
  {
   "cell_type": "markdown",
   "metadata": {},
   "source": [
    "# Gold Feb 21 (GC=F):"
   ]
  },
  {
   "cell_type": "code",
   "execution_count": 86,
   "metadata": {},
   "outputs": [
    {
     "name": "stdout",
     "output_type": "stream",
     "text": [
      "[*********************100%***********************]  1 of 1 downloaded\n"
     ]
    },
    {
     "data": {
      "text/html": [
       "<div>\n",
       "<style scoped>\n",
       "    .dataframe tbody tr th:only-of-type {\n",
       "        vertical-align: middle;\n",
       "    }\n",
       "\n",
       "    .dataframe tbody tr th {\n",
       "        vertical-align: top;\n",
       "    }\n",
       "\n",
       "    .dataframe thead th {\n",
       "        text-align: right;\n",
       "    }\n",
       "</style>\n",
       "<table border=\"1\" class=\"dataframe\">\n",
       "  <thead>\n",
       "    <tr style=\"text-align: right;\">\n",
       "      <th></th>\n",
       "      <th>Open</th>\n",
       "      <th>High</th>\n",
       "      <th>Low</th>\n",
       "      <th>Close</th>\n",
       "      <th>Adj Close</th>\n",
       "      <th>Volume</th>\n",
       "    </tr>\n",
       "    <tr>\n",
       "      <th>Date</th>\n",
       "      <th></th>\n",
       "      <th></th>\n",
       "      <th></th>\n",
       "      <th></th>\n",
       "      <th></th>\n",
       "      <th></th>\n",
       "    </tr>\n",
       "  </thead>\n",
       "  <tbody>\n",
       "    <tr>\n",
       "      <th>2020-12-11</th>\n",
       "      <td>1838.5</td>\n",
       "      <td>1846.0</td>\n",
       "      <td>1829.1</td>\n",
       "      <td>1839.8</td>\n",
       "      <td>1839.8</td>\n",
       "      <td>109</td>\n",
       "    </tr>\n",
       "    <tr>\n",
       "      <th>2020-12-14</th>\n",
       "      <td>1835.5</td>\n",
       "      <td>1835.7</td>\n",
       "      <td>1822.7</td>\n",
       "      <td>1828.7</td>\n",
       "      <td>1828.7</td>\n",
       "      <td>258</td>\n",
       "    </tr>\n",
       "    <tr>\n",
       "      <th>2020-12-15</th>\n",
       "      <td>1833.5</td>\n",
       "      <td>1853.6</td>\n",
       "      <td>1833.2</td>\n",
       "      <td>1852.3</td>\n",
       "      <td>1852.3</td>\n",
       "      <td>961</td>\n",
       "    </tr>\n",
       "    <tr>\n",
       "      <th>2020-12-16</th>\n",
       "      <td>1856.5</td>\n",
       "      <td>1864.7</td>\n",
       "      <td>1850.5</td>\n",
       "      <td>1856.1</td>\n",
       "      <td>1856.1</td>\n",
       "      <td>1090</td>\n",
       "    </tr>\n",
       "    <tr>\n",
       "      <th>2020-12-17</th>\n",
       "      <td>1874.2</td>\n",
       "      <td>1896.2</td>\n",
       "      <td>1874.2</td>\n",
       "      <td>1887.2</td>\n",
       "      <td>1887.2</td>\n",
       "      <td>1090</td>\n",
       "    </tr>\n",
       "  </tbody>\n",
       "</table>\n",
       "</div>"
      ],
      "text/plain": [
       "              Open    High     Low   Close  Adj Close  Volume\n",
       "Date                                                         \n",
       "2020-12-11  1838.5  1846.0  1829.1  1839.8     1839.8     109\n",
       "2020-12-14  1835.5  1835.7  1822.7  1828.7     1828.7     258\n",
       "2020-12-15  1833.5  1853.6  1833.2  1852.3     1852.3     961\n",
       "2020-12-16  1856.5  1864.7  1850.5  1856.1     1856.1    1090\n",
       "2020-12-17  1874.2  1896.2  1874.2  1887.2     1887.2    1090"
      ]
     },
     "execution_count": 86,
     "metadata": {},
     "output_type": "execute_result"
    }
   ],
   "source": [
    "yf_df = yf.download(\"GC=F\", start=\"2017-01-01\", end=\"2020-12-18\")\n",
    "yf_df.tail()"
   ]
  },
  {
   "cell_type": "markdown",
   "metadata": {},
   "source": [
    "# Importing Data from FXCM"
   ]
  },
  {
   "cell_type": "markdown",
   "metadata": {},
   "source": [
    "Import Packages & Establishing Connection"
   ]
  },
  {
   "cell_type": "markdown",
   "metadata": {},
   "source": [
    "<span style=color:red> Install fxcmpy:"
   ]
  },
  {
   "cell_type": "code",
   "execution_count": null,
   "metadata": {},
   "outputs": [],
   "source": [
    "# pip install fxcmpy\n",
    "# pip install fxcmpy --upgrade\n",
    "# pip install python-socketio==4.4.0"
   ]
  },
  {
   "cell_type": "code",
   "execution_count": 58,
   "metadata": {},
   "outputs": [
    {
     "data": {
      "text/plain": [
       "'1.2.6'"
      ]
     },
     "execution_count": 58,
     "metadata": {},
     "output_type": "execute_result"
    }
   ],
   "source": [
    "import fxcmpy\n",
    "fxcmpy.__version__"
   ]
  },
  {
   "cell_type": "code",
   "execution_count": 59,
   "metadata": {},
   "outputs": [
    {
     "data": {
      "text/plain": [
       "'4.4.0'"
      ]
     },
     "execution_count": 59,
     "metadata": {},
     "output_type": "execute_result"
    }
   ],
   "source": [
    "import socketio\n",
    "socketio.__version__"
   ]
  },
  {
   "cell_type": "code",
   "execution_count": 60,
   "metadata": {},
   "outputs": [
    {
     "name": "stdout",
     "output_type": "stream",
     "text": [
      "a9ba71bb2820bd6c89876ea354c6bc8077d81689\n"
     ]
    }
   ],
   "source": [
    "TOKEN = os.getenv(\"FXCM\")\n",
    "print(TOKEN)"
   ]
  },
  {
   "cell_type": "code",
   "execution_count": 61,
   "metadata": {},
   "outputs": [],
   "source": [
    "con = fxcmpy.fxcmpy(access_token=str(TOKEN), log_level='error', server='demo', log_file='log.txt')"
   ]
  },
  {
   "cell_type": "code",
   "execution_count": 62,
   "metadata": {},
   "outputs": [
    {
     "name": "stdout",
     "output_type": "stream",
     "text": [
      "['EUR/USD', 'USD/JPY', 'GBP/USD', 'USD/CHF', 'EUR/CHF', 'AUD/USD', 'USD/CAD', 'NZD/USD', 'EUR/GBP', 'EUR/JPY', 'GBP/JPY', 'CHF/JPY', 'GBP/CHF', 'EUR/AUD', 'EUR/CAD', 'AUD/CAD', 'AUD/JPY', 'CAD/JPY', 'NZD/JPY', 'GBP/CAD', 'GBP/NZD', 'GBP/AUD', 'AUD/NZD', 'USD/SEK', 'EUR/SEK', 'EUR/NOK', 'USD/NOK', 'USD/MXN', 'AUD/CHF', 'EUR/NZD', 'USD/ZAR', 'USD/HKD', 'ZAR/JPY', 'USD/TRY', 'EUR/TRY', 'NZD/CHF', 'CAD/CHF', 'NZD/CAD', 'TRY/JPY', 'USD/CNH', 'AUS200', 'ESP35', 'FRA40', 'GER30', 'HKG33', 'JPN225', 'NAS100', 'SPX500', 'UK100', 'US30', 'Copper', 'CHN50', 'EUSTX50', 'VOLX', 'USDOLLAR', 'US2000', 'INDIA50', 'USOil', 'UKOil', 'SOYF', 'NGAS', 'USOilSpot', 'UKOilSpot', 'WHEATF', 'CORNF', 'Bund', 'XAU/USD', 'XAG/USD', 'EMBasket', 'JPYBasket', 'BTC/USD', 'BCH/USD', 'ETH/USD', 'LTC/USD', 'XRP/USD', 'CryptoMajor', 'EOS/USD', 'XLM/USD', 'ESPORTS', 'BIOTECH', 'CANNABIS', 'FAANG', 'CHN.TECH', 'CHN.ECOMM', 'USEquities', 'AIRLINES', 'CASINOS', 'TRAVEL', 'US.ECOMM', 'US.BANKS', 'US.AUTO', 'WFH', 'BA.us', 'BAC.us', 'DIS.us', 'F.us', 'JPM.us', 'PFE.us', 'T.us', 'XOM.us', 'AAPL.us', 'AMZN.us', 'BIDU.us', 'FB.us', 'GOOG.us', 'INTC.us', 'MSFT.us', '', 'AI.fr', 'BNP.fr', 'AIR.fr', 'FP.fr', 'ORA.fr', 'MC.fr', 'RNO.fr', 'SAN.fr', 'ADS.de', 'ALV.de', 'BAYN.de', 'BMW.de', 'DAI.de', 'DBK.de', 'DPW.de', 'DTE.de', 'LHA.de', 'SAP.de', 'AZN.uk', 'BARC.uk', 'BATS.uk', 'BP.uk', 'GSK.uk', 'HSBA.uk', 'TSCO.uk', 'BABA.us', 'NFLX.us', 'TSLA.us', 'GLEN.uk', 'RDSB.uk', 'BYND.us', 'UBER.us', 'ZM.us', 'JD.us', 'PDD.us', 'TME.us', 'WB.us', 'BILI.us', 'NVDA.us']\n"
     ]
    }
   ],
   "source": [
    "print(con.get_instruments())"
   ]
  },
  {
   "cell_type": "markdown",
   "metadata": {},
   "source": [
    "## Gold:"
   ]
  },
  {
   "cell_type": "code",
   "execution_count": 63,
   "metadata": {},
   "outputs": [
    {
     "data": {
      "text/html": [
       "<div>\n",
       "<style scoped>\n",
       "    .dataframe tbody tr th:only-of-type {\n",
       "        vertical-align: middle;\n",
       "    }\n",
       "\n",
       "    .dataframe tbody tr th {\n",
       "        vertical-align: top;\n",
       "    }\n",
       "\n",
       "    .dataframe thead th {\n",
       "        text-align: right;\n",
       "    }\n",
       "</style>\n",
       "<table border=\"1\" class=\"dataframe\">\n",
       "  <thead>\n",
       "    <tr style=\"text-align: right;\">\n",
       "      <th></th>\n",
       "      <th>bidopen</th>\n",
       "      <th>bidclose</th>\n",
       "      <th>bidhigh</th>\n",
       "      <th>bidlow</th>\n",
       "      <th>askopen</th>\n",
       "      <th>askclose</th>\n",
       "      <th>askhigh</th>\n",
       "      <th>asklow</th>\n",
       "      <th>tickqty</th>\n",
       "    </tr>\n",
       "    <tr>\n",
       "      <th>date</th>\n",
       "      <th></th>\n",
       "      <th></th>\n",
       "      <th></th>\n",
       "      <th></th>\n",
       "      <th></th>\n",
       "      <th></th>\n",
       "      <th></th>\n",
       "      <th></th>\n",
       "      <th></th>\n",
       "    </tr>\n",
       "  </thead>\n",
       "  <tbody>\n",
       "    <tr>\n",
       "      <th>2020-12-14 22:00:00</th>\n",
       "      <td>1838.77</td>\n",
       "      <td>1826.67</td>\n",
       "      <td>1838.94</td>\n",
       "      <td>1818.57</td>\n",
       "      <td>1840.08</td>\n",
       "      <td>1827.84</td>\n",
       "      <td>1840.10</td>\n",
       "      <td>1819.18</td>\n",
       "      <td>395626</td>\n",
       "    </tr>\n",
       "    <tr>\n",
       "      <th>2020-12-15 22:00:00</th>\n",
       "      <td>1827.09</td>\n",
       "      <td>1853.13</td>\n",
       "      <td>1855.25</td>\n",
       "      <td>1825.39</td>\n",
       "      <td>1829.31</td>\n",
       "      <td>1854.21</td>\n",
       "      <td>1855.66</td>\n",
       "      <td>1825.76</td>\n",
       "      <td>368408</td>\n",
       "    </tr>\n",
       "    <tr>\n",
       "      <th>2020-12-16 22:00:00</th>\n",
       "      <td>1852.77</td>\n",
       "      <td>1863.94</td>\n",
       "      <td>1865.60</td>\n",
       "      <td>1844.64</td>\n",
       "      <td>1854.98</td>\n",
       "      <td>1864.99</td>\n",
       "      <td>1865.93</td>\n",
       "      <td>1845.03</td>\n",
       "      <td>483375</td>\n",
       "    </tr>\n",
       "    <tr>\n",
       "      <th>2020-12-17 22:00:00</th>\n",
       "      <td>1863.52</td>\n",
       "      <td>1884.95</td>\n",
       "      <td>1896.18</td>\n",
       "      <td>1861.88</td>\n",
       "      <td>1865.59</td>\n",
       "      <td>1886.21</td>\n",
       "      <td>1896.57</td>\n",
       "      <td>1862.31</td>\n",
       "      <td>449046</td>\n",
       "    </tr>\n",
       "    <tr>\n",
       "      <th>2020-12-18 22:00:00</th>\n",
       "      <td>1885.30</td>\n",
       "      <td>1879.22</td>\n",
       "      <td>1889.58</td>\n",
       "      <td>1877.32</td>\n",
       "      <td>1886.07</td>\n",
       "      <td>1879.64</td>\n",
       "      <td>1890.01</td>\n",
       "      <td>1877.67</td>\n",
       "      <td>350636</td>\n",
       "    </tr>\n",
       "  </tbody>\n",
       "</table>\n",
       "</div>"
      ],
      "text/plain": [
       "                     bidopen  bidclose  bidhigh   bidlow  askopen  askclose  \\\n",
       "date                                                                          \n",
       "2020-12-14 22:00:00  1838.77   1826.67  1838.94  1818.57  1840.08   1827.84   \n",
       "2020-12-15 22:00:00  1827.09   1853.13  1855.25  1825.39  1829.31   1854.21   \n",
       "2020-12-16 22:00:00  1852.77   1863.94  1865.60  1844.64  1854.98   1864.99   \n",
       "2020-12-17 22:00:00  1863.52   1884.95  1896.18  1861.88  1865.59   1886.21   \n",
       "2020-12-18 22:00:00  1885.30   1879.22  1889.58  1877.32  1886.07   1879.64   \n",
       "\n",
       "                     askhigh   asklow  tickqty  \n",
       "date                                            \n",
       "2020-12-14 22:00:00  1840.10  1819.18   395626  \n",
       "2020-12-15 22:00:00  1855.66  1825.76   368408  \n",
       "2020-12-16 22:00:00  1865.93  1845.03   483375  \n",
       "2020-12-17 22:00:00  1896.57  1862.31   449046  \n",
       "2020-12-18 22:00:00  1890.01  1877.67   350636  "
      ]
     },
     "execution_count": 63,
     "metadata": {},
     "output_type": "execute_result"
    }
   ],
   "source": [
    "start_data = datetime(2017,1,1)\n",
    "end_data = datetime(2020,12,18)\n",
    "timeframe = \"D1\"\n",
    "\n",
    "fxcm_df = con.get_candles('XAU/USD', period=timeframe, start=start_data, stop=end_data)\n",
    "fxcm_df.tail()"
   ]
  },
  {
   "cell_type": "markdown",
   "metadata": {},
   "source": [
    "## E-Mini S&P 500 Future:"
   ]
  },
  {
   "cell_type": "code",
   "execution_count": 74,
   "metadata": {},
   "outputs": [
    {
     "data": {
      "text/html": [
       "<div>\n",
       "<style scoped>\n",
       "    .dataframe tbody tr th:only-of-type {\n",
       "        vertical-align: middle;\n",
       "    }\n",
       "\n",
       "    .dataframe tbody tr th {\n",
       "        vertical-align: top;\n",
       "    }\n",
       "\n",
       "    .dataframe thead th {\n",
       "        text-align: right;\n",
       "    }\n",
       "</style>\n",
       "<table border=\"1\" class=\"dataframe\">\n",
       "  <thead>\n",
       "    <tr style=\"text-align: right;\">\n",
       "      <th></th>\n",
       "      <th>bidopen</th>\n",
       "      <th>bidclose</th>\n",
       "      <th>bidhigh</th>\n",
       "      <th>bidlow</th>\n",
       "      <th>askopen</th>\n",
       "      <th>askclose</th>\n",
       "      <th>askhigh</th>\n",
       "      <th>asklow</th>\n",
       "      <th>tickqty</th>\n",
       "    </tr>\n",
       "    <tr>\n",
       "      <th>date</th>\n",
       "      <th></th>\n",
       "      <th></th>\n",
       "      <th></th>\n",
       "      <th></th>\n",
       "      <th></th>\n",
       "      <th></th>\n",
       "      <th></th>\n",
       "      <th></th>\n",
       "      <th></th>\n",
       "    </tr>\n",
       "  </thead>\n",
       "  <tbody>\n",
       "    <tr>\n",
       "      <th>2020-12-14 22:00:00</th>\n",
       "      <td>3677.81</td>\n",
       "      <td>3651.59</td>\n",
       "      <td>3698.03</td>\n",
       "      <td>3645.06</td>\n",
       "      <td>3678.52</td>\n",
       "      <td>3651.97</td>\n",
       "      <td>3698.54</td>\n",
       "      <td>3645.77</td>\n",
       "      <td>75151</td>\n",
       "    </tr>\n",
       "    <tr>\n",
       "      <th>2020-12-15 22:00:00</th>\n",
       "      <td>3653.07</td>\n",
       "      <td>3694.36</td>\n",
       "      <td>3695.79</td>\n",
       "      <td>3643.04</td>\n",
       "      <td>3653.78</td>\n",
       "      <td>3694.74</td>\n",
       "      <td>3696.30</td>\n",
       "      <td>3643.55</td>\n",
       "      <td>73771</td>\n",
       "    </tr>\n",
       "    <tr>\n",
       "      <th>2020-12-16 22:00:00</th>\n",
       "      <td>3696.29</td>\n",
       "      <td>3701.45</td>\n",
       "      <td>3711.54</td>\n",
       "      <td>3687.01</td>\n",
       "      <td>3698.50</td>\n",
       "      <td>3701.83</td>\n",
       "      <td>3712.25</td>\n",
       "      <td>3687.52</td>\n",
       "      <td>75097</td>\n",
       "    </tr>\n",
       "    <tr>\n",
       "      <th>2020-12-17 22:00:00</th>\n",
       "      <td>3703.80</td>\n",
       "      <td>3722.96</td>\n",
       "      <td>3724.78</td>\n",
       "      <td>3699.55</td>\n",
       "      <td>3704.76</td>\n",
       "      <td>3723.34</td>\n",
       "      <td>3725.29</td>\n",
       "      <td>3700.26</td>\n",
       "      <td>62918</td>\n",
       "    </tr>\n",
       "    <tr>\n",
       "      <th>2020-12-18 22:00:00</th>\n",
       "      <td>3726.26</td>\n",
       "      <td>3694.04</td>\n",
       "      <td>3736.04</td>\n",
       "      <td>3693.51</td>\n",
       "      <td>3726.77</td>\n",
       "      <td>3694.75</td>\n",
       "      <td>3736.75</td>\n",
       "      <td>3694.02</td>\n",
       "      <td>53682</td>\n",
       "    </tr>\n",
       "  </tbody>\n",
       "</table>\n",
       "</div>"
      ],
      "text/plain": [
       "                     bidopen  bidclose  bidhigh   bidlow  askopen  askclose  \\\n",
       "date                                                                          \n",
       "2020-12-14 22:00:00  3677.81   3651.59  3698.03  3645.06  3678.52   3651.97   \n",
       "2020-12-15 22:00:00  3653.07   3694.36  3695.79  3643.04  3653.78   3694.74   \n",
       "2020-12-16 22:00:00  3696.29   3701.45  3711.54  3687.01  3698.50   3701.83   \n",
       "2020-12-17 22:00:00  3703.80   3722.96  3724.78  3699.55  3704.76   3723.34   \n",
       "2020-12-18 22:00:00  3726.26   3694.04  3736.04  3693.51  3726.77   3694.75   \n",
       "\n",
       "                     askhigh   asklow  tickqty  \n",
       "date                                            \n",
       "2020-12-14 22:00:00  3698.54  3645.77    75151  \n",
       "2020-12-15 22:00:00  3696.30  3643.55    73771  \n",
       "2020-12-16 22:00:00  3712.25  3687.52    75097  \n",
       "2020-12-17 22:00:00  3725.29  3700.26    62918  \n",
       "2020-12-18 22:00:00  3736.75  3694.02    53682  "
      ]
     },
     "execution_count": 74,
     "metadata": {},
     "output_type": "execute_result"
    }
   ],
   "source": [
    "start_data = datetime(2017,1,1)\n",
    "end_data = datetime(2020,12,18)\n",
    "timeframe = \"D1\"\n",
    "\n",
    "fxcm_df = con.get_candles('SPX500', period=timeframe, start=start_data, stop=end_data)\n",
    "fxcm_df.tail()"
   ]
  },
  {
   "cell_type": "markdown",
   "metadata": {},
   "source": [
    "## FXCM Dollar Index Basket"
   ]
  },
  {
   "cell_type": "markdown",
   "metadata": {},
   "source": [
    "Tracks the dollar against four major currencies: the euro, British pound, Japanese yen and Australian dollar. \n",
    "\n",
    "The ICE U.S. Dollar Index (USDX) is a futures contract that tracks the value of the greenback against six major currencies: the euro, Japanese yen, British pound, Canadian dollar, Swedish krona and Swiss franc. It bills itself as \"the world's most widely-recognized traded currency index.\""
   ]
  },
  {
   "cell_type": "code",
   "execution_count": 65,
   "metadata": {},
   "outputs": [
    {
     "data": {
      "text/html": [
       "<div>\n",
       "<style scoped>\n",
       "    .dataframe tbody tr th:only-of-type {\n",
       "        vertical-align: middle;\n",
       "    }\n",
       "\n",
       "    .dataframe tbody tr th {\n",
       "        vertical-align: top;\n",
       "    }\n",
       "\n",
       "    .dataframe thead th {\n",
       "        text-align: right;\n",
       "    }\n",
       "</style>\n",
       "<table border=\"1\" class=\"dataframe\">\n",
       "  <thead>\n",
       "    <tr style=\"text-align: right;\">\n",
       "      <th></th>\n",
       "      <th>bidopen</th>\n",
       "      <th>bidclose</th>\n",
       "      <th>bidhigh</th>\n",
       "      <th>bidlow</th>\n",
       "      <th>askopen</th>\n",
       "      <th>askclose</th>\n",
       "      <th>askhigh</th>\n",
       "      <th>asklow</th>\n",
       "      <th>tickqty</th>\n",
       "    </tr>\n",
       "    <tr>\n",
       "      <th>date</th>\n",
       "      <th></th>\n",
       "      <th></th>\n",
       "      <th></th>\n",
       "      <th></th>\n",
       "      <th></th>\n",
       "      <th></th>\n",
       "      <th></th>\n",
       "      <th></th>\n",
       "      <th></th>\n",
       "    </tr>\n",
       "  </thead>\n",
       "  <tbody>\n",
       "    <tr>\n",
       "      <th>2020-12-14 22:00:00</th>\n",
       "      <td>11786</td>\n",
       "      <td>11796</td>\n",
       "      <td>11809</td>\n",
       "      <td>11755</td>\n",
       "      <td>11793</td>\n",
       "      <td>11803</td>\n",
       "      <td>11811</td>\n",
       "      <td>11757</td>\n",
       "      <td>252418</td>\n",
       "    </tr>\n",
       "    <tr>\n",
       "      <th>2020-12-15 22:00:00</th>\n",
       "      <td>11796</td>\n",
       "      <td>11760</td>\n",
       "      <td>11813</td>\n",
       "      <td>11759</td>\n",
       "      <td>11804</td>\n",
       "      <td>11767</td>\n",
       "      <td>11815</td>\n",
       "      <td>11761</td>\n",
       "      <td>260050</td>\n",
       "    </tr>\n",
       "    <tr>\n",
       "      <th>2020-12-16 22:00:00</th>\n",
       "      <td>11760</td>\n",
       "      <td>11736</td>\n",
       "      <td>11778</td>\n",
       "      <td>11729</td>\n",
       "      <td>11768</td>\n",
       "      <td>11741</td>\n",
       "      <td>11780</td>\n",
       "      <td>11731</td>\n",
       "      <td>250119</td>\n",
       "    </tr>\n",
       "    <tr>\n",
       "      <th>2020-12-17 22:00:00</th>\n",
       "      <td>11736</td>\n",
       "      <td>11692</td>\n",
       "      <td>11743</td>\n",
       "      <td>11684</td>\n",
       "      <td>11740</td>\n",
       "      <td>11697</td>\n",
       "      <td>11745</td>\n",
       "      <td>11686</td>\n",
       "      <td>249194</td>\n",
       "    </tr>\n",
       "    <tr>\n",
       "      <th>2020-12-18 22:00:00</th>\n",
       "      <td>11692</td>\n",
       "      <td>11719</td>\n",
       "      <td>11732</td>\n",
       "      <td>11690</td>\n",
       "      <td>11697</td>\n",
       "      <td>11721</td>\n",
       "      <td>11734</td>\n",
       "      <td>11694</td>\n",
       "      <td>243261</td>\n",
       "    </tr>\n",
       "  </tbody>\n",
       "</table>\n",
       "</div>"
      ],
      "text/plain": [
       "                     bidopen  bidclose  bidhigh  bidlow  askopen  askclose  \\\n",
       "date                                                                         \n",
       "2020-12-14 22:00:00    11786     11796    11809   11755    11793     11803   \n",
       "2020-12-15 22:00:00    11796     11760    11813   11759    11804     11767   \n",
       "2020-12-16 22:00:00    11760     11736    11778   11729    11768     11741   \n",
       "2020-12-17 22:00:00    11736     11692    11743   11684    11740     11697   \n",
       "2020-12-18 22:00:00    11692     11719    11732   11690    11697     11721   \n",
       "\n",
       "                     askhigh  asklow  tickqty  \n",
       "date                                           \n",
       "2020-12-14 22:00:00    11811   11757   252418  \n",
       "2020-12-15 22:00:00    11815   11761   260050  \n",
       "2020-12-16 22:00:00    11780   11731   250119  \n",
       "2020-12-17 22:00:00    11745   11686   249194  \n",
       "2020-12-18 22:00:00    11734   11694   243261  "
      ]
     },
     "execution_count": 65,
     "metadata": {},
     "output_type": "execute_result"
    }
   ],
   "source": [
    "start_data = datetime(2017,1,1)\n",
    "end_data = datetime(2020,12,18)\n",
    "timeframe = \"D1\"\n",
    "\n",
    "fxcm_df = con.get_candles('USDOLLAR', period=timeframe, start=start_data, stop=end_data)\n",
    "fxcm_df.tail()"
   ]
  },
  {
   "cell_type": "markdown",
   "metadata": {},
   "source": [
    "## Bitcoin BTC:"
   ]
  },
  {
   "cell_type": "code",
   "execution_count": 66,
   "metadata": {},
   "outputs": [
    {
     "data": {
      "text/html": [
       "<div>\n",
       "<style scoped>\n",
       "    .dataframe tbody tr th:only-of-type {\n",
       "        vertical-align: middle;\n",
       "    }\n",
       "\n",
       "    .dataframe tbody tr th {\n",
       "        vertical-align: top;\n",
       "    }\n",
       "\n",
       "    .dataframe thead th {\n",
       "        text-align: right;\n",
       "    }\n",
       "</style>\n",
       "<table border=\"1\" class=\"dataframe\">\n",
       "  <thead>\n",
       "    <tr style=\"text-align: right;\">\n",
       "      <th></th>\n",
       "      <th>bidopen</th>\n",
       "      <th>bidclose</th>\n",
       "      <th>bidhigh</th>\n",
       "      <th>bidlow</th>\n",
       "      <th>askopen</th>\n",
       "      <th>askclose</th>\n",
       "      <th>askhigh</th>\n",
       "      <th>asklow</th>\n",
       "      <th>tickqty</th>\n",
       "    </tr>\n",
       "    <tr>\n",
       "      <th>date</th>\n",
       "      <th></th>\n",
       "      <th></th>\n",
       "      <th></th>\n",
       "      <th></th>\n",
       "      <th></th>\n",
       "      <th></th>\n",
       "      <th></th>\n",
       "      <th></th>\n",
       "      <th></th>\n",
       "    </tr>\n",
       "  </thead>\n",
       "  <tbody>\n",
       "    <tr>\n",
       "      <th>2020-12-14 22:00:00</th>\n",
       "      <td>19141.0</td>\n",
       "      <td>19183.0</td>\n",
       "      <td>19323.0</td>\n",
       "      <td>18966.0</td>\n",
       "      <td>19180.0</td>\n",
       "      <td>19222.0</td>\n",
       "      <td>19364.5</td>\n",
       "      <td>19003.0</td>\n",
       "      <td>334740</td>\n",
       "    </tr>\n",
       "    <tr>\n",
       "      <th>2020-12-15 22:00:00</th>\n",
       "      <td>19183.0</td>\n",
       "      <td>19409.2</td>\n",
       "      <td>19550.0</td>\n",
       "      <td>19021.0</td>\n",
       "      <td>19222.0</td>\n",
       "      <td>19448.0</td>\n",
       "      <td>19594.0</td>\n",
       "      <td>19062.0</td>\n",
       "      <td>323907</td>\n",
       "    </tr>\n",
       "    <tr>\n",
       "      <th>2020-12-16 22:00:00</th>\n",
       "      <td>19409.2</td>\n",
       "      <td>21195.0</td>\n",
       "      <td>21308.0</td>\n",
       "      <td>19265.5</td>\n",
       "      <td>19448.0</td>\n",
       "      <td>21235.0</td>\n",
       "      <td>21350.4</td>\n",
       "      <td>19299.0</td>\n",
       "      <td>366199</td>\n",
       "    </tr>\n",
       "    <tr>\n",
       "      <th>2020-12-17 22:00:00</th>\n",
       "      <td>21195.0</td>\n",
       "      <td>22776.0</td>\n",
       "      <td>23760.0</td>\n",
       "      <td>21195.0</td>\n",
       "      <td>21235.0</td>\n",
       "      <td>22801.5</td>\n",
       "      <td>23824.3</td>\n",
       "      <td>21235.0</td>\n",
       "      <td>543891</td>\n",
       "    </tr>\n",
       "    <tr>\n",
       "      <th>2020-12-18 22:00:00</th>\n",
       "      <td>22776.0</td>\n",
       "      <td>22722.0</td>\n",
       "      <td>23265.0</td>\n",
       "      <td>22336.0</td>\n",
       "      <td>22803.2</td>\n",
       "      <td>22762.8</td>\n",
       "      <td>23315.0</td>\n",
       "      <td>22381.0</td>\n",
       "      <td>389211</td>\n",
       "    </tr>\n",
       "  </tbody>\n",
       "</table>\n",
       "</div>"
      ],
      "text/plain": [
       "                     bidopen  bidclose  bidhigh   bidlow  askopen  askclose  \\\n",
       "date                                                                          \n",
       "2020-12-14 22:00:00  19141.0   19183.0  19323.0  18966.0  19180.0   19222.0   \n",
       "2020-12-15 22:00:00  19183.0   19409.2  19550.0  19021.0  19222.0   19448.0   \n",
       "2020-12-16 22:00:00  19409.2   21195.0  21308.0  19265.5  19448.0   21235.0   \n",
       "2020-12-17 22:00:00  21195.0   22776.0  23760.0  21195.0  21235.0   22801.5   \n",
       "2020-12-18 22:00:00  22776.0   22722.0  23265.0  22336.0  22803.2   22762.8   \n",
       "\n",
       "                     askhigh   asklow  tickqty  \n",
       "date                                            \n",
       "2020-12-14 22:00:00  19364.5  19003.0   334740  \n",
       "2020-12-15 22:00:00  19594.0  19062.0   323907  \n",
       "2020-12-16 22:00:00  21350.4  19299.0   366199  \n",
       "2020-12-17 22:00:00  23824.3  21235.0   543891  \n",
       "2020-12-18 22:00:00  23315.0  22381.0   389211  "
      ]
     },
     "execution_count": 66,
     "metadata": {},
     "output_type": "execute_result"
    }
   ],
   "source": [
    "start_data = datetime(2017,1,1)\n",
    "end_data = datetime(2020,12,18)\n",
    "timeframe = \"D1\"\n",
    "\n",
    "fxcm_df = con.get_candles('BTC/USD', period=timeframe, start=start_data, stop=end_data)\n",
    "fxcm_df.tail()"
   ]
  },
  {
   "cell_type": "markdown",
   "metadata": {},
   "source": [
    "### <span style=\"color:red\"> Disconnect:"
   ]
  },
  {
   "cell_type": "code",
   "execution_count": 75,
   "metadata": {},
   "outputs": [],
   "source": [
    "# Disconnect\n",
    "con.close()"
   ]
  },
  {
   "cell_type": "markdown",
   "metadata": {},
   "source": [
    "# Importing Data from Alpha Vantage"
   ]
  },
  {
   "cell_type": "code",
   "execution_count": 67,
   "metadata": {},
   "outputs": [],
   "source": [
    "import requests\n",
    "import json"
   ]
  },
  {
   "cell_type": "code",
   "execution_count": 68,
   "metadata": {},
   "outputs": [],
   "source": [
    "demo = \"8JM6BG1YFNGOXRGS\""
   ]
  },
  {
   "cell_type": "code",
   "execution_count": 69,
   "metadata": {},
   "outputs": [],
   "source": [
    "url = f\"https://www.alphavantage.co/query?function=DIGITAL_CURRENCY_MONTHLY&symbol=BTC&market=CNY&apikey={demo}\""
   ]
  },
  {
   "cell_type": "code",
   "execution_count": 70,
   "metadata": {},
   "outputs": [],
   "source": [
    "response_data = requests.get(url)   "
   ]
  },
  {
   "cell_type": "code",
   "execution_count": 71,
   "metadata": {},
   "outputs": [],
   "source": [
    "# response_content = response_data.content   \n",
    "# response_content"
   ]
  },
  {
   "cell_type": "code",
   "execution_count": 72,
   "metadata": {},
   "outputs": [],
   "source": [
    "data = response_data.json()"
   ]
  },
  {
   "cell_type": "code",
   "execution_count": 73,
   "metadata": {},
   "outputs": [
    {
     "data": {
      "text/plain": [
       "'{\\n                                                                                                    \"Meta Data\": {\\n                                                                                                                                                                                                        \"1. Information\": \"Monthly Prices and Volumes for Digital Currency\",\\n                                                                                                                                                                                                        \"2. Digital Currency Code\": \"BTC\",\\n                                                                                                                                                                                                        \"3. Digital Currency Name\": \"Bitcoin\",\\n                                                                                                                                                                                                        \"4. Market Code\": \"CNY\",\\n                                                                                                                                                                                                        \"5. Market Name\": \"Chinese Yuan\",\\n                                                                                                                                                                                                        \"6. Last Refreshed\": \"2020-12-18 00:00:00\",\\n                                                                                                                                                                                                        \"7. Time Zone\": \"UTC\"\\n                                                                                                    },\\n                                                                                                    \"Time Series (Digital Currency Monthly)\": {\\n                                                                                                                                                                                                        \"2020-12-18\": {\\n                                                                                                                                                                                                                                                                                                            \"1a. open (CNY)\": \"128684.93623200\",\\n                                                                                                                                                                                                                                                                                                            \"1b. open (USD)\": \"19695.87000000\",\\n                                                                                                                                                                                                                                                                                                            \"2a. high (CNY)\": \"155499.68000000\",\\n                                                                                                                                                                                                                                                                                                            \"2b. high (USD)\": \"23800.00000000\",\\n                                                                                                                                                                                                                                                                                                            \"3a. low (CNY)\": \"114810.57528800\",\\n                                                                                                                                                                                                                                                                                                            \"3b. low (USD)\": \"17572.33000000\",\\n                                                                                                                                                                                                                                                                                                            \"4a. close (CNY)\": \"148427.84203200\",\\n                                                                                                                                                                                                                                                                                                            \"4b. close (USD)\": \"22717.62000000\",\\n                                                                                                                                                                                                                                                                                                            \"5. volume\": \"1246645.25324000\",\\n                                                                                                                                                                                                                                                                                                            \"6. market cap (USD)\": \"1246645.25324000\"\\n                                                                                                                                                                                                        },\\n                                                                                                                                                                                                        \"2020-11-30\": {\\n                                                                                                                                                                                                                                                                                                            \"1a. open (CNY)\": \"90104.87760000\",\\n                                                                                                                                                                                                                                                                                                            \"1b. open (USD)\": \"13791.00000000\",\\n                                                                                                                                                                                                                                                                                                            \"2a. high (CNY)\": \"129777.94217600\",\\n                                                                                                                                                                                                                                                                                                            \"2b. high (USD)\": \"19863.16000000\",\\n                                                                                                                                                                                                                                                                                                            \"3a. low (CNY)\": \"86211.17868000\",\\n                                                                                                                                                                                                                                                                                                            \"3b. low (USD)\": \"13195.05000000\",\\n                                                                                                                                                                                                                                                                                                            \"4a. close (CNY)\": \"128684.93623200\",\\n                                                                                                                                                                                                                                                                                                            \"4b. close (USD)\": \"19695.87000000\",\\n                                                                                                                                                                                                                                                                                                            \"5. volume\": \"2707064.91117000\",\\n                                                                                                                                                                                                                                                                                                            \"6. market cap (USD)\": \"2707064.91117000\"\\n                                                                                                                                                                                                        },\\n                                                                                                                                                                                                        \"2020-10-31\": {\\n                                                                                                                                                                                                                                                                                                            \"1a. open (CNY)\": \"70409.92842400\",\\n                                                                                                                                                                                                                                                                                                            \"1b. open (USD)\": \"10776.59000000\",\\n                                                                                                                                                                                                                                                                                                            \"2a. high (CNY)\": \"92123.76000000\",\\n                                                                                                                                                                                                                                                                                                            \"2b. high (USD)\": \"14100.00000000\",\\n                                                                                                                                                                                                                                                                                                            \"3a. low (CNY)\": \"67779.56640000\",\\n                                                                                                                                                                                                                                                                                                            \"3b. low (USD)\": \"10374.00000000\",\\n                                                                                                                                                                                                                                                                                                            \"4a. close (CNY)\": \"90104.87760000\",\\n                                                                                                                                                                                                                                                                                                            \"4b. close (USD)\": \"13791.00000000\",\\n                                                                                                                                                                                                                                                                                                            \"5. volume\": \"1592619.95449000\",\\n                                                                                                                                                                                                                                                                                                            \"6. market cap (USD)\": \"1592619.95449000\"\\n                                                                                                                                                                                                        },\\n                                                                                                                                                                                                        \"2020-09-30\": {\\n                                                                                                                                                                                                                                                                                                            \"1a. open (CNY)\": \"76113.23853600\",\\n                                                                                                                                                                                                                                                                                                            \"1b. open (USD)\": \"11649.51000000\",\\n                                                                                                                                                                                                                                                                                                            \"2a. high (CNY)\": \"78735.43356000\",\\n                                                                                                                                                                                                                                                                                                            \"2b. high (USD)\": \"12050.85000000\",\\n                                                                                                                                                                                                                                                                                                            \"3a. low (CNY)\": \"64192.62000000\",\\n                                                                                                                                                                                                                                                                                                            \"3b. low (USD)\": \"9825.00000000\",\\n                                                                                                                                                                                                                                                                                                            \"4a. close (CNY)\": \"70409.92842400\",\\n                                                                                                                                                                                                                                                                                                            \"4b. close (USD)\": \"10776.59000000\",\\n                                                                                                                                                                                                                                                                                                            \"5. volume\": \"1730389.16018000\",\\n                                                                                                                                                                                                                                                                                                            \"6. market cap (USD)\": \"1730389.16018000\"\\n                                                                                                                                                                                                        },\\n                                                                                                                                                                                                        \"2020-08-31\": {\\n                                                                                                                                                                                                                                                                                                            \"1a. open (CNY)\": \"74061.36145600\",\\n                                                                                                                                                                                                                                                                                                            \"1b. open (USD)\": \"11335.46000000\",\\n                                                                                                                                                                                                                                                                                                            \"2a. high (CNY)\": \"81460.92480000\",\\n                                                                                                                                                                                                                                                                                                            \"2b. high (USD)\": \"12468.00000000\",\\n                                                                                                                                                                                                                                                                                                            \"3a. low (CNY)\": \"68723.67160000\",\\n                                                                                                                                                                                                                                                                                                            \"3b. low (USD)\": \"10518.50000000\",\\n                                                                                                                                                                                                                                                                                                            \"4a. close (CNY)\": \"76113.23853600\",\\n                                                                                                                                                                                                                                                                                                            \"4b. close (USD)\": \"11649.51000000\",\\n                                                                                                                                                                                                                                                                                                            \"5. volume\": \"1891193.00713000\",\\n                                                                                                                                                                                                                                                                                                            \"6. market cap (USD)\": \"1891193.00713000\"\\n                                                                                                                                                                                                        },\\n                                                                                                                                                                                                        \"2020-07-31\": {\\n                                                                                                                                                                                                                                                                                                            \"1a. open (CNY)\": \"59704.55948800\",\\n                                                                                                                                                                                                                                                                                                            \"1b. open (USD)\": \"9138.08000000\",\\n                                                                                                                                                                                                                                                                                                            \"2a. high (CNY)\": \"74770.51840000\",\\n                                                                                                                                                                                                                                                                                                            \"2b. high (USD)\": \"11444.00000000\",\\n                                                                                                                                                                                                                                                                                                            \"3a. low (CNY)\": \"58103.50080800\",\\n                                                                                                                                                                                                                                                                                                            \"3b. low (USD)\": \"8893.03000000\",\\n                                                                                                                                                                                                                                                                                                            \"4a. close (CNY)\": \"74061.36145600\",\\n                                                                                                                                                                                                                                                                                                            \"4b. close (USD)\": \"11335.46000000\",\\n                                                                                                                                                                                                                                                                                                            \"5. volume\": \"1507827.21494000\",\\n                                                                                                                                                                                                                                                                                                            \"6. market cap (USD)\": \"1507827.21494000\"\\n                                                                                                                                                                                                        },\\n                                                                                                                                                                                                        \"2020-06-30\": {\\n                                                                                                                                                                                                                                                                                                            \"1a. open (CNY)\": \"61731.21687200\",\\n                                                                                                                                                                                                                                                                                                            \"1b. open (USD)\": \"9448.27000000\",\\n                                                                                                                                                                                                                                                                                                            \"2a. high (CNY)\": \"67818.76800000\",\\n                                                                                                                                                                                                                                                                                                            \"2b. high (USD)\": \"10380.00000000\",\\n                                                                                                                                                                                                                                                                                                            \"3a. low (CNY)\": \"57711.28880000\",\\n                                                                                                                                                                                                                                                                                                            \"3b. low (USD)\": \"8833.00000000\",\\n                                                                                                                                                                                                                                                                                                            \"4a. close (CNY)\": \"59707.63028000\",\\n                                                                                                                                                                                                                                                                                                            \"4b. close (USD)\": \"9138.55000000\",\\n                                                                                                                                                                                                                                                                                                            \"5. volume\": \"1504745.51792000\",\\n                                                                                                                                                                                                                                                                                                            \"6. market cap (USD)\": \"1504745.51792000\"\\n                                                                                                                                                                                                        },\\n                                                                                                                                                                                                        \"2020-05-31\": {\\n                                                                                                                                                                                                                                                                                                            \"1a. open (CNY)\": \"56319.63200000\",\\n                                                                                                                                                                                                                                                                                                            \"1b. open (USD)\": \"8620.00000000\",\\n                                                                                                                                                                                                                                                                                                            \"2a. high (CNY)\": \"65773.75120000\",\\n                                                                                                                                                                                                                                                                                                            \"2b. high (USD)\": \"10067.00000000\",\\n                                                                                                                                                                                                                                                                                                            \"3a. low (CNY)\": \"53033.23120000\",\\n                                                                                                                                                                                                                                                                                                            \"3b. low (USD)\": \"8117.00000000\",\\n                                                                                                                                                                                                                                                                                                            \"4a. close (CNY)\": \"61731.21687200\",\\n                                                                                                                                                                                                                                                                                                            \"4b. close (USD)\": \"9448.27000000\",\\n                                                                                                                                                                                                                                                                                                            \"5. volume\": \"2685340.07851000\",\\n                                                                                                                                                                                                                                                                                                            \"6. market cap (USD)\": \"2685340.07851000\"\\n                                                                                                                                                                                                        },\\n                                                                                                                                                                                                        \"2020-04-30\": {\\n                                                                                                                                                                                                                                                                                                            \"1a. open (CNY)\": \"41894.35790400\",\\n                                                                                                                                                                                                                                                                                                            \"1b. open (USD)\": \"6412.14000000\",\\n                                                                                                                                                                                                                                                                                                            \"2a. high (CNY)\": \"61807.85600000\",\\n                                                                                                                                                                                                                                                                                                            \"2b. high (USD)\": \"9460.00000000\",\\n                                                                                                                                                                                                                                                                                                            \"3a. low (CNY)\": \"40182.35869600\",\\n                                                                                                                                                                                                                                                                                                            \"3b. low (USD)\": \"6150.11000000\",\\n                                                                                                                                                                                                                                                                                                            \"4a. close (CNY)\": \"56319.63200000\",\\n                                                                                                                                                                                                                                                                                                            \"4b. close (USD)\": \"8620.00000000\",\\n                                                                                                                                                                                                                                                                                                            \"5. volume\": \"2528373.69112000\",\\n                                                                                                                                                                                                                                                                                                            \"6. market cap (USD)\": \"2528373.69112000\"\\n                                                                                                                                                                                                        },\\n                                                                                                                                                                                                        \"2020-03-31\": {\\n                                                                                                                                                                                                                                                                                                            \"1a. open (CNY)\": \"55689.85829600\",\\n                                                                                                                                                                                                                                                                                                            \"1b. open (USD)\": \"8523.61000000\",\\n                                                                                                                                                                                                                                                                                                            \"2a. high (CNY)\": \"60030.71680000\",\\n                                                                                                                                                                                                                                                                                                            \"2b. high (USD)\": \"9188.00000000\",\\n                                                                                                                                                                                                                                                                                                            \"3a. low (CNY)\": \"24710.92456800\",\\n                                                                                                                                                                                                                                                                                                            \"3b. low (USD)\": \"3782.13000000\",\\n                                                                                                                                                                                                                                                                                                            \"4a. close (CNY)\": \"41883.25078400\",\\n                                                                                                                                                                                                                                                                                                            \"4b. close (USD)\": \"6410.44000000\",\\n                                                                                                                                                                                                                                                                                                            \"5. volume\": \"3789768.91313000\",\\n                                                                                                                                                                                                                                                                                                            \"6. market cap (USD)\": \"3789768.91313000\"\\n                                                                                                                                                                                                        },\\n                                                                                                                                                                                                        \"2020-02-29\": {\\n                                                                                                                                                                                                                                                                                                            \"1a. open (CNY)\": \"61100.33245600\",\\n                                                                                                                                                                                                                                                                                                            \"1b. open (USD)\": \"9351.71000000\",\\n                                                                                                                                                                                                                                                                                                            \"2a. high (CNY)\": \"68602.80000000\",\\n                                                                                                                                                                                                                                                                                                            \"2b. high (USD)\": \"10500.00000000\",\\n                                                                                                                                                                                                                                                                                                            \"3a. low (CNY)\": \"55176.25200000\",\\n                                                                                                                                                                                                                                                                                                            \"3b. low (USD)\": \"8445.00000000\",\\n                                                                                                                                                                                                                                                                                                            \"4a. close (CNY)\": \"55689.85829600\",\\n                                                                                                                                                                                                                                                                                                            \"4b. close (USD)\": \"8523.61000000\",\\n                                                                                                                                                                                                                                                                                                            \"5. volume\": \"1609726.15456000\",\\n                                                                                                                                                                                                                                                                                                            \"6. market cap (USD)\": \"1609726.15456000\"\\n                                                                                                                                                                                                        },\\n                                                                                                                                                                                                        \"2020-01-31\": {\\n                                                                                                                                                                                                                                                                                                            \"1a. open (CNY)\": \"47010.82006400\",\\n                                                                                                                                                                                                                                                                                                            \"1b. open (USD)\": \"7195.24000000\",\\n                                                                                                                                                                                                                                                                                                            \"2a. high (CNY)\": \"62578.82080000\",\\n                                                                                                                                                                                                                                                                                                            \"2b. high (USD)\": \"9578.00000000\",\\n                                                                                                                                                                                                                                                                                                            \"3a. low (CNY)\": \"44892.62694400\",\\n                                                                                                                                                                                                                                                                                                            \"3b. low (USD)\": \"6871.04000000\",\\n                                                                                                                                                                                                                                                                                                            \"4a. close (CNY)\": \"61108.04210400\",\\n                                                                                                                                                                                                                                                                                                            \"4b. close (USD)\": \"9352.89000000\",\\n                                                                                                                                                                                                                                                                                                            \"5. volume\": \"1691323.13778000\",\\n                                                                                                                                                                                                                                                                                                            \"6. market cap (USD)\": \"1691323.13778000\"\\n                                                                                                                                                                                                        },\\n                                                                                                                                                                                                        \"2019-12-31\": {\\n                                                                                                                                                                                                                                                                                                            \"1a. open (CNY)\": \"49267.46016800\",\\n                                                                                                                                                                                                                                                                                                            \"1b. open (USD)\": \"7540.63000000\",\\n                                                                                                                                                                                                                                                                                                            \"2a. high (CNY)\": \"50635.40000000\",\\n                                                                                                                                                                                                                                                                                                            \"2b. high (USD)\": \"7750.00000000\",\\n                                                                                                                                                                                                                                                                                                            \"3a. low (CNY)\": \"42043.71600000\",\\n                                                                                                                                                                                                                                                                                                            \"3b. low (USD)\": \"6435.00000000\",\\n                                                                                                                                                                                                                                                                                                            \"4a. close (CNY)\": \"47010.75472800\",\\n                                                                                                                                                                                                                                                                                                            \"4b. close (USD)\": \"7195.23000000\",\\n                                                                                                                                                                                                                                                                                                            \"5. volume\": \"1307026.46794000\",\\n                                                                                                                                                                                                                                                                                                            \"6. market cap (USD)\": \"1307026.46794000\"\\n                                                                                                                                                                                                        },\\n                                                                                                                                                                                                        \"2019-11-30\": {\\n                                                                                                                                                                                                                                                                                                            \"1a. open (CNY)\": \"59722.72289600\",\\n                                                                                                                                                                                                                                                                                                            \"1b. open (USD)\": \"9140.86000000\",\\n                                                                                                                                                                                                                                                                                                            \"2a. high (CNY)\": \"62158.57964800\",\\n                                                                                                                                                                                                                                                                                                            \"2b. high (USD)\": \"9513.68000000\",\\n                                                                                                                                                                                                                                                                                                            \"3a. low (CNY)\": \"42566.40400000\",\\n                                                                                                                                                                                                                                                                                                            \"3b. low (USD)\": \"6515.00000000\",\\n                                                                                                                                                                                                                                                                                                            \"4a. close (CNY)\": \"49275.69250400\",\\n                                                                                                                                                                                                                                                                                                            \"4b. close (USD)\": \"7541.89000000\",\\n                                                                                                                                                                                                                                                                                                            \"5. volume\": \"1499118.77500000\",\\n                                                                                                                                                                                                                                                                                                            \"6. market cap (USD)\": \"1499118.77500000\"\\n                                                                                                                                                                                                        },\\n                                                                                                                                                                                                        \"2019-10-31\": {\\n                                                                                                                                                                                                                                                                                                            \"1a. open (CNY)\": \"54163.34799200\",\\n                                                                                                                                                                                                                                                                                                            \"1b. open (USD)\": \"8289.97000000\",\\n                                                                                                                                                                                                                                                                                                            \"2a. high (CNY)\": \"67753.43200000\",\\n                                                                                                                                                                                                                                                                                                            \"2b. high (USD)\": \"10370.00000000\",\\n                                                                                                                                                                                                                                                                                                            \"3a. low (CNY)\": \"47695.28000000\",\\n                                                                                                                                                                                                                                                                                                            \"3b. low (USD)\": \"7300.00000000\",\\n                                                                                                                                                                                                                                                                                                            \"4a. close (CNY)\": \"59722.65756000\",\\n                                                                                                                                                                                                                                                                                                            \"4b. close (USD)\": \"9140.85000000\",\\n                                                                                                                                                                                                                                                                                                            \"5. volume\": \"1446755.85472000\",\\n                                                                                                                                                                                                                                                                                                            \"6. market cap (USD)\": \"1446755.85472000\"\\n                                                                                                                                                                                                        },\\n                                                                                                                                                                                                        \"2019-09-30\": {\\n                                                                                                                                                                                                                                                                                                            \"1a. open (CNY)\": \"62648.99166400\",\\n                                                                                                                                                                                                                                                                                                            \"1b. open (USD)\": \"9588.74000000\",\\n                                                                                                                                                                                                                                                                                                            \"2a. high (CNY)\": \"71254.59223200\",\\n                                                                                                                                                                                                                                                                                                            \"2b. high (USD)\": \"10905.87000000\",\\n                                                                                                                                                                                                                                                                                                            \"3a. low (CNY)\": \"50374.05600000\",\\n                                                                                                                                                                                                                                                                                                            \"3b. low (USD)\": \"7710.00000000\",\\n                                                                                                                                                                                                                                                                                                            \"4a. close (CNY)\": \"54159.23182400\",\\n                                                                                                                                                                                                                                                                                                            \"4b. close (USD)\": \"8289.34000000\",\\n                                                                                                                                                                                                                                                                                                            \"5. volume\": \"1116856.47584000\",\\n                                                                                                                                                                                                                                                                                                            \"6. market cap (USD)\": \"1116856.47584000\"\\n                                                                                                                                                                                                        },\\n                                                                                                                                                                                                        \"2019-08-31\": {\\n                                                                                                                                                                                                                                                                                                            \"1a. open (CNY)\": \"65862.15080800\",\\n                                                                                                                                                                                                                                                                                                            \"1b. open (USD)\": \"10080.53000000\",\\n                                                                                                                                                                                                                                                                                                            \"2a. high (CNY)\": \"80563.86152000\",\\n                                                                                                                                                                                                                                                                                                            \"2b. high (USD)\": \"12330.70000000\",\\n                                                                                                                                                                                                                                                                                                            \"3a. low (CNY)\": \"60893.15200000\",\\n                                                                                                                                                                                                                                                                                                            \"3b. low (USD)\": \"9320.00000000\",\\n                                                                                                                                                                                                                                                                                                            \"4a. close (CNY)\": \"62640.69399200\",\\n                                                                                                                                                                                                                                                                                                            \"4b. close (USD)\": \"9587.47000000\",\\n                                                                                                                                                                                                                                                                                                            \"5. volume\": \"1201961.57632000\",\\n                                                                                                                                                                                                                                                                                                            \"6. market cap (USD)\": \"1201961.57632000\"\\n                                                                                                                                                                                                        },\\n                                                                                                                                                                                                        \"2019-07-31\": {\\n                                                                                                                                                                                                                                                                                                            \"1a. open (CNY)\": \"70916.34776000\",\\n                                                                                                                                                                                                                                                                                                            \"1b. open (USD)\": \"10854.10000000\",\\n                                                                                                                                                                                                                                                                                                            \"2a. high (CNY)\": \"85897.76188800\",\\n                                                                                                                                                                                                                                                                                                            \"2b. high (USD)\": \"13147.08000000\",\\n                                                                                                                                                                                                                                                                                                            \"3a. low (CNY)\": \"59194.41600000\",\\n                                                                                                                                                                                                                                                                                                            \"3b. low (USD)\": \"9060.00000000\",\\n                                                                                                                                                                                                                                                                                                            \"4a. close (CNY)\": \"65862.15080800\",\\n                                                                                                                                                                                                                                                                                                            \"4b. close (USD)\": \"10080.53000000\",\\n                                                                                                                                                                                                                                                                                                            \"5. volume\": \"1886176.06591000\",\\n                                                                                                                                                                                                                                                                                                            \"6. market cap (USD)\": \"1886176.06591000\"\\n                                                                                                                                                                                                        },\\n                                                                                                                                                                                                        \"2019-06-30\": {\\n                                                                                                                                                                                                                                                                                                            \"1a. open (CNY)\": \"55894.94800000\",\\n                                                                                                                                                                                                                                                                                                            \"1b. open (USD)\": \"8555.00000000\",\\n                                                                                                                                                                                                                                                                                                            \"2a. high (CNY)\": \"91274.39200000\",\\n                                                                                                                                                                                                                                                                                                            \"2b. high (USD)\": \"13970.00000000\",\\n                                                                                                                                                                                                                                                                                                            \"3a. low (CNY)\": \"48639.90788800\",\\n                                                                                                                                                                                                                                                                                                            \"3b. low (USD)\": \"7444.58000000\",\\n                                                                                                                                                                                                                                                                                                            \"4a. close (CNY)\": \"70916.34776000\",\\n                                                                                                                                                                                                                                                                                                            \"4b. close (USD)\": \"10854.10000000\",\\n                                                                                                                                                                                                                                                                                                            \"5. volume\": \"1689489.64733000\",\\n                                                                                                                                                                                                                                                                                                            \"6. market cap (USD)\": \"1689489.64733000\"\\n                                                                                                                                                                                                        },\\n                                                                                                                                                                                                        \"2019-05-31\": {\\n                                                                                                                                                                                                                                                                                                            \"1a. open (CNY)\": \"34771.42718400\",\\n                                                                                                                                                                                                                                                                                                            \"1b. open (USD)\": \"5321.94000000\",\\n                                                                                                                                                                                                                                                                                                            \"2a. high (CNY)\": \"59287.58513600\",\\n                                                                                                                                                                                                                                                                                                            \"2b. high (USD)\": \"9074.26000000\",\\n                                                                                                                                                                                                                                                                                                            \"3a. low (CNY)\": \"34733.92432000\",\\n                                                                                                                                                                                                                                                                                                            \"3b. low (USD)\": \"5316.20000000\",\\n                                                                                                                                                                                                                                                                                                            \"4a. close (CNY)\": \"55894.94800000\",\\n                                                                                                                                                                                                                                                                                                            \"4b. close (USD)\": \"8555.00000000\",\\n                                                                                                                                                                                                                                                                                                            \"5. volume\": \"1498409.89023000\",\\n                                                                                                                                                                                                                                                                                                            \"6. market cap (USD)\": \"1498409.89023000\"\\n                                                                                                                                                                                                        },\\n                                                                                                                                                                                                        \"2019-04-30\": {\\n                                                                                                                                                                                                                                                                                                            \"1a. open (CNY)\": \"26803.70198400\",\\n                                                                                                                                                                                                                                                                                                            \"1b. open (USD)\": \"4102.44000000\",\\n                                                                                                                                                                                                                                                                                                            \"2a. high (CNY)\": \"36588.16000000\",\\n                                                                                                                                                                                                                                                                                                            \"2b. high (USD)\": \"5600.00000000\",\\n                                                                                                                                                                                                                                                                                                            \"3a. low (CNY)\": \"26572.15120000\",\\n                                                                                                                                                                                                                                                                                                            \"3b. low (USD)\": \"4067.00000000\",\\n                                                                                                                                                                                                                                                                                                            \"4a. close (CNY)\": \"34764.04421600\",\\n                                                                                                                                                                                                                                                                                                            \"4b. close (USD)\": \"5320.81000000\",\\n                                                                                                                                                                                                                                                                                                            \"5. volume\": \"1126961.31510000\",\\n                                                                                                                                                                                                                                                                                                            \"6. market cap (USD)\": \"1126961.31510000\"\\n                                                                                                                                                                                                        },\\n                                                                                                                                                                                                        \"2019-03-31\": {\\n                                                                                                                                                                                                                                                                                                            \"1a. open (CNY)\": \"24920.84913600\",\\n                                                                                                                                                                                                                                                                                                            \"1b. open (USD)\": \"3814.26000000\",\\n                                                                                                                                                                                                                                                                                                            \"2a. high (CNY)\": \"27049.10400000\",\\n                                                                                                                                                                                                                                                                                                            \"2b. high (USD)\": \"4140.00000000\",\\n                                                                                                                                                                                                                                                                                                            \"3a. low (CNY)\": \"23982.82018400\",\\n                                                                                                                                                                                                                                                                                                            \"3b. low (USD)\": \"3670.69000000\",\\n                                                                                                                                                                                                                                                                                                            \"4a. close (CNY)\": \"26813.56772000\",\\n                                                                                                                                                                                                                                                                                                            \"4b. close (USD)\": \"4103.95000000\",\\n                                                                                                                                                                                                                                                                                                            \"5. volume\": \"787190.48925000\",\\n                                                                                                                                                                                                                                                                                                            \"6. market cap (USD)\": \"787190.48925000\"\\n                                                                                                                                                                                                        },\\n                                                                                                                                                                                                        \"2019-02-28\": {\\n                                                                                                                                                                                                                                                                                                            \"1a. open (CNY)\": \"22437.03576000\",\\n                                                                                                                                                                                                                                                                                                            \"1b. open (USD)\": \"3434.10000000\",\\n                                                                                                                                                                                                                                                                                                            \"2a. high (CNY)\": \"27428.05280000\",\\n                                                                                                                                                                                                                                                                                                            \"2b. high (USD)\": \"4198.00000000\",\\n                                                                                                                                                                                                                                                                                                            \"3a. low (CNY)\": \"22038.48616000\",\\n                                                                                                                                                                                                                                                                                                            \"3b. low (USD)\": \"3373.10000000\",\\n                                                                                                                                                                                                                                                                                                            \"4a. close (CNY)\": \"24917.12498400\",\\n                                                                                                                                                                                                                                                                                                            \"4b. close (USD)\": \"3813.69000000\",\\n                                                                                                                                                                                                                                                                                                            \"5. volume\": \"861783.98672700\",\\n                                                                                                                                                                                                                                                                                                            \"6. market cap (USD)\": \"861783.98672700\"\\n                                                                                                                                                                                                        },\\n                                                                                                                                                                                                        \"2019-01-31\": {\\n                                                                                                                                                                                                                                                                                                            \"1a. open (CNY)\": \"24182.35632800\",\\n                                                                                                                                                                                                                                                                                                            \"1b. open (USD)\": \"3701.23000000\",\\n                                                                                                                                                                                                                                                                                                            \"2a. high (CNY)\": \"26590.44528000\",\\n                                                                                                                                                                                                                                                                                                            \"2b. high (USD)\": \"4069.80000000\",\\n                                                                                                                                                                                                                                                                                                            \"3a. low (CNY)\": \"21887.03731200\",\\n                                                                                                                                                                                                                                                                                                            \"3b. low (USD)\": \"3349.92000000\",\\n                                                                                                                                                                                                                                                                                                            \"4a. close (CNY)\": \"22437.03576000\",\\n                                                                                                                                                                                                                                                                                                            \"4b. close (USD)\": \"3434.10000000\",\\n                                                                                                                                                                                                                                                                                                            \"5. volume\": \"908244.14054000\",\\n                                                                                                                                                                                                                                                                                                            \"6. market cap (USD)\": \"908244.14054000\"\\n                                                                                                                                                                                                        },\\n                                                                                                                                                                                                        \"2018-12-31\": {\\n                                                                                                                                                                                                                                                                                                            \"1a. open (CNY)\": \"26404.04167200\",\\n                                                                                                                                                                                                                                                                                                            \"1b. open (USD)\": \"4041.27000000\",\\n                                                                                                                                                                                                                                                                                                            \"2a. high (CNY)\": \"28179.35146400\",\\n                                                                                                                                                                                                                                                                                                            \"2b. high (USD)\": \"4312.99000000\",\\n                                                                                                                                                                                                                                                                                                            \"3a. low (CNY)\": \"20621.74033600\",\\n                                                                                                                                                                                                                                                                                                            \"3b. low (USD)\": \"3156.26000000\",\\n                                                                                                                                                                                                                                                                                                            \"4a. close (CNY)\": \"24193.26744000\",\\n                                                                                                                                                                                                                                                                                                            \"4b. close (USD)\": \"3702.90000000\",\\n                                                                                                                                                                                                                                                                                                            \"5. volume\": \"1591229.14717000\",\\n                                                                                                                                                                                                                                                                                                            \"6. market cap (USD)\": \"1591229.14717000\"\\n                                                                                                                                                                                                        },\\n                                                                                                                                                                                                        \"2018-11-30\": {\\n                                                                                                                                                                                                                                                                                                            \"1a. open (CNY)\": \"41615.89587200\",\\n                                                                                                                                                                                                                                                                                                            \"1b. open (USD)\": \"6369.52000000\",\\n                                                                                                                                                                                                                                                                                                            \"2a. high (CNY)\": \"43220.74404000\",\\n                                                                                                                                                                                                                                                                                                            \"2b. high (USD)\": \"6615.15000000\",\\n                                                                                                                                                                                                                                                                                                            \"3a. low (CNY)\": \"23865.01937600\",\\n                                                                                                                                                                                                                                                                                                            \"3b. low (USD)\": \"3652.66000000\",\\n                                                                                                                                                                                                                                                                                                            \"4a. close (CNY)\": \"26404.36835200\",\\n                                                                                                                                                                                                                                                                                                            \"4b. close (USD)\": \"4041.32000000\",\\n                                                                                                                                                                                                                                                                                                            \"5. volume\": \"1210365.44962000\",\\n                                                                                                                                                                                                                                                                                                            \"6. market cap (USD)\": \"1210365.44962000\"\\n                                                                                                                                                                                                        },\\n                                                                                                                                                                                                        \"2018-10-31\": {\\n                                                                                                                                                                                                                                                                                                            \"1a. open (CNY)\": \"43295.35775200\",\\n                                                                                                                                                                                                                                                                                                            \"1b. open (USD)\": \"6626.57000000\",\\n                                                                                                                                                                                                                                                                                                            \"2a. high (CNY)\": \"50178.04800000\",\\n                                                                                                                                                                                                                                                                                                            \"2b. high (USD)\": \"7680.00000000\",\\n                                                                                                                                                                                                                                                                                                            \"3a. low (CNY)\": \"40540.98800000\",\\n                                                                                                                                                                                                                                                                                                            \"3b. low (USD)\": \"6205.00000000\",\\n                                                                                                                                                                                                                                                                                                            \"4a. close (CNY)\": \"41631.64184800\",\\n                                                                                                                                                                                                                                                                                                            \"4b. close (USD)\": \"6371.93000000\",\\n                                                                                                                                                                                                                                                                                                            \"5. volume\": \"629922.08621900\",\\n                                                                                                                                                                                                                                                                                                            \"6. market cap (USD)\": \"629922.08621900\"\\n                                                                                                                                                                                                        },\\n                                                                                                                                                                                                        \"2018-09-30\": {\\n                                                                                                                                                                                                                                                                                                            \"1a. open (CNY)\": \"45808.44165600\",\\n                                                                                                                                                                                                                                                                                                            \"1b. open (USD)\": \"7011.21000000\",\\n                                                                                                                                                                                                                                                                                                            \"2a. high (CNY)\": \"48413.97600000\",\\n                                                                                                                                                                                                                                                                                                            \"2b. high (USD)\": \"7410.00000000\",\\n                                                                                                                                                                                                                                                                                                            \"3a. low (CNY)\": \"39926.82960000\",\\n                                                                                                                                                                                                                                                                                                            \"3b. low (USD)\": \"6111.00000000\",\\n                                                                                                                                                                                                                                                                                                            \"4a. close (CNY)\": \"43295.35775200\",\\n                                                                                                                                                                                                                                                                                                            \"4b. close (USD)\": \"6626.57000000\",\\n                                                                                                                                                                                                                                                                                                            \"5. volume\": \"1100653.42331000\",\\n                                                                                                                                                                                                                                                                                                            \"6. market cap (USD)\": \"1100653.42331000\"\\n                                                                                                                                                                                                        },\\n                                                                                                                                                                                                        \"2018-08-31\": {\\n                                                                                                                                                                                                                                                                                                            \"1a. open (CNY)\": \"50541.77351200\",\\n                                                                                                                                                                                                                                                                                                            \"1b. open (USD)\": \"7735.67000000\",\\n                                                                                                                                                                                                                                                                                                            \"2a. high (CNY)\": \"50635.40000000\",\\n                                                                                                                                                                                                                                                                                                            \"2b. high (USD)\": \"7750.00000000\",\\n                                                                                                                                                                                                                                                                                                            \"3a. low (CNY)\": \"38417.56800000\",\\n                                                                                                                                                                                                                                                                                                            \"3b. low (USD)\": \"5880.00000000\",\\n                                                                                                                                                                                                                                                                                                            \"4a. close (CNY)\": \"45808.44165600\",\\n                                                                                                                                                                                                                                                                                                            \"4b. close (USD)\": \"7011.21000000\",\\n                                                                                                                                                                                                                                                                                                            \"5. volume\": \"1408159.81656000\",\\n                                                                                                                                                                                                                                                                                                            \"6. market cap (USD)\": \"1408159.81656000\"\\n                                                                                                                                                                                                        },\\n                                                                                                                                                                                                        \"2018-07-31\": {\\n                                                                                                                                                                                                                                                                                                            \"1a. open (CNY)\": \"41756.76028800\",\\n                                                                                                                                                                                                                                                                                                            \"1b. open (USD)\": \"6391.08000000\",\\n                                                                                                                                                                                                                                                                                                            \"2a. high (CNY)\": \"55481.82847200\",\\n                                                                                                                                                                                                                                                                                                            \"2b. high (USD)\": \"8491.77000000\",\\n                                                                                                                                                                                                                                                                                                            \"3a. low (CNY)\": \"39658.95200000\",\\n                                                                                                                                                                                                                                                                                                            \"3b. low (USD)\": \"6070.00000000\",\\n                                                                                                                                                                                                                                                                                                            \"4a. close (CNY)\": \"50510.80424800\",\\n                                                                                                                                                                                                                                                                                                            \"4b. close (USD)\": \"7730.93000000\",\\n                                                                                                                                                                                                                                                                                                            \"5. volume\": \"1102510.43679000\",\\n                                                                                                                                                                                                                                                                                                            \"6. market cap (USD)\": \"1102510.43679000\"\\n                                                                                                                                                                                                        },\\n                                                                                                                                                                                                        \"2018-06-30\": {\\n                                                                                                                                                                                                                                                                                                            \"1a. open (CNY)\": \"48904.06133600\",\\n                                                                                                                                                                                                                                                                                                            \"1b. open (USD)\": \"7485.01000000\",\\n                                                                                                                                                                                                                                                                                                            \"2a. high (CNY)\": \"50875.11778400\",\\n                                                                                                                                                                                                                                                                                                            \"2b. high (USD)\": \"7786.69000000\",\\n                                                                                                                                                                                                                                                                                                            \"3a. low (CNY)\": \"37568.20000000\",\\n                                                                                                                                                                                                                                                                                                            \"3b. low (USD)\": \"5750.00000000\",\\n                                                                                                                                                                                                                                                                                                            \"4a. close (CNY)\": \"41750.16135200\",\\n                                                                                                                                                                                                                                                                                                            \"4b. close (USD)\": \"6390.07000000\",\\n                                                                                                                                                                                                                                                                                                            \"5. volume\": \"942249.76594400\",\\n                                                                                                                                                                                                                                                                                                            \"6. market cap (USD)\": \"942249.76594400\"\\n                                                                                                                                                                                                        },\\n                                                                                                                                                                                                        \"2018-05-31\": {\\n                                                                                                                                                                                                                                                                                                            \"1a. open (CNY)\": \"60409.73093600\",\\n                                                                                                                                                                                                                                                                                                            \"1b. open (USD)\": \"9246.01000000\",\\n                                                                                                                                                                                                                                                                                                            \"2a. high (CNY)\": \"65466.67200000\",\\n                                                                                                                                                                                                                                                                                                            \"2b. high (USD)\": \"10020.00000000\",\\n                                                                                                                                                                                                                                                                                                            \"3a. low (CNY)\": \"45950.48212000\",\\n                                                                                                                                                                                                                                                                                                            \"3b. low (USD)\": \"7032.95000000\",\\n                                                                                                                                                                                                                                                                                                            \"4a. close (CNY)\": \"48904.06133600\",\\n                                                                                                                                                                                                                                                                                                            \"4b. close (USD)\": \"7485.01000000\",\\n                                                                                                                                                                                                                                                                                                            \"5. volume\": \"914476.37788500\",\\n                                                                                                                                                                                                                                                                                                            \"6. market cap (USD)\": \"914476.37788500\"\\n                                                                                                                                                                                                        },\\n                                                                                                                                                                                                        \"2018-04-30\": {\\n                                                                                                                                                                                                                                                                                                            \"1a. open (CNY)\": \"45225.57920000\",\\n                                                                                                                                                                                                                                                                                                            \"1b. open (USD)\": \"6922.00000000\",\\n                                                                                                                                                                                                                                                                                                            \"2a. high (CNY)\": \"63766.75995200\",\\n                                                                                                                                                                                                                                                                                                            \"2b. high (USD)\": \"9759.82000000\",\\n                                                                                                                                                                                                                                                                                                            \"3a. low (CNY)\": \"42011.04800000\",\\n                                                                                                                                                                                                                                                                                                            \"3b. low (USD)\": \"6430.00000000\",\\n                                                                                                                                                                                                                                                                                                            \"4a. close (CNY)\": \"60409.73093600\",\\n                                                                                                                                                                                                                                                                                                            \"4b. close (USD)\": \"9246.01000000\",\\n                                                                                                                                                                                                                                                                                                            \"5. volume\": \"1110964.01558000\",\\n                                                                                                                                                                                                                                                                                                            \"6. market cap (USD)\": \"1110964.01558000\"\\n                                                                                                                                                                                                        }\\n                                                                                                    }\\n}'"
      ]
     },
     "execution_count": 73,
     "metadata": {},
     "output_type": "execute_result"
    }
   ],
   "source": [
    "json.dumps(data, indent=100)"
   ]
  },
  {
   "cell_type": "code",
   "execution_count": null,
   "metadata": {},
   "outputs": [],
   "source": []
  }
 ],
 "metadata": {
  "kernelspec": {
   "display_name": "Python [conda env:quantenv] *",
   "language": "python",
   "name": "conda-env-quantenv-py"
  },
  "language_info": {
   "codemirror_mode": {
    "name": "ipython",
    "version": 3
   },
   "file_extension": ".py",
   "mimetype": "text/x-python",
   "name": "python",
   "nbconvert_exporter": "python",
   "pygments_lexer": "ipython3",
   "version": "3.6.8"
  }
 },
 "nbformat": 4,
 "nbformat_minor": 4
}
