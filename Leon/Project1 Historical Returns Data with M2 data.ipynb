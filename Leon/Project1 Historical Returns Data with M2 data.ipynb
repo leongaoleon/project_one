{
 "cells": [
  {
   "cell_type": "markdown",
   "metadata": {},
   "source": [
    "## Initial Import:"
   ]
  },
  {
   "cell_type": "code",
   "execution_count": 60,
   "metadata": {},
   "outputs": [],
   "source": [
    "import pandas as pd\n",
    "from datetime import datetime\n",
    "import os    \n",
    "from dotenv  import load_dotenv\n",
    "from pathlib import Path\n",
    "%matplotlib inline"
   ]
  },
  {
   "cell_type": "markdown",
   "metadata": {},
   "source": [
    "## Importing Data from Yahoo Finance and Checking Data Quality:"
   ]
  },
  {
   "cell_type": "markdown",
   "metadata": {},
   "source": [
    "##### **<span style=color:red>  Install yfinance:**"
   ]
  },
  {
   "cell_type": "code",
   "execution_count": 61,
   "metadata": {},
   "outputs": [],
   "source": [
    "# !pip install yfinance\n",
    "import yfinance as yf"
   ]
  },
  {
   "cell_type": "markdown",
   "metadata": {},
   "source": [
    "### U.S. Dollar Index (USDX) Futures Contract (DX=F):"
   ]
  },
  {
   "cell_type": "code",
   "execution_count": 62,
   "metadata": {},
   "outputs": [
    {
     "name": "stdout",
     "output_type": "stream",
     "text": [
      "[*********************100%***********************]  1 of 1 downloaded\n",
      "Open         float64\n",
      "High         float64\n",
      "Low          float64\n",
      "Close        float64\n",
      "Adj Close    float64\n",
      "Volume         int64\n",
      "dtype: object\n",
      "\n",
      "\n",
      "(1000, 6)\n",
      "\n",
      "\n",
      "Empty DataFrame\n",
      "Columns: [Open, High, Low, Close, Adj Close, Volume]\n",
      "Index: []\n",
      "\n",
      "\n",
      "Open         0\n",
      "High         0\n",
      "Low          0\n",
      "Close        0\n",
      "Adj Close    0\n",
      "Volume       0\n",
      "dtype: int64\n",
      "\n",
      "\n",
      "             Open   High    Low  Close  Adj Close  Volume\n",
      "Date                                                     \n",
      "2020-12-21  90.04  90.95  89.93  89.95      89.95   39253\n",
      "2020-12-22  90.10  90.62  89.95  90.55      90.55   21871\n",
      "2020-12-23  90.54  90.58  90.05  90.34      90.34   27553\n",
      "2020-12-28  90.26  90.32  89.89  90.28      90.28   10826\n",
      "2020-12-30  89.86  89.90  89.67  89.71      89.71    6347\n"
     ]
    }
   ],
   "source": [
    "yf_dollar_df = yf.download(\"DX=F\", start=\"2017-01-01\", end=\"2020-12-31\")\n",
    "\n",
    "# Checking Data Quality:\n",
    "print(yf_dollar_df.dtypes)\n",
    "print(\"\\n\")\n",
    "print(yf_dollar_df.shape)\n",
    "print(\"\\n\")\n",
    "print(yf_dollar_df[yf_dollar_df.duplicated(keep=False)]) #False: Mark all duplicates as True\n",
    "print(\"\\n\")\n",
    "print(yf_dollar_df.isnull().sum())\n",
    "print(\"\\n\")\n",
    "print(yf_dollar_df.tail())"
   ]
  },
  {
   "cell_type": "markdown",
   "metadata": {},
   "source": [
    "### Gold Futures Contract (GC=F):"
   ]
  },
  {
   "cell_type": "code",
   "execution_count": 63,
   "metadata": {},
   "outputs": [
    {
     "name": "stdout",
     "output_type": "stream",
     "text": [
      "[*********************100%***********************]  1 of 1 downloaded\n",
      "Open         float64\n",
      "High         float64\n",
      "Low          float64\n",
      "Close        float64\n",
      "Adj Close    float64\n",
      "Volume         int64\n",
      "dtype: object\n",
      "\n",
      "\n",
      "(1079, 6)\n",
      "\n",
      "\n",
      "Empty DataFrame\n",
      "Columns: [Open, High, Low, Close, Adj Close, Volume]\n",
      "Index: []\n",
      "\n",
      "\n",
      "Open         0\n",
      "High         0\n",
      "Low          0\n",
      "Close        0\n",
      "Adj Close    0\n",
      "Volume       0\n",
      "dtype: int64\n",
      "\n",
      "\n",
      "              Open    High     Low   Close  Adj Close  Volume\n",
      "Date                                                         \n",
      "2020-12-22  1882.2  1882.2  1861.0  1866.6     1866.6     233\n",
      "2020-12-23  1867.0  1878.8  1864.5  1874.7     1874.7      82\n",
      "2020-12-28  1895.5  1895.8  1873.7  1877.2     1877.2      75\n",
      "2020-12-29  1881.3  1881.3  1879.7  1879.7     1879.7      75\n",
      "2020-12-30  1881.8  1890.1  1880.6  1882.0     1882.0   37902\n"
     ]
    }
   ],
   "source": [
    "yf_gold_df = yf.download(\"GC=F\", start=\"2017-01-01\", end=\"2020-12-31\")\n",
    "\n",
    "# Checking Data Quality:\n",
    "print(yf_gold_df.dtypes)\n",
    "print(\"\\n\")\n",
    "print(yf_gold_df.shape)\n",
    "print(\"\\n\")\n",
    "print(yf_gold_df[yf_gold_df.duplicated(keep=False)]) #False: Mark all duplicates as True\n",
    "print(\"\\n\")\n",
    "print(yf_gold_df.isnull().sum())\n",
    "print(\"\\n\")\n",
    "print(yf_gold_df.tail())"
   ]
  },
  {
   "cell_type": "markdown",
   "metadata": {},
   "source": [
    "### Bitcoin USD (BTC-USD):"
   ]
  },
  {
   "cell_type": "code",
   "execution_count": 64,
   "metadata": {},
   "outputs": [
    {
     "name": "stdout",
     "output_type": "stream",
     "text": [
      "[*********************100%***********************]  1 of 1 downloaded\n"
     ]
    }
   ],
   "source": [
    "yf_cyindex_df = yf.download(\"CMI10.SW\", start=\"2017-01-01\", end=\"2020-12-31\")"
   ]
  },
  {
   "cell_type": "code",
   "execution_count": 65,
   "metadata": {},
   "outputs": [
    {
     "name": "stdout",
     "output_type": "stream",
     "text": [
      "[*********************100%***********************]  1 of 1 downloaded\n",
      "Open         float64\n",
      "High         float64\n",
      "Low          float64\n",
      "Close        float64\n",
      "Adj Close    float64\n",
      "Volume         int64\n",
      "dtype: object\n",
      "\n",
      "\n",
      "(1461, 6)\n",
      "\n",
      "\n",
      "Empty DataFrame\n",
      "Columns: [Open, High, Low, Close, Adj Close, Volume]\n",
      "Index: []\n",
      "\n",
      "\n",
      "Open         0\n",
      "High         0\n",
      "Low          0\n",
      "Close        0\n",
      "Adj Close    0\n",
      "Volume       0\n",
      "dtype: int64\n",
      "\n",
      "\n",
      "                Open      High       Low     Close  Adj Close       Volume\n",
      "Date                                                                      \n",
      "2020-12-26  24677.02  26718.07  24522.69  26437.04   26437.04  48332647295\n",
      "2020-12-27  26439.37  28288.84  25922.77  26272.29   26272.29  66479895605\n",
      "2020-12-28  26280.82  27389.11  26207.64  27084.81   27084.81  49056742893\n",
      "2020-12-29  27081.81  27370.72  25987.30  27362.44   27362.44  45265946774\n",
      "2020-12-30  27792.21  28533.95  27445.65  27966.38   27966.38  52053024768\n"
     ]
    }
   ],
   "source": [
    "yf_bitcoin_df = yf.download(\"BTC-USD\", start=\"2017-01-01\", end=\"2020-12-31\")\n",
    "\n",
    "# Checking Data Quality:\n",
    "print(yf_bitcoin_df.dtypes)\n",
    "print(\"\\n\")\n",
    "print(yf_bitcoin_df.shape)\n",
    "print(\"\\n\")\n",
    "print(yf_bitcoin_df[yf_bitcoin_df.duplicated(keep=False)]) #False: Mark all duplicates as True\n",
    "print(\"\\n\")\n",
    "print(yf_bitcoin_df.isnull().sum())\n",
    "print(\"\\n\")\n",
    "print(yf_bitcoin_df.tail())"
   ]
  },
  {
   "cell_type": "markdown",
   "metadata": {},
   "source": [
    "### Other Data: S&P 500 Index (^GSPC)："
   ]
  },
  {
   "cell_type": "code",
   "execution_count": 66,
   "metadata": {},
   "outputs": [
    {
     "name": "stdout",
     "output_type": "stream",
     "text": [
      "[*********************100%***********************]  1 of 1 downloaded\n",
      "Open         float64\n",
      "High         float64\n",
      "Low          float64\n",
      "Close        float64\n",
      "Adj Close    float64\n",
      "Volume         int64\n",
      "dtype: object\n",
      "\n",
      "\n",
      "(1005, 6)\n",
      "\n",
      "\n",
      "Empty DataFrame\n",
      "Columns: [Open, High, Low, Close, Adj Close, Volume]\n",
      "Index: []\n",
      "\n",
      "\n",
      "Open         0\n",
      "High         0\n",
      "Low          0\n",
      "Close        0\n",
      "Adj Close    0\n",
      "Volume       0\n",
      "dtype: int64\n",
      "\n",
      "\n",
      "               Open     High      Low    Close  Adj Close      Volume\n",
      "Date                                                                 \n",
      "2020-12-22  3698.08  3698.26  3676.16  3687.26    3687.26  4023940000\n",
      "2020-12-23  3693.42  3711.24  3689.28  3690.01    3690.01  3772630000\n",
      "2020-12-24  3694.03  3703.82  3689.32  3703.06    3703.06  1885090000\n",
      "2020-12-28  3723.03  3740.51  3723.03  3735.36    3735.36  3527460000\n",
      "2020-12-29  3750.01  3756.12  3723.31  3727.04    3727.04  3387030000\n"
     ]
    }
   ],
   "source": [
    "yf_sp500_df = yf.download(\"^GSPC\", start=\"2017-01-01\", end=\"2020-12-31\")\n",
    "\n",
    "# Checking Data Quality:\n",
    "print(yf_sp500_df.dtypes)\n",
    "print(\"\\n\")\n",
    "print(yf_sp500_df.shape)\n",
    "print(\"\\n\")\n",
    "print(yf_sp500_df[yf_sp500_df.duplicated(keep=False)]) #False: Mark all duplicates as True\n",
    "print(\"\\n\")\n",
    "print(yf_sp500_df.isnull().sum())\n",
    "print(\"\\n\")\n",
    "print(yf_sp500_df.tail())"
   ]
  },
  {
   "cell_type": "markdown",
   "metadata": {},
   "source": [
    "## Importing Data from Investing by Reading CSV:"
   ]
  },
  {
   "cell_type": "markdown",
   "metadata": {},
   "source": [
    "### Other Data: M2 US Money Supply:"
   ]
  },
  {
   "cell_type": "code",
   "execution_count": 67,
   "metadata": {},
   "outputs": [
    {
     "name": "stdout",
     "output_type": "stream",
     "text": [
      "M2(billions)    float64\n",
      "dtype: object\n",
      "\n",
      "\n",
      "(206, 1)\n",
      "\n",
      "\n",
      "Empty DataFrame\n",
      "Columns: [M2(billions)]\n",
      "Index: []\n",
      "\n",
      "\n",
      "M2(billions)    0\n",
      "dtype: int64\n",
      "\n",
      "\n",
      "            M2(billions)\n",
      "DATE                    \n",
      "2020-11-09       19067.1\n",
      "2020-11-16       19108.4\n",
      "2020-11-23       19120.7\n",
      "2020-11-30       18998.0\n",
      "2020-12-07       19226.1\n"
     ]
    }
   ],
   "source": [
    "csvpath = Path(\"Resources/M2.csv\")\n",
    "m2_df = pd.read_csv(csvpath, index_col=\"DATE\", parse_dates=True, infer_datetime_format=True).sort_values(\"DATE\")\n",
    "m2_df.rename(columns={\"M2\" : \"M2(billions)\"}, inplace=True)\n",
    "\n",
    "# Checking Data Quality:\n",
    "print(m2_df.dtypes)\n",
    "print(\"\\n\")\n",
    "print(m2_df.shape)\n",
    "print(\"\\n\")\n",
    "print(m2_df[m2_df.duplicated(keep=False)]) #False: Mark all duplicates as True\n",
    "print(\"\\n\")\n",
    "print(m2_df.isnull().sum())\n",
    "print(\"\\n\")\n",
    "print(m2_df.tail())"
   ]
  },
  {
   "cell_type": "markdown",
   "metadata": {},
   "source": [
    "## Rename Columns & Copy Original DataFrames with Selected Columns:"
   ]
  },
  {
   "cell_type": "code",
   "execution_count": 68,
   "metadata": {},
   "outputs": [
    {
     "data": {
      "text/html": [
       "<div>\n",
       "<style scoped>\n",
       "    .dataframe tbody tr th:only-of-type {\n",
       "        vertical-align: middle;\n",
       "    }\n",
       "\n",
       "    .dataframe tbody tr th {\n",
       "        vertical-align: top;\n",
       "    }\n",
       "\n",
       "    .dataframe thead th {\n",
       "        text-align: right;\n",
       "    }\n",
       "</style>\n",
       "<table border=\"1\" class=\"dataframe\">\n",
       "  <thead>\n",
       "    <tr style=\"text-align: right;\">\n",
       "      <th></th>\n",
       "      <th>dollar_Adj Close</th>\n",
       "      <th>dollar_Volume</th>\n",
       "    </tr>\n",
       "    <tr>\n",
       "      <th>Date</th>\n",
       "      <th></th>\n",
       "      <th></th>\n",
       "    </tr>\n",
       "  </thead>\n",
       "  <tbody>\n",
       "    <tr>\n",
       "      <th>2020-12-23</th>\n",
       "      <td>90.34</td>\n",
       "      <td>27553</td>\n",
       "    </tr>\n",
       "    <tr>\n",
       "      <th>2020-12-28</th>\n",
       "      <td>90.28</td>\n",
       "      <td>10826</td>\n",
       "    </tr>\n",
       "    <tr>\n",
       "      <th>2020-12-30</th>\n",
       "      <td>89.71</td>\n",
       "      <td>6347</td>\n",
       "    </tr>\n",
       "  </tbody>\n",
       "</table>\n",
       "</div>"
      ],
      "text/plain": [
       "            dollar_Adj Close  dollar_Volume\n",
       "Date                                       \n",
       "2020-12-23             90.34          27553\n",
       "2020-12-28             90.28          10826\n",
       "2020-12-30             89.71           6347"
      ]
     },
     "execution_count": 68,
     "metadata": {},
     "output_type": "execute_result"
    }
   ],
   "source": [
    "# Rename Columns:\n",
    "selected_dollar_df = yf_dollar_df.copy()\n",
    "selected_dollar_df.columns = [('dollar_'+ column) for column in selected_dollar_df.columns]\n",
    "# Selected Columns:\n",
    "selected_dollar_df = selected_dollar_df.iloc[:,[-2,-1]]\n",
    "selected_dollar_df.tail(3)"
   ]
  },
  {
   "cell_type": "code",
   "execution_count": 69,
   "metadata": {},
   "outputs": [
    {
     "data": {
      "text/html": [
       "<div>\n",
       "<style scoped>\n",
       "    .dataframe tbody tr th:only-of-type {\n",
       "        vertical-align: middle;\n",
       "    }\n",
       "\n",
       "    .dataframe tbody tr th {\n",
       "        vertical-align: top;\n",
       "    }\n",
       "\n",
       "    .dataframe thead th {\n",
       "        text-align: right;\n",
       "    }\n",
       "</style>\n",
       "<table border=\"1\" class=\"dataframe\">\n",
       "  <thead>\n",
       "    <tr style=\"text-align: right;\">\n",
       "      <th></th>\n",
       "      <th>gold_Adj Close</th>\n",
       "      <th>gold_Volume</th>\n",
       "    </tr>\n",
       "    <tr>\n",
       "      <th>Date</th>\n",
       "      <th></th>\n",
       "      <th></th>\n",
       "    </tr>\n",
       "  </thead>\n",
       "  <tbody>\n",
       "    <tr>\n",
       "      <th>2020-12-28</th>\n",
       "      <td>1877.2</td>\n",
       "      <td>75</td>\n",
       "    </tr>\n",
       "    <tr>\n",
       "      <th>2020-12-29</th>\n",
       "      <td>1879.7</td>\n",
       "      <td>75</td>\n",
       "    </tr>\n",
       "    <tr>\n",
       "      <th>2020-12-30</th>\n",
       "      <td>1882.0</td>\n",
       "      <td>37902</td>\n",
       "    </tr>\n",
       "  </tbody>\n",
       "</table>\n",
       "</div>"
      ],
      "text/plain": [
       "            gold_Adj Close  gold_Volume\n",
       "Date                                   \n",
       "2020-12-28          1877.2           75\n",
       "2020-12-29          1879.7           75\n",
       "2020-12-30          1882.0        37902"
      ]
     },
     "execution_count": 69,
     "metadata": {},
     "output_type": "execute_result"
    }
   ],
   "source": [
    "# Rename Columns:\n",
    "selected_gold_df = yf_gold_df.copy()\n",
    "selected_gold_df.columns = [('gold_'+ column) for column in selected_gold_df.columns]\n",
    "# Selected Columns:\n",
    "selected_gold_df = selected_gold_df.iloc[:,[-2,-1]]\n",
    "selected_gold_df.tail(3)"
   ]
  },
  {
   "cell_type": "code",
   "execution_count": 70,
   "metadata": {},
   "outputs": [
    {
     "data": {
      "text/html": [
       "<div>\n",
       "<style scoped>\n",
       "    .dataframe tbody tr th:only-of-type {\n",
       "        vertical-align: middle;\n",
       "    }\n",
       "\n",
       "    .dataframe tbody tr th {\n",
       "        vertical-align: top;\n",
       "    }\n",
       "\n",
       "    .dataframe thead th {\n",
       "        text-align: right;\n",
       "    }\n",
       "</style>\n",
       "<table border=\"1\" class=\"dataframe\">\n",
       "  <thead>\n",
       "    <tr style=\"text-align: right;\">\n",
       "      <th></th>\n",
       "      <th>bitcoin_Adj Close</th>\n",
       "      <th>bitcoin_Volume</th>\n",
       "    </tr>\n",
       "    <tr>\n",
       "      <th>Date</th>\n",
       "      <th></th>\n",
       "      <th></th>\n",
       "    </tr>\n",
       "  </thead>\n",
       "  <tbody>\n",
       "    <tr>\n",
       "      <th>2020-12-28</th>\n",
       "      <td>27084.81</td>\n",
       "      <td>49056742893</td>\n",
       "    </tr>\n",
       "    <tr>\n",
       "      <th>2020-12-29</th>\n",
       "      <td>27362.44</td>\n",
       "      <td>45265946774</td>\n",
       "    </tr>\n",
       "    <tr>\n",
       "      <th>2020-12-30</th>\n",
       "      <td>27966.38</td>\n",
       "      <td>52053024768</td>\n",
       "    </tr>\n",
       "  </tbody>\n",
       "</table>\n",
       "</div>"
      ],
      "text/plain": [
       "            bitcoin_Adj Close  bitcoin_Volume\n",
       "Date                                         \n",
       "2020-12-28           27084.81     49056742893\n",
       "2020-12-29           27362.44     45265946774\n",
       "2020-12-30           27966.38     52053024768"
      ]
     },
     "execution_count": 70,
     "metadata": {},
     "output_type": "execute_result"
    }
   ],
   "source": [
    "# Rename Columns:\n",
    "selected_bitcoin_df = yf_bitcoin_df.copy()\n",
    "selected_bitcoin_df.columns = [('bitcoin_'+ column) for column in selected_bitcoin_df.columns]\n",
    "# Selected Columns:\n",
    "selected_bitcoin_df = selected_bitcoin_df.iloc[:,[-2,-1]]\n",
    "selected_bitcoin_df.tail(3)"
   ]
  },
  {
   "cell_type": "code",
   "execution_count": 71,
   "metadata": {},
   "outputs": [
    {
     "data": {
      "text/html": [
       "<div>\n",
       "<style scoped>\n",
       "    .dataframe tbody tr th:only-of-type {\n",
       "        vertical-align: middle;\n",
       "    }\n",
       "\n",
       "    .dataframe tbody tr th {\n",
       "        vertical-align: top;\n",
       "    }\n",
       "\n",
       "    .dataframe thead th {\n",
       "        text-align: right;\n",
       "    }\n",
       "</style>\n",
       "<table border=\"1\" class=\"dataframe\">\n",
       "  <thead>\n",
       "    <tr style=\"text-align: right;\">\n",
       "      <th></th>\n",
       "      <th>sp500_Adj Close</th>\n",
       "      <th>sp500_Volume</th>\n",
       "    </tr>\n",
       "    <tr>\n",
       "      <th>Date</th>\n",
       "      <th></th>\n",
       "      <th></th>\n",
       "    </tr>\n",
       "  </thead>\n",
       "  <tbody>\n",
       "    <tr>\n",
       "      <th>2020-12-24</th>\n",
       "      <td>3703.06</td>\n",
       "      <td>1885090000</td>\n",
       "    </tr>\n",
       "    <tr>\n",
       "      <th>2020-12-28</th>\n",
       "      <td>3735.36</td>\n",
       "      <td>3527460000</td>\n",
       "    </tr>\n",
       "    <tr>\n",
       "      <th>2020-12-29</th>\n",
       "      <td>3727.04</td>\n",
       "      <td>3387030000</td>\n",
       "    </tr>\n",
       "  </tbody>\n",
       "</table>\n",
       "</div>"
      ],
      "text/plain": [
       "            sp500_Adj Close  sp500_Volume\n",
       "Date                                     \n",
       "2020-12-24          3703.06    1885090000\n",
       "2020-12-28          3735.36    3527460000\n",
       "2020-12-29          3727.04    3387030000"
      ]
     },
     "execution_count": 71,
     "metadata": {},
     "output_type": "execute_result"
    }
   ],
   "source": [
    "# Rename Columns:\n",
    "selected_sp500_df = yf_sp500_df.copy()\n",
    "selected_sp500_df.columns = [('sp500_'+ column) for column in selected_sp500_df.columns]\n",
    "# Selected Columns:\n",
    "selected_sp500_df = selected_sp500_df.iloc[:,[-2,-1]]\n",
    "selected_sp500_df.tail(3)"
   ]
  },
  {
   "cell_type": "markdown",
   "metadata": {},
   "source": [
    "## Concatenating Selected DataFrames for Further  Analysis:"
   ]
  },
  {
   "cell_type": "code",
   "execution_count": 78,
   "metadata": {},
   "outputs": [],
   "source": [
    "joined_df = pd.concat([selected_dollar_df, selected_gold_df, selected_bitcoin_df, selected_sp500_df], axis = 'columns', join='inner', sort=True)"
   ]
  },
  {
   "cell_type": "markdown",
   "metadata": {},
   "source": [
    "## Calculating Historical Daily Returns:"
   ]
  },
  {
   "cell_type": "code",
   "execution_count": 76,
   "metadata": {},
   "outputs": [
    {
     "name": "stdout",
     "output_type": "stream",
     "text": [
      "(992, 4)\n"
     ]
    },
    {
     "data": {
      "text/html": [
       "<div>\n",
       "<style scoped>\n",
       "    .dataframe tbody tr th:only-of-type {\n",
       "        vertical-align: middle;\n",
       "    }\n",
       "\n",
       "    .dataframe tbody tr th {\n",
       "        vertical-align: top;\n",
       "    }\n",
       "\n",
       "    .dataframe thead th {\n",
       "        text-align: right;\n",
       "    }\n",
       "</style>\n",
       "<table border=\"1\" class=\"dataframe\">\n",
       "  <thead>\n",
       "    <tr style=\"text-align: right;\">\n",
       "      <th></th>\n",
       "      <th>dollar_return</th>\n",
       "      <th>gold_return</th>\n",
       "      <th>bitcoin_return</th>\n",
       "      <th>sp500_return</th>\n",
       "    </tr>\n",
       "    <tr>\n",
       "      <th>Date</th>\n",
       "      <th></th>\n",
       "      <th></th>\n",
       "      <th></th>\n",
       "      <th></th>\n",
       "    </tr>\n",
       "  </thead>\n",
       "  <tbody>\n",
       "    <tr>\n",
       "      <th>2017-01-04</th>\n",
       "      <td>-0.004748</td>\n",
       "      <td>0.002930</td>\n",
       "      <td>0.106233</td>\n",
       "      <td>0.005722</td>\n",
       "    </tr>\n",
       "    <tr>\n",
       "      <th>2017-01-05</th>\n",
       "      <td>-0.011489</td>\n",
       "      <td>0.013662</td>\n",
       "      <td>-0.122410</td>\n",
       "      <td>-0.000771</td>\n",
       "    </tr>\n",
       "    <tr>\n",
       "      <th>2017-01-06</th>\n",
       "      <td>0.006698</td>\n",
       "      <td>-0.006612</td>\n",
       "      <td>-0.109712</td>\n",
       "      <td>0.003517</td>\n",
       "    </tr>\n",
       "    <tr>\n",
       "      <th>2017-01-09</th>\n",
       "      <td>-0.002935</td>\n",
       "      <td>0.009898</td>\n",
       "      <td>0.000698</td>\n",
       "      <td>-0.003549</td>\n",
       "    </tr>\n",
       "    <tr>\n",
       "      <th>2017-01-10</th>\n",
       "      <td>0.000883</td>\n",
       "      <td>0.000591</td>\n",
       "      <td>0.005372</td>\n",
       "      <td>0.000000</td>\n",
       "    </tr>\n",
       "  </tbody>\n",
       "</table>\n",
       "</div>"
      ],
      "text/plain": [
       "            dollar_return  gold_return  bitcoin_return  sp500_return\n",
       "Date                                                                \n",
       "2017-01-04      -0.004748     0.002930        0.106233      0.005722\n",
       "2017-01-05      -0.011489     0.013662       -0.122410     -0.000771\n",
       "2017-01-06       0.006698    -0.006612       -0.109712      0.003517\n",
       "2017-01-09      -0.002935     0.009898        0.000698     -0.003549\n",
       "2017-01-10       0.000883     0.000591        0.005372      0.000000"
      ]
     },
     "execution_count": 76,
     "metadata": {},
     "output_type": "execute_result"
    }
   ],
   "source": [
    "joined_returns_df = pd.DataFrame()\n",
    "joined_returns_df['dollar_return'] = joined_df['dollar_Adj Close'].pct_change()\n",
    "joined_returns_df['gold_return'] = joined_df['gold_Adj Close'].pct_change()\n",
    "joined_returns_df['bitcoin_return'] = joined_df['bitcoin_Adj Close'].pct_change()\n",
    "joined_returns_df['sp500_return'] = joined_df['sp500_Adj Close'].pct_change()\n",
    "joined_returns_df.dropna(inplace=True)\n",
    "print(joined_returns_df.shape)\n",
    "joined_returns_df.head()"
   ]
  },
  {
   "cell_type": "code",
   "execution_count": null,
   "metadata": {},
   "outputs": [],
   "source": []
  },
  {
   "cell_type": "code",
   "execution_count": null,
   "metadata": {},
   "outputs": [],
   "source": []
  },
  {
   "cell_type": "code",
   "execution_count": null,
   "metadata": {},
   "outputs": [],
   "source": []
  },
  {
   "cell_type": "code",
   "execution_count": null,
   "metadata": {},
   "outputs": [],
   "source": []
  },
  {
   "cell_type": "code",
   "execution_count": null,
   "metadata": {},
   "outputs": [],
   "source": []
  },
  {
   "cell_type": "code",
   "execution_count": null,
   "metadata": {},
   "outputs": [],
   "source": []
  },
  {
   "cell_type": "code",
   "execution_count": null,
   "metadata": {},
   "outputs": [],
   "source": []
  },
  {
   "cell_type": "code",
   "execution_count": null,
   "metadata": {},
   "outputs": [],
   "source": []
  },
  {
   "cell_type": "code",
   "execution_count": null,
   "metadata": {},
   "outputs": [],
   "source": []
  }
 ],
 "metadata": {
  "kernelspec": {
   "display_name": "Python [conda env:quantenv] *",
   "language": "python",
   "name": "conda-env-quantenv-py"
  },
  "language_info": {
   "codemirror_mode": {
    "name": "ipython",
    "version": 3
   },
   "file_extension": ".py",
   "mimetype": "text/x-python",
   "name": "python",
   "nbconvert_exporter": "python",
   "pygments_lexer": "ipython3",
   "version": "3.6.8"
  }
 },
 "nbformat": 4,
 "nbformat_minor": 4
}
