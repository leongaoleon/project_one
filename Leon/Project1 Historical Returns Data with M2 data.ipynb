{
 "cells": [
  {
   "cell_type": "markdown",
   "metadata": {},
   "source": [
    "## Initial Import:"
   ]
  },
  {
   "cell_type": "code",
   "execution_count": null,
   "metadata": {},
   "outputs": [],
   "source": [
    "import pandas as pd\n",
    "from datetime import datetime\n",
    "import os    \n",
    "from dotenv  import load_dotenv\n",
    "from pathlib import Path\n",
    "%matplotlib inline"
   ]
  },
  {
   "cell_type": "markdown",
   "metadata": {},
   "source": [
    "## Importing Data from Yahoo Finance and Checking Data Quality:"
   ]
  },
  {
   "cell_type": "markdown",
   "metadata": {},
   "source": [
    "##### **<span style=color:red>  Install yfinance:**"
   ]
  },
  {
   "cell_type": "code",
   "execution_count": null,
   "metadata": {},
   "outputs": [],
   "source": [
    "# !pip install yfinance\n",
    "import yfinance as yf"
   ]
  },
  {
   "cell_type": "markdown",
   "metadata": {},
   "source": [
    "### U.S. Dollar Index (USDX) Futures Contract (DX=F):"
   ]
  },
  {
   "cell_type": "code",
   "execution_count": null,
   "metadata": {},
   "outputs": [],
   "source": [
    "yf_dollar_df = yf.download(\"DX=F\", start=\"2017-01-01\", end=\"2020-12-31\")\n",
    "\n",
    "# Checking Data Quality:\n",
    "print(yf_dollar_df.dtypes)\n",
    "print(\"\\n\")\n",
    "print(yf_dollar_df.shape)\n",
    "print(\"\\n\")\n",
    "print(yf_dollar_df[yf_dollar_df.duplicated(keep=False)]) #False: Mark all duplicates as True\n",
    "print(\"\\n\")\n",
    "print(yf_dollar_df.isnull().sum())\n",
    "print(\"\\n\")\n",
    "print(yf_dollar_df.tail())"
   ]
  },
  {
   "cell_type": "markdown",
   "metadata": {},
   "source": [
    "### Gold Futures Contract (GC=F):"
   ]
  },
  {
   "cell_type": "code",
   "execution_count": null,
   "metadata": {},
   "outputs": [],
   "source": [
    "yf_gold_df = yf.download(\"GC=F\", start=\"2017-01-01\", end=\"2020-12-31\")\n",
    "\n",
    "# Checking Data Quality:\n",
    "print(yf_gold_df.dtypes)\n",
    "print(\"\\n\")\n",
    "print(yf_gold_df.shape)\n",
    "print(\"\\n\")\n",
    "print(yf_gold_df[yf_gold_df.duplicated(keep=False)]) #False: Mark all duplicates as True\n",
    "print(\"\\n\")\n",
    "print(yf_gold_df.isnull().sum())\n",
    "print(\"\\n\")\n",
    "print(yf_gold_df.tail())"
   ]
  },
  {
   "cell_type": "markdown",
   "metadata": {},
   "source": [
    "### Bitcoin USD (BTC-USD):"
   ]
  },
  {
   "cell_type": "code",
   "execution_count": null,
   "metadata": {},
   "outputs": [],
   "source": [
    "yf_cyindex_df = yf.download(\"CMI10.SW\", start=\"2017-01-01\", end=\"2020-12-31\")"
   ]
  },
  {
   "cell_type": "code",
   "execution_count": null,
   "metadata": {},
   "outputs": [],
   "source": [
    "yf_bitcoin_df = yf.download(\"BTC-USD\", start=\"2017-01-01\", end=\"2020-12-31\")\n",
    "\n",
    "# Checking Data Quality:\n",
    "print(yf_bitcoin_df.dtypes)\n",
    "print(\"\\n\")\n",
    "print(yf_bitcoin_df.shape)\n",
    "print(\"\\n\")\n",
    "print(yf_bitcoin_df[yf_bitcoin_df.duplicated(keep=False)]) #False: Mark all duplicates as True\n",
    "print(\"\\n\")\n",
    "print(yf_bitcoin_df.isnull().sum())\n",
    "print(\"\\n\")\n",
    "print(yf_bitcoin_df.tail())"
   ]
  },
  {
   "cell_type": "markdown",
   "metadata": {},
   "source": [
    "### Other Data: S&P 500 Index (^GSPC)："
   ]
  },
  {
   "cell_type": "code",
   "execution_count": null,
   "metadata": {},
   "outputs": [],
   "source": [
    "yf_sp500_df = yf.download(\"^GSPC\", start=\"2017-01-01\", end=\"2020-12-31\")\n",
    "\n",
    "# Checking Data Quality:\n",
    "print(yf_sp500_df.dtypes)\n",
    "print(\"\\n\")\n",
    "print(yf_sp500_df.shape)\n",
    "print(\"\\n\")\n",
    "print(yf_sp500_df[yf_sp500_df.duplicated(keep=False)]) #False: Mark all duplicates as True\n",
    "print(\"\\n\")\n",
    "print(yf_sp500_df.isnull().sum())\n",
    "print(\"\\n\")\n",
    "print(yf_sp500_df.tail())"
   ]
  },
  {
   "cell_type": "markdown",
   "metadata": {},
   "source": [
    "## Importing Data from Investing by Reading CSV:"
   ]
  },
  {
   "cell_type": "markdown",
   "metadata": {},
   "source": [
    "### Other Data: M2 US Money Supply:"
   ]
  },
  {
   "cell_type": "code",
   "execution_count": null,
   "metadata": {},
   "outputs": [],
   "source": [
    "csvpath = Path(\"Resources/M2.csv\")\n",
    "m2_df = pd.read_csv(csvpath, index_col=\"DATE\", parse_dates=True, infer_datetime_format=True).sort_values(\"DATE\")\n",
    "m2_df.rename(columns={\"M2\" : \"M2(billions)\"}, inplace=True)\n",
    "\n",
    "# Checking Data Quality:\n",
    "print(m2_df.dtypes)\n",
    "print(\"\\n\")\n",
    "print(m2_df.shape)\n",
    "print(\"\\n\")\n",
    "print(m2_df[m2_df.duplicated(keep=False)]) #False: Mark all duplicates as True\n",
    "print(\"\\n\")\n",
    "print(m2_df.isnull().sum())\n",
    "print(\"\\n\")\n",
    "print(m2_df.tail())"
   ]
  },
  {
   "cell_type": "markdown",
   "metadata": {},
   "source": [
    "## Rename Columns & Copy Original DataFrames with Selected Columns:"
   ]
  },
  {
   "cell_type": "code",
   "execution_count": null,
   "metadata": {},
   "outputs": [],
   "source": [
    "# Rename Columns:\n",
    "selected_dollar_df = yf_dollar_df.copy()\n",
    "selected_dollar_df.columns = [('dollar_'+ column) for column in selected_dollar_df.columns]\n",
    "# Selected Columns:\n",
    "selected_dollar_df = selected_dollar_df.iloc[:,[-2,-1]]\n",
    "selected_dollar_df.tail(3)"
   ]
  },
  {
   "cell_type": "code",
   "execution_count": null,
   "metadata": {},
   "outputs": [],
   "source": [
    "# Rename Columns:\n",
    "selected_gold_df = yf_gold_df.copy()\n",
    "selected_gold_df.columns = [('gold_'+ column) for column in selected_gold_df.columns]\n",
    "# Selected Columns:\n",
    "selected_gold_df = selected_gold_df.iloc[:,[-2,-1]]\n",
    "selected_gold_df.tail(3)"
   ]
  },
  {
   "cell_type": "code",
   "execution_count": null,
   "metadata": {},
   "outputs": [],
   "source": [
    "# Rename Columns:\n",
    "selected_bitcoin_df = yf_bitcoin_df.copy()\n",
    "selected_bitcoin_df.columns = [('bitcoin_'+ column) for column in selected_bitcoin_df.columns]\n",
    "# Selected Columns:\n",
    "selected_bitcoin_df = selected_bitcoin_df.iloc[:,[-2,-1]]\n",
    "selected_bitcoin_df.tail(3)"
   ]
  },
  {
   "cell_type": "code",
   "execution_count": null,
   "metadata": {},
   "outputs": [],
   "source": [
    "# Rename Columns:\n",
    "selected_sp500_df = yf_sp500_df.copy()\n",
    "selected_sp500_df.columns = [('sp500_'+ column) for column in selected_sp500_df.columns]\n",
    "# Selected Columns:\n",
    "selected_sp500_df = selected_sp500_df.iloc[:,[-2,-1]]\n",
    "selected_sp500_df.tail(3)"
   ]
  },
  {
   "cell_type": "markdown",
   "metadata": {},
   "source": [
    "## Concatenating Selected DataFrames for Further  Analysis:"
   ]
  },
  {
   "cell_type": "code",
   "execution_count": null,
   "metadata": {},
   "outputs": [],
   "source": [
    "joined_df = pd.concat([selected_dollar_df, selected_gold_df, selected_bitcoin_df, selected_sp500_df], axis = 'columns', join='inner', sort=True)\n",
    "\n",
    "# Checking Data Quality:\n",
    "print(joined_df.dtypes)\n",
    "print(\"\\n\")\n",
    "print(joined_df.shape)\n",
    "print(\"\\n\")\n",
    "print(joined_df[joined_df.duplicated(keep=False)]) #False: Mark all duplicates as True\n",
    "print(\"\\n\")\n",
    "print(joined_df.isnull().sum())\n",
    "print(\"\\n\")\n",
    "print(joined_df.tail())"
   ]
  },
  {
   "cell_type": "markdown",
   "metadata": {},
   "source": [
    "## Calculating Historical Daily Returns:"
   ]
  },
  {
   "cell_type": "code",
   "execution_count": null,
   "metadata": {},
   "outputs": [],
   "source": [
    "joined_returns_df = pd.DataFrame()\n",
    "joined_returns_df['dollar_return'] = joined_df['dollar_Adj Close'].pct_change()\n",
    "joined_returns_df['gold_return'] = joined_df['gold_Adj Close'].pct_change()\n",
    "joined_returns_df['bitcoin_return'] = joined_df['bitcoin_Adj Close'].pct_change()\n",
    "joined_returns_df['sp500_return'] = joined_df['sp500_Adj Close'].pct_change()\n",
    "joined_returns_df.dropna(inplace=True)\n",
    "joined_returns_df.head()"
   ]
  },
  {
   "cell_type": "code",
   "execution_count": null,
   "metadata": {},
   "outputs": [],
   "source": []
  },
  {
   "cell_type": "code",
   "execution_count": null,
   "metadata": {},
   "outputs": [],
   "source": []
  },
  {
   "cell_type": "code",
   "execution_count": null,
   "metadata": {},
   "outputs": [],
   "source": []
  },
  {
   "cell_type": "code",
   "execution_count": null,
   "metadata": {},
   "outputs": [],
   "source": [
    "sp500_cumulative_returns = (1 + sp500_daily_return[\"sp500_return\"]).cumprod()\n",
    "sp500_cumulative_returns.tail()"
   ]
  },
  {
   "cell_type": "code",
   "execution_count": null,
   "metadata": {},
   "outputs": [],
   "source": []
  },
  {
   "cell_type": "code",
   "execution_count": null,
   "metadata": {},
   "outputs": [],
   "source": []
  },
  {
   "cell_type": "code",
   "execution_count": null,
   "metadata": {},
   "outputs": [],
   "source": []
  },
  {
   "cell_type": "code",
   "execution_count": null,
   "metadata": {},
   "outputs": [],
   "source": []
  },
  {
   "cell_type": "code",
   "execution_count": null,
   "metadata": {},
   "outputs": [],
   "source": []
  },
  {
   "cell_type": "code",
   "execution_count": null,
   "metadata": {},
   "outputs": [],
   "source": []
  }
 ],
 "metadata": {
  "kernelspec": {
   "display_name": "Python [conda env:quantenv] *",
   "language": "python",
   "name": "conda-env-quantenv-py"
  },
  "language_info": {
   "codemirror_mode": {
    "name": "ipython",
    "version": 3
   },
   "file_extension": ".py",
   "mimetype": "text/x-python",
   "name": "python",
   "nbconvert_exporter": "python",
   "pygments_lexer": "ipython3",
   "version": "3.6.8"
  }
 },
 "nbformat": 4,
 "nbformat_minor": 4
}