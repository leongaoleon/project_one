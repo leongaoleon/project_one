{
 "cells": [
  {
   "cell_type": "markdown",
   "metadata": {},
   "source": [
    "## Initial Import:"
   ]
  },
  {
   "cell_type": "code",
   "execution_count": 65,
   "metadata": {},
   "outputs": [],
   "source": [
    "import pandas as pd\n",
    "import numpy as np\n",
    "from datetime import datetime\n",
    "import os    \n",
    "from dotenv  import load_dotenv\n",
    "from pathlib import Path\n",
    "%matplotlib inline"
   ]
  },
  {
   "cell_type": "markdown",
   "metadata": {},
   "source": [
    "## Importing Data from Yahoo Finance and Checking Data Quality:"
   ]
  },
  {
   "cell_type": "markdown",
   "metadata": {},
   "source": [
    "##### **<span style=color:red>  Install yfinance:**"
   ]
  },
  {
   "cell_type": "code",
   "execution_count": 66,
   "metadata": {},
   "outputs": [],
   "source": [
    "# !pip install yfinance\n",
    "import yfinance as yf"
   ]
  },
  {
   "cell_type": "markdown",
   "metadata": {},
   "source": [
    "### U.S. Dollar Index (USDX) Futures Contract (DX=F):"
   ]
  },
  {
   "cell_type": "code",
   "execution_count": 67,
   "metadata": {},
   "outputs": [
    {
     "name": "stdout",
     "output_type": "stream",
     "text": [
      "[*********************100%***********************]  1 of 1 downloaded\n",
      "Open         float64\n",
      "High         float64\n",
      "Low          float64\n",
      "Close        float64\n",
      "Adj Close    float64\n",
      "Volume         int64\n",
      "dtype: object\n",
      "\n",
      "\n",
      "(1001, 6)\n",
      "\n",
      "\n",
      "Empty DataFrame\n",
      "Columns: [Open, High, Low, Close, Adj Close, Volume]\n",
      "Index: []\n",
      "\n",
      "\n",
      "Open         0\n",
      "High         0\n",
      "Low          0\n",
      "Close        0\n",
      "Adj Close    0\n",
      "Volume       0\n",
      "dtype: int64\n",
      "\n",
      "\n",
      "             Open   High    Low  Close  Adj Close  Volume\n",
      "Date                                                     \n",
      "2020-12-22  90.10  90.62  89.95  90.55      90.55   21871\n",
      "2020-12-23  90.54  90.58  90.05  90.34      90.34   27553\n",
      "2020-12-28  90.26  90.32  89.89  90.28      90.28   18455\n",
      "2020-12-29  90.16  90.17  89.79  89.92      89.92   17249\n",
      "2020-12-30  89.86  89.90  89.51  89.65      89.65   23431\n"
     ]
    }
   ],
   "source": [
    "yf_dollar_df = yf.download(\"DX=F\", start=\"2017-01-01\", end=\"2020-12-31\")\n",
    "\n",
    "# Checking Data Quality:\n",
    "print(yf_dollar_df.dtypes)\n",
    "print(\"\\n\")\n",
    "print(yf_dollar_df.shape)\n",
    "print(\"\\n\")\n",
    "print(yf_dollar_df[yf_dollar_df.duplicated(keep=False)]) #False: Mark all duplicates as True\n",
    "print(\"\\n\")\n",
    "print(yf_dollar_df.isnull().sum())\n",
    "print(\"\\n\")\n",
    "print(yf_dollar_df.tail())"
   ]
  },
  {
   "cell_type": "markdown",
   "metadata": {},
   "source": [
    "### Gold Futures Contract (GC=F):"
   ]
  },
  {
   "cell_type": "code",
   "execution_count": 68,
   "metadata": {},
   "outputs": [
    {
     "name": "stdout",
     "output_type": "stream",
     "text": [
      "[*********************100%***********************]  1 of 1 downloaded\n",
      "Open         float64\n",
      "High         float64\n",
      "Low          float64\n",
      "Close        float64\n",
      "Adj Close    float64\n",
      "Volume         int64\n",
      "dtype: object\n",
      "\n",
      "\n",
      "(1079, 6)\n",
      "\n",
      "\n",
      "Empty DataFrame\n",
      "Columns: [Open, High, Low, Close, Adj Close, Volume]\n",
      "Index: []\n",
      "\n",
      "\n",
      "Open         0\n",
      "High         0\n",
      "Low          0\n",
      "Close        0\n",
      "Adj Close    0\n",
      "Volume       0\n",
      "dtype: int64\n",
      "\n",
      "\n",
      "              Open    High     Low   Close  Adj Close  Volume\n",
      "Date                                                         \n",
      "2020-12-22  1882.2  1882.2  1861.0  1866.6     1866.6     233\n",
      "2020-12-23  1867.0  1878.8  1864.5  1874.7     1874.7      82\n",
      "2020-12-28  1895.5  1895.8  1873.7  1877.2     1877.2      75\n",
      "2020-12-29  1881.3  1881.3  1879.7  1879.7     1879.7     343\n",
      "2020-12-30  1879.9  1895.8  1877.3  1891.0     1891.0     444\n"
     ]
    }
   ],
   "source": [
    "yf_gold_df = yf.download(\"GC=F\", start=\"2017-01-01\", end=\"2020-12-31\")\n",
    "\n",
    "# Checking Data Quality:\n",
    "print(yf_gold_df.dtypes)\n",
    "print(\"\\n\")\n",
    "print(yf_gold_df.shape)\n",
    "print(\"\\n\")\n",
    "print(yf_gold_df[yf_gold_df.duplicated(keep=False)]) #False: Mark all duplicates as True\n",
    "print(\"\\n\")\n",
    "print(yf_gold_df.isnull().sum())\n",
    "print(\"\\n\")\n",
    "print(yf_gold_df.tail())"
   ]
  },
  {
   "cell_type": "markdown",
   "metadata": {},
   "source": [
    "### Bitcoin USD (BTC-USD):"
   ]
  },
  {
   "cell_type": "code",
   "execution_count": 69,
   "metadata": {},
   "outputs": [
    {
     "name": "stdout",
     "output_type": "stream",
     "text": [
      "[*********************100%***********************]  1 of 1 downloaded\n"
     ]
    }
   ],
   "source": [
    "yf_cyindex_df = yf.download(\"CMI10.SW\", start=\"2017-01-01\", end=\"2020-12-31\")"
   ]
  },
  {
   "cell_type": "code",
   "execution_count": 70,
   "metadata": {},
   "outputs": [
    {
     "name": "stdout",
     "output_type": "stream",
     "text": [
      "[*********************100%***********************]  1 of 1 downloaded\n",
      "Open         float64\n",
      "High         float64\n",
      "Low          float64\n",
      "Close        float64\n",
      "Adj Close    float64\n",
      "Volume         int64\n",
      "dtype: object\n",
      "\n",
      "\n",
      "(1461, 6)\n",
      "\n",
      "\n",
      "Empty DataFrame\n",
      "Columns: [Open, High, Low, Close, Adj Close, Volume]\n",
      "Index: []\n",
      "\n",
      "\n",
      "Open         0\n",
      "High         0\n",
      "Low          0\n",
      "Close        0\n",
      "Adj Close    0\n",
      "Volume       0\n",
      "dtype: int64\n",
      "\n",
      "\n",
      "                Open      High       Low     Close  Adj Close       Volume\n",
      "Date                                                                      \n",
      "2020-12-26  24677.02  26718.07  24522.69  26437.04   26437.04  48332647295\n",
      "2020-12-27  26439.37  28288.84  25922.77  26272.29   26272.29  66479895605\n",
      "2020-12-28  26280.82  27389.11  26207.64  27084.81   27084.81  49056742893\n",
      "2020-12-29  27081.81  27370.72  25987.30  27362.44   27362.44  45265946774\n",
      "2020-12-30  27360.09  28937.74  27360.09  28840.95   28840.95  51287442704\n"
     ]
    }
   ],
   "source": [
    "yf_bitcoin_df = yf.download(\"BTC-USD\", start=\"2017-01-01\", end=\"2020-12-31\")\n",
    "\n",
    "# Checking Data Quality:\n",
    "print(yf_bitcoin_df.dtypes)\n",
    "print(\"\\n\")\n",
    "print(yf_bitcoin_df.shape)\n",
    "print(\"\\n\")\n",
    "print(yf_bitcoin_df[yf_bitcoin_df.duplicated(keep=False)]) #False: Mark all duplicates as True\n",
    "print(\"\\n\")\n",
    "print(yf_bitcoin_df.isnull().sum())\n",
    "print(\"\\n\")\n",
    "print(yf_bitcoin_df.tail())"
   ]
  },
  {
   "cell_type": "markdown",
   "metadata": {},
   "source": [
    "### Other Data: S&P 500 Index (^GSPC)："
   ]
  },
  {
   "cell_type": "code",
   "execution_count": 71,
   "metadata": {},
   "outputs": [
    {
     "name": "stdout",
     "output_type": "stream",
     "text": [
      "[*********************100%***********************]  1 of 1 downloaded\n",
      "Open         float64\n",
      "High         float64\n",
      "Low          float64\n",
      "Close        float64\n",
      "Adj Close    float64\n",
      "Volume         int64\n",
      "dtype: object\n",
      "\n",
      "\n",
      "(1005, 6)\n",
      "\n",
      "\n",
      "Empty DataFrame\n",
      "Columns: [Open, High, Low, Close, Adj Close, Volume]\n",
      "Index: []\n",
      "\n",
      "\n",
      "Open         0\n",
      "High         0\n",
      "Low          0\n",
      "Close        0\n",
      "Adj Close    0\n",
      "Volume       0\n",
      "dtype: int64\n",
      "\n",
      "\n",
      "               Open     High      Low    Close  Adj Close      Volume\n",
      "Date                                                                 \n",
      "2020-12-22  3698.08  3698.26  3676.16  3687.26    3687.26  4023940000\n",
      "2020-12-23  3693.42  3711.24  3689.28  3690.01    3690.01  3772630000\n",
      "2020-12-24  3694.03  3703.82  3689.32  3703.06    3703.06  1885090000\n",
      "2020-12-28  3723.03  3740.51  3723.03  3735.36    3735.36  3527460000\n",
      "2020-12-29  3750.01  3756.12  3723.31  3727.04    3727.04  3387030000\n"
     ]
    }
   ],
   "source": [
    "yf_sp500_df = yf.download(\"^GSPC\", start=\"2017-01-01\", end=\"2020-12-31\")\n",
    "\n",
    "# Checking Data Quality:\n",
    "print(yf_sp500_df.dtypes)\n",
    "print(\"\\n\")\n",
    "print(yf_sp500_df.shape)\n",
    "print(\"\\n\")\n",
    "print(yf_sp500_df[yf_sp500_df.duplicated(keep=False)]) #False: Mark all duplicates as True\n",
    "print(\"\\n\")\n",
    "print(yf_sp500_df.isnull().sum())\n",
    "print(\"\\n\")\n",
    "print(yf_sp500_df.tail())"
   ]
  },
  {
   "cell_type": "markdown",
   "metadata": {},
   "source": [
    "## Importing Data from Investing by Reading CSV:"
   ]
  },
  {
   "cell_type": "markdown",
   "metadata": {},
   "source": [
    "### Other Data: M2 US Money Supply:"
   ]
  },
  {
   "cell_type": "code",
   "execution_count": 72,
   "metadata": {},
   "outputs": [
    {
     "name": "stdout",
     "output_type": "stream",
     "text": [
      "M2(billions)    float64\n",
      "dtype: object\n",
      "\n",
      "\n",
      "(206, 1)\n",
      "\n",
      "\n",
      "Empty DataFrame\n",
      "Columns: [M2(billions)]\n",
      "Index: []\n",
      "\n",
      "\n",
      "M2(billions)    0\n",
      "dtype: int64\n",
      "\n",
      "\n",
      "            M2(billions)\n",
      "DATE                    \n",
      "2020-11-09       19067.1\n",
      "2020-11-16       19108.4\n",
      "2020-11-23       19120.7\n",
      "2020-11-30       18998.0\n",
      "2020-12-07       19226.1\n"
     ]
    }
   ],
   "source": [
    "csvpath = Path(\"Resources/M2.csv\")\n",
    "m2_df = pd.read_csv(csvpath, index_col=\"DATE\", parse_dates=True, infer_datetime_format=True).sort_values(\"DATE\")\n",
    "m2_df.rename(columns={\"M2\" : \"M2(billions)\"}, inplace=True)\n",
    "\n",
    "# Checking Data Quality:\n",
    "print(m2_df.dtypes)\n",
    "print(\"\\n\")\n",
    "print(m2_df.shape)\n",
    "print(\"\\n\")\n",
    "print(m2_df[m2_df.duplicated(keep=False)]) #False: Mark all duplicates as True\n",
    "print(\"\\n\")\n",
    "print(m2_df.isnull().sum())\n",
    "print(\"\\n\")\n",
    "print(m2_df.tail())"
   ]
  },
  {
   "cell_type": "markdown",
   "metadata": {},
   "source": [
    "## Rename Columns & Copy Original DataFrames with Selected Columns:"
   ]
  },
  {
   "cell_type": "code",
   "execution_count": 73,
   "metadata": {},
   "outputs": [
    {
     "data": {
      "text/html": [
       "<div>\n",
       "<style scoped>\n",
       "    .dataframe tbody tr th:only-of-type {\n",
       "        vertical-align: middle;\n",
       "    }\n",
       "\n",
       "    .dataframe tbody tr th {\n",
       "        vertical-align: top;\n",
       "    }\n",
       "\n",
       "    .dataframe thead th {\n",
       "        text-align: right;\n",
       "    }\n",
       "</style>\n",
       "<table border=\"1\" class=\"dataframe\">\n",
       "  <thead>\n",
       "    <tr style=\"text-align: right;\">\n",
       "      <th></th>\n",
       "      <th>dollar_Adj Close</th>\n",
       "      <th>dollar_Volume</th>\n",
       "    </tr>\n",
       "    <tr>\n",
       "      <th>Date</th>\n",
       "      <th></th>\n",
       "      <th></th>\n",
       "    </tr>\n",
       "  </thead>\n",
       "  <tbody>\n",
       "    <tr>\n",
       "      <th>2020-12-28</th>\n",
       "      <td>90.28</td>\n",
       "      <td>18455</td>\n",
       "    </tr>\n",
       "    <tr>\n",
       "      <th>2020-12-29</th>\n",
       "      <td>89.92</td>\n",
       "      <td>17249</td>\n",
       "    </tr>\n",
       "    <tr>\n",
       "      <th>2020-12-30</th>\n",
       "      <td>89.65</td>\n",
       "      <td>23431</td>\n",
       "    </tr>\n",
       "  </tbody>\n",
       "</table>\n",
       "</div>"
      ],
      "text/plain": [
       "            dollar_Adj Close  dollar_Volume\n",
       "Date                                       \n",
       "2020-12-28             90.28          18455\n",
       "2020-12-29             89.92          17249\n",
       "2020-12-30             89.65          23431"
      ]
     },
     "execution_count": 73,
     "metadata": {},
     "output_type": "execute_result"
    }
   ],
   "source": [
    "# Rename Columns:\n",
    "selected_dollar_df = yf_dollar_df.copy()\n",
    "selected_dollar_df.columns = [('dollar_'+ column) for column in selected_dollar_df.columns]\n",
    "# Selected Columns:\n",
    "selected_dollar_df = selected_dollar_df.iloc[:,[-2,-1]]\n",
    "selected_dollar_df.tail(3)"
   ]
  },
  {
   "cell_type": "code",
   "execution_count": 74,
   "metadata": {},
   "outputs": [
    {
     "data": {
      "text/html": [
       "<div>\n",
       "<style scoped>\n",
       "    .dataframe tbody tr th:only-of-type {\n",
       "        vertical-align: middle;\n",
       "    }\n",
       "\n",
       "    .dataframe tbody tr th {\n",
       "        vertical-align: top;\n",
       "    }\n",
       "\n",
       "    .dataframe thead th {\n",
       "        text-align: right;\n",
       "    }\n",
       "</style>\n",
       "<table border=\"1\" class=\"dataframe\">\n",
       "  <thead>\n",
       "    <tr style=\"text-align: right;\">\n",
       "      <th></th>\n",
       "      <th>gold_Adj Close</th>\n",
       "      <th>gold_Volume</th>\n",
       "    </tr>\n",
       "    <tr>\n",
       "      <th>Date</th>\n",
       "      <th></th>\n",
       "      <th></th>\n",
       "    </tr>\n",
       "  </thead>\n",
       "  <tbody>\n",
       "    <tr>\n",
       "      <th>2020-12-28</th>\n",
       "      <td>1877.2</td>\n",
       "      <td>75</td>\n",
       "    </tr>\n",
       "    <tr>\n",
       "      <th>2020-12-29</th>\n",
       "      <td>1879.7</td>\n",
       "      <td>343</td>\n",
       "    </tr>\n",
       "    <tr>\n",
       "      <th>2020-12-30</th>\n",
       "      <td>1891.0</td>\n",
       "      <td>444</td>\n",
       "    </tr>\n",
       "  </tbody>\n",
       "</table>\n",
       "</div>"
      ],
      "text/plain": [
       "            gold_Adj Close  gold_Volume\n",
       "Date                                   \n",
       "2020-12-28          1877.2           75\n",
       "2020-12-29          1879.7          343\n",
       "2020-12-30          1891.0          444"
      ]
     },
     "execution_count": 74,
     "metadata": {},
     "output_type": "execute_result"
    }
   ],
   "source": [
    "# Rename Columns:\n",
    "selected_gold_df = yf_gold_df.copy()\n",
    "selected_gold_df.columns = [('gold_'+ column) for column in selected_gold_df.columns]\n",
    "# Selected Columns:\n",
    "selected_gold_df = selected_gold_df.iloc[:,[-2,-1]]\n",
    "selected_gold_df.tail(3)"
   ]
  },
  {
   "cell_type": "code",
   "execution_count": 75,
   "metadata": {},
   "outputs": [
    {
     "data": {
      "text/html": [
       "<div>\n",
       "<style scoped>\n",
       "    .dataframe tbody tr th:only-of-type {\n",
       "        vertical-align: middle;\n",
       "    }\n",
       "\n",
       "    .dataframe tbody tr th {\n",
       "        vertical-align: top;\n",
       "    }\n",
       "\n",
       "    .dataframe thead th {\n",
       "        text-align: right;\n",
       "    }\n",
       "</style>\n",
       "<table border=\"1\" class=\"dataframe\">\n",
       "  <thead>\n",
       "    <tr style=\"text-align: right;\">\n",
       "      <th></th>\n",
       "      <th>bitcoin_Adj Close</th>\n",
       "      <th>bitcoin_Volume</th>\n",
       "    </tr>\n",
       "    <tr>\n",
       "      <th>Date</th>\n",
       "      <th></th>\n",
       "      <th></th>\n",
       "    </tr>\n",
       "  </thead>\n",
       "  <tbody>\n",
       "    <tr>\n",
       "      <th>2020-12-28</th>\n",
       "      <td>27084.81</td>\n",
       "      <td>49056742893</td>\n",
       "    </tr>\n",
       "    <tr>\n",
       "      <th>2020-12-29</th>\n",
       "      <td>27362.44</td>\n",
       "      <td>45265946774</td>\n",
       "    </tr>\n",
       "    <tr>\n",
       "      <th>2020-12-30</th>\n",
       "      <td>28840.95</td>\n",
       "      <td>51287442704</td>\n",
       "    </tr>\n",
       "  </tbody>\n",
       "</table>\n",
       "</div>"
      ],
      "text/plain": [
       "            bitcoin_Adj Close  bitcoin_Volume\n",
       "Date                                         \n",
       "2020-12-28           27084.81     49056742893\n",
       "2020-12-29           27362.44     45265946774\n",
       "2020-12-30           28840.95     51287442704"
      ]
     },
     "execution_count": 75,
     "metadata": {},
     "output_type": "execute_result"
    }
   ],
   "source": [
    "# Rename Columns:\n",
    "selected_bitcoin_df = yf_bitcoin_df.copy()\n",
    "selected_bitcoin_df.columns = [('bitcoin_'+ column) for column in selected_bitcoin_df.columns]\n",
    "# Selected Columns:\n",
    "selected_bitcoin_df = selected_bitcoin_df.iloc[:,[-2,-1]]\n",
    "selected_bitcoin_df.tail(3)"
   ]
  },
  {
   "cell_type": "code",
   "execution_count": 76,
   "metadata": {},
   "outputs": [
    {
     "data": {
      "text/html": [
       "<div>\n",
       "<style scoped>\n",
       "    .dataframe tbody tr th:only-of-type {\n",
       "        vertical-align: middle;\n",
       "    }\n",
       "\n",
       "    .dataframe tbody tr th {\n",
       "        vertical-align: top;\n",
       "    }\n",
       "\n",
       "    .dataframe thead th {\n",
       "        text-align: right;\n",
       "    }\n",
       "</style>\n",
       "<table border=\"1\" class=\"dataframe\">\n",
       "  <thead>\n",
       "    <tr style=\"text-align: right;\">\n",
       "      <th></th>\n",
       "      <th>sp500_Adj Close</th>\n",
       "      <th>sp500_Volume</th>\n",
       "    </tr>\n",
       "    <tr>\n",
       "      <th>Date</th>\n",
       "      <th></th>\n",
       "      <th></th>\n",
       "    </tr>\n",
       "  </thead>\n",
       "  <tbody>\n",
       "    <tr>\n",
       "      <th>2020-12-24</th>\n",
       "      <td>3703.06</td>\n",
       "      <td>1885090000</td>\n",
       "    </tr>\n",
       "    <tr>\n",
       "      <th>2020-12-28</th>\n",
       "      <td>3735.36</td>\n",
       "      <td>3527460000</td>\n",
       "    </tr>\n",
       "    <tr>\n",
       "      <th>2020-12-29</th>\n",
       "      <td>3727.04</td>\n",
       "      <td>3387030000</td>\n",
       "    </tr>\n",
       "  </tbody>\n",
       "</table>\n",
       "</div>"
      ],
      "text/plain": [
       "            sp500_Adj Close  sp500_Volume\n",
       "Date                                     \n",
       "2020-12-24          3703.06    1885090000\n",
       "2020-12-28          3735.36    3527460000\n",
       "2020-12-29          3727.04    3387030000"
      ]
     },
     "execution_count": 76,
     "metadata": {},
     "output_type": "execute_result"
    }
   ],
   "source": [
    "# Rename Columns:\n",
    "selected_sp500_df = yf_sp500_df.copy()\n",
    "selected_sp500_df.columns = [('sp500_'+ column) for column in selected_sp500_df.columns]\n",
    "# Selected Columns:\n",
    "selected_sp500_df = selected_sp500_df.iloc[:,[-2,-1]]\n",
    "selected_sp500_df.tail(3)"
   ]
  },
  {
   "cell_type": "markdown",
   "metadata": {},
   "source": [
    "## Concatenating Selected DataFrames for Further  Analysis:"
   ]
  },
  {
   "cell_type": "code",
   "execution_count": 77,
   "metadata": {},
   "outputs": [
    {
     "name": "stdout",
     "output_type": "stream",
     "text": [
      "dollar_Adj Close     float64\n",
      "dollar_Volume          int64\n",
      "gold_Adj Close       float64\n",
      "gold_Volume            int64\n",
      "bitcoin_Adj Close    float64\n",
      "bitcoin_Volume         int64\n",
      "sp500_Adj Close      float64\n",
      "sp500_Volume           int64\n",
      "dtype: object\n",
      "\n",
      "\n",
      "(994, 8)\n",
      "\n",
      "\n",
      "Empty DataFrame\n",
      "Columns: [dollar_Adj Close, dollar_Volume, gold_Adj Close, gold_Volume, bitcoin_Adj Close, bitcoin_Volume, sp500_Adj Close, sp500_Volume]\n",
      "Index: []\n",
      "\n",
      "\n",
      "dollar_Adj Close     0\n",
      "dollar_Volume        0\n",
      "gold_Adj Close       0\n",
      "gold_Volume          0\n",
      "bitcoin_Adj Close    0\n",
      "bitcoin_Volume       0\n",
      "sp500_Adj Close      0\n",
      "sp500_Volume         0\n",
      "dtype: int64\n",
      "\n",
      "\n",
      "            dollar_Adj Close  dollar_Volume  gold_Adj Close  gold_Volume  \\\n",
      "Date                                                                       \n",
      "2020-12-21             89.95          39253          1879.2          136   \n",
      "2020-12-22             90.55          21871          1866.6          233   \n",
      "2020-12-23             90.34          27553          1874.7           82   \n",
      "2020-12-28             90.28          18455          1877.2           75   \n",
      "2020-12-29             89.92          17249          1879.7          343   \n",
      "\n",
      "            bitcoin_Adj Close  bitcoin_Volume  sp500_Adj Close  sp500_Volume  \n",
      "Date                                                                          \n",
      "2020-12-21           22803.08     45852713981          3694.92    4732160000  \n",
      "2020-12-22           23783.03     44171632681          3687.26    4023940000  \n",
      "2020-12-23           23241.35     51146161904          3690.01    3772630000  \n",
      "2020-12-28           27084.81     49056742893          3735.36    3527460000  \n",
      "2020-12-29           27362.44     45265946774          3727.04    3387030000  \n"
     ]
    }
   ],
   "source": [
    "joined_df = pd.concat([selected_dollar_df, selected_gold_df, selected_bitcoin_df, selected_sp500_df], axis = 'columns', join='inner', sort=True)\n",
    "\n",
    "# Checking Data Quality:\n",
    "print(joined_df.dtypes)\n",
    "print(\"\\n\")\n",
    "print(joined_df.shape)\n",
    "print(\"\\n\")\n",
    "print(joined_df[joined_df.duplicated(keep=False)]) #False: Mark all duplicates as True\n",
    "print(\"\\n\")\n",
    "print(joined_df.isnull().sum())\n",
    "print(\"\\n\")\n",
    "print(joined_df.tail())"
   ]
  },
  {
   "cell_type": "markdown",
   "metadata": {},
   "source": [
    "## Calculating Historical Daily Returns:"
   ]
  },
  {
   "cell_type": "code",
   "execution_count": 78,
   "metadata": {},
   "outputs": [
    {
     "data": {
      "text/html": [
       "<div>\n",
       "<style scoped>\n",
       "    .dataframe tbody tr th:only-of-type {\n",
       "        vertical-align: middle;\n",
       "    }\n",
       "\n",
       "    .dataframe tbody tr th {\n",
       "        vertical-align: top;\n",
       "    }\n",
       "\n",
       "    .dataframe thead th {\n",
       "        text-align: right;\n",
       "    }\n",
       "</style>\n",
       "<table border=\"1\" class=\"dataframe\">\n",
       "  <thead>\n",
       "    <tr style=\"text-align: right;\">\n",
       "      <th></th>\n",
       "      <th>dollar_return</th>\n",
       "      <th>gold_return</th>\n",
       "      <th>bitcoin_return</th>\n",
       "      <th>sp500_return</th>\n",
       "    </tr>\n",
       "    <tr>\n",
       "      <th>Date</th>\n",
       "      <th></th>\n",
       "      <th></th>\n",
       "      <th></th>\n",
       "      <th></th>\n",
       "    </tr>\n",
       "  </thead>\n",
       "  <tbody>\n",
       "    <tr>\n",
       "      <th>2017-01-04</th>\n",
       "      <td>-0.004748</td>\n",
       "      <td>0.002930</td>\n",
       "      <td>0.106233</td>\n",
       "      <td>0.005722</td>\n",
       "    </tr>\n",
       "    <tr>\n",
       "      <th>2017-01-05</th>\n",
       "      <td>-0.011489</td>\n",
       "      <td>0.013662</td>\n",
       "      <td>-0.122410</td>\n",
       "      <td>-0.000771</td>\n",
       "    </tr>\n",
       "    <tr>\n",
       "      <th>2017-01-06</th>\n",
       "      <td>0.006698</td>\n",
       "      <td>-0.006612</td>\n",
       "      <td>-0.109712</td>\n",
       "      <td>0.003517</td>\n",
       "    </tr>\n",
       "    <tr>\n",
       "      <th>2017-01-09</th>\n",
       "      <td>-0.002935</td>\n",
       "      <td>0.009898</td>\n",
       "      <td>0.000698</td>\n",
       "      <td>-0.003549</td>\n",
       "    </tr>\n",
       "    <tr>\n",
       "      <th>2017-01-10</th>\n",
       "      <td>0.000883</td>\n",
       "      <td>0.000591</td>\n",
       "      <td>0.005372</td>\n",
       "      <td>0.000000</td>\n",
       "    </tr>\n",
       "  </tbody>\n",
       "</table>\n",
       "</div>"
      ],
      "text/plain": [
       "            dollar_return  gold_return  bitcoin_return  sp500_return\n",
       "Date                                                                \n",
       "2017-01-04      -0.004748     0.002930        0.106233      0.005722\n",
       "2017-01-05      -0.011489     0.013662       -0.122410     -0.000771\n",
       "2017-01-06       0.006698    -0.006612       -0.109712      0.003517\n",
       "2017-01-09      -0.002935     0.009898        0.000698     -0.003549\n",
       "2017-01-10       0.000883     0.000591        0.005372      0.000000"
      ]
     },
     "execution_count": 78,
     "metadata": {},
     "output_type": "execute_result"
    }
   ],
   "source": [
    "joined_returns_df = pd.DataFrame()\n",
    "joined_returns_df['dollar_return'] = joined_df['dollar_Adj Close'].pct_change()\n",
    "joined_returns_df['gold_return'] = joined_df['gold_Adj Close'].pct_change()\n",
    "joined_returns_df['bitcoin_return'] = joined_df['bitcoin_Adj Close'].pct_change()\n",
    "joined_returns_df['sp500_return'] = joined_df['sp500_Adj Close'].pct_change()\n",
    "joined_returns_df.dropna(inplace=True)\n",
    "joined_returns_df.head()"
   ]
  },
  {
   "cell_type": "code",
   "execution_count": null,
   "metadata": {},
   "outputs": [],
   "source": []
  },
  {
   "cell_type": "code",
   "execution_count": null,
   "metadata": {},
   "outputs": [],
   "source": []
  },
  {
   "cell_type": "code",
   "execution_count": 79,
   "metadata": {},
   "outputs": [
    {
     "data": {
      "text/html": [
       "<div>\n",
       "<style scoped>\n",
       "    .dataframe tbody tr th:only-of-type {\n",
       "        vertical-align: middle;\n",
       "    }\n",
       "\n",
       "    .dataframe tbody tr th {\n",
       "        vertical-align: top;\n",
       "    }\n",
       "\n",
       "    .dataframe thead th {\n",
       "        text-align: right;\n",
       "    }\n",
       "</style>\n",
       "<table border=\"1\" class=\"dataframe\">\n",
       "  <thead>\n",
       "    <tr style=\"text-align: right;\">\n",
       "      <th></th>\n",
       "      <th>count</th>\n",
       "      <th>mean</th>\n",
       "      <th>std</th>\n",
       "      <th>min</th>\n",
       "      <th>25%</th>\n",
       "      <th>50%</th>\n",
       "      <th>75%</th>\n",
       "      <th>max</th>\n",
       "    </tr>\n",
       "  </thead>\n",
       "  <tbody>\n",
       "    <tr>\n",
       "      <th>dollar_return</th>\n",
       "      <td>993.0</td>\n",
       "      <td>-0.000131</td>\n",
       "      <td>0.003862</td>\n",
       "      <td>-0.015347</td>\n",
       "      <td>-0.002546</td>\n",
       "      <td>-0.000108</td>\n",
       "      <td>0.002112</td>\n",
       "      <td>0.020386</td>\n",
       "    </tr>\n",
       "    <tr>\n",
       "      <th>gold_return</th>\n",
       "      <td>993.0</td>\n",
       "      <td>0.000527</td>\n",
       "      <td>0.009030</td>\n",
       "      <td>-0.049787</td>\n",
       "      <td>-0.003646</td>\n",
       "      <td>0.000696</td>\n",
       "      <td>0.004885</td>\n",
       "      <td>0.059477</td>\n",
       "    </tr>\n",
       "    <tr>\n",
       "      <th>bitcoin_return</th>\n",
       "      <td>993.0</td>\n",
       "      <td>0.004528</td>\n",
       "      <td>0.049450</td>\n",
       "      <td>-0.371695</td>\n",
       "      <td>-0.015229</td>\n",
       "      <td>0.002530</td>\n",
       "      <td>0.023845</td>\n",
       "      <td>0.252472</td>\n",
       "    </tr>\n",
       "    <tr>\n",
       "      <th>sp500_return</th>\n",
       "      <td>993.0</td>\n",
       "      <td>0.000588</td>\n",
       "      <td>0.012883</td>\n",
       "      <td>-0.119841</td>\n",
       "      <td>-0.002826</td>\n",
       "      <td>0.000837</td>\n",
       "      <td>0.005701</td>\n",
       "      <td>0.093828</td>\n",
       "    </tr>\n",
       "  </tbody>\n",
       "</table>\n",
       "</div>"
      ],
      "text/plain": [
       "                count      mean       std       min       25%       50%  \\\n",
       "dollar_return   993.0 -0.000131  0.003862 -0.015347 -0.002546 -0.000108   \n",
       "gold_return     993.0  0.000527  0.009030 -0.049787 -0.003646  0.000696   \n",
       "bitcoin_return  993.0  0.004528  0.049450 -0.371695 -0.015229  0.002530   \n",
       "sp500_return    993.0  0.000588  0.012883 -0.119841 -0.002826  0.000837   \n",
       "\n",
       "                     75%       max  \n",
       "dollar_return   0.002112  0.020386  \n",
       "gold_return     0.004885  0.059477  \n",
       "bitcoin_return  0.023845  0.252472  \n",
       "sp500_return    0.005701  0.093828  "
      ]
     },
     "execution_count": 79,
     "metadata": {},
     "output_type": "execute_result"
    }
   ],
   "source": [
    "joined_returns_df.describe().T"
   ]
  },
  {
   "cell_type": "code",
   "execution_count": 80,
   "metadata": {},
   "outputs": [
    {
     "data": {
      "text/plain": [
       "dollar_return    -0.033078\n",
       "gold_return       0.132696\n",
       "bitcoin_return    1.141156\n",
       "sp500_return      0.148287\n",
       "dtype: float64"
      ]
     },
     "execution_count": 80,
     "metadata": {},
     "output_type": "execute_result"
    }
   ],
   "source": [
    "joined_returns_df.mean()*252"
   ]
  },
  {
   "cell_type": "code",
   "execution_count": 81,
   "metadata": {},
   "outputs": [
    {
     "data": {
      "text/html": [
       "<div>\n",
       "<style scoped>\n",
       "    .dataframe tbody tr th:only-of-type {\n",
       "        vertical-align: middle;\n",
       "    }\n",
       "\n",
       "    .dataframe tbody tr th {\n",
       "        vertical-align: top;\n",
       "    }\n",
       "\n",
       "    .dataframe thead th {\n",
       "        text-align: right;\n",
       "    }\n",
       "</style>\n",
       "<table border=\"1\" class=\"dataframe\">\n",
       "  <thead>\n",
       "    <tr style=\"text-align: right;\">\n",
       "      <th></th>\n",
       "      <th>dollar_return</th>\n",
       "      <th>gold_return</th>\n",
       "      <th>bitcoin_return</th>\n",
       "      <th>sp500_return</th>\n",
       "    </tr>\n",
       "  </thead>\n",
       "  <tbody>\n",
       "    <tr>\n",
       "      <th>dollar_return</th>\n",
       "      <td>0.003759</td>\n",
       "      <td>-0.003382</td>\n",
       "      <td>-0.002072</td>\n",
       "      <td>-0.000275</td>\n",
       "    </tr>\n",
       "    <tr>\n",
       "      <th>gold_return</th>\n",
       "      <td>-0.003382</td>\n",
       "      <td>0.020547</td>\n",
       "      <td>0.014148</td>\n",
       "      <td>0.002097</td>\n",
       "    </tr>\n",
       "    <tr>\n",
       "      <th>bitcoin_return</th>\n",
       "      <td>-0.002072</td>\n",
       "      <td>0.014148</td>\n",
       "      <td>0.616211</td>\n",
       "      <td>0.029614</td>\n",
       "    </tr>\n",
       "    <tr>\n",
       "      <th>sp500_return</th>\n",
       "      <td>-0.000275</td>\n",
       "      <td>0.002097</td>\n",
       "      <td>0.029614</td>\n",
       "      <td>0.041823</td>\n",
       "    </tr>\n",
       "  </tbody>\n",
       "</table>\n",
       "</div>"
      ],
      "text/plain": [
       "                dollar_return  gold_return  bitcoin_return  sp500_return\n",
       "dollar_return        0.003759    -0.003382       -0.002072     -0.000275\n",
       "gold_return         -0.003382     0.020547        0.014148      0.002097\n",
       "bitcoin_return      -0.002072     0.014148        0.616211      0.029614\n",
       "sp500_return        -0.000275     0.002097        0.029614      0.041823"
      ]
     },
     "execution_count": 81,
     "metadata": {},
     "output_type": "execute_result"
    }
   ],
   "source": [
    "joined_returns_df.cov()*252"
   ]
  },
  {
   "cell_type": "code",
   "execution_count": null,
   "metadata": {},
   "outputs": [],
   "source": []
  },
  {
   "cell_type": "code",
   "execution_count": null,
   "metadata": {},
   "outputs": [],
   "source": []
  },
  {
   "cell_type": "markdown",
   "metadata": {},
   "source": [
    "# If Economic Environment Under \"Normal\" (2017 - 2019):"
   ]
  },
  {
   "cell_type": "code",
   "execution_count": 82,
   "metadata": {},
   "outputs": [
    {
     "data": {
      "text/html": [
       "<div>\n",
       "<style scoped>\n",
       "    .dataframe tbody tr th:only-of-type {\n",
       "        vertical-align: middle;\n",
       "    }\n",
       "\n",
       "    .dataframe tbody tr th {\n",
       "        vertical-align: top;\n",
       "    }\n",
       "\n",
       "    .dataframe thead th {\n",
       "        text-align: right;\n",
       "    }\n",
       "</style>\n",
       "<table border=\"1\" class=\"dataframe\">\n",
       "  <thead>\n",
       "    <tr style=\"text-align: right;\">\n",
       "      <th></th>\n",
       "      <th>dollar_return</th>\n",
       "      <th>gold_return</th>\n",
       "      <th>bitcoin_return</th>\n",
       "    </tr>\n",
       "    <tr>\n",
       "      <th>Date</th>\n",
       "      <th></th>\n",
       "      <th></th>\n",
       "      <th></th>\n",
       "    </tr>\n",
       "  </thead>\n",
       "  <tbody>\n",
       "    <tr>\n",
       "      <th>2019-12-23</th>\n",
       "      <td>-0.000308</td>\n",
       "      <td>0.005289</td>\n",
       "      <td>0.018952</td>\n",
       "    </tr>\n",
       "    <tr>\n",
       "      <th>2019-12-26</th>\n",
       "      <td>-0.001337</td>\n",
       "      <td>0.018078</td>\n",
       "      <td>-0.015860</td>\n",
       "    </tr>\n",
       "    <tr>\n",
       "      <th>2019-12-27</th>\n",
       "      <td>-0.005767</td>\n",
       "      <td>0.002982</td>\n",
       "      <td>0.007062</td>\n",
       "    </tr>\n",
       "    <tr>\n",
       "      <th>2019-12-30</th>\n",
       "      <td>-0.001450</td>\n",
       "      <td>0.000462</td>\n",
       "      <td>0.000399</td>\n",
       "    </tr>\n",
       "    <tr>\n",
       "      <th>2019-12-31</th>\n",
       "      <td>-0.003630</td>\n",
       "      <td>0.003301</td>\n",
       "      <td>-0.013630</td>\n",
       "    </tr>\n",
       "  </tbody>\n",
       "</table>\n",
       "</div>"
      ],
      "text/plain": [
       "            dollar_return  gold_return  bitcoin_return\n",
       "Date                                                  \n",
       "2019-12-23      -0.000308     0.005289        0.018952\n",
       "2019-12-26      -0.001337     0.018078       -0.015860\n",
       "2019-12-27      -0.005767     0.002982        0.007062\n",
       "2019-12-30      -0.001450     0.000462        0.000399\n",
       "2019-12-31      -0.003630     0.003301       -0.013630"
      ]
     },
     "execution_count": 82,
     "metadata": {},
     "output_type": "execute_result"
    }
   ],
   "source": [
    "# Portfolio Returns under \"Normal\" 2017-2019 Scenario:\n",
    "joined_returns_normal = joined_returns_df['20170101':'20191231'].drop(columns='sp500_return')\n",
    "joined_returns_normal.tail()"
   ]
  },
  {
   "cell_type": "markdown",
   "metadata": {},
   "source": [
    "### Method A: Finding \"Optimal\" Weighting based on Trials for Different Weighting: "
   ]
  },
  {
   "cell_type": "code",
   "execution_count": 83,
   "metadata": {},
   "outputs": [],
   "source": [
    "# Set Number of Trials:\n",
    "num_trials = 1000\n",
    "\n",
    "# Set Empty Array to Hold Values:\n",
    "trial_weights_normal = np.zeros((num_trials, 3))  # np.zeros(shape) # 3 for three assets\n",
    "trial_returns_normal = np.zeros(num_trials)\n",
    "trial_std_normal = np.zeros(num_trials)\n",
    "trial_sharpe_normal = np.zeros(num_trials)"
   ]
  },
  {
   "cell_type": "markdown",
   "metadata": {},
   "source": [
    "#### Portfolio Standard Deviation Formula:\n",
    "![Cov](Resources/cov.png)"
   ]
  },
  {
   "cell_type": "code",
   "execution_count": 84,
   "metadata": {},
   "outputs": [],
   "source": [
    "# Trials for Different Random Weights:\n",
    "for trial in range(num_trials):\n",
    "\n",
    "    # Create Random Weights\n",
    "    random_weights = np.array(np.random.random(3))\n",
    "\n",
    "    # Rebalance Weights\n",
    "    random_weights = random_weights / np.sum(random_weights)\n",
    "    \n",
    "    # Save Weights\n",
    "    trial_weights_normal[trial,:] = random_weights\n",
    "\n",
    "    # Expected Return\n",
    "    trial_returns_normal[trial] = np.sum((joined_returns_normal.mean() * random_weights) *252)\n",
    "\n",
    "    # Expected Std\n",
    "    trial_std_normal[trial] = np.sqrt(np.dot(random_weights.T, np.dot(joined_returns_normal.cov() * 252, random_weights)))\n",
    "\n",
    "    # Sharpe Ratio\n",
    "    trial_sharpe_normal[trial] = trial_returns_normal[trial] / trial_std_normal[trial]"
   ]
  },
  {
   "cell_type": "code",
   "execution_count": 85,
   "metadata": {},
   "outputs": [
    {
     "name": "stdout",
     "output_type": "stream",
     "text": [
      "Best Trial Weight in Dollar Futures: 11.6%\n",
      "Best Trial Weight in Gold Futures: 75.4%\n",
      "Best Trial Weight in Bitcoin: 12.9%\n",
      "-------------------------------------------------\n",
      "Best Trial Portfolio Return: 0.197\n",
      "Best Trial Portfolio Standard Deviation/Volatility: 0.134\n",
      "Best Trial Portfolio Sharpe: 1.4692\n"
     ]
    }
   ],
   "source": [
    "# Calculating Returns & Risk for the Specific Trail which gives the Highest Sharp Ratio:\n",
    "\n",
    "# Finding the indices of the maximum shape value along an axis:\n",
    "index_of_max_sharpe_normal = trial_sharpe_normal.argmax()  \n",
    "max_weight_normal = trial_weights_normal[index_of_max_sharpe_normal, :]\n",
    "\n",
    "max_return_normal = trial_returns_normal[index_of_max_sharpe_normal]\n",
    "max_std_normal = trial_std_normal[index_of_max_sharpe_normal]\n",
    "max_sharpe_normal = max_return_normal / max_std_normal\n",
    "\n",
    "print(f\"Best Trial Weight in Dollar Futures: {max_weight_normal[0]:.1%}\")\n",
    "print(f\"Best Trial Weight in Gold Futures: {max_weight_normal[1]:.1%}\")\n",
    "print(f\"Best Trial Weight in Bitcoin: {max_weight_normal[2]:.1%}\")\n",
    "print(\"-------------------------------------------------\")\n",
    "print(f\"Best Trial Portfolio Return: {max_return_normal:0.3}\")\n",
    "print(f\"Best Trial Portfolio Standard Deviation/Volatility: {max_std_normal:0.3}\")\n",
    "print(f\"Best Trial Portfolio Sharpe: {max_sharpe_normal:0.5}\")"
   ]
  },
  {
   "cell_type": "markdown",
   "metadata": {},
   "source": [
    "### Method B: Mathematical Optimization of the Portfolio:"
   ]
  },
  {
   "cell_type": "code",
   "execution_count": 86,
   "metadata": {},
   "outputs": [],
   "source": [
    "import scipy\n",
    "from scipy.optimize import minimize\n"
   ]
  },
  {
   "cell_type": "code",
   "execution_count": 87,
   "metadata": {},
   "outputs": [],
   "source": [
    "# Define a Function which Returns the Portfolio returns, standard deviation, and sharpe:\n",
    "def cal_returns_std_sharpe(weights):\n",
    "    weights = np.array(weights)\n",
    "    returns = np.sum(joined_returns_normal.mean()*weights)*252\n",
    "    std = np.sqrt(np.dot(weights.T, np.dot(joined_returns_normal.cov() * 252, weights)))\n",
    "    sharpe_ratios = returns/std\n",
    "    return np.array([returns, std, sharpe_ratios])"
   ]
  },
  {
   "cell_type": "code",
   "execution_count": 88,
   "metadata": {},
   "outputs": [],
   "source": [
    "# Maximizing a Positive Sharpe is SAME as Minimizing a Negative Sharpe:\n",
    "# So the Objective Function to be Minimized:\n",
    "def objective_func(weights):\n",
    "    return cal_returns_std_sharpe(weights)[2]*-1"
   ]
  },
  {
   "cell_type": "code",
   "execution_count": 89,
   "metadata": {},
   "outputs": [],
   "source": [
    "#  Initial Guess (\"x0\") for Weighting (if equally distributed):\n",
    "guess = [0.25, 0.25, 0.25]"
   ]
  },
  {
   "cell_type": "code",
   "execution_count": 90,
   "metadata": {},
   "outputs": [],
   "source": [
    "# Constrians for Weighting:\n",
    "# Sequence of (min, max) pairs for each element in x. None is used to specify no bound.\n",
    "bounds = ((0, 1), (0, 1), (0, 1))"
   ]
  },
  {
   "cell_type": "code",
   "execution_count": 91,
   "metadata": {},
   "outputs": [],
   "source": [
    "# The function defining the constraint that the total weight is one.\n",
    "# Return 0 if sum of weights is 1.0\n",
    "def check_weight(weights):\n",
    "    return np.sum(weights)-1\n",
    "\n",
    "# Constraints for COBYLA, SLSQP are defined as a list of dictionaries:\n",
    "# ‘eq’ for equality, ‘ineq’ for inequality.\n",
    "cons = ({'type':'eq', 'fun':check_weight})"
   ]
  },
  {
   "cell_type": "code",
   "execution_count": 92,
   "metadata": {},
   "outputs": [
    {
     "data": {
      "text/plain": [
       "     fun: -1.4696870105037174\n",
       "     jac: array([-7.01993704e-05,  6.67572021e-06,  1.36196613e-05])\n",
       " message: 'Optimization terminated successfully'\n",
       "    nfev: 41\n",
       "     nit: 10\n",
       "    njev: 10\n",
       "  status: 0\n",
       " success: True\n",
       "       x: array([0.09884906, 0.76229051, 0.13886043])"
      ]
     },
     "execution_count": 92,
     "metadata": {},
     "output_type": "execute_result"
    }
   ],
   "source": [
    "# Minimize a scalar function of one or more variables using Sequential Least Squares Programming (SLSQP).\n",
    "# scipy.optimize.minimize(fun, x0, args=(), method=None, jac=None, hess=None, hessp=None, bounds=None, constraints=(), tol=None, callback=None, options=None)\n",
    "optimzation_results_normal = minimize(objective_func, guess, method='SLSQP', bounds=bounds, constraints=cons)\n",
    "optimzation_results_normal"
   ]
  },
  {
   "cell_type": "code",
   "execution_count": 93,
   "metadata": {},
   "outputs": [
    {
     "name": "stdout",
     "output_type": "stream",
     "text": [
      "Optimized Portfolio Weight in Dollar Futures: 9.9%\n",
      "Optimized Portfolio Weight in Gold Futures: 76.2%\n",
      "Optimized Portfolio Weight in Bitcoin: 13.9%\n",
      "-------------------------------------------------\n",
      "Optimized Portfolio Return: 0.208\n",
      "Optimized Portfolio Standard Deviation/Volatility: 0.141\n",
      "Optimized Portfolio Sharpe Ratio: 1.4697\n"
     ]
    }
   ],
   "source": [
    "# Print Results:\n",
    "optimal_weights_normal = optimzation_results_normal[\"x\"]\n",
    "result_normal = cal_returns_std_sharpe(optimal_weights_normal)\n",
    "print(f\"Optimized Portfolio Weight in Dollar Futures: {optimal_weights_normal[0]:.1%}\")\n",
    "print(f\"Optimized Portfolio Weight in Gold Futures: {optimal_weights_normal[1]:.1%}\")\n",
    "print(f\"Optimized Portfolio Weight in Bitcoin: {optimal_weights_normal[2]:.1%}\")\n",
    "print(\"-------------------------------------------------\")\n",
    "print(f\"Optimized Portfolio Return: {result_normal[0]:0.3}\")\n",
    "print(f\"Optimized Portfolio Standard Deviation/Volatility: {result_normal[1]:0.3}\")\n",
    "print(f\"Optimized Portfolio Sharpe Ratio: {result_normal[2]:0.5}\")"
   ]
  },
  {
   "cell_type": "markdown",
   "metadata": {},
   "source": [
    "### Plotting the Trials and the Best Trial:"
   ]
  },
  {
   "cell_type": "code",
   "execution_count": 94,
   "metadata": {},
   "outputs": [],
   "source": [
    "import hvplot.pandas \n",
    "import holoviews as hv"
   ]
  },
  {
   "cell_type": "code",
   "execution_count": 95,
   "metadata": {},
   "outputs": [
    {
     "data": {
      "application/vnd.holoviews_exec.v0+json": "",
      "text/html": [
       "<div id='2411'>\n",
       "\n",
       "\n",
       "\n",
       "\n",
       "\n",
       "  <div class=\"bk-root\" id=\"f6a60366-3f13-498f-8b6c-ba78e8fcfd9c\" data-root-id=\"2411\"></div>\n",
       "</div>\n",
       "<script type=\"application/javascript\">(function(root) {\n",
       "  function embed_document(root) {\n",
       "  var docs_json = {\"c63db168-f25a-4c54-9c67-5e8fb8ed7a46\":{\"roots\":{\"references\":[{\"attributes\":{},\"id\":\"2475\",\"type\":\"BasicTickFormatter\"},{\"attributes\":{},\"id\":\"2425\",\"type\":\"BasicTicker\"},{\"attributes\":{},\"id\":\"2479\",\"type\":\"UnionRenderers\"},{\"attributes\":{\"fill_color\":{\"field\":\"color\",\"transform\":{\"id\":\"2448\"}},\"line_color\":{\"field\":\"color\",\"transform\":{\"id\":\"2448\"}},\"size\":{\"units\":\"screen\",\"value\":2.449489742783178},\"x\":{\"field\":\"Volatility\"},\"y\":{\"field\":\"Return\"}},\"id\":\"2452\",\"type\":\"Scatter\"},{\"attributes\":{\"axis\":{\"id\":\"2424\"},\"grid_line_color\":null,\"ticker\":null},\"id\":\"2427\",\"type\":\"Grid\"},{\"attributes\":{\"bar_line_color\":\"black\",\"color_mapper\":{\"id\":\"2448\"},\"formatter\":{\"id\":\"2475\"},\"label_standoff\":8,\"location\":[0,0],\"major_label_text_font_size\":\"12.1px\",\"major_tick_line_color\":\"black\",\"ticker\":{\"id\":\"2459\"},\"title_text_font_size\":\"14.3px\"},\"id\":\"2460\",\"type\":\"ColorBar\"},{\"attributes\":{\"axis_label\":\"Return\",\"axis_label_text_font_size\":\"14.3px\",\"bounds\":\"auto\",\"formatter\":{\"id\":\"2446\"},\"major_label_orientation\":\"horizontal\",\"major_label_text_font_size\":\"12.1px\",\"ticker\":{\"id\":\"2429\"}},\"id\":\"2428\",\"type\":\"LinearAxis\"},{\"attributes\":{},\"id\":\"2446\",\"type\":\"BasicTickFormatter\"},{\"attributes\":{\"data_source\":{\"id\":\"2462\"},\"glyph\":{\"id\":\"2465\"},\"hover_glyph\":null,\"muted_glyph\":{\"id\":\"2467\"},\"nonselection_glyph\":{\"id\":\"2466\"},\"selection_glyph\":null,\"view\":{\"id\":\"2469\"}},\"id\":\"2468\",\"type\":\"GlyphRenderer\"},{\"attributes\":{\"source\":{\"id\":\"2462\"}},\"id\":\"2469\",\"type\":\"CDSView\"},{\"attributes\":{},\"id\":\"2429\",\"type\":\"BasicTicker\"},{\"attributes\":{\"fill_alpha\":{\"value\":0.2},\"fill_color\":{\"value\":\"blue\"},\"line_alpha\":{\"value\":0.2},\"size\":{\"units\":\"screen\",\"value\":10},\"x\":{\"field\":\"x\"},\"y\":{\"field\":\"y\"}},\"id\":\"2467\",\"type\":\"Scatter\"},{\"attributes\":{},\"id\":\"2444\",\"type\":\"BasicTickFormatter\"},{\"attributes\":{\"axis\":{\"id\":\"2428\"},\"dimension\":1,\"grid_line_color\":null,\"ticker\":null},\"id\":\"2431\",\"type\":\"Grid\"},{\"attributes\":{\"fill_color\":{\"field\":\"color\",\"transform\":{\"id\":\"2448\"}},\"line_color\":{\"field\":\"color\",\"transform\":{\"id\":\"2448\"}},\"size\":{\"units\":\"screen\",\"value\":2.449489742783178},\"x\":{\"field\":\"Volatility\"},\"y\":{\"field\":\"Return\"}},\"id\":\"2454\",\"type\":\"Scatter\"},{\"attributes\":{},\"id\":\"2459\",\"type\":\"BasicTicker\"},{\"attributes\":{},\"id\":\"2463\",\"type\":\"Selection\"},{\"attributes\":{\"children\":[{\"id\":\"2412\"},{\"id\":\"2415\"},{\"id\":\"2571\"}],\"margin\":[0,0,0,0],\"name\":\"Row04354\",\"tags\":[\"embedded\"]},\"id\":\"2411\",\"type\":\"Row\"},{\"attributes\":{\"data_source\":{\"id\":\"2449\"},\"glyph\":{\"id\":\"2452\"},\"hover_glyph\":{\"id\":\"2455\"},\"muted_glyph\":{\"id\":\"2456\"},\"nonselection_glyph\":{\"id\":\"2453\"},\"selection_glyph\":{\"id\":\"2454\"},\"view\":{\"id\":\"2458\"}},\"id\":\"2457\",\"type\":\"GlyphRenderer\"},{\"attributes\":{},\"id\":\"2481\",\"type\":\"UnionRenderers\"},{\"attributes\":{\"end\":1.1303394756006395,\"reset_end\":1.1303394756006395,\"reset_start\":-0.20435621787856473,\"start\":-0.20435621787856473,\"tags\":[[[\"Return\",\"Return\",null]]]},\"id\":\"2414\",\"type\":\"Range1d\"},{\"attributes\":{},\"id\":\"2432\",\"type\":\"SaveTool\"},{\"attributes\":{\"fill_alpha\":{\"value\":0.2},\"fill_color\":{\"field\":\"color\",\"transform\":{\"id\":\"2448\"}},\"line_alpha\":{\"value\":0.2},\"line_color\":{\"field\":\"color\",\"transform\":{\"id\":\"2448\"}},\"size\":{\"units\":\"screen\",\"value\":2.449489742783178},\"x\":{\"field\":\"Volatility\"},\"y\":{\"field\":\"Return\"}},\"id\":\"2456\",\"type\":\"Scatter\"},{\"attributes\":{},\"id\":\"2433\",\"type\":\"PanTool\"},{\"attributes\":{},\"id\":\"2434\",\"type\":\"WheelZoomTool\"},{\"attributes\":{\"source\":{\"id\":\"2449\"}},\"id\":\"2458\",\"type\":\"CDSView\"},{\"attributes\":{\"fill_alpha\":{\"value\":0.1},\"fill_color\":{\"value\":\"blue\"},\"line_alpha\":{\"value\":0.1},\"size\":{\"units\":\"screen\",\"value\":10},\"x\":{\"field\":\"x\"},\"y\":{\"field\":\"y\"}},\"id\":\"2466\",\"type\":\"Scatter\"},{\"attributes\":{\"margin\":[5,5,5,5],\"name\":\"HSpacer04358\",\"sizing_mode\":\"stretch_width\"},\"id\":\"2412\",\"type\":\"Spacer\"},{\"attributes\":{\"fill_color\":{\"value\":\"blue\"},\"size\":{\"units\":\"screen\",\"value\":10},\"x\":{\"field\":\"x\"},\"y\":{\"field\":\"y\"}},\"id\":\"2465\",\"type\":\"Scatter\"},{\"attributes\":{\"overlay\":{\"id\":\"2437\"}},\"id\":\"2435\",\"type\":\"BoxZoomTool\"},{\"attributes\":{\"high\":1.4692111369072907,\"low\":-0.27717488888009445,\"palette\":[\"#0c0786\",\"#100787\",\"#130689\",\"#15068a\",\"#18068b\",\"#1b068c\",\"#1d068d\",\"#1f058e\",\"#21058f\",\"#230590\",\"#250591\",\"#270592\",\"#290593\",\"#2b0594\",\"#2d0494\",\"#2f0495\",\"#310496\",\"#330497\",\"#340498\",\"#360498\",\"#380499\",\"#3a049a\",\"#3b039a\",\"#3d039b\",\"#3f039c\",\"#40039c\",\"#42039d\",\"#44039e\",\"#45039e\",\"#47029f\",\"#49029f\",\"#4a02a0\",\"#4c02a1\",\"#4e02a1\",\"#4f02a2\",\"#5101a2\",\"#5201a3\",\"#5401a3\",\"#5601a3\",\"#5701a4\",\"#5901a4\",\"#5a00a5\",\"#5c00a5\",\"#5e00a5\",\"#5f00a6\",\"#6100a6\",\"#6200a6\",\"#6400a7\",\"#6500a7\",\"#6700a7\",\"#6800a7\",\"#6a00a7\",\"#6c00a8\",\"#6d00a8\",\"#6f00a8\",\"#7000a8\",\"#7200a8\",\"#7300a8\",\"#7500a8\",\"#7601a8\",\"#7801a8\",\"#7901a8\",\"#7b02a8\",\"#7c02a7\",\"#7e03a7\",\"#7f03a7\",\"#8104a7\",\"#8204a7\",\"#8405a6\",\"#8506a6\",\"#8607a6\",\"#8807a5\",\"#8908a5\",\"#8b09a4\",\"#8c0aa4\",\"#8e0ca4\",\"#8f0da3\",\"#900ea3\",\"#920fa2\",\"#9310a1\",\"#9511a1\",\"#9612a0\",\"#9713a0\",\"#99149f\",\"#9a159e\",\"#9b179e\",\"#9d189d\",\"#9e199c\",\"#9f1a9b\",\"#a01b9b\",\"#a21c9a\",\"#a31d99\",\"#a41e98\",\"#a51f97\",\"#a72197\",\"#a82296\",\"#a92395\",\"#aa2494\",\"#ac2593\",\"#ad2692\",\"#ae2791\",\"#af2890\",\"#b02a8f\",\"#b12b8f\",\"#b22c8e\",\"#b42d8d\",\"#b52e8c\",\"#b62f8b\",\"#b7308a\",\"#b83289\",\"#b93388\",\"#ba3487\",\"#bb3586\",\"#bc3685\",\"#bd3784\",\"#be3883\",\"#bf3982\",\"#c03b81\",\"#c13c80\",\"#c23d80\",\"#c33e7f\",\"#c43f7e\",\"#c5407d\",\"#c6417c\",\"#c7427b\",\"#c8447a\",\"#c94579\",\"#ca4678\",\"#cb4777\",\"#cc4876\",\"#cd4975\",\"#ce4a75\",\"#cf4b74\",\"#d04d73\",\"#d14e72\",\"#d14f71\",\"#d25070\",\"#d3516f\",\"#d4526e\",\"#d5536d\",\"#d6556d\",\"#d7566c\",\"#d7576b\",\"#d8586a\",\"#d95969\",\"#da5a68\",\"#db5b67\",\"#dc5d66\",\"#dc5e66\",\"#dd5f65\",\"#de6064\",\"#df6163\",\"#df6262\",\"#e06461\",\"#e16560\",\"#e26660\",\"#e3675f\",\"#e3685e\",\"#e46a5d\",\"#e56b5c\",\"#e56c5b\",\"#e66d5a\",\"#e76e5a\",\"#e87059\",\"#e87158\",\"#e97257\",\"#ea7356\",\"#ea7455\",\"#eb7654\",\"#ec7754\",\"#ec7853\",\"#ed7952\",\"#ed7b51\",\"#ee7c50\",\"#ef7d4f\",\"#ef7e4e\",\"#f0804d\",\"#f0814d\",\"#f1824c\",\"#f2844b\",\"#f2854a\",\"#f38649\",\"#f38748\",\"#f48947\",\"#f48a47\",\"#f58b46\",\"#f58d45\",\"#f68e44\",\"#f68f43\",\"#f69142\",\"#f79241\",\"#f79341\",\"#f89540\",\"#f8963f\",\"#f8983e\",\"#f9993d\",\"#f99a3c\",\"#fa9c3b\",\"#fa9d3a\",\"#fa9f3a\",\"#faa039\",\"#fba238\",\"#fba337\",\"#fba436\",\"#fca635\",\"#fca735\",\"#fca934\",\"#fcaa33\",\"#fcac32\",\"#fcad31\",\"#fdaf31\",\"#fdb030\",\"#fdb22f\",\"#fdb32e\",\"#fdb52d\",\"#fdb62d\",\"#fdb82c\",\"#fdb92b\",\"#fdbb2b\",\"#fdbc2a\",\"#fdbe29\",\"#fdc029\",\"#fdc128\",\"#fdc328\",\"#fdc427\",\"#fdc626\",\"#fcc726\",\"#fcc926\",\"#fccb25\",\"#fccc25\",\"#fcce25\",\"#fbd024\",\"#fbd124\",\"#fbd324\",\"#fad524\",\"#fad624\",\"#fad824\",\"#f9d924\",\"#f9db24\",\"#f8dd24\",\"#f8df24\",\"#f7e024\",\"#f7e225\",\"#f6e425\",\"#f6e525\",\"#f5e726\",\"#f5e926\",\"#f4ea26\",\"#f3ec26\",\"#f3ee26\",\"#f2f026\",\"#f2f126\",\"#f1f326\",\"#f0f525\",\"#f0f623\",\"#eff821\"]},\"id\":\"2448\",\"type\":\"LinearColorMapper\"},{\"attributes\":{},\"id\":\"2436\",\"type\":\"ResetTool\"},{\"attributes\":{\"end\":0.8653694559338878,\"reset_end\":0.8653694559338878,\"reset_start\":-0.05466770263772663,\"start\":-0.05466770263772663,\"tags\":[[[\"Volatility\",\"Volatility\",null]]]},\"id\":\"2413\",\"type\":\"Range1d\"},{\"attributes\":{},\"id\":\"2450\",\"type\":\"Selection\"},{\"attributes\":{\"active_drag\":\"auto\",\"active_inspect\":\"auto\",\"active_multi\":null,\"active_scroll\":{\"id\":\"2434\"},\"active_tap\":\"auto\",\"tools\":[{\"id\":\"2432\"},{\"id\":\"2433\"},{\"id\":\"2434\"},{\"id\":\"2435\"},{\"id\":\"2436\"}]},\"id\":\"2438\",\"type\":\"Toolbar\"},{\"attributes\":{\"data\":{\"x\":{\"__ndarray__\":\"KTrD3psvwT8=\",\"dtype\":\"float64\",\"order\":\"little\",\"shape\":[1]},\"y\":{\"__ndarray__\":\"FhsQUPQ/yT8=\",\"dtype\":\"float64\",\"order\":\"little\",\"shape\":[1]}},\"selected\":{\"id\":\"2463\"},\"selection_policy\":{\"id\":\"2481\"}},\"id\":\"2462\",\"type\":\"ColumnDataSource\"},{\"attributes\":{\"margin\":[5,5,5,5],\"name\":\"HSpacer04359\",\"sizing_mode\":\"stretch_width\"},\"id\":\"2571\",\"type\":\"Spacer\"},{\"attributes\":{\"text\":\"Trials & the Best Trial (Blue Dot) Under \\\"Normal\\\" (2017 - 2019):\",\"text_color\":{\"value\":\"black\"},\"text_font_size\":{\"value\":\"13.2pt\"}},\"id\":\"2416\",\"type\":\"Title\"},{\"attributes\":{\"data\":{\"Return\":{\"__ndarray__\":\"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\",\"dtype\":\"float64\",\"order\":\"little\",\"shape\":[1000]},\"Volatility\":{\"__ndarray__\":\"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\",\"dtype\":\"float64\",\"order\":\"little\",\"shape\":[1000]},\"color\":{\"__ndarray__\":\"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\",\"dtype\":\"float64\",\"order\":\"little\",\"shape\":[1000]}},\"selected\":{\"id\":\"2450\"},\"selection_policy\":{\"id\":\"2479\"}},\"id\":\"2449\",\"type\":\"ColumnDataSource\"},{\"attributes\":{\"fill_color\":{\"field\":\"color\",\"transform\":{\"id\":\"2448\"}},\"line_color\":{\"field\":\"color\",\"transform\":{\"id\":\"2448\"}},\"size\":{\"units\":\"screen\",\"value\":2.449489742783178},\"x\":{\"field\":\"Volatility\"},\"y\":{\"field\":\"Return\"}},\"id\":\"2455\",\"type\":\"Scatter\"},{\"attributes\":{},\"id\":\"2420\",\"type\":\"LinearScale\"},{\"attributes\":{\"fill_alpha\":{\"value\":0.1},\"fill_color\":{\"field\":\"color\",\"transform\":{\"id\":\"2448\"}},\"line_alpha\":{\"value\":0.1},\"line_color\":{\"field\":\"color\",\"transform\":{\"id\":\"2448\"}},\"size\":{\"units\":\"screen\",\"value\":2.449489742783178},\"x\":{\"field\":\"Volatility\"},\"y\":{\"field\":\"Return\"}},\"id\":\"2453\",\"type\":\"Scatter\"},{\"attributes\":{},\"id\":\"2422\",\"type\":\"LinearScale\"},{\"attributes\":{\"bottom_units\":\"screen\",\"fill_alpha\":0.5,\"fill_color\":\"lightgrey\",\"left_units\":\"screen\",\"level\":\"overlay\",\"line_alpha\":1.0,\"line_color\":\"black\",\"line_dash\":[4,4],\"line_width\":2,\"right_units\":\"screen\",\"top_units\":\"screen\"},\"id\":\"2437\",\"type\":\"BoxAnnotation\"},{\"attributes\":{\"axis_label\":\"Volatility\",\"axis_label_text_font_size\":\"14.3px\",\"bounds\":\"auto\",\"formatter\":{\"id\":\"2444\"},\"major_label_orientation\":\"horizontal\",\"major_label_text_font_size\":\"12.1px\",\"ticker\":{\"id\":\"2425\"}},\"id\":\"2424\",\"type\":\"LinearAxis\"},{\"attributes\":{\"below\":[{\"id\":\"2424\"}],\"center\":[{\"id\":\"2427\"},{\"id\":\"2431\"}],\"left\":[{\"id\":\"2428\"}],\"margin\":null,\"min_border_bottom\":10,\"min_border_left\":10,\"min_border_right\":10,\"min_border_top\":10,\"plot_height\":500,\"plot_width\":800,\"renderers\":[{\"id\":\"2457\"},{\"id\":\"2468\"}],\"right\":[{\"id\":\"2460\"}],\"sizing_mode\":\"fixed\",\"title\":{\"id\":\"2416\"},\"toolbar\":{\"id\":\"2438\"},\"x_range\":{\"id\":\"2413\"},\"x_scale\":{\"id\":\"2420\"},\"y_range\":{\"id\":\"2414\"},\"y_scale\":{\"id\":\"2422\"}},\"id\":\"2415\",\"subtype\":\"Figure\",\"type\":\"Plot\"}],\"root_ids\":[\"2411\"]},\"title\":\"Bokeh Application\",\"version\":\"2.1.1\"}};\n",
       "  var render_items = [{\"docid\":\"c63db168-f25a-4c54-9c67-5e8fb8ed7a46\",\"root_ids\":[\"2411\"],\"roots\":{\"2411\":\"f6a60366-3f13-498f-8b6c-ba78e8fcfd9c\"}}];\n",
       "  root.Bokeh.embed.embed_items_notebook(docs_json, render_items);\n",
       "  }\n",
       "if (root.Bokeh !== undefined) {\n",
       "    embed_document(root);\n",
       "  } else {\n",
       "    var attempts = 0;\n",
       "    var timer = setInterval(function(root) {\n",
       "      if (root.Bokeh !== undefined) {\n",
       "        clearInterval(timer);\n",
       "        embed_document(root);\n",
       "      } else if (document.readyState == \"complete\") {\n",
       "        attempts++;\n",
       "        if (attempts > 100) {\n",
       "          clearInterval(timer);\n",
       "          console.log(\"Bokeh: ERROR: Unable to run BokehJS code because BokehJS library is missing\");\n",
       "        }\n",
       "      }\n",
       "    }, 10, root)\n",
       "  }\n",
       "})(window);</script>"
      ],
      "text/plain": [
       ":Overlay\n",
       "   .Scatter.I  :Scatter   [Volatility]   (Return,Sharpe Ratio)\n",
       "   .Scatter.II :Scatter   [x]   (y)"
      ]
     },
     "execution_count": 95,
     "metadata": {
      "application/vnd.holoviews_exec.v0+json": {
       "id": "2411"
      }
     },
     "output_type": "execute_result"
    }
   ],
   "source": [
    "trail_scatter = hv.Scatter((trial_std_normal, trial_returns_normal, trial_sharpe_normal), \n",
    "                           'Volatility', ['Return', 'Sharpe Ratio']).opts(\n",
    "                            color='Sharpe Ratio', cmap='plasma', width=800, height=500, colorbar=True, padding=0.2\n",
    "                            )\n",
    "\n",
    "trail_max_sharpe = hv.Scatter([(max_std_normal, max_return_normal)]).opts(\n",
    "    title='Trials & the Best Trial (Blue Dot) Under \"Normal\" (2017 - 2019):', active_tools=['wheel_zoom'], \n",
    "    fontscale=1.1, color='blue', line_color='black', size=10\n",
    "    )\n",
    "\n",
    "trail_scatter * trail_max_sharpe"
   ]
  },
  {
   "cell_type": "markdown",
   "metadata": {},
   "source": [
    "### Plotting the Efficent Frontier:\n",
    "The efficient frontier is the set of optimal portfolios that offers the highest expected return for a defined level of risk <br> or the lowest risk for a given level of expected return. "
   ]
  },
  {
   "cell_type": "code",
   "execution_count": 96,
   "metadata": {},
   "outputs": [],
   "source": [
    "# Creat Evenly Spaced Numbers over a Specified Interval:\n",
    "frontier_returns_normal = np.linspace(0, 1, 100)"
   ]
  },
  {
   "cell_type": "code",
   "execution_count": 97,
   "metadata": {},
   "outputs": [],
   "source": [
    "# Define a Empty List to Hold Results:\n",
    "frontier_volatility_normal = []"
   ]
  },
  {
   "cell_type": "code",
   "execution_count": 98,
   "metadata": {},
   "outputs": [],
   "source": [
    "# Define an Object Function that Gives Minimum Volatility:\n",
    "def minimize_volatility(weights):\n",
    "    return cal_returns_std_sharpe(weights)[1]"
   ]
  },
  {
   "cell_type": "code",
   "execution_count": 99,
   "metadata": {},
   "outputs": [],
   "source": [
    "# Calculte Minimul Volatility for Given Possible Returns:\n",
    "for possible_return in frontier_returns_normal:\n",
    "    \n",
    "    # Adding Given Possible Returns as a Constrain:\n",
    "    cons2 = ({'type':'eq', 'fun':check_weight},\n",
    "            {'type':'eq','fun': lambda wight: cal_returns_std_sharpe(wight)[0] - possible_return}\n",
    "           )\n",
    "    \n",
    "    result_normal2 = minimize(minimize_volatility, guess, method='SLSQP', bounds=bounds, constraints=cons2)\n",
    "    \n",
    "    # Store Calculation Results of Objective Function 'fun'-- Minimized Volatility\n",
    "    frontier_volatility_normal.append(result_normal2['fun'])"
   ]
  },
  {
   "cell_type": "code",
   "execution_count": 100,
   "metadata": {},
   "outputs": [
    {
     "data": {
      "application/vnd.holoviews_exec.v0+json": "",
      "text/html": [
       "<div id='2628'>\n",
       "\n",
       "\n",
       "\n",
       "\n",
       "\n",
       "  <div class=\"bk-root\" id=\"75f64cc8-5735-423a-b12a-132476524fc1\" data-root-id=\"2628\"></div>\n",
       "</div>\n",
       "<script type=\"application/javascript\">(function(root) {\n",
       "  function embed_document(root) {\n",
       "  var docs_json = {\"dbb59670-98dd-4a1c-a81f-ee4f20b017fb\":{\"roots\":{\"references\":[{\"attributes\":{},\"id\":\"2649\",\"type\":\"SaveTool\"},{\"attributes\":{\"line_alpha\":0.1,\"line_color\":\"green\",\"line_dash\":[6],\"line_width\":2,\"x\":{\"field\":\"x\"},\"y\":{\"field\":\"y\"}},\"id\":\"2691\",\"type\":\"Line\"},{\"attributes\":{},\"id\":\"2680\",\"type\":\"Selection\"},{\"attributes\":{\"line_color\":\"green\",\"line_dash\":[6],\"line_width\":2,\"x\":{\"field\":\"x\"},\"y\":{\"field\":\"y\"}},\"id\":\"2690\",\"type\":\"Line\"},{\"attributes\":{},\"id\":\"2650\",\"type\":\"PanTool\"},{\"attributes\":{\"data_source\":{\"id\":\"2687\"},\"glyph\":{\"id\":\"2690\"},\"hover_glyph\":null,\"muted_glyph\":{\"id\":\"2692\"},\"nonselection_glyph\":{\"id\":\"2691\"},\"selection_glyph\":null,\"view\":{\"id\":\"2694\"}},\"id\":\"2693\",\"type\":\"GlyphRenderer\"},{\"attributes\":{\"source\":{\"id\":\"2687\"}},\"id\":\"2694\",\"type\":\"CDSView\"},{\"attributes\":{},\"id\":\"2651\",\"type\":\"WheelZoomTool\"},{\"attributes\":{\"overlay\":{\"id\":\"2654\"}},\"id\":\"2652\",\"type\":\"BoxZoomTool\"},{\"attributes\":{\"fill_alpha\":{\"value\":0.2},\"fill_color\":{\"value\":\"red\"},\"line_alpha\":{\"value\":0.2},\"size\":{\"units\":\"screen\",\"value\":10},\"x\":{\"field\":\"x\"},\"y\":{\"field\":\"y\"}},\"id\":\"2684\",\"type\":\"Scatter\"},{\"attributes\":{\"high\":1.4692111369072907,\"low\":-0.27717488888009445,\"palette\":[\"#0c0786\",\"#100787\",\"#130689\",\"#15068a\",\"#18068b\",\"#1b068c\",\"#1d068d\",\"#1f058e\",\"#21058f\",\"#230590\",\"#250591\",\"#270592\",\"#290593\",\"#2b0594\",\"#2d0494\",\"#2f0495\",\"#310496\",\"#330497\",\"#340498\",\"#360498\",\"#380499\",\"#3a049a\",\"#3b039a\",\"#3d039b\",\"#3f039c\",\"#40039c\",\"#42039d\",\"#44039e\",\"#45039e\",\"#47029f\",\"#49029f\",\"#4a02a0\",\"#4c02a1\",\"#4e02a1\",\"#4f02a2\",\"#5101a2\",\"#5201a3\",\"#5401a3\",\"#5601a3\",\"#5701a4\",\"#5901a4\",\"#5a00a5\",\"#5c00a5\",\"#5e00a5\",\"#5f00a6\",\"#6100a6\",\"#6200a6\",\"#6400a7\",\"#6500a7\",\"#6700a7\",\"#6800a7\",\"#6a00a7\",\"#6c00a8\",\"#6d00a8\",\"#6f00a8\",\"#7000a8\",\"#7200a8\",\"#7300a8\",\"#7500a8\",\"#7601a8\",\"#7801a8\",\"#7901a8\",\"#7b02a8\",\"#7c02a7\",\"#7e03a7\",\"#7f03a7\",\"#8104a7\",\"#8204a7\",\"#8405a6\",\"#8506a6\",\"#8607a6\",\"#8807a5\",\"#8908a5\",\"#8b09a4\",\"#8c0aa4\",\"#8e0ca4\",\"#8f0da3\",\"#900ea3\",\"#920fa2\",\"#9310a1\",\"#9511a1\",\"#9612a0\",\"#9713a0\",\"#99149f\",\"#9a159e\",\"#9b179e\",\"#9d189d\",\"#9e199c\",\"#9f1a9b\",\"#a01b9b\",\"#a21c9a\",\"#a31d99\",\"#a41e98\",\"#a51f97\",\"#a72197\",\"#a82296\",\"#a92395\",\"#aa2494\",\"#ac2593\",\"#ad2692\",\"#ae2791\",\"#af2890\",\"#b02a8f\",\"#b12b8f\",\"#b22c8e\",\"#b42d8d\",\"#b52e8c\",\"#b62f8b\",\"#b7308a\",\"#b83289\",\"#b93388\",\"#ba3487\",\"#bb3586\",\"#bc3685\",\"#bd3784\",\"#be3883\",\"#bf3982\",\"#c03b81\",\"#c13c80\",\"#c23d80\",\"#c33e7f\",\"#c43f7e\",\"#c5407d\",\"#c6417c\",\"#c7427b\",\"#c8447a\",\"#c94579\",\"#ca4678\",\"#cb4777\",\"#cc4876\",\"#cd4975\",\"#ce4a75\",\"#cf4b74\",\"#d04d73\",\"#d14e72\",\"#d14f71\",\"#d25070\",\"#d3516f\",\"#d4526e\",\"#d5536d\",\"#d6556d\",\"#d7566c\",\"#d7576b\",\"#d8586a\",\"#d95969\",\"#da5a68\",\"#db5b67\",\"#dc5d66\",\"#dc5e66\",\"#dd5f65\",\"#de6064\",\"#df6163\",\"#df6262\",\"#e06461\",\"#e16560\",\"#e26660\",\"#e3675f\",\"#e3685e\",\"#e46a5d\",\"#e56b5c\",\"#e56c5b\",\"#e66d5a\",\"#e76e5a\",\"#e87059\",\"#e87158\",\"#e97257\",\"#ea7356\",\"#ea7455\",\"#eb7654\",\"#ec7754\",\"#ec7853\",\"#ed7952\",\"#ed7b51\",\"#ee7c50\",\"#ef7d4f\",\"#ef7e4e\",\"#f0804d\",\"#f0814d\",\"#f1824c\",\"#f2844b\",\"#f2854a\",\"#f38649\",\"#f38748\",\"#f48947\",\"#f48a47\",\"#f58b46\",\"#f58d45\",\"#f68e44\",\"#f68f43\",\"#f69142\",\"#f79241\",\"#f79341\",\"#f89540\",\"#f8963f\",\"#f8983e\",\"#f9993d\",\"#f99a3c\",\"#fa9c3b\",\"#fa9d3a\",\"#fa9f3a\",\"#faa039\",\"#fba238\",\"#fba337\",\"#fba436\",\"#fca635\",\"#fca735\",\"#fca934\",\"#fcaa33\",\"#fcac32\",\"#fcad31\",\"#fdaf31\",\"#fdb030\",\"#fdb22f\",\"#fdb32e\",\"#fdb52d\",\"#fdb62d\",\"#fdb82c\",\"#fdb92b\",\"#fdbb2b\",\"#fdbc2a\",\"#fdbe29\",\"#fdc029\",\"#fdc128\",\"#fdc328\",\"#fdc427\",\"#fdc626\",\"#fcc726\",\"#fcc926\",\"#fccb25\",\"#fccc25\",\"#fcce25\",\"#fbd024\",\"#fbd124\",\"#fbd324\",\"#fad524\",\"#fad624\",\"#fad824\",\"#f9d924\",\"#f9db24\",\"#f8dd24\",\"#f8df24\",\"#f7e024\",\"#f7e225\",\"#f6e425\",\"#f6e525\",\"#f5e726\",\"#f5e926\",\"#f4ea26\",\"#f3ec26\",\"#f3ee26\",\"#f2f026\",\"#f2f126\",\"#f1f326\",\"#f0f525\",\"#f0f623\",\"#eff821\"]},\"id\":\"2665\",\"type\":\"LinearColorMapper\"},{\"attributes\":{},\"id\":\"2653\",\"type\":\"ResetTool\"},{\"attributes\":{\"line_alpha\":0.2,\"line_color\":\"green\",\"line_dash\":[6],\"line_width\":2,\"x\":{\"field\":\"x\"},\"y\":{\"field\":\"y\"}},\"id\":\"2692\",\"type\":\"Line\"},{\"attributes\":{\"end\":0.902889049785207,\"reset_end\":0.902889049785207,\"reset_start\":-0.05893948512047393,\"start\":-0.05893948512047393,\"tags\":[[[\"Volatility\",\"Volatility\",null]]]},\"id\":\"2630\",\"type\":\"Range1d\"},{\"attributes\":{},\"id\":\"2667\",\"type\":\"Selection\"},{\"attributes\":{\"bar_line_color\":\"black\",\"color_mapper\":{\"id\":\"2665\"},\"formatter\":{\"id\":\"2700\"},\"label_standoff\":8,\"location\":[0,0],\"major_label_text_font_size\":\"12.1px\",\"major_tick_line_color\":\"black\",\"ticker\":{\"id\":\"2676\"},\"title_text_font_size\":\"14.3px\"},\"id\":\"2677\",\"type\":\"ColorBar\"},{\"attributes\":{\"end\":1.2027370809048785,\"reset_end\":1.2027370809048785,\"reset_start\":-0.21642248542927123,\"start\":-0.21642248542927123,\"tags\":[[[\"Return\",\"Return\",null]]]},\"id\":\"2631\",\"type\":\"Range1d\"},{\"attributes\":{},\"id\":\"2700\",\"type\":\"BasicTickFormatter\"},{\"attributes\":{\"active_drag\":\"auto\",\"active_inspect\":\"auto\",\"active_multi\":null,\"active_scroll\":{\"id\":\"2651\"},\"active_tap\":\"auto\",\"tools\":[{\"id\":\"2649\"},{\"id\":\"2650\"},{\"id\":\"2651\"},{\"id\":\"2652\"},{\"id\":\"2653\"}]},\"id\":\"2655\",\"type\":\"Toolbar\"},{\"attributes\":{},\"id\":\"2704\",\"type\":\"UnionRenderers\"},{\"attributes\":{\"data\":{\"x\":{\"__ndarray__\":\"DteaY+cUwj8=\",\"dtype\":\"float64\",\"order\":\"little\",\"shape\":[1]},\"y\":{\"__ndarray__\":\"5YunNQqTyj8=\",\"dtype\":\"float64\",\"order\":\"little\",\"shape\":[1]}},\"selected\":{\"id\":\"2680\"},\"selection_policy\":{\"id\":\"2706\"}},\"id\":\"2679\",\"type\":\"ColumnDataSource\"},{\"attributes\":{\"fill_color\":{\"value\":\"red\"},\"size\":{\"units\":\"screen\",\"value\":10},\"x\":{\"field\":\"x\"},\"y\":{\"field\":\"y\"}},\"id\":\"2682\",\"type\":\"Scatter\"},{\"attributes\":{\"text\":\"Efficient Frontier & the Optimal Porfolio (Red Dot) Under \\\"Normal\\\" (2017 - 2019):\",\"text_color\":{\"value\":\"black\"},\"text_font_size\":{\"value\":\"13.2pt\"}},\"id\":\"2633\",\"type\":\"Title\"},{\"attributes\":{},\"id\":\"2706\",\"type\":\"UnionRenderers\"},{\"attributes\":{},\"id\":\"2708\",\"type\":\"UnionRenderers\"},{\"attributes\":{},\"id\":\"2637\",\"type\":\"LinearScale\"},{\"attributes\":{},\"id\":\"2639\",\"type\":\"LinearScale\"},{\"attributes\":{\"bottom_units\":\"screen\",\"fill_alpha\":0.5,\"fill_color\":\"lightgrey\",\"left_units\":\"screen\",\"level\":\"overlay\",\"line_alpha\":1.0,\"line_color\":\"black\",\"line_dash\":[4,4],\"line_width\":2,\"right_units\":\"screen\",\"top_units\":\"screen\"},\"id\":\"2654\",\"type\":\"BoxAnnotation\"},{\"attributes\":{\"axis_label\":\"Volatility\",\"axis_label_text_font_size\":\"14.3px\",\"bounds\":\"auto\",\"formatter\":{\"id\":\"2661\"},\"major_label_orientation\":\"horizontal\",\"major_label_text_font_size\":\"12.1px\",\"ticker\":{\"id\":\"2642\"}},\"id\":\"2641\",\"type\":\"LinearAxis\"},{\"attributes\":{\"source\":{\"id\":\"2679\"}},\"id\":\"2686\",\"type\":\"CDSView\"},{\"attributes\":{\"data\":{\"x\":{\"__ndarray__\":\"JUnF1Q6PpD9H7UgSkBGjP8cts9IvG6M/rj63IXPYoz+F1OpnCDKlP17UPE6IDKc/FfaIX59LqT9KITuZB9erP3IWSFi8m64/KvYiwsfFsD/2qf+oEU6yP8SMPeny4rM/UsEVlqSBtT9z1dqkFyi3P+aLmNrA1Lg/8T8HgXSGuj+lT689Qjy8P7Tg3l1/9b0/zgEQSZmxvz+1S5D5DrjAP6I9LK5YmME/pW44S4R5wj8w+cwGc1vDP9R3YV0LPsQ/Uj9bnJQhxT/FpcMxywrGPyNGRbGA+sY/s2sH9vHvxz/RMEuSderIPyZ5EG946ck/HR5jxXrsyj/xuNhvDfPLP8F0bpfP/Mw/KMqirmwJzj9OGgW4mhjPPzXgzmUMFdA/FYJE6tae0D+vsta+kynRP0qtOqQstdE//P4s4o1B0j+Rk4Pypc7SPzRwHzhlXNM/SU4rwb3q0z85jRYRo3nUP8qoEfMJCdU/7aEdUeiY1T+LfoIWNSnWP2ChRwroudY/DWiovPlK1z8gatZsY9zXP/rJ4fgebtg/F2MDyiYA2T+pJSfDdZLZP5Do4DoHJdo/Ymvh6ta32j/ssRXn4ErbP0uv0JQh3ts/36BhoZVx3D/A/78AOgXdP5H1UtwLmd0/cN7bmQgt3j/AFJTOLcHeP5xv1Tp5Vd8/xX//yejp3z8nkCVHPT/gP504Jl2WieA/Nnnlz/7T4D+0hiTXdR7hP1PSB7j6aOE/k8C4w4yz4T/CixZWK/7hP50nNNbVSOI/iSLvs4uT4j+btVJoTN7iP3wBpXQXKeM/LyiZYexz4z+F8ai+yr7jP106FCKyCeQ/+DtpKKJU5D8SXThzmp/kPz0Koqma6uQ/MUu9d6I15T+J7sCNsYDlP3UAQaHHy+U/yQbBaeQW5j8f6bSkB2LmPw39KRIxreY/b5hudGD45j/yzJ6RlUPnP49i3zPQjuc/AcUaJxDa5z8UL8E3VSXoP2ogZjifcOg/6vYY/O276D8H9W1WQQfpPxY6TB6ZUuk/QB4dL/Wd6T/sHFKDidDpPyb8T/wSruk/xWiXSAaN6T8=\",\"dtype\":\"float64\",\"order\":\"little\",\"shape\":[100]},\"y\":{\"__ndarray__\":\"AAAAAAAAAABbv1Kg1q+EP1u/UqDWr5Q/CB988MEHnz9bv1Kg1q+kPzJvZ0jM26k/CB988MEHrz9wZ0jM2xmyP1u/UqDWr7Q/RhdddNFFtz8yb2dIzNu5Px3HcRzHcbw/CB988MEHvz96O0Ni3s7AP3BnSMzbGcI/ZZNNNtlkwz9bv1Kg1q/EP1HrVwrU+sU/RhdddNFFxz88Q2LezpDIPzJvZ0jM28k/J5tssskmyz8dx3Ecx3HMPxPzdobEvM0/CB988MEHzz9/pUCtXynQP3o7Q2LeztA/ddFFF1100T9wZ0jM2xnSP2r9SoFav9I/ZZNNNtlk0z9gKVDrVwrUP1u/UqDWr9Q/VlVVVVVV1T9R61cK1PrVP0yBWr9SoNY/RhdddNFF1z9BrV8pUOvXPzxDYt7OkNg/N9lkk0022T8yb2dIzNvZPy0Fav1Kgdo/J5tssskm2z8iMW9nSMzbPx3HcRzHcdw/GF100UUX3T8T83aGxLzdPw6JeTtDYt4/CB988MEH3z8DtX6lQK3fP3+lQK1fKeA/ffDBBx984D96O0Ni3s7gP3eGxLydIeE/ddFFF1104T9yHMdxHMfhP3BnSMzbGeI/bbLJJpts4j9q/UqBWr/iP2hIzNsZEuM/ZZNNNtlk4z9j3s6QmLfjP2ApUOtXCuQ/XnTRRRdd5D9bv1Kg1q/kP1gK1PqVAuU/VlVVVVVV5T9ToNavFKjlP1HrVwrU+uU/TjbZZJNN5j9MgVq/UqDmP0nM2xkS8+Y/RhdddNFF5z9EYt7OkJjnP0GtXylQ6+c/P/jggw8+6D88Q2LezpDoPzmO4ziO4+g/N9lkk0026T80JObtDInpPzJvZ0jM2+k/L7rooosu6j8tBWr9SoHqPypQ61cK1Oo/J5tssskm6z8l5u0MiXnrPyIxb2dIzOs/IHzwwQcf7D8dx3Ecx3HsPxsS83aGxOw/GF100UUX7T8VqPUrBWrtPxPzdobEvO0/ED744IMP7j8OiXk7Q2LuPwvU+pUCte4/CB988MEH7z8Gav1KgVrvPwO1fqVAre8/AAAAAAAA8D8=\",\"dtype\":\"float64\",\"order\":\"little\",\"shape\":[100]}},\"selected\":{\"id\":\"2688\"},\"selection_policy\":{\"id\":\"2708\"}},\"id\":\"2687\",\"type\":\"ColumnDataSource\"},{\"attributes\":{},\"id\":\"2642\",\"type\":\"BasicTicker\"},{\"attributes\":{\"axis\":{\"id\":\"2641\"},\"grid_line_color\":null,\"ticker\":null},\"id\":\"2644\",\"type\":\"Grid\"},{\"attributes\":{\"below\":[{\"id\":\"2641\"}],\"center\":[{\"id\":\"2644\"},{\"id\":\"2648\"}],\"left\":[{\"id\":\"2645\"}],\"margin\":null,\"min_border_bottom\":10,\"min_border_left\":10,\"min_border_right\":10,\"min_border_top\":10,\"plot_height\":500,\"plot_width\":800,\"renderers\":[{\"id\":\"2674\"},{\"id\":\"2685\"},{\"id\":\"2693\"}],\"right\":[{\"id\":\"2677\"}],\"sizing_mode\":\"fixed\",\"title\":{\"id\":\"2633\"},\"toolbar\":{\"id\":\"2655\"},\"x_range\":{\"id\":\"2630\"},\"x_scale\":{\"id\":\"2637\"},\"y_range\":{\"id\":\"2631\"},\"y_scale\":{\"id\":\"2639\"}},\"id\":\"2632\",\"subtype\":\"Figure\",\"type\":\"Plot\"},{\"attributes\":{\"source\":{\"id\":\"2666\"}},\"id\":\"2675\",\"type\":\"CDSView\"},{\"attributes\":{\"fill_color\":{\"field\":\"color\",\"transform\":{\"id\":\"2665\"}},\"line_color\":{\"field\":\"color\",\"transform\":{\"id\":\"2665\"}},\"size\":{\"units\":\"screen\",\"value\":2.449489742783178},\"x\":{\"field\":\"Volatility\"},\"y\":{\"field\":\"Return\"}},\"id\":\"2671\",\"type\":\"Scatter\"},{\"attributes\":{\"axis_label\":\"Return\",\"axis_label_text_font_size\":\"14.3px\",\"bounds\":\"auto\",\"formatter\":{\"id\":\"2663\"},\"major_label_orientation\":\"horizontal\",\"major_label_text_font_size\":\"12.1px\",\"ticker\":{\"id\":\"2646\"}},\"id\":\"2645\",\"type\":\"LinearAxis\"},{\"attributes\":{\"fill_alpha\":{\"value\":0.1},\"fill_color\":{\"value\":\"red\"},\"line_alpha\":{\"value\":0.1},\"size\":{\"units\":\"screen\",\"value\":10},\"x\":{\"field\":\"x\"},\"y\":{\"field\":\"y\"}},\"id\":\"2683\",\"type\":\"Scatter\"},{\"attributes\":{\"fill_color\":{\"field\":\"color\",\"transform\":{\"id\":\"2665\"}},\"line_color\":{\"field\":\"color\",\"transform\":{\"id\":\"2665\"}},\"size\":{\"units\":\"screen\",\"value\":2.449489742783178},\"x\":{\"field\":\"Volatility\"},\"y\":{\"field\":\"Return\"}},\"id\":\"2672\",\"type\":\"Scatter\"},{\"attributes\":{\"margin\":[5,5,5,5],\"name\":\"HSpacer04761\",\"sizing_mode\":\"stretch_width\"},\"id\":\"2629\",\"type\":\"Spacer\"},{\"attributes\":{\"fill_alpha\":{\"value\":0.1},\"fill_color\":{\"field\":\"color\",\"transform\":{\"id\":\"2665\"}},\"line_alpha\":{\"value\":0.1},\"line_color\":{\"field\":\"color\",\"transform\":{\"id\":\"2665\"}},\"size\":{\"units\":\"screen\",\"value\":2.449489742783178},\"x\":{\"field\":\"Volatility\"},\"y\":{\"field\":\"Return\"}},\"id\":\"2670\",\"type\":\"Scatter\"},{\"attributes\":{\"fill_color\":{\"field\":\"color\",\"transform\":{\"id\":\"2665\"}},\"line_color\":{\"field\":\"color\",\"transform\":{\"id\":\"2665\"}},\"size\":{\"units\":\"screen\",\"value\":2.449489742783178},\"x\":{\"field\":\"Volatility\"},\"y\":{\"field\":\"Return\"}},\"id\":\"2669\",\"type\":\"Scatter\"},{\"attributes\":{},\"id\":\"2646\",\"type\":\"BasicTicker\"},{\"attributes\":{\"data_source\":{\"id\":\"2666\"},\"glyph\":{\"id\":\"2669\"},\"hover_glyph\":{\"id\":\"2672\"},\"muted_glyph\":{\"id\":\"2673\"},\"nonselection_glyph\":{\"id\":\"2670\"},\"selection_glyph\":{\"id\":\"2671\"},\"view\":{\"id\":\"2675\"}},\"id\":\"2674\",\"type\":\"GlyphRenderer\"},{\"attributes\":{\"fill_alpha\":{\"value\":0.2},\"fill_color\":{\"field\":\"color\",\"transform\":{\"id\":\"2665\"}},\"line_alpha\":{\"value\":0.2},\"line_color\":{\"field\":\"color\",\"transform\":{\"id\":\"2665\"}},\"size\":{\"units\":\"screen\",\"value\":2.449489742783178},\"x\":{\"field\":\"Volatility\"},\"y\":{\"field\":\"Return\"}},\"id\":\"2673\",\"type\":\"Scatter\"},{\"attributes\":{\"data_source\":{\"id\":\"2679\"},\"glyph\":{\"id\":\"2682\"},\"hover_glyph\":null,\"muted_glyph\":{\"id\":\"2684\"},\"nonselection_glyph\":{\"id\":\"2683\"},\"selection_glyph\":null,\"view\":{\"id\":\"2686\"}},\"id\":\"2685\",\"type\":\"GlyphRenderer\"},{\"attributes\":{\"axis\":{\"id\":\"2645\"},\"dimension\":1,\"grid_line_color\":null,\"ticker\":null},\"id\":\"2648\",\"type\":\"Grid\"},{\"attributes\":{},\"id\":\"2676\",\"type\":\"BasicTicker\"},{\"attributes\":{},\"id\":\"2663\",\"type\":\"BasicTickFormatter\"},{\"attributes\":{},\"id\":\"2661\",\"type\":\"BasicTickFormatter\"},{\"attributes\":{},\"id\":\"2688\",\"type\":\"Selection\"},{\"attributes\":{\"children\":[{\"id\":\"2629\"},{\"id\":\"2632\"},{\"id\":\"2814\"}],\"margin\":[0,0,0,0],\"name\":\"Row04757\",\"tags\":[\"embedded\"]},\"id\":\"2628\",\"type\":\"Row\"},{\"attributes\":{\"margin\":[5,5,5,5],\"name\":\"HSpacer04762\",\"sizing_mode\":\"stretch_width\"},\"id\":\"2814\",\"type\":\"Spacer\"},{\"attributes\":{\"data\":{\"Return\":{\"__ndarray__\":\"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\",\"dtype\":\"float64\",\"order\":\"little\",\"shape\":[1000]},\"Volatility\":{\"__ndarray__\":\"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\",\"dtype\":\"float64\",\"order\":\"little\",\"shape\":[1000]},\"color\":{\"__ndarray__\":\"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\",\"dtype\":\"float64\",\"order\":\"little\",\"shape\":[1000]}},\"selected\":{\"id\":\"2667\"},\"selection_policy\":{\"id\":\"2704\"}},\"id\":\"2666\",\"type\":\"ColumnDataSource\"}],\"root_ids\":[\"2628\"]},\"title\":\"Bokeh Application\",\"version\":\"2.1.1\"}};\n",
       "  var render_items = [{\"docid\":\"dbb59670-98dd-4a1c-a81f-ee4f20b017fb\",\"root_ids\":[\"2628\"],\"roots\":{\"2628\":\"75f64cc8-5735-423a-b12a-132476524fc1\"}}];\n",
       "  root.Bokeh.embed.embed_items_notebook(docs_json, render_items);\n",
       "  }\n",
       "if (root.Bokeh !== undefined) {\n",
       "    embed_document(root);\n",
       "  } else {\n",
       "    var attempts = 0;\n",
       "    var timer = setInterval(function(root) {\n",
       "      if (root.Bokeh !== undefined) {\n",
       "        clearInterval(timer);\n",
       "        embed_document(root);\n",
       "      } else if (document.readyState == \"complete\") {\n",
       "        attempts++;\n",
       "        if (attempts > 100) {\n",
       "          clearInterval(timer);\n",
       "          console.log(\"Bokeh: ERROR: Unable to run BokehJS code because BokehJS library is missing\");\n",
       "        }\n",
       "      }\n",
       "    }, 10, root)\n",
       "  }\n",
       "})(window);</script>"
      ],
      "text/plain": [
       ":Overlay\n",
       "   .Scatter.I  :Scatter   [Volatility]   (Return,Sharpe Ratio)\n",
       "   .Scatter.II :Scatter   [x]   (y)\n",
       "   .Curve.I    :Curve   [x]   (y)"
      ]
     },
     "execution_count": 100,
     "metadata": {
      "application/vnd.holoviews_exec.v0+json": {
       "id": "2628"
      }
     },
     "output_type": "execute_result"
    }
   ],
   "source": [
    "# Plotting the Optimal Portolio:\n",
    "opt_sharpe_normal = hv.Scatter([(result_normal[1], result_normal[0])]).opts(color='red', line_color='black', size=10)\n",
    "\n",
    "\n",
    "# Plotting the Efficient Frontier:\n",
    "efficient_frontier_normal = trail_scatter * opt_sharpe_normal * \\\n",
    "hv.Curve((frontier_volatility_normal, frontier_returns_normal)).opts(\n",
    "    title='Efficient Frontier & the Optimal Porfolio (Red Dot) Under \"Normal\" (2017 - 2019):', \n",
    "    active_tools=['wheel_zoom'], fontscale=1.1, color='green', line_dash='dashed'\n",
    "    )\n",
    "\n",
    "efficient_frontier_normal"
   ]
  },
  {
   "cell_type": "markdown",
   "metadata": {},
   "source": [
    "# If Economic Environment Under \"Epidemic\" (2020):"
   ]
  },
  {
   "cell_type": "code",
   "execution_count": 101,
   "metadata": {},
   "outputs": [
    {
     "data": {
      "text/html": [
       "<div>\n",
       "<style scoped>\n",
       "    .dataframe tbody tr th:only-of-type {\n",
       "        vertical-align: middle;\n",
       "    }\n",
       "\n",
       "    .dataframe tbody tr th {\n",
       "        vertical-align: top;\n",
       "    }\n",
       "\n",
       "    .dataframe thead th {\n",
       "        text-align: right;\n",
       "    }\n",
       "</style>\n",
       "<table border=\"1\" class=\"dataframe\">\n",
       "  <thead>\n",
       "    <tr style=\"text-align: right;\">\n",
       "      <th></th>\n",
       "      <th>dollar_return</th>\n",
       "      <th>gold_return</th>\n",
       "      <th>bitcoin_return</th>\n",
       "    </tr>\n",
       "    <tr>\n",
       "      <th>Date</th>\n",
       "      <th></th>\n",
       "      <th></th>\n",
       "      <th></th>\n",
       "    </tr>\n",
       "  </thead>\n",
       "  <tbody>\n",
       "    <tr>\n",
       "      <th>2020-12-21</th>\n",
       "      <td>0.000000</td>\n",
       "      <td>-0.003447</td>\n",
       "      <td>-0.014473</td>\n",
       "    </tr>\n",
       "    <tr>\n",
       "      <th>2020-12-22</th>\n",
       "      <td>0.006670</td>\n",
       "      <td>-0.006705</td>\n",
       "      <td>0.042974</td>\n",
       "    </tr>\n",
       "    <tr>\n",
       "      <th>2020-12-23</th>\n",
       "      <td>-0.002319</td>\n",
       "      <td>0.004339</td>\n",
       "      <td>-0.022776</td>\n",
       "    </tr>\n",
       "    <tr>\n",
       "      <th>2020-12-28</th>\n",
       "      <td>-0.000664</td>\n",
       "      <td>0.001334</td>\n",
       "      <td>0.165372</td>\n",
       "    </tr>\n",
       "    <tr>\n",
       "      <th>2020-12-29</th>\n",
       "      <td>-0.003988</td>\n",
       "      <td>0.001332</td>\n",
       "      <td>0.010250</td>\n",
       "    </tr>\n",
       "  </tbody>\n",
       "</table>\n",
       "</div>"
      ],
      "text/plain": [
       "            dollar_return  gold_return  bitcoin_return\n",
       "Date                                                  \n",
       "2020-12-21       0.000000    -0.003447       -0.014473\n",
       "2020-12-22       0.006670    -0.006705        0.042974\n",
       "2020-12-23      -0.002319     0.004339       -0.022776\n",
       "2020-12-28      -0.000664     0.001334        0.165372\n",
       "2020-12-29      -0.003988     0.001332        0.010250"
      ]
     },
     "execution_count": 101,
     "metadata": {},
     "output_type": "execute_result"
    }
   ],
   "source": [
    "# Portfolio Returns under \"Epidemic (2020)\" Scenario:\n",
    "joined_returns_epi = joined_returns_df['20200101':'20201231'].drop(columns='sp500_return')\n",
    "joined_returns_epi.tail()"
   ]
  },
  {
   "cell_type": "markdown",
   "metadata": {},
   "source": [
    "### Method A: Finding \"Optimal\" Weighting based on Trials for Different Weighting: "
   ]
  },
  {
   "cell_type": "code",
   "execution_count": 102,
   "metadata": {},
   "outputs": [],
   "source": [
    "# Set Number of Trials:\n",
    "num_trials = 1000\n",
    "\n",
    "# Set Empty Array to Hold Values:\n",
    "trial_weights_epi = np.zeros((num_trials, 3))  # np.zeros(shape) # 3 for three assets\n",
    "trial_returns_epi = np.zeros(num_trials)\n",
    "trial_std_epi = np.zeros(num_trials)\n",
    "trial_sharpe_epi = np.zeros(num_trials)"
   ]
  },
  {
   "cell_type": "code",
   "execution_count": 103,
   "metadata": {},
   "outputs": [],
   "source": [
    "# Trials for Different Random Weights:\n",
    "for trial in range(num_trials):\n",
    "\n",
    "    # Create Random Weights\n",
    "    random_weights = np.array(np.random.random(3))\n",
    "\n",
    "    # Rebalance Weights\n",
    "    random_weights = random_weights / np.sum(random_weights)\n",
    "    \n",
    "    # Save Weights\n",
    "    trial_weights_epi[trial,:] = random_weights\n",
    "\n",
    "    # Expected Return\n",
    "    trial_returns_epi[trial] = np.sum((joined_returns_epi.mean() * random_weights) *252)\n",
    "\n",
    "    # Expected Std\n",
    "    trial_std_epi[trial] = np.sqrt(np.dot(random_weights.T, np.dot(joined_returns_epi.cov() * 252, random_weights)))\n",
    "\n",
    "    # Sharpe Ratio\n",
    "    trial_sharpe_epi[trial] = trial_returns_epi[trial] / trial_std_epi[trial]"
   ]
  },
  {
   "cell_type": "code",
   "execution_count": 104,
   "metadata": {},
   "outputs": [
    {
     "name": "stdout",
     "output_type": "stream",
     "text": [
      "Best Trial Weight in Dollar Futures: 0.1%\n",
      "Best Trial Weight in Gold Futures: 44.3%\n",
      "Best Trial Weight in Bitcoin: 55.6%\n",
      "-------------------------------------------------\n",
      "Best Trial Portfolio Return: 1.01\n",
      "Best Trial Portfolio Standard Deviation/Volatility: 0.433\n",
      "Best Trial Portfolio Sharpe: 2.3372\n"
     ]
    }
   ],
   "source": [
    "# Calculating Returns & Risk for the Specific Trail which gives the Highest Sharp Ratio:\n",
    "\n",
    "# Finding the indices of the maximum shape value along an axis:\n",
    "index_of_max_sharpe_epi = trial_sharpe_epi.argmax()  \n",
    "max_weight_epi = trial_weights_epi[index_of_max_sharpe_epi, :]\n",
    "\n",
    "max_return_epi = trial_returns_epi[index_of_max_sharpe_epi]\n",
    "max_std_epi = trial_std_epi[index_of_max_sharpe_epi]\n",
    "max_sharpe_epi = max_return_epi / max_std_epi\n",
    "\n",
    "print(f\"Best Trial Weight in Dollar Futures: {max_weight_epi[0]:.1%}\")\n",
    "print(f\"Best Trial Weight in Gold Futures: {max_weight_epi[1]:.1%}\")\n",
    "print(f\"Best Trial Weight in Bitcoin: {max_weight_epi[2]:.1%}\")\n",
    "print(\"-------------------------------------------------\")\n",
    "print(f\"Best Trial Portfolio Return: {max_return_epi:0.3}\")\n",
    "print(f\"Best Trial Portfolio Standard Deviation/Volatility: {max_std_epi:0.3}\")\n",
    "print(f\"Best Trial Portfolio Sharpe: {max_sharpe_epi:0.5}\")"
   ]
  },
  {
   "cell_type": "markdown",
   "metadata": {},
   "source": [
    "### Method B: Mathematical Optimization of the Portfolio:"
   ]
  },
  {
   "cell_type": "code",
   "execution_count": 105,
   "metadata": {},
   "outputs": [],
   "source": [
    "# Define a Function which Returns the Portfolio returns, standard deviation, and sharpe:\n",
    "def cal_returns_std_sharpe(weights):\n",
    "    weights = np.array(weights)\n",
    "    returns = np.sum(joined_returns_epi.mean()*weights)*252\n",
    "    std = np.sqrt(np.dot(weights.T, np.dot(joined_returns_epi.cov() * 252, weights)))\n",
    "    sharpe_ratios = returns/std\n",
    "    return np.array([returns, std, sharpe_ratios])"
   ]
  },
  {
   "cell_type": "code",
   "execution_count": 106,
   "metadata": {},
   "outputs": [],
   "source": [
    "# Maximizing a Positive Sharpe is SAME as Minimizing a Negative Sharpe:\n",
    "# So the Objective Function to be Minimized:\n",
    "def objective_func(weights):\n",
    "    return cal_returns_std_sharpe(weights)[2]*-1"
   ]
  },
  {
   "cell_type": "code",
   "execution_count": 107,
   "metadata": {},
   "outputs": [],
   "source": [
    "#  Initial Guess (\"x0\") for Weighting (if equally distributed):\n",
    "guess = [0.25, 0.25, 0.25]"
   ]
  },
  {
   "cell_type": "code",
   "execution_count": 108,
   "metadata": {},
   "outputs": [],
   "source": [
    "# Constrians for Weighting:\n",
    "# Sequence of (min, max) pairs for each element in x. None is used to specify no bound.\n",
    "bounds = ((0, 1), (0, 1), (0, 1))"
   ]
  },
  {
   "cell_type": "code",
   "execution_count": 109,
   "metadata": {},
   "outputs": [],
   "source": [
    "# The function defining the constraint that the total weight is one.\n",
    "# Return 0 if sum of weights is 1.0\n",
    "def check_weight(weights):\n",
    "    return np.sum(weights)-1\n",
    "\n",
    "# Constraints for COBYLA, SLSQP are defined as a list of dictionaries:\n",
    "# ‘eq’ for equality, ‘ineq’ for inequality.\n",
    "cons = ({'type':'eq', 'fun':check_weight})"
   ]
  },
  {
   "cell_type": "code",
   "execution_count": 110,
   "metadata": {},
   "outputs": [
    {
     "data": {
      "text/plain": [
       "     fun: -2.3372576928787274\n",
       "     jac: array([ 0.09901717, -0.00022379,  0.00017709])\n",
       " message: 'Optimization terminated successfully'\n",
       "    nfev: 24\n",
       "     nit: 6\n",
       "    njev: 6\n",
       "  status: 0\n",
       " success: True\n",
       "       x: array([5.60864117e-17, 4.41749425e-01, 5.58250575e-01])"
      ]
     },
     "execution_count": 110,
     "metadata": {},
     "output_type": "execute_result"
    }
   ],
   "source": [
    "# Minimize a scalar function of one or more variables using Sequential Least Squares Programming (SLSQP).\n",
    "# scipy.optimize.minimize(fun, x0, args=(), method=None, jac=None, hess=None, hessp=None, bounds=None, constraints=(), tol=None, callback=None, options=None)\n",
    "optimzation_results_epi = minimize(objective_func, guess, method='SLSQP', bounds=bounds, constraints=cons)\n",
    "optimzation_results_epi"
   ]
  },
  {
   "cell_type": "code",
   "execution_count": 111,
   "metadata": {},
   "outputs": [
    {
     "name": "stdout",
     "output_type": "stream",
     "text": [
      "Optimized Portfolio Weight in Dollar Futures: 0.0%\n",
      "Optimized Portfolio Weight in Gold Futures: 44.2%\n",
      "Optimized Portfolio Weight in Bitcoin: 55.8%\n",
      "-------------------------------------------------\n",
      "Optimized Portfolio Return: 1.02\n",
      "Optimized Portfolio Standard Deviation/Volatility: 0.434\n",
      "Optimized Portfolio Sharpe Ratio: 2.3373\n"
     ]
    }
   ],
   "source": [
    "# Print Results:\n",
    "optimal_weights_epi = optimzation_results_epi[\"x\"]\n",
    "result_epi = cal_returns_std_sharpe(optimal_weights_epi)\n",
    "print(f\"Optimized Portfolio Weight in Dollar Futures: {optimal_weights_epi[0]:.1%}\")\n",
    "print(f\"Optimized Portfolio Weight in Gold Futures: {optimal_weights_epi[1]:.1%}\")\n",
    "print(f\"Optimized Portfolio Weight in Bitcoin: {optimal_weights_epi[2]:.1%}\")\n",
    "print(\"-------------------------------------------------\")\n",
    "print(f\"Optimized Portfolio Return: {result_epi[0]:0.3}\")\n",
    "print(f\"Optimized Portfolio Standard Deviation/Volatility: {result_epi[1]:0.3}\")\n",
    "print(f\"Optimized Portfolio Sharpe Ratio: {result_epi[2]:0.5}\")"
   ]
  },
  {
   "cell_type": "markdown",
   "metadata": {},
   "source": [
    "### Plotting the Trials and the Best Trial:"
   ]
  },
  {
   "cell_type": "code",
   "execution_count": 112,
   "metadata": {},
   "outputs": [
    {
     "data": {
      "application/vnd.holoviews_exec.v0+json": "",
      "text/html": [
       "<div id='2881'>\n",
       "\n",
       "\n",
       "\n",
       "\n",
       "\n",
       "  <div class=\"bk-root\" id=\"643c74f3-ec1a-4e9b-99bf-257adefbd233\" data-root-id=\"2881\"></div>\n",
       "</div>\n",
       "<script type=\"application/javascript\">(function(root) {\n",
       "  function embed_document(root) {\n",
       "  var docs_json = {\"3ee68365-312b-460d-adce-10c23567fdfe\":{\"roots\":{\"references\":[{\"attributes\":{},\"id\":\"2899\",\"type\":\"BasicTicker\"},{\"attributes\":{\"data_source\":{\"id\":\"2919\"},\"glyph\":{\"id\":\"2922\"},\"hover_glyph\":{\"id\":\"2925\"},\"muted_glyph\":{\"id\":\"2926\"},\"nonselection_glyph\":{\"id\":\"2923\"},\"selection_glyph\":{\"id\":\"2924\"},\"view\":{\"id\":\"2928\"}},\"id\":\"2927\",\"type\":\"GlyphRenderer\"},{\"attributes\":{},\"id\":\"2945\",\"type\":\"BasicTickFormatter\"},{\"attributes\":{},\"id\":\"2929\",\"type\":\"BasicTicker\"},{\"attributes\":{\"axis\":{\"id\":\"2898\"},\"dimension\":1,\"grid_line_color\":null,\"ticker\":null},\"id\":\"2901\",\"type\":\"Grid\"},{\"attributes\":{},\"id\":\"2949\",\"type\":\"UnionRenderers\"},{\"attributes\":{\"fill_color\":{\"field\":\"color\",\"transform\":{\"id\":\"2918\"}},\"line_color\":{\"field\":\"color\",\"transform\":{\"id\":\"2918\"}},\"size\":{\"units\":\"screen\",\"value\":2.449489742783178},\"x\":{\"field\":\"Volatility\"},\"y\":{\"field\":\"Return\"}},\"id\":\"2922\",\"type\":\"Scatter\"},{\"attributes\":{\"data\":{\"Return\":{\"__ndarray__\":\"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\",\"dtype\":\"float64\",\"order\":\"little\",\"shape\":[1000]},\"Volatility\":{\"__ndarray__\":\"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\",\"dtype\":\"float64\",\"order\":\"little\",\"shape\":[1000]},\"color\":{\"__ndarray__\":\"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\",\"dtype\":\"float64\",\"order\":\"little\",\"shape\":[1000]}},\"selected\":{\"id\":\"2920\"},\"selection_policy\":{\"id\":\"2949\"}},\"id\":\"2919\",\"type\":\"ColumnDataSource\"},{\"attributes\":{\"margin\":[5,5,5,5],\"name\":\"HSpacer05303\",\"sizing_mode\":\"stretch_width\"},\"id\":\"2882\",\"type\":\"Spacer\"},{\"attributes\":{\"bar_line_color\":\"black\",\"color_mapper\":{\"id\":\"2918\"},\"formatter\":{\"id\":\"2945\"},\"label_standoff\":8,\"location\":[0,0],\"major_label_text_font_size\":\"12.1px\",\"major_tick_line_color\":\"black\",\"ticker\":{\"id\":\"2929\"},\"title_text_font_size\":\"14.3px\"},\"id\":\"2930\",\"type\":\"ColorBar\"},{\"attributes\":{\"children\":[{\"id\":\"2882\"},{\"id\":\"2885\"},{\"id\":\"3041\"}],\"margin\":[0,0,0,0],\"name\":\"Row05299\",\"tags\":[\"embedded\"]},\"id\":\"2881\",\"type\":\"Row\"},{\"attributes\":{\"data_source\":{\"id\":\"2932\"},\"glyph\":{\"id\":\"2935\"},\"hover_glyph\":null,\"muted_glyph\":{\"id\":\"2937\"},\"nonselection_glyph\":{\"id\":\"2936\"},\"selection_glyph\":null,\"view\":{\"id\":\"2939\"}},\"id\":\"2938\",\"type\":\"GlyphRenderer\"},{\"attributes\":{\"fill_color\":{\"field\":\"color\",\"transform\":{\"id\":\"2918\"}},\"line_color\":{\"field\":\"color\",\"transform\":{\"id\":\"2918\"}},\"size\":{\"units\":\"screen\",\"value\":2.449489742783178},\"x\":{\"field\":\"Volatility\"},\"y\":{\"field\":\"Return\"}},\"id\":\"2925\",\"type\":\"Scatter\"},{\"attributes\":{\"source\":{\"id\":\"2932\"}},\"id\":\"2939\",\"type\":\"CDSView\"},{\"attributes\":{\"fill_alpha\":{\"value\":0.2},\"fill_color\":{\"value\":\"blue\"},\"line_alpha\":{\"value\":0.2},\"size\":{\"units\":\"screen\",\"value\":10},\"x\":{\"field\":\"x\"},\"y\":{\"field\":\"y\"}},\"id\":\"2937\",\"type\":\"Scatter\"},{\"attributes\":{},\"id\":\"2902\",\"type\":\"SaveTool\"},{\"attributes\":{},\"id\":\"2903\",\"type\":\"PanTool\"},{\"attributes\":{\"fill_color\":{\"field\":\"color\",\"transform\":{\"id\":\"2918\"}},\"line_color\":{\"field\":\"color\",\"transform\":{\"id\":\"2918\"}},\"size\":{\"units\":\"screen\",\"value\":2.449489742783178},\"x\":{\"field\":\"Volatility\"},\"y\":{\"field\":\"Return\"}},\"id\":\"2924\",\"type\":\"Scatter\"},{\"attributes\":{},\"id\":\"2933\",\"type\":\"Selection\"},{\"attributes\":{},\"id\":\"2904\",\"type\":\"WheelZoomTool\"},{\"attributes\":{\"below\":[{\"id\":\"2894\"}],\"center\":[{\"id\":\"2897\"},{\"id\":\"2901\"}],\"left\":[{\"id\":\"2898\"}],\"margin\":null,\"min_border_bottom\":10,\"min_border_left\":10,\"min_border_right\":10,\"min_border_top\":10,\"plot_height\":500,\"plot_width\":800,\"renderers\":[{\"id\":\"2927\"},{\"id\":\"2938\"}],\"right\":[{\"id\":\"2930\"}],\"sizing_mode\":\"fixed\",\"title\":{\"id\":\"2886\"},\"toolbar\":{\"id\":\"2908\"},\"x_range\":{\"id\":\"2883\"},\"x_scale\":{\"id\":\"2890\"},\"y_range\":{\"id\":\"2884\"},\"y_scale\":{\"id\":\"2892\"}},\"id\":\"2885\",\"subtype\":\"Figure\",\"type\":\"Plot\"},{\"attributes\":{\"overlay\":{\"id\":\"2907\"}},\"id\":\"2905\",\"type\":\"BoxZoomTool\"},{\"attributes\":{\"fill_alpha\":{\"value\":0.2},\"fill_color\":{\"field\":\"color\",\"transform\":{\"id\":\"2918\"}},\"line_alpha\":{\"value\":0.2},\"line_color\":{\"field\":\"color\",\"transform\":{\"id\":\"2918\"}},\"size\":{\"units\":\"screen\",\"value\":2.449489742783178},\"x\":{\"field\":\"Volatility\"},\"y\":{\"field\":\"Return\"}},\"id\":\"2926\",\"type\":\"Scatter\"},{\"attributes\":{},\"id\":\"2906\",\"type\":\"ResetTool\"},{\"attributes\":{\"end\":0.7877503586822259,\"reset_end\":0.7877503586822259,\"reset_start\":-0.018785096979523137,\"start\":-0.018785096979523137,\"tags\":[[[\"Volatility\",\"Volatility\",null]]]},\"id\":\"2883\",\"type\":\"Range1d\"},{\"attributes\":{},\"id\":\"2951\",\"type\":\"UnionRenderers\"},{\"attributes\":{\"end\":1.941323421407211,\"reset_end\":1.941323421407211,\"reset_start\":-0.33731843419702523,\"start\":-0.33731843419702523,\"tags\":[[[\"Return\",\"Return\",null]]]},\"id\":\"2884\",\"type\":\"Range1d\"},{\"attributes\":{\"active_drag\":\"auto\",\"active_inspect\":\"auto\",\"active_multi\":null,\"active_scroll\":{\"id\":\"2904\"},\"active_tap\":\"auto\",\"tools\":[{\"id\":\"2902\"},{\"id\":\"2903\"},{\"id\":\"2904\"},{\"id\":\"2905\"},{\"id\":\"2906\"}]},\"id\":\"2908\",\"type\":\"Toolbar\"},{\"attributes\":{\"source\":{\"id\":\"2919\"}},\"id\":\"2928\",\"type\":\"CDSView\"},{\"attributes\":{},\"id\":\"2916\",\"type\":\"BasicTickFormatter\"},{\"attributes\":{\"fill_alpha\":{\"value\":0.1},\"fill_color\":{\"value\":\"blue\"},\"line_alpha\":{\"value\":0.1},\"size\":{\"units\":\"screen\",\"value\":10},\"x\":{\"field\":\"x\"},\"y\":{\"field\":\"y\"}},\"id\":\"2936\",\"type\":\"Scatter\"},{\"attributes\":{\"text\":\"Trials & the Best Trial (Blue Dot) Under  \\\"Epidemic\\\" (2020):\",\"text_color\":{\"value\":\"black\"},\"text_font_size\":{\"value\":\"13.2pt\"}},\"id\":\"2886\",\"type\":\"Title\"},{\"attributes\":{\"fill_color\":{\"value\":\"blue\"},\"size\":{\"units\":\"screen\",\"value\":10},\"x\":{\"field\":\"x\"},\"y\":{\"field\":\"y\"}},\"id\":\"2935\",\"type\":\"Scatter\"},{\"attributes\":{\"high\":2.3371727087810075,\"low\":-0.19034824840977477,\"palette\":[\"#0c0786\",\"#100787\",\"#130689\",\"#15068a\",\"#18068b\",\"#1b068c\",\"#1d068d\",\"#1f058e\",\"#21058f\",\"#230590\",\"#250591\",\"#270592\",\"#290593\",\"#2b0594\",\"#2d0494\",\"#2f0495\",\"#310496\",\"#330497\",\"#340498\",\"#360498\",\"#380499\",\"#3a049a\",\"#3b039a\",\"#3d039b\",\"#3f039c\",\"#40039c\",\"#42039d\",\"#44039e\",\"#45039e\",\"#47029f\",\"#49029f\",\"#4a02a0\",\"#4c02a1\",\"#4e02a1\",\"#4f02a2\",\"#5101a2\",\"#5201a3\",\"#5401a3\",\"#5601a3\",\"#5701a4\",\"#5901a4\",\"#5a00a5\",\"#5c00a5\",\"#5e00a5\",\"#5f00a6\",\"#6100a6\",\"#6200a6\",\"#6400a7\",\"#6500a7\",\"#6700a7\",\"#6800a7\",\"#6a00a7\",\"#6c00a8\",\"#6d00a8\",\"#6f00a8\",\"#7000a8\",\"#7200a8\",\"#7300a8\",\"#7500a8\",\"#7601a8\",\"#7801a8\",\"#7901a8\",\"#7b02a8\",\"#7c02a7\",\"#7e03a7\",\"#7f03a7\",\"#8104a7\",\"#8204a7\",\"#8405a6\",\"#8506a6\",\"#8607a6\",\"#8807a5\",\"#8908a5\",\"#8b09a4\",\"#8c0aa4\",\"#8e0ca4\",\"#8f0da3\",\"#900ea3\",\"#920fa2\",\"#9310a1\",\"#9511a1\",\"#9612a0\",\"#9713a0\",\"#99149f\",\"#9a159e\",\"#9b179e\",\"#9d189d\",\"#9e199c\",\"#9f1a9b\",\"#a01b9b\",\"#a21c9a\",\"#a31d99\",\"#a41e98\",\"#a51f97\",\"#a72197\",\"#a82296\",\"#a92395\",\"#aa2494\",\"#ac2593\",\"#ad2692\",\"#ae2791\",\"#af2890\",\"#b02a8f\",\"#b12b8f\",\"#b22c8e\",\"#b42d8d\",\"#b52e8c\",\"#b62f8b\",\"#b7308a\",\"#b83289\",\"#b93388\",\"#ba3487\",\"#bb3586\",\"#bc3685\",\"#bd3784\",\"#be3883\",\"#bf3982\",\"#c03b81\",\"#c13c80\",\"#c23d80\",\"#c33e7f\",\"#c43f7e\",\"#c5407d\",\"#c6417c\",\"#c7427b\",\"#c8447a\",\"#c94579\",\"#ca4678\",\"#cb4777\",\"#cc4876\",\"#cd4975\",\"#ce4a75\",\"#cf4b74\",\"#d04d73\",\"#d14e72\",\"#d14f71\",\"#d25070\",\"#d3516f\",\"#d4526e\",\"#d5536d\",\"#d6556d\",\"#d7566c\",\"#d7576b\",\"#d8586a\",\"#d95969\",\"#da5a68\",\"#db5b67\",\"#dc5d66\",\"#dc5e66\",\"#dd5f65\",\"#de6064\",\"#df6163\",\"#df6262\",\"#e06461\",\"#e16560\",\"#e26660\",\"#e3675f\",\"#e3685e\",\"#e46a5d\",\"#e56b5c\",\"#e56c5b\",\"#e66d5a\",\"#e76e5a\",\"#e87059\",\"#e87158\",\"#e97257\",\"#ea7356\",\"#ea7455\",\"#eb7654\",\"#ec7754\",\"#ec7853\",\"#ed7952\",\"#ed7b51\",\"#ee7c50\",\"#ef7d4f\",\"#ef7e4e\",\"#f0804d\",\"#f0814d\",\"#f1824c\",\"#f2844b\",\"#f2854a\",\"#f38649\",\"#f38748\",\"#f48947\",\"#f48a47\",\"#f58b46\",\"#f58d45\",\"#f68e44\",\"#f68f43\",\"#f69142\",\"#f79241\",\"#f79341\",\"#f89540\",\"#f8963f\",\"#f8983e\",\"#f9993d\",\"#f99a3c\",\"#fa9c3b\",\"#fa9d3a\",\"#fa9f3a\",\"#faa039\",\"#fba238\",\"#fba337\",\"#fba436\",\"#fca635\",\"#fca735\",\"#fca934\",\"#fcaa33\",\"#fcac32\",\"#fcad31\",\"#fdaf31\",\"#fdb030\",\"#fdb22f\",\"#fdb32e\",\"#fdb52d\",\"#fdb62d\",\"#fdb82c\",\"#fdb92b\",\"#fdbb2b\",\"#fdbc2a\",\"#fdbe29\",\"#fdc029\",\"#fdc128\",\"#fdc328\",\"#fdc427\",\"#fdc626\",\"#fcc726\",\"#fcc926\",\"#fccb25\",\"#fccc25\",\"#fcce25\",\"#fbd024\",\"#fbd124\",\"#fbd324\",\"#fad524\",\"#fad624\",\"#fad824\",\"#f9d924\",\"#f9db24\",\"#f8dd24\",\"#f8df24\",\"#f7e024\",\"#f7e225\",\"#f6e425\",\"#f6e525\",\"#f5e726\",\"#f5e926\",\"#f4ea26\",\"#f3ec26\",\"#f3ee26\",\"#f2f026\",\"#f2f126\",\"#f1f326\",\"#f0f525\",\"#f0f623\",\"#eff821\"]},\"id\":\"2918\",\"type\":\"LinearColorMapper\"},{\"attributes\":{},\"id\":\"2890\",\"type\":\"LinearScale\"},{\"attributes\":{\"margin\":[5,5,5,5],\"name\":\"HSpacer05304\",\"sizing_mode\":\"stretch_width\"},\"id\":\"3041\",\"type\":\"Spacer\"},{\"attributes\":{},\"id\":\"2920\",\"type\":\"Selection\"},{\"attributes\":{},\"id\":\"2892\",\"type\":\"LinearScale\"},{\"attributes\":{},\"id\":\"2914\",\"type\":\"BasicTickFormatter\"},{\"attributes\":{\"bottom_units\":\"screen\",\"fill_alpha\":0.5,\"fill_color\":\"lightgrey\",\"left_units\":\"screen\",\"level\":\"overlay\",\"line_alpha\":1.0,\"line_color\":\"black\",\"line_dash\":[4,4],\"line_width\":2,\"right_units\":\"screen\",\"top_units\":\"screen\"},\"id\":\"2907\",\"type\":\"BoxAnnotation\"},{\"attributes\":{\"axis_label\":\"Volatility\",\"axis_label_text_font_size\":\"14.3px\",\"bounds\":\"auto\",\"formatter\":{\"id\":\"2914\"},\"major_label_orientation\":\"horizontal\",\"major_label_text_font_size\":\"12.1px\",\"ticker\":{\"id\":\"2895\"}},\"id\":\"2894\",\"type\":\"LinearAxis\"},{\"attributes\":{\"data\":{\"x\":{\"__ndarray__\":\"UwHmIaS42z8=\",\"dtype\":\"float64\",\"order\":\"little\",\"shape\":[1]},\"y\":{\"__ndarray__\":\"KSQ23YQy8D8=\",\"dtype\":\"float64\",\"order\":\"little\",\"shape\":[1]}},\"selected\":{\"id\":\"2933\"},\"selection_policy\":{\"id\":\"2951\"}},\"id\":\"2932\",\"type\":\"ColumnDataSource\"},{\"attributes\":{},\"id\":\"2895\",\"type\":\"BasicTicker\"},{\"attributes\":{\"axis\":{\"id\":\"2894\"},\"grid_line_color\":null,\"ticker\":null},\"id\":\"2897\",\"type\":\"Grid\"},{\"attributes\":{\"axis_label\":\"Return\",\"axis_label_text_font_size\":\"14.3px\",\"bounds\":\"auto\",\"formatter\":{\"id\":\"2916\"},\"major_label_orientation\":\"horizontal\",\"major_label_text_font_size\":\"12.1px\",\"ticker\":{\"id\":\"2899\"}},\"id\":\"2898\",\"type\":\"LinearAxis\"},{\"attributes\":{\"fill_alpha\":{\"value\":0.1},\"fill_color\":{\"field\":\"color\",\"transform\":{\"id\":\"2918\"}},\"line_alpha\":{\"value\":0.1},\"line_color\":{\"field\":\"color\",\"transform\":{\"id\":\"2918\"}},\"size\":{\"units\":\"screen\",\"value\":2.449489742783178},\"x\":{\"field\":\"Volatility\"},\"y\":{\"field\":\"Return\"}},\"id\":\"2923\",\"type\":\"Scatter\"}],\"root_ids\":[\"2881\"]},\"title\":\"Bokeh Application\",\"version\":\"2.1.1\"}};\n",
       "  var render_items = [{\"docid\":\"3ee68365-312b-460d-adce-10c23567fdfe\",\"root_ids\":[\"2881\"],\"roots\":{\"2881\":\"643c74f3-ec1a-4e9b-99bf-257adefbd233\"}}];\n",
       "  root.Bokeh.embed.embed_items_notebook(docs_json, render_items);\n",
       "  }\n",
       "if (root.Bokeh !== undefined) {\n",
       "    embed_document(root);\n",
       "  } else {\n",
       "    var attempts = 0;\n",
       "    var timer = setInterval(function(root) {\n",
       "      if (root.Bokeh !== undefined) {\n",
       "        clearInterval(timer);\n",
       "        embed_document(root);\n",
       "      } else if (document.readyState == \"complete\") {\n",
       "        attempts++;\n",
       "        if (attempts > 100) {\n",
       "          clearInterval(timer);\n",
       "          console.log(\"Bokeh: ERROR: Unable to run BokehJS code because BokehJS library is missing\");\n",
       "        }\n",
       "      }\n",
       "    }, 10, root)\n",
       "  }\n",
       "})(window);</script>"
      ],
      "text/plain": [
       ":Overlay\n",
       "   .Scatter.I  :Scatter   [Volatility]   (Return,Sharpe Ratio)\n",
       "   .Scatter.II :Scatter   [x]   (y)"
      ]
     },
     "execution_count": 112,
     "metadata": {
      "application/vnd.holoviews_exec.v0+json": {
       "id": "2881"
      }
     },
     "output_type": "execute_result"
    }
   ],
   "source": [
    "trail_scatter = hv.Scatter((trial_std_epi, trial_returns_epi, trial_sharpe_epi), \n",
    "                           'Volatility', ['Return', 'Sharpe Ratio']).opts(\n",
    "                            color='Sharpe Ratio', cmap='plasma', width=800, height=500, colorbar=True, padding=0.2\n",
    "                            )\n",
    "\n",
    "trail_max_sharpe = hv.Scatter([(max_std_epi, max_return_epi)]).opts(\n",
    "    title='Trials & the Best Trial (Blue Dot) Under  \"Epidemic\" (2020):', active_tools=['wheel_zoom'], \n",
    "    fontscale=1.1, color='blue', line_color='black', size=10\n",
    "    )\n",
    "\n",
    "trail_scatter * trail_max_sharpe"
   ]
  },
  {
   "cell_type": "markdown",
   "metadata": {},
   "source": [
    "### Plotting the Efficent Frontier:\n",
    "The efficient frontier is the set of optimal portfolios that offers the highest expected return for a defined level of risk <br> or the lowest risk for a given level of expected return. "
   ]
  },
  {
   "cell_type": "code",
   "execution_count": 113,
   "metadata": {},
   "outputs": [],
   "source": [
    "# Creat Evenly Spaced Numbers over a Specified Interval:\n",
    "frontier_returns_epi = np.linspace(0, 1.5, 100)"
   ]
  },
  {
   "cell_type": "code",
   "execution_count": 114,
   "metadata": {},
   "outputs": [],
   "source": [
    "# Define a Empty List to Hold Results:\n",
    "frontier_volatility_epi = []"
   ]
  },
  {
   "cell_type": "code",
   "execution_count": 115,
   "metadata": {},
   "outputs": [],
   "source": [
    "# Define an Object Function that Gives Minimum Volatility:\n",
    "def minimize_volatility(weights):\n",
    "    return cal_returns_std_sharpe(weights)[1]"
   ]
  },
  {
   "cell_type": "code",
   "execution_count": 116,
   "metadata": {},
   "outputs": [],
   "source": [
    "# Calculte Minimul Volatility for Given Possible Returns:\n",
    "for possible_return in frontier_returns_epi:\n",
    "    \n",
    "    # Adding Given Possible Returns as a Constrain:\n",
    "    cons2 = ({'type':'eq', 'fun':check_weight},\n",
    "            {'type':'eq','fun': lambda wight: cal_returns_std_sharpe(wight)[0] - possible_return}\n",
    "           )\n",
    "    \n",
    "    result_epi2 = minimize(minimize_volatility, guess, method='SLSQP', bounds=bounds, constraints=cons2)\n",
    "    \n",
    "    # Store Calculation Results of Objective Function 'fun'-- Minimized Volatility\n",
    "    frontier_volatility_epi.append(result_epi2['fun'])"
   ]
  },
  {
   "cell_type": "code",
   "execution_count": 117,
   "metadata": {},
   "outputs": [
    {
     "data": {
      "application/vnd.holoviews_exec.v0+json": "",
      "text/html": [
       "<div id='3098'>\n",
       "\n",
       "\n",
       "\n",
       "\n",
       "\n",
       "  <div class=\"bk-root\" id=\"9f7fd238-c377-487d-9847-261b3f741b2e\" data-root-id=\"3098\"></div>\n",
       "</div>\n",
       "<script type=\"application/javascript\">(function(root) {\n",
       "  function embed_document(root) {\n",
       "  var docs_json = {\"aec53511-3a06-4346-8e59-8de251c6cf13\":{\"roots\":{\"references\":[{\"attributes\":{\"axis_label\":\"Volatility\",\"axis_label_text_font_size\":\"14.3px\",\"bounds\":\"auto\",\"formatter\":{\"id\":\"3131\"},\"major_label_orientation\":\"horizontal\",\"major_label_text_font_size\":\"12.1px\",\"ticker\":{\"id\":\"3112\"}},\"id\":\"3111\",\"type\":\"LinearAxis\"},{\"attributes\":{\"data\":{\"x\":{\"__ndarray__\":\"C4/cGvTN2z8=\",\"dtype\":\"float64\",\"order\":\"little\",\"shape\":[1]},\"y\":{\"__ndarray__\":\"EKtOdx8/8D8=\",\"dtype\":\"float64\",\"order\":\"little\",\"shape\":[1]}},\"selected\":{\"id\":\"3150\"},\"selection_policy\":{\"id\":\"3176\"}},\"id\":\"3149\",\"type\":\"ColumnDataSource\"},{\"attributes\":{},\"id\":\"3112\",\"type\":\"BasicTicker\"},{\"attributes\":{\"axis\":{\"id\":\"3111\"},\"grid_line_color\":null,\"ticker\":null},\"id\":\"3114\",\"type\":\"Grid\"},{\"attributes\":{\"line_alpha\":0.2,\"line_color\":\"green\",\"line_dash\":[6],\"line_width\":2,\"x\":{\"field\":\"x\"},\"y\":{\"field\":\"y\"}},\"id\":\"3162\",\"type\":\"Line\"},{\"attributes\":{\"below\":[{\"id\":\"3111\"}],\"center\":[{\"id\":\"3114\"},{\"id\":\"3118\"}],\"left\":[{\"id\":\"3115\"}],\"margin\":null,\"min_border_bottom\":10,\"min_border_left\":10,\"min_border_right\":10,\"min_border_top\":10,\"plot_height\":500,\"plot_width\":800,\"renderers\":[{\"id\":\"3144\"},{\"id\":\"3155\"},{\"id\":\"3163\"}],\"right\":[{\"id\":\"3147\"}],\"sizing_mode\":\"fixed\",\"title\":{\"id\":\"3103\"},\"toolbar\":{\"id\":\"3125\"},\"x_range\":{\"id\":\"3100\"},\"x_scale\":{\"id\":\"3107\"},\"y_range\":{\"id\":\"3101\"},\"y_scale\":{\"id\":\"3109\"}},\"id\":\"3102\",\"subtype\":\"Figure\",\"type\":\"Plot\"},{\"attributes\":{\"fill_alpha\":{\"value\":0.1},\"fill_color\":{\"value\":\"red\"},\"line_alpha\":{\"value\":0.1},\"size\":{\"units\":\"screen\",\"value\":10},\"x\":{\"field\":\"x\"},\"y\":{\"field\":\"y\"}},\"id\":\"3153\",\"type\":\"Scatter\"},{\"attributes\":{\"axis_label\":\"Return\",\"axis_label_text_font_size\":\"14.3px\",\"bounds\":\"auto\",\"formatter\":{\"id\":\"3133\"},\"major_label_orientation\":\"horizontal\",\"major_label_text_font_size\":\"12.1px\",\"ticker\":{\"id\":\"3116\"}},\"id\":\"3115\",\"type\":\"LinearAxis\"},{\"attributes\":{\"source\":{\"id\":\"3149\"}},\"id\":\"3156\",\"type\":\"CDSView\"},{\"attributes\":{\"source\":{\"id\":\"3136\"}},\"id\":\"3145\",\"type\":\"CDSView\"},{\"attributes\":{},\"id\":\"3116\",\"type\":\"BasicTicker\"},{\"attributes\":{\"fill_alpha\":{\"value\":0.1},\"fill_color\":{\"field\":\"color\",\"transform\":{\"id\":\"3135\"}},\"line_alpha\":{\"value\":0.1},\"line_color\":{\"field\":\"color\",\"transform\":{\"id\":\"3135\"}},\"size\":{\"units\":\"screen\",\"value\":2.449489742783178},\"x\":{\"field\":\"Volatility\"},\"y\":{\"field\":\"Return\"}},\"id\":\"3140\",\"type\":\"Scatter\"},{\"attributes\":{\"data\":{\"x\":{\"__ndarray__\":\"MuLc3HDArz/cs6wQ0x+wP+viq80Lh7A/YKIQ5xITsT/bRvMCg8CxP+O48nizi7I/nIqOr/1wsz/bLgSY9Gy0Pyr2Woh6fLU/oPQtBc+ctj/swdcxj8u3P543mcavBrk/OA+0jXpMuj//22ssZpu7P5zbNVJA8rw/8uYTO/tPvj+tfjzwsrO/P/iNOydTjsA/TLi1mBhFwT8x6GPP4/3BP1ywq+N4uMI/yCguPaZ0wz9dhy3nOTLEPxTs0gwT8cQ/wSw8dA6xxT8saLUFD3LGP5/2Pkz7M8c/Qri37bz2xz/joOQ4QLrIP9Z8KsZzfsk/LWxYJ0hDyj8oP3CjrwjLP6FZmf2dzss/Z4tDVyGVzD9CO/SH+FvNPzG13lAqI84/UETfUNHqzj93jN920rLPP95vtaCTPdA/tLfS5OSh0D/DQ5dYWgbRP7xt7YnxatE/4tQ7PajP0T/9YKtnfDTSP8VVDCpsmdI/MhwDzXX+0j+4PnG7l2PTP6bsr4HQyNM/NNs5yB4u1D9Tf2NRgZPUP+IjZPj2+NQ/xEOerH5e1T+1pP1yF8TVPwkyFGDAKdY/sL/YmniP1j9usypZP/XWP3q1WtwTW9c/t6bydfXA1z84d/t/4ybYP3LBl2DdjNg/Wv6Ah+Ly2D9JLu3sJ1nZPwrJukUbwNk/DkRNxLYn2j9xVHe58o/aP88NTODH+No/DXPSWS9i2z82o+ClIszbP1mlEZybNtw/ZNCHapSh3D9tQSOMBw3dP7onJcfveN0/roWZJ0jl3T+q9X/7C1LeP9QGN842v94/5Dr9ZcQs3z8WUb6/sJrfPxTM1QV8BOA/Tb/BVcs74D/osP6WRHPgP2GAwybmquA/UI8pd67i4D92u2IMnBrhPw61mn2tUuE/ABBrc+GK4T+sq7SlNsPhPzqsStyr++E/Cns17T804j+nmWG88WziP4+FeDrApeI/9FtbZKre4j8nRKBCrxfjP8IPyejNUOM/PMfwdAWK4z/ZpXAOVcPjPxrUk+a7/OM/vWPFNzk25D+2LnVDzG/kP2Y7clR0qeQ/f9+pvDDj5D8=\",\"dtype\":\"float64\",\"order\":\"little\",\"shape\":[100]},\"y\":{\"__ndarray__\":\"AAAAAAAAAAAIH3zwwQePPwgffPDBB58/RhdddNFFpz8IH3zwwQevP2WTTTbZZLM/RhdddNFFtz8nm2yyySa7PwgffPDBB78/dNFFF110wT9lk0022WTDP1ZVVVVVVcU/RhdddNFFxz822WSTTTbJPyebbLLJJss/GF100UUXzT8IH3zwwQfPP3zwwQcffNA/dNFFF1100T9tsskmm2zSP2WTTTbZZNM/XXTRRRdd1D9WVVVVVVXVP0422WSTTdY/RhdddNFF1z8++OCDDz7YPzbZZJNNNtk/L7rooosu2j8nm2yyySbbPx988MEHH9w/GF100UUX3T8QPvjggw/ePwgffPDBB98/AAAAAAAA4D988MEHH3zgP/jggw8++OA/dNFFF1104T/xwQcffPDhP22yySabbOI/6aKLLrro4j9lk0022WTjP+GDDz744OM/XXTRRRdd5D/ZZJNNNtnkP1ZVVVVVVeU/0kUXXXTR5T9ONtlkk03mP8omm2yyyeY/RhdddNFF5z/CBx988MHnPz744IMPPug/uuiiiy666D822WSTTTbpP7PJJptssuk/L7rooosu6j+rqqqqqqrqPyebbLLJJus/o4suuuii6z8ffPDBBx/sP5tssskmm+w/GF100UUX7T+UTTbZZJPtPxA++OCDD+4/jC666KKL7j8IH3zwwQfvP4QPPvjgg+8/AAAAAAAA8D8++OCDDz7wP3zwwQcffPA/uuiiiy668D/44IMPPvjwPzbZZJNNNvE/dNFFF1108T+zySabbLLxP/HBBx988PE/L7rooosu8j9tsskmm2zyP6uqqqqqqvI/6aKLLrro8j8nm2yyySbzP2WTTTbZZPM/o4suuuii8z/hgw8++ODzPx988MEHH/Q/XXTRRRdd9D+bbLLJJpv0P9lkk0022fQ/F1100UUX9T9WVVVVVVX1P5RNNtlkk/U/0kUXXXTR9T8QPvjggw/2P0422WSTTfY/jC666KKL9j/KJptsssn2PwgffPDBB/c/RhdddNFF9z+EDz744IP3P8IHH3zwwfc/AAAAAAAA+D8=\",\"dtype\":\"float64\",\"order\":\"little\",\"shape\":[100]}},\"selected\":{\"id\":\"3158\"},\"selection_policy\":{\"id\":\"3178\"}},\"id\":\"3157\",\"type\":\"ColumnDataSource\"},{\"attributes\":{\"axis\":{\"id\":\"3115\"},\"dimension\":1,\"grid_line_color\":null,\"ticker\":null},\"id\":\"3118\",\"type\":\"Grid\"},{\"attributes\":{},\"id\":\"3174\",\"type\":\"UnionRenderers\"},{\"attributes\":{},\"id\":\"3133\",\"type\":\"BasicTickFormatter\"},{\"attributes\":{\"fill_color\":{\"value\":\"red\"},\"size\":{\"units\":\"screen\",\"value\":10},\"x\":{\"field\":\"x\"},\"y\":{\"field\":\"y\"}},\"id\":\"3152\",\"type\":\"Scatter\"},{\"attributes\":{\"fill_color\":{\"field\":\"color\",\"transform\":{\"id\":\"3135\"}},\"line_color\":{\"field\":\"color\",\"transform\":{\"id\":\"3135\"}},\"size\":{\"units\":\"screen\",\"value\":2.449489742783178},\"x\":{\"field\":\"Volatility\"},\"y\":{\"field\":\"Return\"}},\"id\":\"3141\",\"type\":\"Scatter\"},{\"attributes\":{\"fill_color\":{\"field\":\"color\",\"transform\":{\"id\":\"3135\"}},\"line_color\":{\"field\":\"color\",\"transform\":{\"id\":\"3135\"}},\"size\":{\"units\":\"screen\",\"value\":2.449489742783178},\"x\":{\"field\":\"Volatility\"},\"y\":{\"field\":\"Return\"}},\"id\":\"3142\",\"type\":\"Scatter\"},{\"attributes\":{},\"id\":\"3131\",\"type\":\"BasicTickFormatter\"},{\"attributes\":{\"bar_line_color\":\"black\",\"color_mapper\":{\"id\":\"3135\"},\"formatter\":{\"id\":\"3170\"},\"label_standoff\":8,\"location\":[0,0],\"major_label_text_font_size\":\"12.1px\",\"major_tick_line_color\":\"black\",\"ticker\":{\"id\":\"3146\"},\"title_text_font_size\":\"14.3px\"},\"id\":\"3147\",\"type\":\"ColorBar\"},{\"attributes\":{\"fill_color\":{\"field\":\"color\",\"transform\":{\"id\":\"3135\"}},\"line_color\":{\"field\":\"color\",\"transform\":{\"id\":\"3135\"}},\"size\":{\"units\":\"screen\",\"value\":2.449489742783178},\"x\":{\"field\":\"Volatility\"},\"y\":{\"field\":\"Return\"}},\"id\":\"3139\",\"type\":\"Scatter\"},{\"attributes\":{\"data_source\":{\"id\":\"3136\"},\"glyph\":{\"id\":\"3139\"},\"hover_glyph\":{\"id\":\"3142\"},\"muted_glyph\":{\"id\":\"3143\"},\"nonselection_glyph\":{\"id\":\"3140\"},\"selection_glyph\":{\"id\":\"3141\"},\"view\":{\"id\":\"3145\"}},\"id\":\"3144\",\"type\":\"GlyphRenderer\"},{\"attributes\":{\"fill_alpha\":{\"value\":0.2},\"fill_color\":{\"field\":\"color\",\"transform\":{\"id\":\"3135\"}},\"line_alpha\":{\"value\":0.2},\"line_color\":{\"field\":\"color\",\"transform\":{\"id\":\"3135\"}},\"size\":{\"units\":\"screen\",\"value\":2.449489742783178},\"x\":{\"field\":\"Volatility\"},\"y\":{\"field\":\"Return\"}},\"id\":\"3143\",\"type\":\"Scatter\"},{\"attributes\":{},\"id\":\"3119\",\"type\":\"SaveTool\"},{\"attributes\":{\"data_source\":{\"id\":\"3149\"},\"glyph\":{\"id\":\"3152\"},\"hover_glyph\":null,\"muted_glyph\":{\"id\":\"3154\"},\"nonselection_glyph\":{\"id\":\"3153\"},\"selection_glyph\":null,\"view\":{\"id\":\"3156\"}},\"id\":\"3155\",\"type\":\"GlyphRenderer\"},{\"attributes\":{},\"id\":\"3146\",\"type\":\"BasicTicker\"},{\"attributes\":{},\"id\":\"3120\",\"type\":\"PanTool\"},{\"attributes\":{},\"id\":\"3121\",\"type\":\"WheelZoomTool\"},{\"attributes\":{},\"id\":\"3158\",\"type\":\"Selection\"},{\"attributes\":{\"overlay\":{\"id\":\"3124\"}},\"id\":\"3122\",\"type\":\"BoxZoomTool\"},{\"attributes\":{},\"id\":\"3170\",\"type\":\"BasicTickFormatter\"},{\"attributes\":{},\"id\":\"3123\",\"type\":\"ResetTool\"},{\"attributes\":{\"line_alpha\":0.1,\"line_color\":\"green\",\"line_dash\":[6],\"line_width\":2,\"x\":{\"field\":\"x\"},\"y\":{\"field\":\"y\"}},\"id\":\"3161\",\"type\":\"Line\"},{\"attributes\":{},\"id\":\"3150\",\"type\":\"Selection\"},{\"attributes\":{\"data\":{\"Return\":{\"__ndarray__\":\"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\",\"dtype\":\"float64\",\"order\":\"little\",\"shape\":[1000]},\"Volatility\":{\"__ndarray__\":\"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\",\"dtype\":\"float64\",\"order\":\"little\",\"shape\":[1000]},\"color\":{\"__ndarray__\":\"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\",\"dtype\":\"float64\",\"order\":\"little\",\"shape\":[1000]}},\"selected\":{\"id\":\"3137\"},\"selection_policy\":{\"id\":\"3174\"}},\"id\":\"3136\",\"type\":\"ColumnDataSource\"},{\"attributes\":{\"line_color\":\"green\",\"line_dash\":[6],\"line_width\":2,\"x\":{\"field\":\"x\"},\"y\":{\"field\":\"y\"}},\"id\":\"3160\",\"type\":\"Line\"},{\"attributes\":{\"margin\":[5,5,5,5],\"name\":\"HSpacer05707\",\"sizing_mode\":\"stretch_width\"},\"id\":\"3284\",\"type\":\"Spacer\"},{\"attributes\":{\"data_source\":{\"id\":\"3157\"},\"glyph\":{\"id\":\"3160\"},\"hover_glyph\":null,\"muted_glyph\":{\"id\":\"3162\"},\"nonselection_glyph\":{\"id\":\"3161\"},\"selection_glyph\":null,\"view\":{\"id\":\"3164\"}},\"id\":\"3163\",\"type\":\"GlyphRenderer\"},{\"attributes\":{\"children\":[{\"id\":\"3099\"},{\"id\":\"3102\"},{\"id\":\"3284\"}],\"margin\":[0,0,0,0],\"name\":\"Row05702\",\"tags\":[\"embedded\"]},\"id\":\"3098\",\"type\":\"Row\"},{\"attributes\":{\"end\":0.7877503586822259,\"reset_end\":0.7877503586822259,\"reset_start\":-0.018785096979523137,\"start\":-0.018785096979523137,\"tags\":[[[\"Volatility\",\"Volatility\",null]]]},\"id\":\"3100\",\"type\":\"Range1d\"},{\"attributes\":{\"active_drag\":\"auto\",\"active_inspect\":\"auto\",\"active_multi\":null,\"active_scroll\":{\"id\":\"3121\"},\"active_tap\":\"auto\",\"tools\":[{\"id\":\"3119\"},{\"id\":\"3120\"},{\"id\":\"3121\"},{\"id\":\"3122\"},{\"id\":\"3123\"}]},\"id\":\"3125\",\"type\":\"Toolbar\"},{\"attributes\":{\"end\":1.941323421407211,\"reset_end\":1.941323421407211,\"reset_start\":-0.33731843419702523,\"start\":-0.33731843419702523,\"tags\":[[[\"Return\",\"Return\",null]]]},\"id\":\"3101\",\"type\":\"Range1d\"},{\"attributes\":{\"source\":{\"id\":\"3157\"}},\"id\":\"3164\",\"type\":\"CDSView\"},{\"attributes\":{},\"id\":\"3178\",\"type\":\"UnionRenderers\"},{\"attributes\":{\"margin\":[5,5,5,5],\"name\":\"HSpacer05706\",\"sizing_mode\":\"stretch_width\"},\"id\":\"3099\",\"type\":\"Spacer\"},{\"attributes\":{\"text\":\"Efficient Frontier & the Optimal Porfolio (Red Dot) Under  \\\"Epidemic\\\" (2020):\",\"text_color\":{\"value\":\"black\"},\"text_font_size\":{\"value\":\"13.2pt\"}},\"id\":\"3103\",\"type\":\"Title\"},{\"attributes\":{\"fill_alpha\":{\"value\":0.2},\"fill_color\":{\"value\":\"red\"},\"line_alpha\":{\"value\":0.2},\"size\":{\"units\":\"screen\",\"value\":10},\"x\":{\"field\":\"x\"},\"y\":{\"field\":\"y\"}},\"id\":\"3154\",\"type\":\"Scatter\"},{\"attributes\":{\"high\":2.3371727087810075,\"low\":-0.19034824840977477,\"palette\":[\"#0c0786\",\"#100787\",\"#130689\",\"#15068a\",\"#18068b\",\"#1b068c\",\"#1d068d\",\"#1f058e\",\"#21058f\",\"#230590\",\"#250591\",\"#270592\",\"#290593\",\"#2b0594\",\"#2d0494\",\"#2f0495\",\"#310496\",\"#330497\",\"#340498\",\"#360498\",\"#380499\",\"#3a049a\",\"#3b039a\",\"#3d039b\",\"#3f039c\",\"#40039c\",\"#42039d\",\"#44039e\",\"#45039e\",\"#47029f\",\"#49029f\",\"#4a02a0\",\"#4c02a1\",\"#4e02a1\",\"#4f02a2\",\"#5101a2\",\"#5201a3\",\"#5401a3\",\"#5601a3\",\"#5701a4\",\"#5901a4\",\"#5a00a5\",\"#5c00a5\",\"#5e00a5\",\"#5f00a6\",\"#6100a6\",\"#6200a6\",\"#6400a7\",\"#6500a7\",\"#6700a7\",\"#6800a7\",\"#6a00a7\",\"#6c00a8\",\"#6d00a8\",\"#6f00a8\",\"#7000a8\",\"#7200a8\",\"#7300a8\",\"#7500a8\",\"#7601a8\",\"#7801a8\",\"#7901a8\",\"#7b02a8\",\"#7c02a7\",\"#7e03a7\",\"#7f03a7\",\"#8104a7\",\"#8204a7\",\"#8405a6\",\"#8506a6\",\"#8607a6\",\"#8807a5\",\"#8908a5\",\"#8b09a4\",\"#8c0aa4\",\"#8e0ca4\",\"#8f0da3\",\"#900ea3\",\"#920fa2\",\"#9310a1\",\"#9511a1\",\"#9612a0\",\"#9713a0\",\"#99149f\",\"#9a159e\",\"#9b179e\",\"#9d189d\",\"#9e199c\",\"#9f1a9b\",\"#a01b9b\",\"#a21c9a\",\"#a31d99\",\"#a41e98\",\"#a51f97\",\"#a72197\",\"#a82296\",\"#a92395\",\"#aa2494\",\"#ac2593\",\"#ad2692\",\"#ae2791\",\"#af2890\",\"#b02a8f\",\"#b12b8f\",\"#b22c8e\",\"#b42d8d\",\"#b52e8c\",\"#b62f8b\",\"#b7308a\",\"#b83289\",\"#b93388\",\"#ba3487\",\"#bb3586\",\"#bc3685\",\"#bd3784\",\"#be3883\",\"#bf3982\",\"#c03b81\",\"#c13c80\",\"#c23d80\",\"#c33e7f\",\"#c43f7e\",\"#c5407d\",\"#c6417c\",\"#c7427b\",\"#c8447a\",\"#c94579\",\"#ca4678\",\"#cb4777\",\"#cc4876\",\"#cd4975\",\"#ce4a75\",\"#cf4b74\",\"#d04d73\",\"#d14e72\",\"#d14f71\",\"#d25070\",\"#d3516f\",\"#d4526e\",\"#d5536d\",\"#d6556d\",\"#d7566c\",\"#d7576b\",\"#d8586a\",\"#d95969\",\"#da5a68\",\"#db5b67\",\"#dc5d66\",\"#dc5e66\",\"#dd5f65\",\"#de6064\",\"#df6163\",\"#df6262\",\"#e06461\",\"#e16560\",\"#e26660\",\"#e3675f\",\"#e3685e\",\"#e46a5d\",\"#e56b5c\",\"#e56c5b\",\"#e66d5a\",\"#e76e5a\",\"#e87059\",\"#e87158\",\"#e97257\",\"#ea7356\",\"#ea7455\",\"#eb7654\",\"#ec7754\",\"#ec7853\",\"#ed7952\",\"#ed7b51\",\"#ee7c50\",\"#ef7d4f\",\"#ef7e4e\",\"#f0804d\",\"#f0814d\",\"#f1824c\",\"#f2844b\",\"#f2854a\",\"#f38649\",\"#f38748\",\"#f48947\",\"#f48a47\",\"#f58b46\",\"#f58d45\",\"#f68e44\",\"#f68f43\",\"#f69142\",\"#f79241\",\"#f79341\",\"#f89540\",\"#f8963f\",\"#f8983e\",\"#f9993d\",\"#f99a3c\",\"#fa9c3b\",\"#fa9d3a\",\"#fa9f3a\",\"#faa039\",\"#fba238\",\"#fba337\",\"#fba436\",\"#fca635\",\"#fca735\",\"#fca934\",\"#fcaa33\",\"#fcac32\",\"#fcad31\",\"#fdaf31\",\"#fdb030\",\"#fdb22f\",\"#fdb32e\",\"#fdb52d\",\"#fdb62d\",\"#fdb82c\",\"#fdb92b\",\"#fdbb2b\",\"#fdbc2a\",\"#fdbe29\",\"#fdc029\",\"#fdc128\",\"#fdc328\",\"#fdc427\",\"#fdc626\",\"#fcc726\",\"#fcc926\",\"#fccb25\",\"#fccc25\",\"#fcce25\",\"#fbd024\",\"#fbd124\",\"#fbd324\",\"#fad524\",\"#fad624\",\"#fad824\",\"#f9d924\",\"#f9db24\",\"#f8dd24\",\"#f8df24\",\"#f7e024\",\"#f7e225\",\"#f6e425\",\"#f6e525\",\"#f5e726\",\"#f5e926\",\"#f4ea26\",\"#f3ec26\",\"#f3ee26\",\"#f2f026\",\"#f2f126\",\"#f1f326\",\"#f0f525\",\"#f0f623\",\"#eff821\"]},\"id\":\"3135\",\"type\":\"LinearColorMapper\"},{\"attributes\":{},\"id\":\"3176\",\"type\":\"UnionRenderers\"},{\"attributes\":{},\"id\":\"3107\",\"type\":\"LinearScale\"},{\"attributes\":{},\"id\":\"3137\",\"type\":\"Selection\"},{\"attributes\":{\"bottom_units\":\"screen\",\"fill_alpha\":0.5,\"fill_color\":\"lightgrey\",\"left_units\":\"screen\",\"level\":\"overlay\",\"line_alpha\":1.0,\"line_color\":\"black\",\"line_dash\":[4,4],\"line_width\":2,\"right_units\":\"screen\",\"top_units\":\"screen\"},\"id\":\"3124\",\"type\":\"BoxAnnotation\"},{\"attributes\":{},\"id\":\"3109\",\"type\":\"LinearScale\"}],\"root_ids\":[\"3098\"]},\"title\":\"Bokeh Application\",\"version\":\"2.1.1\"}};\n",
       "  var render_items = [{\"docid\":\"aec53511-3a06-4346-8e59-8de251c6cf13\",\"root_ids\":[\"3098\"],\"roots\":{\"3098\":\"9f7fd238-c377-487d-9847-261b3f741b2e\"}}];\n",
       "  root.Bokeh.embed.embed_items_notebook(docs_json, render_items);\n",
       "  }\n",
       "if (root.Bokeh !== undefined) {\n",
       "    embed_document(root);\n",
       "  } else {\n",
       "    var attempts = 0;\n",
       "    var timer = setInterval(function(root) {\n",
       "      if (root.Bokeh !== undefined) {\n",
       "        clearInterval(timer);\n",
       "        embed_document(root);\n",
       "      } else if (document.readyState == \"complete\") {\n",
       "        attempts++;\n",
       "        if (attempts > 100) {\n",
       "          clearInterval(timer);\n",
       "          console.log(\"Bokeh: ERROR: Unable to run BokehJS code because BokehJS library is missing\");\n",
       "        }\n",
       "      }\n",
       "    }, 10, root)\n",
       "  }\n",
       "})(window);</script>"
      ],
      "text/plain": [
       ":Overlay\n",
       "   .Scatter.I  :Scatter   [Volatility]   (Return,Sharpe Ratio)\n",
       "   .Scatter.II :Scatter   [x]   (y)\n",
       "   .Curve.I    :Curve   [x]   (y)"
      ]
     },
     "execution_count": 117,
     "metadata": {
      "application/vnd.holoviews_exec.v0+json": {
       "id": "3098"
      }
     },
     "output_type": "execute_result"
    }
   ],
   "source": [
    "# Plotting the Optimal Portolio:\n",
    "opt_sharpe_epi = hv.Scatter([(result_epi[1], result_epi[0])]).opts(color='red', line_color='black', size=10)\n",
    "\n",
    "\n",
    "# Plotting the Efficient Frontier:\n",
    "efficient_frontier_epi = trail_scatter * opt_sharpe_epi * \\\n",
    "hv.Curve((frontier_volatility_epi, frontier_returns_epi)).opts(\n",
    "    title='Efficient Frontier & the Optimal Porfolio (Red Dot) Under  \"Epidemic\" (2020):', \n",
    "    active_tools=['wheel_zoom'], fontscale=1.1, color='green', line_dash='dashed'\n",
    "    )\n",
    "\n",
    "efficient_frontier_epi"
   ]
  },
  {
   "cell_type": "markdown",
   "metadata": {},
   "source": [
    "# Table Summary:"
   ]
  },
  {
   "cell_type": "code",
   "execution_count": 138,
   "metadata": {},
   "outputs": [
    {
     "data": {
      "text/html": [
       "<div>\n",
       "<style scoped>\n",
       "    .dataframe tbody tr th:only-of-type {\n",
       "        vertical-align: middle;\n",
       "    }\n",
       "\n",
       "    .dataframe tbody tr th {\n",
       "        vertical-align: top;\n",
       "    }\n",
       "\n",
       "    .dataframe thead th {\n",
       "        text-align: right;\n",
       "    }\n",
       "</style>\n",
       "<table border=\"1\" class=\"dataframe\">\n",
       "  <thead>\n",
       "    <tr style=\"text-align: right;\">\n",
       "      <th></th>\n",
       "      <th>Normal 2017-2019</th>\n",
       "      <th>Epidemic 2020</th>\n",
       "    </tr>\n",
       "  </thead>\n",
       "  <tbody>\n",
       "    <tr>\n",
       "      <th>Best Trial Weight in Dollar Futures</th>\n",
       "      <td>0.11620</td>\n",
       "      <td>0.00085</td>\n",
       "    </tr>\n",
       "    <tr>\n",
       "      <th>Best Trial Weight in Gold Futures</th>\n",
       "      <td>0.75433</td>\n",
       "      <td>0.44293</td>\n",
       "    </tr>\n",
       "    <tr>\n",
       "      <th>Best Trial Weight in Bitcoin</th>\n",
       "      <td>0.12947</td>\n",
       "      <td>0.55622</td>\n",
       "    </tr>\n",
       "    <tr>\n",
       "      <th>Best Trial Portfolio Return</th>\n",
       "      <td>0.19726</td>\n",
       "      <td>1.01233</td>\n",
       "    </tr>\n",
       "    <tr>\n",
       "      <th>Best Trial Portfolio Standard Deviation/Volatility</th>\n",
       "      <td>0.13427</td>\n",
       "      <td>0.43314</td>\n",
       "    </tr>\n",
       "    <tr>\n",
       "      <th>Best Trial Portfolio Sharpe Ratio</th>\n",
       "      <td>1.46921</td>\n",
       "      <td>2.33717</td>\n",
       "    </tr>\n",
       "    <tr>\n",
       "      <th>Optimized Portfolio Weight in Dollar Futures</th>\n",
       "      <td>0.09885</td>\n",
       "      <td>0.00000</td>\n",
       "    </tr>\n",
       "    <tr>\n",
       "      <th>Optimized Portfolio Weight in Gold Futures</th>\n",
       "      <td>0.76229</td>\n",
       "      <td>0.44175</td>\n",
       "    </tr>\n",
       "    <tr>\n",
       "      <th>Optimized Portfolio Weight in Bitcoin</th>\n",
       "      <td>0.13886</td>\n",
       "      <td>0.55825</td>\n",
       "    </tr>\n",
       "    <tr>\n",
       "      <th>Optimized Portfolio Return</th>\n",
       "      <td>0.20761</td>\n",
       "      <td>1.01541</td>\n",
       "    </tr>\n",
       "    <tr>\n",
       "      <th>Optimized Portfolio Standard Deviation/Volatility</th>\n",
       "      <td>0.14126</td>\n",
       "      <td>0.43445</td>\n",
       "    </tr>\n",
       "    <tr>\n",
       "      <th>Optimized Portfolio Sharpe Ratio</th>\n",
       "      <td>1.46969</td>\n",
       "      <td>2.33726</td>\n",
       "    </tr>\n",
       "  </tbody>\n",
       "</table>\n",
       "</div>"
      ],
      "text/plain": [
       "                                                    Normal 2017-2019  \\\n",
       "Best Trial Weight in Dollar Futures                          0.11620   \n",
       "Best Trial Weight in Gold Futures                            0.75433   \n",
       "Best Trial Weight in Bitcoin                                 0.12947   \n",
       "Best Trial Portfolio Return                                  0.19726   \n",
       "Best Trial Portfolio Standard Deviation/Volatility           0.13427   \n",
       "Best Trial Portfolio Sharpe Ratio                            1.46921   \n",
       "Optimized Portfolio Weight in Dollar Futures                 0.09885   \n",
       "Optimized Portfolio Weight in Gold Futures                   0.76229   \n",
       "Optimized Portfolio Weight in Bitcoin                        0.13886   \n",
       "Optimized Portfolio Return                                   0.20761   \n",
       "Optimized Portfolio Standard Deviation/Volatility            0.14126   \n",
       "Optimized Portfolio Sharpe Ratio                             1.46969   \n",
       "\n",
       "                                                    Epidemic 2020  \n",
       "Best Trial Weight in Dollar Futures                       0.00085  \n",
       "Best Trial Weight in Gold Futures                         0.44293  \n",
       "Best Trial Weight in Bitcoin                              0.55622  \n",
       "Best Trial Portfolio Return                               1.01233  \n",
       "Best Trial Portfolio Standard Deviation/Volatility        0.43314  \n",
       "Best Trial Portfolio Sharpe Ratio                         2.33717  \n",
       "Optimized Portfolio Weight in Dollar Futures              0.00000  \n",
       "Optimized Portfolio Weight in Gold Futures                0.44175  \n",
       "Optimized Portfolio Weight in Bitcoin                     0.55825  \n",
       "Optimized Portfolio Return                                1.01541  \n",
       "Optimized Portfolio Standard Deviation/Volatility         0.43445  \n",
       "Optimized Portfolio Sharpe Ratio                          2.33726  "
      ]
     },
     "execution_count": 138,
     "metadata": {},
     "output_type": "execute_result"
    }
   ],
   "source": [
    "opt_summary = pd.DataFrame({\n",
    "    \"Normal 2017-2019\":[max_weight_normal[0],max_weight_normal[1],max_weight_normal[2],\\\n",
    "    max_return_normal,max_std_normal,max_sharpe_normal,optimal_weights_normal[0],\\\n",
    "    optimal_weights_normal[1],optimal_weights_normal[2],result_normal[0],result_normal[1],result_normal[2]],\\\n",
    "    \n",
    "    \"Epidemic 2020\":[max_weight_epi[0],max_weight_epi[1],max_weight_epi[2],max_return_epi,max_std_epi,\\\n",
    "    max_sharpe_epi,optimal_weights_epi[0],optimal_weights_epi[1],optimal_weights_epi[2],result_epi[0],\\\n",
    "    result_epi[1],result_epi[2]]}, \n",
    "    \n",
    "    index=[\"Best Trial Weight in Dollar Futures\",\"Best Trial Weight in Gold Futures\",\\\n",
    "            \"Best Trial Weight in Bitcoin\",\"Best Trial Portfolio Return\",\"Best Trial Portfolio Standard Deviation/Volatility\",\\\n",
    "            \"Best Trial Portfolio Sharpe Ratio\",\"Optimized Portfolio Weight in Dollar Futures\",\"Optimized Portfolio Weight in Gold Futures\",\\\n",
    "            \"Optimized Portfolio Weight in Bitcoin\",\"Optimized Portfolio Return\",\"Optimized Portfolio Standard Deviation/Volatility\",\\\n",
    "            \"Optimized Portfolio Sharpe Ratio\"])\n",
    "\n",
    "opt_summary.round(decimals=5)"
   ]
  },
  {
   "cell_type": "code",
   "execution_count": null,
   "metadata": {},
   "outputs": [],
   "source": []
  },
  {
   "cell_type": "code",
   "execution_count": null,
   "metadata": {},
   "outputs": [],
   "source": []
  },
  {
   "cell_type": "code",
   "execution_count": null,
   "metadata": {},
   "outputs": [],
   "source": []
  },
  {
   "cell_type": "code",
   "execution_count": null,
   "metadata": {},
   "outputs": [],
   "source": []
  },
  {
   "cell_type": "code",
   "execution_count": null,
   "metadata": {},
   "outputs": [],
   "source": []
  },
  {
   "cell_type": "code",
   "execution_count": null,
   "metadata": {},
   "outputs": [],
   "source": []
  },
  {
   "cell_type": "code",
   "execution_count": null,
   "metadata": {},
   "outputs": [],
   "source": []
  }
 ],
 "metadata": {
  "kernelspec": {
   "display_name": "Python [conda env:quantenv] *",
   "language": "python",
   "name": "conda-env-quantenv-py"
  },
  "language_info": {
   "codemirror_mode": {
    "name": "ipython",
    "version": 3
   },
   "file_extension": ".py",
   "mimetype": "text/x-python",
   "name": "python",
   "nbconvert_exporter": "python",
   "pygments_lexer": "ipython3",
   "version": "3.6.8"
  }
 },
 "nbformat": 4,
 "nbformat_minor": 4
}
