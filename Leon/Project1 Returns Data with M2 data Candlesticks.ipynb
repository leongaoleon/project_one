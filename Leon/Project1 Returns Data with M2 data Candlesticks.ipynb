{
 "cells": [
  {
   "cell_type": "markdown",
   "metadata": {},
   "source": [
    "## Initial Import:"
   ]
  },
  {
   "cell_type": "code",
   "execution_count": 1,
   "metadata": {},
   "outputs": [],
   "source": [
    "import pandas as pd\n",
    "from datetime import datetime\n",
    "import os    \n",
    "from dotenv  import load_dotenv\n",
    "from pathlib import Path\n",
    "%matplotlib inline"
   ]
  },
  {
   "cell_type": "markdown",
   "metadata": {},
   "source": [
    "## Importing Data from Yahoo Finance:"
   ]
  },
  {
   "cell_type": "markdown",
   "metadata": {},
   "source": [
    "##### **<span style=color:red>  Install yfinance:**"
   ]
  },
  {
   "cell_type": "code",
   "execution_count": 2,
   "metadata": {},
   "outputs": [],
   "source": [
    "# !pip install yfinance\n",
    "import yfinance as yf"
   ]
  },
  {
   "cell_type": "markdown",
   "metadata": {},
   "source": [
    "### U.S. Dollar Index (USDX) Futures Contract (DX=F):"
   ]
  },
  {
   "cell_type": "code",
   "execution_count": 3,
   "metadata": {},
   "outputs": [
    {
     "name": "stdout",
     "output_type": "stream",
     "text": [
      "[*********************100%***********************]  1 of 1 downloaded\n",
      "Open         float64\n",
      "High         float64\n",
      "Low          float64\n",
      "Close        float64\n",
      "Adj Close    float64\n",
      "Volume         int64\n",
      "dtype: object\n",
      "\n",
      "\n",
      "(1000, 6)\n",
      "\n",
      "\n",
      "Empty DataFrame\n",
      "Columns: [Open, High, Low, Close, Adj Close, Volume]\n",
      "Index: []\n",
      "\n",
      "\n",
      "Open         0\n",
      "High         0\n",
      "Low          0\n",
      "Close        0\n",
      "Adj Close    0\n",
      "Volume       0\n",
      "dtype: int64\n",
      "\n",
      "\n",
      "             Open   High    Low  Close  Adj Close  Volume\n",
      "Date                                                     \n",
      "2020-12-21  90.04  90.95  89.93  89.95      89.95   39253\n",
      "2020-12-22  90.10  90.62  89.95  90.55      90.55   21871\n",
      "2020-12-23  90.54  90.58  90.05  90.34      90.34   27553\n",
      "2020-12-28  90.26  90.32  89.89  90.28      90.28   10826\n",
      "2020-12-30  89.86  89.88  89.67  89.72      89.72    2897\n"
     ]
    }
   ],
   "source": [
    "yf_dollar_df = yf.download(\"DX=F\", start=\"2017-01-01\", end=\"2020-12-31\")\n",
    "\n",
    "# Checking Data Quality:\n",
    "print(yf_dollar_df.dtypes)\n",
    "print(\"\\n\")\n",
    "print(yf_dollar_df.shape)\n",
    "print(\"\\n\")\n",
    "print(yf_dollar_df[yf_dollar_df.duplicated(keep=False)]) #False: Mark all duplicates as True\n",
    "print(\"\\n\")\n",
    "print(yf_dollar_df.isnull().sum())\n",
    "print(\"\\n\")\n",
    "print(yf_dollar_df.tail())"
   ]
  },
  {
   "cell_type": "markdown",
   "metadata": {},
   "source": [
    "### Gold Futures Contract (GC=F):"
   ]
  },
  {
   "cell_type": "code",
   "execution_count": 4,
   "metadata": {},
   "outputs": [
    {
     "name": "stdout",
     "output_type": "stream",
     "text": [
      "[*********************100%***********************]  1 of 1 downloaded\n",
      "Open         float64\n",
      "High         float64\n",
      "Low          float64\n",
      "Close        float64\n",
      "Adj Close    float64\n",
      "Volume         int64\n",
      "dtype: object\n",
      "\n",
      "\n",
      "(1079, 6)\n",
      "\n",
      "\n",
      "Empty DataFrame\n",
      "Columns: [Open, High, Low, Close, Adj Close, Volume]\n",
      "Index: []\n",
      "\n",
      "\n",
      "Open         0\n",
      "High         0\n",
      "Low          0\n",
      "Close        0\n",
      "Adj Close    0\n",
      "Volume       0\n",
      "dtype: int64\n",
      "\n",
      "\n",
      "              Open    High     Low   Close  Adj Close  Volume\n",
      "Date                                                         \n",
      "2020-12-22  1882.2  1882.2  1861.0  1866.6     1866.6     233\n",
      "2020-12-23  1867.0  1878.8  1864.5  1874.7     1874.7      82\n",
      "2020-12-28  1895.5  1895.8  1873.7  1877.2     1877.2      75\n",
      "2020-12-29  1881.3  1881.3  1879.7  1879.7     1879.7      75\n",
      "2020-12-30  1881.8  1890.1  1880.6  1883.4     1883.4   25450\n"
     ]
    }
   ],
   "source": [
    "yf_gold_df = yf.download(\"GC=F\", start=\"2017-01-01\", end=\"2020-12-31\")\n",
    "\n",
    "# Checking Data Quality:\n",
    "print(yf_gold_df.dtypes)\n",
    "print(\"\\n\")\n",
    "print(yf_gold_df.shape)\n",
    "print(\"\\n\")\n",
    "print(yf_gold_df[yf_gold_df.duplicated(keep=False)]) #False: Mark all duplicates as True\n",
    "print(\"\\n\")\n",
    "print(yf_gold_df.isnull().sum())\n",
    "print(\"\\n\")\n",
    "print(yf_gold_df.tail())"
   ]
  },
  {
   "cell_type": "markdown",
   "metadata": {},
   "source": [
    "### Bitcoin USD (BTC-USD):"
   ]
  },
  {
   "cell_type": "code",
   "execution_count": 5,
   "metadata": {},
   "outputs": [
    {
     "name": "stdout",
     "output_type": "stream",
     "text": [
      "[*********************100%***********************]  1 of 1 downloaded\n",
      "Open         float64\n",
      "High         float64\n",
      "Low          float64\n",
      "Close        float64\n",
      "Adj Close    float64\n",
      "Volume         int64\n",
      "dtype: object\n",
      "\n",
      "\n",
      "(1461, 6)\n",
      "\n",
      "\n",
      "Empty DataFrame\n",
      "Columns: [Open, High, Low, Close, Adj Close, Volume]\n",
      "Index: []\n",
      "\n",
      "\n",
      "Open         0\n",
      "High         0\n",
      "Low          0\n",
      "Close        0\n",
      "Adj Close    0\n",
      "Volume       0\n",
      "dtype: int64\n",
      "\n",
      "\n",
      "                Open      High       Low     Close  Adj Close       Volume\n",
      "Date                                                                      \n",
      "2020-12-26  24677.02  26718.07  24522.69  26437.04   26437.04  48332647295\n",
      "2020-12-27  26439.37  28288.84  25922.77  26272.29   26272.29  66479895605\n",
      "2020-12-28  26280.82  27389.11  26207.64  27084.81   27084.81  49056742893\n",
      "2020-12-29  27081.81  27370.72  25987.30  27362.44   27362.44  45265946774\n",
      "2020-12-30  28417.68  28533.95  27445.65  28333.01   28333.01  49778057216\n"
     ]
    }
   ],
   "source": [
    "yf_bitcoin_df = yf.download(\"BTC-USD\", start=\"2017-01-01\", end=\"2020-12-31\")\n",
    "\n",
    "# Checking Data Quality:\n",
    "print(yf_bitcoin_df.dtypes)\n",
    "print(\"\\n\")\n",
    "print(yf_bitcoin_df.shape)\n",
    "print(\"\\n\")\n",
    "print(yf_bitcoin_df[yf_bitcoin_df.duplicated(keep=False)]) #False: Mark all duplicates as True\n",
    "print(\"\\n\")\n",
    "print(yf_bitcoin_df.isnull().sum())\n",
    "print(\"\\n\")\n",
    "print(yf_bitcoin_df.tail())"
   ]
  },
  {
   "cell_type": "markdown",
   "metadata": {},
   "source": [
    "### Other Data: S&P 500 Index (^GSPC)："
   ]
  },
  {
   "cell_type": "code",
   "execution_count": 6,
   "metadata": {},
   "outputs": [
    {
     "name": "stdout",
     "output_type": "stream",
     "text": [
      "[*********************100%***********************]  1 of 1 downloaded\n",
      "Open         float64\n",
      "High         float64\n",
      "Low          float64\n",
      "Close        float64\n",
      "Adj Close    float64\n",
      "Volume         int64\n",
      "dtype: object\n",
      "\n",
      "\n",
      "(1005, 6)\n",
      "\n",
      "\n",
      "Empty DataFrame\n",
      "Columns: [Open, High, Low, Close, Adj Close, Volume]\n",
      "Index: []\n",
      "\n",
      "\n",
      "Open         0\n",
      "High         0\n",
      "Low          0\n",
      "Close        0\n",
      "Adj Close    0\n",
      "Volume       0\n",
      "dtype: int64\n",
      "\n",
      "\n",
      "               Open     High      Low    Close  Adj Close      Volume\n",
      "Date                                                                 \n",
      "2020-12-22  3698.08  3698.26  3676.16  3687.26    3687.26  4023940000\n",
      "2020-12-23  3693.42  3711.24  3689.28  3690.01    3690.01  3772630000\n",
      "2020-12-24  3694.03  3703.82  3689.32  3703.06    3703.06  1885090000\n",
      "2020-12-28  3723.03  3740.51  3723.03  3735.36    3735.36  3527460000\n",
      "2020-12-29  3750.01  3756.12  3723.31  3727.04    3727.04  3387030000\n"
     ]
    }
   ],
   "source": [
    "yf_sp500_df = yf.download(\"^GSPC\", start=\"2017-01-01\", end=\"2020-12-31\")\n",
    "\n",
    "# Checking Data Quality:\n",
    "print(yf_sp500_df.dtypes)\n",
    "print(\"\\n\")\n",
    "print(yf_sp500_df.shape)\n",
    "print(\"\\n\")\n",
    "print(yf_sp500_df[yf_sp500_df.duplicated(keep=False)]) #False: Mark all duplicates as True\n",
    "print(\"\\n\")\n",
    "print(yf_sp500_df.isnull().sum())\n",
    "print(\"\\n\")\n",
    "print(yf_sp500_df.tail())"
   ]
  },
  {
   "cell_type": "markdown",
   "metadata": {},
   "source": [
    "## Importing Data from Investing by Reading CSV:"
   ]
  },
  {
   "cell_type": "markdown",
   "metadata": {},
   "source": [
    "### Other Data: M2 US Money Supply:"
   ]
  },
  {
   "cell_type": "code",
   "execution_count": 7,
   "metadata": {},
   "outputs": [
    {
     "name": "stdout",
     "output_type": "stream",
     "text": [
      "M2(billions)    float64\n",
      "dtype: object\n",
      "\n",
      "\n",
      "(206, 1)\n",
      "\n",
      "\n",
      "Empty DataFrame\n",
      "Columns: [M2(billions)]\n",
      "Index: []\n",
      "\n",
      "\n",
      "M2(billions)    0\n",
      "dtype: int64\n",
      "\n",
      "\n",
      "            M2(billions)\n",
      "DATE                    \n",
      "2020-11-09       19067.1\n",
      "2020-11-16       19108.4\n",
      "2020-11-23       19120.7\n",
      "2020-11-30       18998.0\n",
      "2020-12-07       19226.1\n"
     ]
    }
   ],
   "source": [
    "csvpath = Path(\"Resources/M2.csv\")\n",
    "m2_df = pd.read_csv(csvpath, index_col=\"DATE\", parse_dates=True, infer_datetime_format=True).sort_values(\"DATE\")\n",
    "m2_df.rename(columns={\"M2\" : \"M2(billions)\"}, inplace=True)\n",
    "\n",
    "# Checking Data Quality:\n",
    "print(m2_df.dtypes)\n",
    "print(\"\\n\")\n",
    "print(m2_df.shape)\n",
    "print(\"\\n\")\n",
    "print(m2_df[m2_df.duplicated(keep=False)]) #False: Mark all duplicates as True\n",
    "print(\"\\n\")\n",
    "print(m2_df.isnull().sum())\n",
    "print(\"\\n\")\n",
    "print(m2_df.tail())"
   ]
  },
  {
   "cell_type": "markdown",
   "metadata": {},
   "source": [
    "## Rename Columns & Copy Original DataFrames with Selected Columns:"
   ]
  },
  {
   "cell_type": "code",
   "execution_count": 8,
   "metadata": {},
   "outputs": [
    {
     "data": {
      "text/html": [
       "<div>\n",
       "<style scoped>\n",
       "    .dataframe tbody tr th:only-of-type {\n",
       "        vertical-align: middle;\n",
       "    }\n",
       "\n",
       "    .dataframe tbody tr th {\n",
       "        vertical-align: top;\n",
       "    }\n",
       "\n",
       "    .dataframe thead th {\n",
       "        text-align: right;\n",
       "    }\n",
       "</style>\n",
       "<table border=\"1\" class=\"dataframe\">\n",
       "  <thead>\n",
       "    <tr style=\"text-align: right;\">\n",
       "      <th></th>\n",
       "      <th>dollar_Adj Close</th>\n",
       "      <th>dollar_Volume</th>\n",
       "    </tr>\n",
       "    <tr>\n",
       "      <th>Date</th>\n",
       "      <th></th>\n",
       "      <th></th>\n",
       "    </tr>\n",
       "  </thead>\n",
       "  <tbody>\n",
       "    <tr>\n",
       "      <th>2020-12-23</th>\n",
       "      <td>90.34</td>\n",
       "      <td>27553</td>\n",
       "    </tr>\n",
       "    <tr>\n",
       "      <th>2020-12-28</th>\n",
       "      <td>90.28</td>\n",
       "      <td>10826</td>\n",
       "    </tr>\n",
       "    <tr>\n",
       "      <th>2020-12-30</th>\n",
       "      <td>89.72</td>\n",
       "      <td>2897</td>\n",
       "    </tr>\n",
       "  </tbody>\n",
       "</table>\n",
       "</div>"
      ],
      "text/plain": [
       "            dollar_Adj Close  dollar_Volume\n",
       "Date                                       \n",
       "2020-12-23             90.34          27553\n",
       "2020-12-28             90.28          10826\n",
       "2020-12-30             89.72           2897"
      ]
     },
     "execution_count": 8,
     "metadata": {},
     "output_type": "execute_result"
    }
   ],
   "source": [
    "# Rename Columns:\n",
    "selected_dollar_df = yf_dollar_df.copy()\n",
    "selected_dollar_df.columns = [('dollar_'+ column) for column in selected_dollar_df.columns]\n",
    "# Selected Columns:\n",
    "selected_dollar_df = selected_dollar_df.iloc[:,[-2,-1]]\n",
    "selected_dollar_df.tail(3)"
   ]
  },
  {
   "cell_type": "code",
   "execution_count": 9,
   "metadata": {},
   "outputs": [
    {
     "data": {
      "text/html": [
       "<div>\n",
       "<style scoped>\n",
       "    .dataframe tbody tr th:only-of-type {\n",
       "        vertical-align: middle;\n",
       "    }\n",
       "\n",
       "    .dataframe tbody tr th {\n",
       "        vertical-align: top;\n",
       "    }\n",
       "\n",
       "    .dataframe thead th {\n",
       "        text-align: right;\n",
       "    }\n",
       "</style>\n",
       "<table border=\"1\" class=\"dataframe\">\n",
       "  <thead>\n",
       "    <tr style=\"text-align: right;\">\n",
       "      <th></th>\n",
       "      <th>gold_Adj Close</th>\n",
       "      <th>gold_Volume</th>\n",
       "    </tr>\n",
       "    <tr>\n",
       "      <th>Date</th>\n",
       "      <th></th>\n",
       "      <th></th>\n",
       "    </tr>\n",
       "  </thead>\n",
       "  <tbody>\n",
       "    <tr>\n",
       "      <th>2020-12-28</th>\n",
       "      <td>1877.2</td>\n",
       "      <td>75</td>\n",
       "    </tr>\n",
       "    <tr>\n",
       "      <th>2020-12-29</th>\n",
       "      <td>1879.7</td>\n",
       "      <td>75</td>\n",
       "    </tr>\n",
       "    <tr>\n",
       "      <th>2020-12-30</th>\n",
       "      <td>1883.4</td>\n",
       "      <td>25450</td>\n",
       "    </tr>\n",
       "  </tbody>\n",
       "</table>\n",
       "</div>"
      ],
      "text/plain": [
       "            gold_Adj Close  gold_Volume\n",
       "Date                                   \n",
       "2020-12-28          1877.2           75\n",
       "2020-12-29          1879.7           75\n",
       "2020-12-30          1883.4        25450"
      ]
     },
     "execution_count": 9,
     "metadata": {},
     "output_type": "execute_result"
    }
   ],
   "source": [
    "# Rename Columns:\n",
    "selected_gold_df = yf_gold_df.copy()\n",
    "selected_gold_df.columns = [('gold_'+ column) for column in selected_gold_df.columns]\n",
    "# Selected Columns:\n",
    "selected_gold_df = selected_gold_df.iloc[:,[-2,-1]]\n",
    "selected_gold_df.tail(3)"
   ]
  },
  {
   "cell_type": "code",
   "execution_count": 10,
   "metadata": {},
   "outputs": [
    {
     "data": {
      "text/html": [
       "<div>\n",
       "<style scoped>\n",
       "    .dataframe tbody tr th:only-of-type {\n",
       "        vertical-align: middle;\n",
       "    }\n",
       "\n",
       "    .dataframe tbody tr th {\n",
       "        vertical-align: top;\n",
       "    }\n",
       "\n",
       "    .dataframe thead th {\n",
       "        text-align: right;\n",
       "    }\n",
       "</style>\n",
       "<table border=\"1\" class=\"dataframe\">\n",
       "  <thead>\n",
       "    <tr style=\"text-align: right;\">\n",
       "      <th></th>\n",
       "      <th>bitcoin_Adj Close</th>\n",
       "      <th>bitcoin_Volume</th>\n",
       "    </tr>\n",
       "    <tr>\n",
       "      <th>Date</th>\n",
       "      <th></th>\n",
       "      <th></th>\n",
       "    </tr>\n",
       "  </thead>\n",
       "  <tbody>\n",
       "    <tr>\n",
       "      <th>2020-12-28</th>\n",
       "      <td>27084.81</td>\n",
       "      <td>49056742893</td>\n",
       "    </tr>\n",
       "    <tr>\n",
       "      <th>2020-12-29</th>\n",
       "      <td>27362.44</td>\n",
       "      <td>45265946774</td>\n",
       "    </tr>\n",
       "    <tr>\n",
       "      <th>2020-12-30</th>\n",
       "      <td>28333.01</td>\n",
       "      <td>49778057216</td>\n",
       "    </tr>\n",
       "  </tbody>\n",
       "</table>\n",
       "</div>"
      ],
      "text/plain": [
       "            bitcoin_Adj Close  bitcoin_Volume\n",
       "Date                                         \n",
       "2020-12-28           27084.81     49056742893\n",
       "2020-12-29           27362.44     45265946774\n",
       "2020-12-30           28333.01     49778057216"
      ]
     },
     "execution_count": 10,
     "metadata": {},
     "output_type": "execute_result"
    }
   ],
   "source": [
    "# Rename Columns:\n",
    "selected_bitcoin_df = yf_bitcoin_df.copy()\n",
    "selected_bitcoin_df.columns = [('bitcoin_'+ column) for column in selected_bitcoin_df.columns]\n",
    "# Selected Columns:\n",
    "selected_bitcoin_df = selected_bitcoin_df.iloc[:,[-2,-1]]\n",
    "selected_bitcoin_df.tail(3)"
   ]
  },
  {
   "cell_type": "code",
   "execution_count": 11,
   "metadata": {},
   "outputs": [
    {
     "data": {
      "text/html": [
       "<div>\n",
       "<style scoped>\n",
       "    .dataframe tbody tr th:only-of-type {\n",
       "        vertical-align: middle;\n",
       "    }\n",
       "\n",
       "    .dataframe tbody tr th {\n",
       "        vertical-align: top;\n",
       "    }\n",
       "\n",
       "    .dataframe thead th {\n",
       "        text-align: right;\n",
       "    }\n",
       "</style>\n",
       "<table border=\"1\" class=\"dataframe\">\n",
       "  <thead>\n",
       "    <tr style=\"text-align: right;\">\n",
       "      <th></th>\n",
       "      <th>sp500_Adj Close</th>\n",
       "      <th>sp500_Volume</th>\n",
       "    </tr>\n",
       "    <tr>\n",
       "      <th>Date</th>\n",
       "      <th></th>\n",
       "      <th></th>\n",
       "    </tr>\n",
       "  </thead>\n",
       "  <tbody>\n",
       "    <tr>\n",
       "      <th>2020-12-24</th>\n",
       "      <td>3703.06</td>\n",
       "      <td>1885090000</td>\n",
       "    </tr>\n",
       "    <tr>\n",
       "      <th>2020-12-28</th>\n",
       "      <td>3735.36</td>\n",
       "      <td>3527460000</td>\n",
       "    </tr>\n",
       "    <tr>\n",
       "      <th>2020-12-29</th>\n",
       "      <td>3727.04</td>\n",
       "      <td>3387030000</td>\n",
       "    </tr>\n",
       "  </tbody>\n",
       "</table>\n",
       "</div>"
      ],
      "text/plain": [
       "            sp500_Adj Close  sp500_Volume\n",
       "Date                                     \n",
       "2020-12-24          3703.06    1885090000\n",
       "2020-12-28          3735.36    3527460000\n",
       "2020-12-29          3727.04    3387030000"
      ]
     },
     "execution_count": 11,
     "metadata": {},
     "output_type": "execute_result"
    }
   ],
   "source": [
    "# Rename Columns:\n",
    "selected_sp500_df = yf_sp500_df.copy()\n",
    "selected_sp500_df.columns = [('sp500_'+ column) for column in selected_sp500_df.columns]\n",
    "# Selected Columns:\n",
    "selected_sp500_df = selected_sp500_df.iloc[:,[-2,-1]]\n",
    "selected_sp500_df.tail(3)"
   ]
  },
  {
   "cell_type": "markdown",
   "metadata": {},
   "source": [
    "## Concatenating Selected DataFrames for Further  Analysis:"
   ]
  },
  {
   "cell_type": "code",
   "execution_count": 12,
   "metadata": {},
   "outputs": [
    {
     "name": "stdout",
     "output_type": "stream",
     "text": [
      "dollar_Adj Close     float64\n",
      "dollar_Volume          int64\n",
      "gold_Adj Close       float64\n",
      "gold_Volume            int64\n",
      "bitcoin_Adj Close    float64\n",
      "bitcoin_Volume         int64\n",
      "sp500_Adj Close      float64\n",
      "sp500_Volume           int64\n",
      "dtype: object\n",
      "\n",
      "\n",
      "(993, 8)\n",
      "\n",
      "\n",
      "Empty DataFrame\n",
      "Columns: [dollar_Adj Close, dollar_Volume, gold_Adj Close, gold_Volume, bitcoin_Adj Close, bitcoin_Volume, sp500_Adj Close, sp500_Volume]\n",
      "Index: []\n",
      "\n",
      "\n",
      "dollar_Adj Close     0\n",
      "dollar_Volume        0\n",
      "gold_Adj Close       0\n",
      "gold_Volume          0\n",
      "bitcoin_Adj Close    0\n",
      "bitcoin_Volume       0\n",
      "sp500_Adj Close      0\n",
      "sp500_Volume         0\n",
      "dtype: int64\n",
      "\n",
      "\n",
      "            dollar_Adj Close  dollar_Volume  gold_Adj Close  gold_Volume  \\\n",
      "Date                                                                       \n",
      "2020-12-18             89.95          17930          1885.7          276   \n",
      "2020-12-21             89.95          39253          1879.2          136   \n",
      "2020-12-22             90.55          21871          1866.6          233   \n",
      "2020-12-23             90.34          27553          1874.7           82   \n",
      "2020-12-28             90.28          10826          1877.2           75   \n",
      "\n",
      "            bitcoin_Adj Close  bitcoin_Volume  sp500_Adj Close  sp500_Volume  \n",
      "Date                                                                          \n",
      "2020-12-18           23137.96     40387896275          3709.41    7068340000  \n",
      "2020-12-21           22803.08     45852713981          3694.92    4732160000  \n",
      "2020-12-22           23783.03     44171632681          3687.26    4023940000  \n",
      "2020-12-23           23241.35     51146161904          3690.01    3772630000  \n",
      "2020-12-28           27084.81     49056742893          3735.36    3527460000  \n"
     ]
    }
   ],
   "source": [
    "joined_df = pd.concat([selected_dollar_df, selected_gold_df, selected_bitcoin_df, selected_sp500_df], axis = 'columns', join='inner', sort=True)\n",
    "\n",
    "# Checking Data Quality:\n",
    "print(joined_df.dtypes)\n",
    "print(\"\\n\")\n",
    "print(joined_df.shape)\n",
    "print(\"\\n\")\n",
    "print(joined_df[joined_df.duplicated(keep=False)]) #False: Mark all duplicates as True\n",
    "print(\"\\n\")\n",
    "print(joined_df.isnull().sum())\n",
    "print(\"\\n\")\n",
    "print(joined_df.tail())"
   ]
  },
  {
   "cell_type": "markdown",
   "metadata": {},
   "source": [
    "## Calculating Historical Daily Returns:"
   ]
  },
  {
   "cell_type": "markdown",
   "metadata": {},
   "source": [
    "#### Calculating the Differences in Date:"
   ]
  },
  {
   "cell_type": "code",
   "execution_count": 30,
   "metadata": {},
   "outputs": [],
   "source": [
    "#  Convert TimeDelta to Float:\n",
    "diff = joined_df.reset_index()['Date'].diff().dt.days \n",
    "# Set Same DateTime Index:\n",
    "# Series has no attribute 'set_index', so convert it to DataFrame:\n",
    "days_diff = diff.to_frame() \n",
    "days_diff.set_index(joined_df.index, inplace=True)"
   ]
  },
  {
   "cell_type": "markdown",
   "metadata": {},
   "source": [
    "####  Historical Daily Returns of U.S. Dollar Index (USDX) Futures Contract (DX=F):"
   ]
  },
  {
   "cell_type": "code",
   "execution_count": 34,
   "metadata": {},
   "outputs": [
    {
     "data": {
      "text/html": [
       "<div>\n",
       "<style scoped>\n",
       "    .dataframe tbody tr th:only-of-type {\n",
       "        vertical-align: middle;\n",
       "    }\n",
       "\n",
       "    .dataframe tbody tr th {\n",
       "        vertical-align: top;\n",
       "    }\n",
       "\n",
       "    .dataframe thead th {\n",
       "        text-align: right;\n",
       "    }\n",
       "</style>\n",
       "<table border=\"1\" class=\"dataframe\">\n",
       "  <thead>\n",
       "    <tr style=\"text-align: right;\">\n",
       "      <th></th>\n",
       "      <th>dollar_return</th>\n",
       "      <th>days_diff</th>\n",
       "      <th>dollar_daily_retuns</th>\n",
       "    </tr>\n",
       "    <tr>\n",
       "      <th>Date</th>\n",
       "      <th></th>\n",
       "      <th></th>\n",
       "      <th></th>\n",
       "    </tr>\n",
       "  </thead>\n",
       "  <tbody>\n",
       "    <tr>\n",
       "      <th>2020-12-18</th>\n",
       "      <td>0.002340</td>\n",
       "      <td>1.0</td>\n",
       "      <td>0.002340</td>\n",
       "    </tr>\n",
       "    <tr>\n",
       "      <th>2020-12-21</th>\n",
       "      <td>0.000000</td>\n",
       "      <td>3.0</td>\n",
       "      <td>0.000000</td>\n",
       "    </tr>\n",
       "    <tr>\n",
       "      <th>2020-12-22</th>\n",
       "      <td>0.006670</td>\n",
       "      <td>1.0</td>\n",
       "      <td>0.006670</td>\n",
       "    </tr>\n",
       "    <tr>\n",
       "      <th>2020-12-23</th>\n",
       "      <td>-0.002319</td>\n",
       "      <td>1.0</td>\n",
       "      <td>-0.002319</td>\n",
       "    </tr>\n",
       "    <tr>\n",
       "      <th>2020-12-28</th>\n",
       "      <td>-0.000664</td>\n",
       "      <td>5.0</td>\n",
       "      <td>-0.000133</td>\n",
       "    </tr>\n",
       "  </tbody>\n",
       "</table>\n",
       "</div>"
      ],
      "text/plain": [
       "            dollar_return  days_diff  dollar_daily_retuns\n",
       "Date                                                     \n",
       "2020-12-18       0.002340        1.0             0.002340\n",
       "2020-12-21       0.000000        3.0             0.000000\n",
       "2020-12-22       0.006670        1.0             0.006670\n",
       "2020-12-23      -0.002319        1.0            -0.002319\n",
       "2020-12-28      -0.000664        5.0            -0.000133"
      ]
     },
     "execution_count": 34,
     "metadata": {},
     "output_type": "execute_result"
    }
   ],
   "source": [
    "# Creating a new DataFrame to Hold Calculation Results:\n",
    "dollar_daily_return = pd.DataFrame()\n",
    "dollar_daily_return['dollar_return'] = joined_df['dollar_Adj Close'].pct_change()\n",
    "dollar_daily_return['days_diff'] = days_diff\n",
    "dollar_daily_return['dollar_daily_retuns'] = dollar_daily_return['dollar_return']  / dollar_daily_return['days_diff']\n",
    "dollar_daily_return.dropna(inplace=True)\n",
    "dollar_daily_return.tail()"
   ]
  },
  {
   "cell_type": "markdown",
   "metadata": {},
   "source": [
    "####  Historical Daily Returns of Gold Futures Contract (GC=F):"
   ]
  },
  {
   "cell_type": "code",
   "execution_count": 36,
   "metadata": {},
   "outputs": [
    {
     "data": {
      "text/html": [
       "<div>\n",
       "<style scoped>\n",
       "    .dataframe tbody tr th:only-of-type {\n",
       "        vertical-align: middle;\n",
       "    }\n",
       "\n",
       "    .dataframe tbody tr th {\n",
       "        vertical-align: top;\n",
       "    }\n",
       "\n",
       "    .dataframe thead th {\n",
       "        text-align: right;\n",
       "    }\n",
       "</style>\n",
       "<table border=\"1\" class=\"dataframe\">\n",
       "  <thead>\n",
       "    <tr style=\"text-align: right;\">\n",
       "      <th></th>\n",
       "      <th>gold_return</th>\n",
       "      <th>days_diff</th>\n",
       "      <th>gold_daily_retuns</th>\n",
       "    </tr>\n",
       "    <tr>\n",
       "      <th>Date</th>\n",
       "      <th></th>\n",
       "      <th></th>\n",
       "      <th></th>\n",
       "    </tr>\n",
       "  </thead>\n",
       "  <tbody>\n",
       "    <tr>\n",
       "      <th>2020-12-18</th>\n",
       "      <td>-0.000795</td>\n",
       "      <td>1.0</td>\n",
       "      <td>-0.000795</td>\n",
       "    </tr>\n",
       "    <tr>\n",
       "      <th>2020-12-21</th>\n",
       "      <td>-0.003447</td>\n",
       "      <td>3.0</td>\n",
       "      <td>-0.001149</td>\n",
       "    </tr>\n",
       "    <tr>\n",
       "      <th>2020-12-22</th>\n",
       "      <td>-0.006705</td>\n",
       "      <td>1.0</td>\n",
       "      <td>-0.006705</td>\n",
       "    </tr>\n",
       "    <tr>\n",
       "      <th>2020-12-23</th>\n",
       "      <td>0.004339</td>\n",
       "      <td>1.0</td>\n",
       "      <td>0.004339</td>\n",
       "    </tr>\n",
       "    <tr>\n",
       "      <th>2020-12-28</th>\n",
       "      <td>0.001334</td>\n",
       "      <td>5.0</td>\n",
       "      <td>0.000267</td>\n",
       "    </tr>\n",
       "  </tbody>\n",
       "</table>\n",
       "</div>"
      ],
      "text/plain": [
       "            gold_return  days_diff  gold_daily_retuns\n",
       "Date                                                 \n",
       "2020-12-18    -0.000795        1.0          -0.000795\n",
       "2020-12-21    -0.003447        3.0          -0.001149\n",
       "2020-12-22    -0.006705        1.0          -0.006705\n",
       "2020-12-23     0.004339        1.0           0.004339\n",
       "2020-12-28     0.001334        5.0           0.000267"
      ]
     },
     "execution_count": 36,
     "metadata": {},
     "output_type": "execute_result"
    }
   ],
   "source": [
    "# Creating a new DataFrame to Hold Calculation Results:\n",
    "gold_daily_return = pd.DataFrame()\n",
    "gold_daily_return['gold_return'] = joined_df['gold_Adj Close'].pct_change()\n",
    "gold_daily_return['days_diff'] = days_diff\n",
    "gold_daily_return['gold_daily_retuns'] = gold_daily_return['gold_return']  / gold_daily_return['days_diff']\n",
    "gold_daily_return.dropna(inplace=True)\n",
    "gold_daily_return.tail()"
   ]
  },
  {
   "cell_type": "markdown",
   "metadata": {},
   "source": [
    "####  Historical Daily Returns of Bitcoin USD (BTC-USD):"
   ]
  },
  {
   "cell_type": "code",
   "execution_count": 38,
   "metadata": {},
   "outputs": [
    {
     "data": {
      "text/html": [
       "<div>\n",
       "<style scoped>\n",
       "    .dataframe tbody tr th:only-of-type {\n",
       "        vertical-align: middle;\n",
       "    }\n",
       "\n",
       "    .dataframe tbody tr th {\n",
       "        vertical-align: top;\n",
       "    }\n",
       "\n",
       "    .dataframe thead th {\n",
       "        text-align: right;\n",
       "    }\n",
       "</style>\n",
       "<table border=\"1\" class=\"dataframe\">\n",
       "  <thead>\n",
       "    <tr style=\"text-align: right;\">\n",
       "      <th></th>\n",
       "      <th>bitcoin_return</th>\n",
       "      <th>days_diff</th>\n",
       "      <th>bitcoin_daily_retuns</th>\n",
       "    </tr>\n",
       "    <tr>\n",
       "      <th>Date</th>\n",
       "      <th></th>\n",
       "      <th></th>\n",
       "      <th></th>\n",
       "    </tr>\n",
       "  </thead>\n",
       "  <tbody>\n",
       "    <tr>\n",
       "      <th>2020-12-18</th>\n",
       "      <td>0.014593</td>\n",
       "      <td>1.0</td>\n",
       "      <td>0.014593</td>\n",
       "    </tr>\n",
       "    <tr>\n",
       "      <th>2020-12-21</th>\n",
       "      <td>-0.014473</td>\n",
       "      <td>3.0</td>\n",
       "      <td>-0.004824</td>\n",
       "    </tr>\n",
       "    <tr>\n",
       "      <th>2020-12-22</th>\n",
       "      <td>0.042974</td>\n",
       "      <td>1.0</td>\n",
       "      <td>0.042974</td>\n",
       "    </tr>\n",
       "    <tr>\n",
       "      <th>2020-12-23</th>\n",
       "      <td>-0.022776</td>\n",
       "      <td>1.0</td>\n",
       "      <td>-0.022776</td>\n",
       "    </tr>\n",
       "    <tr>\n",
       "      <th>2020-12-28</th>\n",
       "      <td>0.165372</td>\n",
       "      <td>5.0</td>\n",
       "      <td>0.033074</td>\n",
       "    </tr>\n",
       "  </tbody>\n",
       "</table>\n",
       "</div>"
      ],
      "text/plain": [
       "            bitcoin_return  days_diff  bitcoin_daily_retuns\n",
       "Date                                                       \n",
       "2020-12-18        0.014593        1.0              0.014593\n",
       "2020-12-21       -0.014473        3.0             -0.004824\n",
       "2020-12-22        0.042974        1.0              0.042974\n",
       "2020-12-23       -0.022776        1.0             -0.022776\n",
       "2020-12-28        0.165372        5.0              0.033074"
      ]
     },
     "execution_count": 38,
     "metadata": {},
     "output_type": "execute_result"
    }
   ],
   "source": [
    "# Creating a new DataFrame to Hold Calculation Results:\n",
    "bitcoin_daily_return = pd.DataFrame()\n",
    "bitcoin_daily_return['bitcoin_return'] = joined_df['bitcoin_Adj Close'].pct_change()\n",
    "bitcoin_daily_return['days_diff'] = days_diff\n",
    "bitcoin_daily_return['bitcoin_daily_retuns'] = bitcoin_daily_return['bitcoin_return']  / bitcoin_daily_return['days_diff']\n",
    "bitcoin_daily_return.dropna(inplace=True)\n",
    "bitcoin_daily_return.tail()"
   ]
  },
  {
   "cell_type": "markdown",
   "metadata": {},
   "source": [
    "####  Historical Daily Returns of S&P 500 Index (^GSPC)："
   ]
  },
  {
   "cell_type": "code",
   "execution_count": 39,
   "metadata": {},
   "outputs": [
    {
     "data": {
      "text/html": [
       "<div>\n",
       "<style scoped>\n",
       "    .dataframe tbody tr th:only-of-type {\n",
       "        vertical-align: middle;\n",
       "    }\n",
       "\n",
       "    .dataframe tbody tr th {\n",
       "        vertical-align: top;\n",
       "    }\n",
       "\n",
       "    .dataframe thead th {\n",
       "        text-align: right;\n",
       "    }\n",
       "</style>\n",
       "<table border=\"1\" class=\"dataframe\">\n",
       "  <thead>\n",
       "    <tr style=\"text-align: right;\">\n",
       "      <th></th>\n",
       "      <th>sp500_return</th>\n",
       "      <th>days_diff</th>\n",
       "      <th>sp500_daily_retuns</th>\n",
       "    </tr>\n",
       "    <tr>\n",
       "      <th>Date</th>\n",
       "      <th></th>\n",
       "      <th></th>\n",
       "      <th></th>\n",
       "    </tr>\n",
       "  </thead>\n",
       "  <tbody>\n",
       "    <tr>\n",
       "      <th>2020-12-18</th>\n",
       "      <td>-0.003511</td>\n",
       "      <td>1.0</td>\n",
       "      <td>-0.003511</td>\n",
       "    </tr>\n",
       "    <tr>\n",
       "      <th>2020-12-21</th>\n",
       "      <td>-0.003906</td>\n",
       "      <td>3.0</td>\n",
       "      <td>-0.001302</td>\n",
       "    </tr>\n",
       "    <tr>\n",
       "      <th>2020-12-22</th>\n",
       "      <td>-0.002073</td>\n",
       "      <td>1.0</td>\n",
       "      <td>-0.002073</td>\n",
       "    </tr>\n",
       "    <tr>\n",
       "      <th>2020-12-23</th>\n",
       "      <td>0.000746</td>\n",
       "      <td>1.0</td>\n",
       "      <td>0.000746</td>\n",
       "    </tr>\n",
       "    <tr>\n",
       "      <th>2020-12-28</th>\n",
       "      <td>0.012290</td>\n",
       "      <td>5.0</td>\n",
       "      <td>0.002458</td>\n",
       "    </tr>\n",
       "  </tbody>\n",
       "</table>\n",
       "</div>"
      ],
      "text/plain": [
       "            sp500_return  days_diff  sp500_daily_retuns\n",
       "Date                                                   \n",
       "2020-12-18     -0.003511        1.0           -0.003511\n",
       "2020-12-21     -0.003906        3.0           -0.001302\n",
       "2020-12-22     -0.002073        1.0           -0.002073\n",
       "2020-12-23      0.000746        1.0            0.000746\n",
       "2020-12-28      0.012290        5.0            0.002458"
      ]
     },
     "execution_count": 39,
     "metadata": {},
     "output_type": "execute_result"
    }
   ],
   "source": [
    "# Creating a new DataFrame to Hold Calculation Results:\n",
    "sp500_daily_return = pd.DataFrame()\n",
    "sp500_daily_return['sp500_return'] = joined_df['sp500_Adj Close'].pct_change()\n",
    "sp500_daily_return['days_diff'] = days_diff\n",
    "sp500_daily_return['sp500_daily_retuns'] = sp500_daily_return['sp500_return']  / sp500_daily_return['days_diff']\n",
    "sp500_daily_return.dropna(inplace=True)\n",
    "sp500_daily_return.tail()"
   ]
  },
  {
   "cell_type": "code",
   "execution_count": null,
   "metadata": {},
   "outputs": [],
   "source": []
  },
  {
   "cell_type": "code",
   "execution_count": null,
   "metadata": {},
   "outputs": [],
   "source": []
  },
  {
   "cell_type": "code",
   "execution_count": null,
   "metadata": {},
   "outputs": [],
   "source": []
  },
  {
   "cell_type": "code",
   "execution_count": null,
   "metadata": {},
   "outputs": [],
   "source": []
  },
  {
   "cell_type": "code",
   "execution_count": null,
   "metadata": {},
   "outputs": [],
   "source": []
  },
  {
   "cell_type": "code",
   "execution_count": null,
   "metadata": {},
   "outputs": [],
   "source": []
  },
  {
   "cell_type": "code",
   "execution_count": null,
   "metadata": {},
   "outputs": [],
   "source": []
  },
  {
   "cell_type": "code",
   "execution_count": null,
   "metadata": {},
   "outputs": [],
   "source": []
  },
  {
   "cell_type": "code",
   "execution_count": null,
   "metadata": {},
   "outputs": [],
   "source": []
  },
  {
   "cell_type": "code",
   "execution_count": null,
   "metadata": {},
   "outputs": [],
   "source": []
  },
  {
   "cell_type": "code",
   "execution_count": null,
   "metadata": {},
   "outputs": [],
   "source": []
  },
  {
   "cell_type": "code",
   "execution_count": null,
   "metadata": {},
   "outputs": [],
   "source": []
  },
  {
   "cell_type": "code",
   "execution_count": null,
   "metadata": {},
   "outputs": [],
   "source": []
  },
  {
   "cell_type": "code",
   "execution_count": null,
   "metadata": {},
   "outputs": [],
   "source": []
  },
  {
   "cell_type": "markdown",
   "metadata": {},
   "source": [
    "## Candlestick with Volume:"
   ]
  },
  {
   "cell_type": "code",
   "execution_count": null,
   "metadata": {},
   "outputs": [],
   "source": [
    "from bokeh.models import BooleanFilter, CDSView, Select, Range1d, HoverTool, CrosshairTool\n",
    "from bokeh.models.formatters import NumeralTickFormatter\n",
    "from bokeh.layouts import gridplot\n",
    "from bokeh.palettes import Category20\n",
    "from bokeh.plotting import figure, output_file, show, ColumnDataSource"
   ]
  },
  {
   "cell_type": "code",
   "execution_count": null,
   "metadata": {},
   "outputs": [],
   "source": [
    "# Candlestick with Volume:\n",
    "def plot_candlesticks(df_input):\n",
    "    stock = ColumnDataSource(data=dict(index=[], Date=[], Open=[], Close=[], High=[], Low=[], Volume=[]))\n",
    "    stock.data = stock.from_df(df_input.reset_index())    \n",
    "   \n",
    "    # Settings:\n",
    "    VBAR_WIDTH = 0.5\n",
    "    RED = Category20[7][6]\n",
    "    BLUE = Category20[3][0]\n",
    "    W_PLOT = 1500\n",
    "    H_PLOT = 600\n",
    "    \n",
    "    # Tools Selections:\n",
    "    TOOLS = \"pan,xwheel_zoom,box_zoom,hover,crosshair,undo,redo,reset,save\"  #replace to wheelzoom, y 轴可调整但bar很大\n",
    "    linked_crosshair = CrosshairTool(dimensions=\"both\")\n",
    "\n",
    "    # Graph One:\n",
    "    p1 = figure(plot_width=W_PLOT, plot_height=H_PLOT, tools=TOOLS, active_scroll='xwheel_zoom', active_drag='pan',\n",
    "               title=\"S&P500 Candlestick with Volume\", toolbar_location='above')\n",
    "\n",
    "    inc = stock.data['Close'] > stock.data['Open']\n",
    "    dec = stock.data['Open'] > stock.data['Close']\n",
    "    view_inc = CDSView(source=stock, filters=[BooleanFilter(inc)])\n",
    "    view_dec = CDSView(source=stock, filters=[BooleanFilter(dec)])\n",
    "\n",
    "    # Map dataframe indices to date strings and use as label overrides:\n",
    "    p1.xaxis.major_label_overrides = {\n",
    "        i+int(stock.data['index'][0]): date.strftime('%b-%d') for i, date in enumerate(pd.to_datetime(stock.data[\"Date\"]))\n",
    "    }\n",
    "    p1.xaxis.bounds = (stock.data['index'][0], stock.data['index'][-1])\n",
    "\n",
    "    # Rendering the Graph:\n",
    "    p1.segment(x0='index', x1='index', y0='Low', y1='High', color=BLUE, source=stock, view=view_inc)\n",
    "    p1.segment(x0='index', x1='index', y0='Low', y1='High', color=RED, source=stock, view=view_dec)\n",
    "\n",
    "    p1.vbar(x='index', width=VBAR_WIDTH, top='Open', bottom='Close', fill_color=BLUE, line_color=BLUE,\n",
    "           source=stock,view=view_inc, name=\"price\")\n",
    "    p1.vbar(x='index', width=VBAR_WIDTH, top='Open', bottom='Close', fill_color=RED, line_color=RED,\n",
    "           source=stock,view=view_dec, name=\"price\")\n",
    "\n",
    "    # Formating Graph One:\n",
    "    p1.xaxis.major_label_orientation = 3.1415/4\n",
    "    p1.x_range.range_padding = 0.05\n",
    "    p1.xaxis.ticker.desired_num_ticks = 50\n",
    "    p1.yaxis.formatter = NumeralTickFormatter(format=' 0,0[.]000')\n",
    "    p1.add_tools(linked_crosshair)\n",
    "    \n",
    "    # Select specific tool for the plot:\n",
    "    price_hover = p1.select(dict(type=HoverTool))\n",
    "    # Choose, which glyphs are active by glyph name\n",
    "    price_hover.names = [\"price\"]\n",
    "    # Creating tooltips\n",
    "    price_hover.tooltips = [(\"Open\", \"@Open{0,0.00}\"),\n",
    "                            (\"Close\", \"@Close{0,0.00}\"),\n",
    "                            (\"Volume\", \"@Volume{(0.00 a)}\")]\n",
    "    price_hover.formatters = {\"Date\": 'datetime'}\n",
    "\n",
    "    \n",
    "    # Added-on Graph Two For Volume:\n",
    "    p2 = figure(x_axis_type=\"datetime\", tools=\"\", toolbar_location=None, plot_width=W_PLOT, \n",
    "                plot_height=200, x_range=p1.x_range)\n",
    "    \n",
    "    # Map dataframe indices to date strings and use as label overrides:\n",
    "    p2.xaxis.major_label_overrides = {\n",
    "        i+int(stock.data['index'][0]): date.strftime('%b-%d') for i, date in enumerate(pd.to_datetime(stock.data[\"Date\"]))\n",
    "    }\n",
    "    \n",
    "    # Reder the Graph:\n",
    "    p2.vbar(stock.data['index'], VBAR_WIDTH, stock.data['Volume'])\n",
    "    \n",
    "    # Formating Graph Two:\n",
    "    p2.xaxis.major_label_orientation = 3.1415/4\n",
    "    p2.xaxis.ticker.desired_num_ticks = 50\n",
    "    p2.yaxis.formatter = NumeralTickFormatter(format='0,0[.]000')\n",
    "    p2.add_tools(linked_crosshair)\n",
    "\n",
    "    return gridplot([[p1],[p2]])"
   ]
  },
  {
   "cell_type": "code",
   "execution_count": null,
   "metadata": {},
   "outputs": [],
   "source": [
    "# Display the Graph:\n",
    "show(plot_candlesticks(yf_sp500_df))"
   ]
  },
  {
   "cell_type": "code",
   "execution_count": null,
   "metadata": {},
   "outputs": [],
   "source": []
  },
  {
   "cell_type": "code",
   "execution_count": null,
   "metadata": {},
   "outputs": [],
   "source": []
  }
 ],
 "metadata": {
  "kernelspec": {
   "display_name": "Python [conda env:quantenv] *",
   "language": "python",
   "name": "conda-env-quantenv-py"
  },
  "language_info": {
   "codemirror_mode": {
    "name": "ipython",
    "version": 3
   },
   "file_extension": ".py",
   "mimetype": "text/x-python",
   "name": "python",
   "nbconvert_exporter": "python",
   "pygments_lexer": "ipython3",
   "version": "3.6.8"
  }
 },
 "nbformat": 4,
 "nbformat_minor": 4
}
