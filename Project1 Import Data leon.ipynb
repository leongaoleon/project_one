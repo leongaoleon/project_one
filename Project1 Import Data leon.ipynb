{
 "cells": [
  {
   "cell_type": "markdown",
   "metadata": {},
   "source": [
    "# Initial Import"
   ]
  },
  {
   "cell_type": "code",
<<<<<<< HEAD
   "execution_count": 1,
   "metadata": {},
   "outputs": [],
=======
   "execution_count": 2,
   "metadata": {},
   "outputs": [
    {
     "name": "stderr",
     "output_type": "stream",
     "text": [
      "\n",
      "Bad key \"text.kerning_factor\" on line 4 in\n",
      "C:\\Users\\Shan\\anaconda3\\envs\\pyvizenv\\lib\\site-packages\\matplotlib\\mpl-data\\stylelib\\_classic_test_patch.mplstyle.\n",
      "You probably need to get an updated matplotlibrc file from\n",
      "http://github.com/matplotlib/matplotlib/blob/master/matplotlibrc.template\n",
      "or from the matplotlib source distribution\n"
     ]
    }
   ],
>>>>>>> c3c3b1c8d209a1265ef2a97967841f1f8b024d81
   "source": [
    "import pandas as pd\n",
    "from datetime import datetime\n",
    "import os    \n",
    "from dotenv  import load_dotenv\n",
    "from pathlib import Path\n",
    "%matplotlib inline"
   ]
  },
  {
   "cell_type": "markdown",
   "metadata": {},
   "source": [
    "# Importing Data from Investing by Reading CSV:"
   ]
  },
  {
   "cell_type": "markdown",
   "metadata": {},
   "source": [
    "## S&P 500 (SPX):"
   ]
  },
  {
   "cell_type": "code",
<<<<<<< HEAD
   "execution_count": 38,
   "metadata": {},
   "outputs": [
    {
     "name": "stdout",
     "output_type": "stream",
     "text": [
      "(999, 6)\n",
      "Price       0\n",
      "Open        0\n",
      "High        0\n",
      "Low         0\n",
      "Vol.        0\n",
      "Change %    0\n",
      "dtype: int64\n"
     ]
    },
    {
=======
   "execution_count": 2,
   "metadata": {},
   "outputs": [
    {
>>>>>>> c3c3b1c8d209a1265ef2a97967841f1f8b024d81
     "data": {
      "text/html": [
       "<div>\n",
       "<style scoped>\n",
       "    .dataframe tbody tr th:only-of-type {\n",
       "        vertical-align: middle;\n",
       "    }\n",
       "\n",
       "    .dataframe tbody tr th {\n",
       "        vertical-align: top;\n",
       "    }\n",
       "\n",
       "    .dataframe thead th {\n",
       "        text-align: right;\n",
       "    }\n",
       "</style>\n",
       "<table border=\"1\" class=\"dataframe\">\n",
       "  <thead>\n",
       "    <tr style=\"text-align: right;\">\n",
       "      <th></th>\n",
       "      <th>Price</th>\n",
       "      <th>Open</th>\n",
       "      <th>High</th>\n",
       "      <th>Low</th>\n",
       "      <th>Vol.</th>\n",
       "      <th>Change %</th>\n",
       "    </tr>\n",
       "    <tr>\n",
       "      <th>Date</th>\n",
       "      <th></th>\n",
       "      <th></th>\n",
       "      <th></th>\n",
       "      <th></th>\n",
       "      <th></th>\n",
       "      <th></th>\n",
       "    </tr>\n",
       "  </thead>\n",
       "  <tbody>\n",
       "    <tr>\n",
       "      <th>2020-12-14</th>\n",
       "      <td>3,647.49</td>\n",
       "      <td>3,675.27</td>\n",
       "      <td>3,697.61</td>\n",
       "      <td>3,645.84</td>\n",
       "      <td>-</td>\n",
       "      <td>-0.44%</td>\n",
       "    </tr>\n",
       "    <tr>\n",
       "      <th>2020-12-15</th>\n",
       "      <td>3,694.62</td>\n",
       "      <td>3,666.41</td>\n",
       "      <td>3,695.29</td>\n",
       "      <td>3,659.62</td>\n",
       "      <td>-</td>\n",
       "      <td>1.29%</td>\n",
       "    </tr>\n",
       "    <tr>\n",
       "      <th>2020-12-16</th>\n",
       "      <td>3,701.17</td>\n",
       "      <td>3,696.25</td>\n",
       "      <td>3,711.27</td>\n",
       "      <td>3,688.57</td>\n",
       "      <td>-</td>\n",
       "      <td>0.18%</td>\n",
       "    </tr>\n",
       "    <tr>\n",
       "      <th>2020-12-17</th>\n",
       "      <td>3,722.48</td>\n",
       "      <td>3,713.65</td>\n",
       "      <td>3,725.12</td>\n",
       "      <td>3,710.87</td>\n",
       "      <td>-</td>\n",
       "      <td>0.58%</td>\n",
       "    </tr>\n",
       "    <tr>\n",
       "      <th>2020-12-18</th>\n",
       "      <td>3,708.80</td>\n",
       "      <td>3,723.63</td>\n",
       "      <td>3,726.30</td>\n",
       "      <td>3,708.80</td>\n",
       "      <td>-</td>\n",
       "      <td>-0.37%</td>\n",
       "    </tr>\n",
       "  </tbody>\n",
       "</table>\n",
       "</div>"
      ],
      "text/plain": [
       "               Price      Open      High       Low Vol. Change %\n",
       "Date                                                            \n",
       "2020-12-14  3,647.49  3,675.27  3,697.61  3,645.84    -   -0.44%\n",
       "2020-12-15  3,694.62  3,666.41  3,695.29  3,659.62    -    1.29%\n",
       "2020-12-16  3,701.17  3,696.25  3,711.27  3,688.57    -    0.18%\n",
       "2020-12-17  3,722.48  3,713.65  3,725.12  3,710.87    -    0.58%\n",
       "2020-12-18  3,708.80  3,723.63  3,726.30  3,708.80    -   -0.37%"
      ]
     },
<<<<<<< HEAD
     "execution_count": 38,
=======
     "execution_count": 2,
>>>>>>> c3c3b1c8d209a1265ef2a97967841f1f8b024d81
     "metadata": {},
     "output_type": "execute_result"
    }
   ],
   "source": [
    "csvpath = Path(\"Resources/S&P 500 Historical Data.csv\")\n",
    "csv_df = pd.read_csv(csvpath, index_col=\"Date\", parse_dates=True, infer_datetime_format=True).sort_values(\"Date\")\n",
<<<<<<< HEAD
    "print(csv_df.shape)\n",
    "print(csv_df.isnull().sum())\n",
=======
>>>>>>> c3c3b1c8d209a1265ef2a97967841f1f8b024d81
    "csv_df.tail()"
   ]
  },
  {
   "cell_type": "markdown",
   "metadata": {},
   "source": [
    "## S&P 500 Futures:"
   ]
  },
  {
   "cell_type": "code",
<<<<<<< HEAD
   "execution_count": 39,
   "metadata": {},
   "outputs": [
    {
     "name": "stdout",
     "output_type": "stream",
     "text": [
      "(1048, 6)\n",
      "Price       0\n",
      "Open        0\n",
      "High        0\n",
      "Low         0\n",
      "Vol.        0\n",
      "Change %    0\n",
      "dtype: int64\n"
     ]
    },
    {
=======
   "execution_count": 3,
   "metadata": {},
   "outputs": [
    {
>>>>>>> c3c3b1c8d209a1265ef2a97967841f1f8b024d81
     "data": {
      "text/html": [
       "<div>\n",
       "<style scoped>\n",
       "    .dataframe tbody tr th:only-of-type {\n",
       "        vertical-align: middle;\n",
       "    }\n",
       "\n",
       "    .dataframe tbody tr th {\n",
       "        vertical-align: top;\n",
       "    }\n",
       "\n",
       "    .dataframe thead th {\n",
       "        text-align: right;\n",
       "    }\n",
       "</style>\n",
       "<table border=\"1\" class=\"dataframe\">\n",
       "  <thead>\n",
       "    <tr style=\"text-align: right;\">\n",
       "      <th></th>\n",
       "      <th>Price</th>\n",
       "      <th>Open</th>\n",
       "      <th>High</th>\n",
       "      <th>Low</th>\n",
       "      <th>Vol.</th>\n",
       "      <th>Change %</th>\n",
       "    </tr>\n",
       "    <tr>\n",
       "      <th>Date</th>\n",
       "      <th></th>\n",
       "      <th></th>\n",
       "      <th></th>\n",
       "      <th></th>\n",
       "      <th></th>\n",
       "      <th></th>\n",
       "    </tr>\n",
       "  </thead>\n",
       "  <tbody>\n",
       "    <tr>\n",
       "      <th>2020-12-14</th>\n",
       "      <td>3,646.50</td>\n",
       "      <td>3,677.75</td>\n",
       "      <td>3,698.00</td>\n",
       "      <td>3,642.75</td>\n",
       "      <td>1.49M</td>\n",
       "      <td>-0.40%</td>\n",
       "    </tr>\n",
       "    <tr>\n",
       "      <th>2020-12-15</th>\n",
       "      <td>3,694.50</td>\n",
       "      <td>3,653.00</td>\n",
       "      <td>3,695.75</td>\n",
       "      <td>3,642.75</td>\n",
       "      <td>1.03M</td>\n",
       "      <td>1.32%</td>\n",
       "    </tr>\n",
       "    <tr>\n",
       "      <th>2020-12-16</th>\n",
       "      <td>3,700.75</td>\n",
       "      <td>3,697.75</td>\n",
       "      <td>3,711.50</td>\n",
       "      <td>3,687.00</td>\n",
       "      <td>584.71K</td>\n",
       "      <td>0.17%</td>\n",
       "    </tr>\n",
       "    <tr>\n",
       "      <th>2020-12-17</th>\n",
       "      <td>3,721.25</td>\n",
       "      <td>3,704.50</td>\n",
       "      <td>3,724.75</td>\n",
       "      <td>3,699.50</td>\n",
       "      <td>-</td>\n",
       "      <td>0.55%</td>\n",
       "    </tr>\n",
       "    <tr>\n",
       "      <th>2020-12-18</th>\n",
       "      <td>3,716.62</td>\n",
       "      <td>3,713.88</td>\n",
       "      <td>3,722.88</td>\n",
       "      <td>3,677.38</td>\n",
       "      <td>-</td>\n",
       "      <td>-0.12%</td>\n",
       "    </tr>\n",
       "  </tbody>\n",
       "</table>\n",
       "</div>"
      ],
      "text/plain": [
       "               Price      Open      High       Low     Vol. Change %\n",
       "Date                                                                \n",
       "2020-12-14  3,646.50  3,677.75  3,698.00  3,642.75    1.49M   -0.40%\n",
       "2020-12-15  3,694.50  3,653.00  3,695.75  3,642.75    1.03M    1.32%\n",
       "2020-12-16  3,700.75  3,697.75  3,711.50  3,687.00  584.71K    0.17%\n",
       "2020-12-17  3,721.25  3,704.50  3,724.75  3,699.50        -    0.55%\n",
       "2020-12-18  3,716.62  3,713.88  3,722.88  3,677.38        -   -0.12%"
      ]
     },
<<<<<<< HEAD
     "execution_count": 39,
=======
     "execution_count": 3,
>>>>>>> c3c3b1c8d209a1265ef2a97967841f1f8b024d81
     "metadata": {},
     "output_type": "execute_result"
    }
   ],
   "source": [
    "csvpath = Path(\"Resources/US 500 Futures Historical Data.csv\")\n",
    "csv_df = pd.read_csv(csvpath, index_col=\"Date\", parse_dates=True, infer_datetime_format=True).sort_values(\"Date\")\n",
<<<<<<< HEAD
    "print(csv_df.shape)\n",
    "print(csv_df.isnull().sum())\n",
=======
>>>>>>> c3c3b1c8d209a1265ef2a97967841f1f8b024d81
    "csv_df.tail()"
   ]
  },
  {
   "cell_type": "markdown",
   "metadata": {},
   "source": [
    "## Gold, XAU/USD Historical Data:"
   ]
  },
  {
   "cell_type": "code",
<<<<<<< HEAD
   "execution_count": 40,
   "metadata": {},
   "outputs": [
    {
     "name": "stdout",
     "output_type": "stream",
     "text": [
      "(1032, 5)\n",
      "Price       0\n",
      "Open        0\n",
      "High        0\n",
      "Low         0\n",
      "Change %    0\n",
      "dtype: int64\n"
     ]
    },
    {
=======
   "execution_count": 4,
   "metadata": {},
   "outputs": [
    {
>>>>>>> c3c3b1c8d209a1265ef2a97967841f1f8b024d81
     "data": {
      "text/html": [
       "<div>\n",
       "<style scoped>\n",
       "    .dataframe tbody tr th:only-of-type {\n",
       "        vertical-align: middle;\n",
       "    }\n",
       "\n",
       "    .dataframe tbody tr th {\n",
       "        vertical-align: top;\n",
       "    }\n",
       "\n",
       "    .dataframe thead th {\n",
       "        text-align: right;\n",
       "    }\n",
       "</style>\n",
       "<table border=\"1\" class=\"dataframe\">\n",
       "  <thead>\n",
       "    <tr style=\"text-align: right;\">\n",
       "      <th></th>\n",
       "      <th>Price</th>\n",
       "      <th>Open</th>\n",
       "      <th>High</th>\n",
       "      <th>Low</th>\n",
       "      <th>Change %</th>\n",
       "    </tr>\n",
       "    <tr>\n",
       "      <th>Date</th>\n",
       "      <th></th>\n",
       "      <th></th>\n",
       "      <th></th>\n",
       "      <th></th>\n",
       "      <th></th>\n",
       "    </tr>\n",
       "  </thead>\n",
       "  <tbody>\n",
       "    <tr>\n",
       "      <th>2020-12-14</th>\n",
       "      <td>1,827.17</td>\n",
       "      <td>1,839.30</td>\n",
       "      <td>1,839.86</td>\n",
       "      <td>1,819.92</td>\n",
       "      <td>-0.64%</td>\n",
       "    </tr>\n",
       "    <tr>\n",
       "      <th>2020-12-15</th>\n",
       "      <td>1,853.46</td>\n",
       "      <td>1,827.80</td>\n",
       "      <td>1,855.76</td>\n",
       "      <td>1,825.29</td>\n",
       "      <td>1.44%</td>\n",
       "    </tr>\n",
       "    <tr>\n",
       "      <th>2020-12-16</th>\n",
       "      <td>1,864.15</td>\n",
       "      <td>1,853.94</td>\n",
       "      <td>1,866.20</td>\n",
       "      <td>1,844.75</td>\n",
       "      <td>0.58%</td>\n",
       "    </tr>\n",
       "    <tr>\n",
       "      <th>2020-12-17</th>\n",
       "      <td>1,885.87</td>\n",
       "      <td>1,864.26</td>\n",
       "      <td>1,896.26</td>\n",
       "      <td>1,861.83</td>\n",
       "      <td>1.17%</td>\n",
       "    </tr>\n",
       "    <tr>\n",
       "      <th>2020-12-18</th>\n",
       "      <td>1,881.51</td>\n",
       "      <td>1,883.74</td>\n",
       "      <td>1,889.74</td>\n",
       "      <td>1,877.51</td>\n",
       "      <td>-0.23%</td>\n",
       "    </tr>\n",
       "  </tbody>\n",
       "</table>\n",
       "</div>"
      ],
      "text/plain": [
       "               Price      Open      High       Low Change %\n",
       "Date                                                       \n",
       "2020-12-14  1,827.17  1,839.30  1,839.86  1,819.92   -0.64%\n",
       "2020-12-15  1,853.46  1,827.80  1,855.76  1,825.29    1.44%\n",
       "2020-12-16  1,864.15  1,853.94  1,866.20  1,844.75    0.58%\n",
       "2020-12-17  1,885.87  1,864.26  1,896.26  1,861.83    1.17%\n",
       "2020-12-18  1,881.51  1,883.74  1,889.74  1,877.51   -0.23%"
      ]
     },
<<<<<<< HEAD
     "execution_count": 40,
=======
     "execution_count": 4,
>>>>>>> c3c3b1c8d209a1265ef2a97967841f1f8b024d81
     "metadata": {},
     "output_type": "execute_result"
    }
   ],
   "source": [
    "csvpath = Path(\"Resources/XAU_USD Historical Data.csv\")\n",
    "csv_df = pd.read_csv(csvpath, index_col=\"Date\", parse_dates=True, infer_datetime_format=True).sort_values(\"Date\")\n",
<<<<<<< HEAD
    "print(csv_df.shape)\n",
    "print(csv_df.isnull().sum())\n",
=======
>>>>>>> c3c3b1c8d209a1265ef2a97967841f1f8b024d81
    "csv_df.tail()"
   ]
  },
  {
   "cell_type": "markdown",
   "metadata": {},
   "source": [
    "## Gold Futures - Feb 21 (ZGG1):"
   ]
  },
  {
   "cell_type": "code",
<<<<<<< HEAD
   "execution_count": 41,
   "metadata": {},
   "outputs": [
    {
     "name": "stdout",
     "output_type": "stream",
     "text": [
      "(1050, 6)\n",
      "Price       0\n",
      "Open        0\n",
      "High        0\n",
      "Low         0\n",
      "Vol.        0\n",
      "Change %    0\n",
      "dtype: int64\n"
     ]
    },
    {
=======
   "execution_count": 5,
   "metadata": {},
   "outputs": [
    {
>>>>>>> c3c3b1c8d209a1265ef2a97967841f1f8b024d81
     "data": {
      "text/html": [
       "<div>\n",
       "<style scoped>\n",
       "    .dataframe tbody tr th:only-of-type {\n",
       "        vertical-align: middle;\n",
       "    }\n",
       "\n",
       "    .dataframe tbody tr th {\n",
       "        vertical-align: top;\n",
       "    }\n",
       "\n",
       "    .dataframe thead th {\n",
       "        text-align: right;\n",
       "    }\n",
       "</style>\n",
       "<table border=\"1\" class=\"dataframe\">\n",
       "  <thead>\n",
       "    <tr style=\"text-align: right;\">\n",
       "      <th></th>\n",
       "      <th>Price</th>\n",
       "      <th>Open</th>\n",
       "      <th>High</th>\n",
       "      <th>Low</th>\n",
       "      <th>Vol.</th>\n",
       "      <th>Change %</th>\n",
       "    </tr>\n",
       "    <tr>\n",
       "      <th>Date</th>\n",
       "      <th></th>\n",
       "      <th></th>\n",
       "      <th></th>\n",
       "      <th></th>\n",
       "      <th></th>\n",
       "      <th></th>\n",
       "    </tr>\n",
       "  </thead>\n",
       "  <tbody>\n",
       "    <tr>\n",
       "      <th>2020-12-14</th>\n",
       "      <td>1,832.10</td>\n",
       "      <td>1,845.00</td>\n",
       "      <td>1,845.60</td>\n",
       "      <td>1,820.00</td>\n",
       "      <td>168.49K</td>\n",
       "      <td>-0.62%</td>\n",
       "    </tr>\n",
       "    <tr>\n",
       "      <th>2020-12-15</th>\n",
       "      <td>1,855.30</td>\n",
       "      <td>1,830.50</td>\n",
       "      <td>1,859.30</td>\n",
       "      <td>1,828.50</td>\n",
       "      <td>173.61K</td>\n",
       "      <td>1.27%</td>\n",
       "    </tr>\n",
       "    <tr>\n",
       "      <th>2020-12-16</th>\n",
       "      <td>1,859.10</td>\n",
       "      <td>1,857.70</td>\n",
       "      <td>1,870.00</td>\n",
       "      <td>1,848.20</td>\n",
       "      <td>199.68K</td>\n",
       "      <td>0.20%</td>\n",
       "    </tr>\n",
       "    <tr>\n",
       "      <th>2020-12-17</th>\n",
       "      <td>1,890.40</td>\n",
       "      <td>1,868.40</td>\n",
       "      <td>1,902.00</td>\n",
       "      <td>1,865.90</td>\n",
       "      <td>-</td>\n",
       "      <td>1.68%</td>\n",
       "    </tr>\n",
       "    <tr>\n",
       "      <th>2020-12-18</th>\n",
       "      <td>1,887.00</td>\n",
       "      <td>1,889.15</td>\n",
       "      <td>1,895.50</td>\n",
       "      <td>1,881.95</td>\n",
       "      <td>-</td>\n",
       "      <td>-0.18%</td>\n",
       "    </tr>\n",
       "  </tbody>\n",
       "</table>\n",
       "</div>"
      ],
      "text/plain": [
       "               Price      Open      High       Low     Vol. Change %\n",
       "Date                                                                \n",
       "2020-12-14  1,832.10  1,845.00  1,845.60  1,820.00  168.49K   -0.62%\n",
       "2020-12-15  1,855.30  1,830.50  1,859.30  1,828.50  173.61K    1.27%\n",
       "2020-12-16  1,859.10  1,857.70  1,870.00  1,848.20  199.68K    0.20%\n",
       "2020-12-17  1,890.40  1,868.40  1,902.00  1,865.90        -    1.68%\n",
       "2020-12-18  1,887.00  1,889.15  1,895.50  1,881.95        -   -0.18%"
      ]
     },
<<<<<<< HEAD
     "execution_count": 41,
=======
     "execution_count": 5,
>>>>>>> c3c3b1c8d209a1265ef2a97967841f1f8b024d81
     "metadata": {},
     "output_type": "execute_result"
    }
   ],
   "source": [
    "csvpath = Path(\"Resources/Gold Futures Historical Data.csv\")\n",
    "csv_df = pd.read_csv(csvpath, index_col=\"Date\", parse_dates=True, infer_datetime_format=True).sort_values(\"Date\")\n",
<<<<<<< HEAD
    "print(csv_df.shape)\n",
    "print(csv_df.isnull().sum())\n",
=======
>>>>>>> c3c3b1c8d209a1265ef2a97967841f1f8b024d81
    "csv_df.tail()"
   ]
  },
  {
   "cell_type": "markdown",
   "metadata": {},
   "source": [
    "## US Dollar Index Historical Data:"
   ]
  },
  {
   "cell_type": "code",
<<<<<<< HEAD
   "execution_count": 42,
   "metadata": {},
   "outputs": [
    {
     "name": "stdout",
     "output_type": "stream",
     "text": [
      "(251, 6)\n",
      "Price       0\n",
      "Open        0\n",
      "High        0\n",
      "Low         0\n",
      "Vol.        0\n",
      "Change %    0\n",
      "dtype: int64\n"
     ]
    },
    {
=======
   "execution_count": 6,
   "metadata": {},
   "outputs": [
    {
>>>>>>> c3c3b1c8d209a1265ef2a97967841f1f8b024d81
     "data": {
      "text/html": [
       "<div>\n",
       "<style scoped>\n",
       "    .dataframe tbody tr th:only-of-type {\n",
       "        vertical-align: middle;\n",
       "    }\n",
       "\n",
       "    .dataframe tbody tr th {\n",
       "        vertical-align: top;\n",
       "    }\n",
       "\n",
       "    .dataframe thead th {\n",
       "        text-align: right;\n",
       "    }\n",
       "</style>\n",
       "<table border=\"1\" class=\"dataframe\">\n",
       "  <thead>\n",
       "    <tr style=\"text-align: right;\">\n",
       "      <th></th>\n",
       "      <th>Price</th>\n",
       "      <th>Open</th>\n",
       "      <th>High</th>\n",
       "      <th>Low</th>\n",
       "      <th>Vol.</th>\n",
       "      <th>Change %</th>\n",
       "    </tr>\n",
       "    <tr>\n",
       "      <th>Date</th>\n",
       "      <th></th>\n",
       "      <th></th>\n",
       "      <th></th>\n",
       "      <th></th>\n",
       "      <th></th>\n",
       "      <th></th>\n",
       "    </tr>\n",
       "  </thead>\n",
       "  <tbody>\n",
       "    <tr>\n",
       "      <th>2017-12-12</th>\n",
       "      <td>94.10</td>\n",
       "      <td>93.91</td>\n",
       "      <td>94.22</td>\n",
       "      <td>93.76</td>\n",
       "      <td>-</td>\n",
       "      <td>0.25%</td>\n",
       "    </tr>\n",
       "    <tr>\n",
       "      <th>2017-12-13</th>\n",
       "      <td>93.43</td>\n",
       "      <td>94.06</td>\n",
       "      <td>94.11</td>\n",
       "      <td>93.39</td>\n",
       "      <td>-</td>\n",
       "      <td>-0.71%</td>\n",
       "    </tr>\n",
       "    <tr>\n",
       "      <th>2017-12-14</th>\n",
       "      <td>93.49</td>\n",
       "      <td>93.41</td>\n",
       "      <td>93.76</td>\n",
       "      <td>93.28</td>\n",
       "      <td>-</td>\n",
       "      <td>0.06%</td>\n",
       "    </tr>\n",
       "    <tr>\n",
       "      <th>2017-12-15</th>\n",
       "      <td>93.93</td>\n",
       "      <td>93.65</td>\n",
       "      <td>94.00</td>\n",
       "      <td>93.41</td>\n",
       "      <td>-</td>\n",
       "      <td>0.47%</td>\n",
       "    </tr>\n",
       "    <tr>\n",
       "      <th>2017-12-18</th>\n",
       "      <td>93.69</td>\n",
       "      <td>93.98</td>\n",
       "      <td>94.03</td>\n",
       "      <td>93.38</td>\n",
       "      <td>-</td>\n",
       "      <td>-0.26%</td>\n",
       "    </tr>\n",
       "  </tbody>\n",
       "</table>\n",
       "</div>"
      ],
      "text/plain": [
       "            Price   Open   High    Low Vol. Change %\n",
       "Date                                                \n",
       "2017-12-12  94.10  93.91  94.22  93.76    -    0.25%\n",
       "2017-12-13  93.43  94.06  94.11  93.39    -   -0.71%\n",
       "2017-12-14  93.49  93.41  93.76  93.28    -    0.06%\n",
       "2017-12-15  93.93  93.65  94.00  93.41    -    0.47%\n",
       "2017-12-18  93.69  93.98  94.03  93.38    -   -0.26%"
      ]
     },
<<<<<<< HEAD
     "execution_count": 42,
=======
     "execution_count": 6,
>>>>>>> c3c3b1c8d209a1265ef2a97967841f1f8b024d81
     "metadata": {},
     "output_type": "execute_result"
    }
   ],
   "source": [
    "csvpath = Path(\"Resources/US Dollar Index Historical Data.csv\")\n",
    "csv_df = pd.read_csv(csvpath, index_col=\"Date\", parse_dates=True, infer_datetime_format=True).sort_values(\"Date\")\n",
<<<<<<< HEAD
    "print(csv_df.shape)\n",
    "print(csv_df.isnull().sum())\n",
=======
>>>>>>> c3c3b1c8d209a1265ef2a97967841f1f8b024d81
    "csv_df.tail()"
   ]
  },
  {
   "cell_type": "markdown",
   "metadata": {},
   "source": [
    "## Bitcoin:"
   ]
  },
  {
   "cell_type": "code",
<<<<<<< HEAD
   "execution_count": 44,
   "metadata": {},
   "outputs": [
    {
     "name": "stdout",
     "output_type": "stream",
     "text": [
      "(1448, 6)\n",
      "Price       0\n",
      "Open        0\n",
      "High        0\n",
      "Low         0\n",
      "Vol.        0\n",
      "Change %    0\n",
      "dtype: int64\n"
     ]
    },
    {
=======
   "execution_count": 7,
   "metadata": {},
   "outputs": [
    {
>>>>>>> c3c3b1c8d209a1265ef2a97967841f1f8b024d81
     "data": {
      "text/html": [
       "<div>\n",
       "<style scoped>\n",
       "    .dataframe tbody tr th:only-of-type {\n",
       "        vertical-align: middle;\n",
       "    }\n",
       "\n",
       "    .dataframe tbody tr th {\n",
       "        vertical-align: top;\n",
       "    }\n",
       "\n",
       "    .dataframe thead th {\n",
       "        text-align: right;\n",
       "    }\n",
       "</style>\n",
       "<table border=\"1\" class=\"dataframe\">\n",
       "  <thead>\n",
       "    <tr style=\"text-align: right;\">\n",
       "      <th></th>\n",
       "      <th>Price</th>\n",
       "      <th>Open</th>\n",
       "      <th>High</th>\n",
       "      <th>Low</th>\n",
       "      <th>Vol.</th>\n",
       "      <th>Change %</th>\n",
       "    </tr>\n",
       "    <tr>\n",
       "      <th>Date</th>\n",
       "      <th></th>\n",
       "      <th></th>\n",
       "      <th></th>\n",
       "      <th></th>\n",
       "      <th></th>\n",
       "      <th></th>\n",
       "    </tr>\n",
       "  </thead>\n",
       "  <tbody>\n",
       "    <tr>\n",
       "      <th>2020-12-14</th>\n",
       "      <td>19,273.8</td>\n",
       "      <td>19,176.4</td>\n",
       "      <td>19,346.5</td>\n",
       "      <td>19,007.0</td>\n",
       "      <td>67.11K</td>\n",
       "      <td>0.51%</td>\n",
       "    </tr>\n",
       "    <tr>\n",
       "      <th>2020-12-15</th>\n",
       "      <td>19,434.9</td>\n",
       "      <td>19,273.9</td>\n",
       "      <td>19,556.3</td>\n",
       "      <td>19,076.2</td>\n",
       "      <td>98.39K</td>\n",
       "      <td>0.84%</td>\n",
       "    </tr>\n",
       "    <tr>\n",
       "      <th>2020-12-16</th>\n",
       "      <td>21,352.2</td>\n",
       "      <td>19,434.7</td>\n",
       "      <td>21,525.3</td>\n",
       "      <td>19,299.7</td>\n",
       "      <td>199.81K</td>\n",
       "      <td>9.87%</td>\n",
       "    </tr>\n",
       "    <tr>\n",
       "      <th>2020-12-17</th>\n",
       "      <td>22,825.4</td>\n",
       "      <td>21,352.3</td>\n",
       "      <td>23,738.0</td>\n",
       "      <td>21,243.1</td>\n",
       "      <td>310.74K</td>\n",
       "      <td>6.90%</td>\n",
       "    </tr>\n",
       "    <tr>\n",
       "      <th>2020-12-18</th>\n",
       "      <td>22,575.7</td>\n",
       "      <td>22,823.3</td>\n",
       "      <td>23,272.8</td>\n",
       "      <td>22,420.2</td>\n",
       "      <td>195.96K</td>\n",
       "      <td>-1.09%</td>\n",
       "    </tr>\n",
       "  </tbody>\n",
       "</table>\n",
       "</div>"
      ],
      "text/plain": [
       "               Price      Open      High       Low     Vol. Change %\n",
       "Date                                                                \n",
       "2020-12-14  19,273.8  19,176.4  19,346.5  19,007.0   67.11K    0.51%\n",
       "2020-12-15  19,434.9  19,273.9  19,556.3  19,076.2   98.39K    0.84%\n",
       "2020-12-16  21,352.2  19,434.7  21,525.3  19,299.7  199.81K    9.87%\n",
       "2020-12-17  22,825.4  21,352.3  23,738.0  21,243.1  310.74K    6.90%\n",
       "2020-12-18  22,575.7  22,823.3  23,272.8  22,420.2  195.96K   -1.09%"
      ]
     },
<<<<<<< HEAD
     "execution_count": 44,
=======
     "execution_count": 7,
>>>>>>> c3c3b1c8d209a1265ef2a97967841f1f8b024d81
     "metadata": {},
     "output_type": "execute_result"
    }
   ],
   "source": [
    "csvpath = Path(\"Resources/Bitcoin Historical Data - Investing.com AU.csv\")\n",
    "csv_df = pd.read_csv(csvpath, index_col=\"Date\", parse_dates=True, infer_datetime_format=True).sort_values(\"Date\")\n",
<<<<<<< HEAD
    "print(csv_df.shape)\n",
    "print(csv_df.isnull().sum())\n",
=======
>>>>>>> c3c3b1c8d209a1265ef2a97967841f1f8b024d81
    "csv_df.tail()"
   ]
  },
  {
   "cell_type": "markdown",
   "metadata": {},
   "source": [
    "## Ethereum:"
   ]
  },
  {
   "cell_type": "code",
<<<<<<< HEAD
   "execution_count": 45,
   "metadata": {},
   "outputs": [
    {
     "name": "stdout",
     "output_type": "stream",
     "text": [
      "(1448, 6)\n",
      "Price       0\n",
      "Open        0\n",
      "High        0\n",
      "Low         0\n",
      "Vol.        0\n",
      "Change %    0\n",
      "dtype: int64\n"
     ]
    },
    {
=======
   "execution_count": 8,
   "metadata": {},
   "outputs": [
    {
>>>>>>> c3c3b1c8d209a1265ef2a97967841f1f8b024d81
     "data": {
      "text/html": [
       "<div>\n",
       "<style scoped>\n",
       "    .dataframe tbody tr th:only-of-type {\n",
       "        vertical-align: middle;\n",
       "    }\n",
       "\n",
       "    .dataframe tbody tr th {\n",
       "        vertical-align: top;\n",
       "    }\n",
       "\n",
       "    .dataframe thead th {\n",
       "        text-align: right;\n",
       "    }\n",
       "</style>\n",
       "<table border=\"1\" class=\"dataframe\">\n",
       "  <thead>\n",
       "    <tr style=\"text-align: right;\">\n",
       "      <th></th>\n",
       "      <th>Price</th>\n",
       "      <th>Open</th>\n",
       "      <th>High</th>\n",
       "      <th>Low</th>\n",
       "      <th>Vol.</th>\n",
       "      <th>Change %</th>\n",
       "    </tr>\n",
       "    <tr>\n",
       "      <th>Date</th>\n",
       "      <th></th>\n",
       "      <th></th>\n",
       "      <th></th>\n",
       "      <th></th>\n",
       "      <th></th>\n",
       "      <th></th>\n",
       "    </tr>\n",
       "  </thead>\n",
       "  <tbody>\n",
       "    <tr>\n",
       "      <th>2020-12-14</th>\n",
       "      <td>586.19</td>\n",
       "      <td>590.66</td>\n",
       "      <td>591.41</td>\n",
       "      <td>576.01</td>\n",
       "      <td>1.78M</td>\n",
       "      <td>-0.83%</td>\n",
       "    </tr>\n",
       "    <tr>\n",
       "      <th>2020-12-15</th>\n",
       "      <td>588.91</td>\n",
       "      <td>586.22</td>\n",
       "      <td>596.97</td>\n",
       "      <td>579.95</td>\n",
       "      <td>1.74M</td>\n",
       "      <td>0.46%</td>\n",
       "    </tr>\n",
       "    <tr>\n",
       "      <th>2020-12-16</th>\n",
       "      <td>637.38</td>\n",
       "      <td>588.81</td>\n",
       "      <td>638.18</td>\n",
       "      <td>580.90</td>\n",
       "      <td>3.11M</td>\n",
       "      <td>8.23%</td>\n",
       "    </tr>\n",
       "    <tr>\n",
       "      <th>2020-12-17</th>\n",
       "      <td>643.17</td>\n",
       "      <td>637.29</td>\n",
       "      <td>675.68</td>\n",
       "      <td>627.36</td>\n",
       "      <td>3.67M</td>\n",
       "      <td>0.91%</td>\n",
       "    </tr>\n",
       "    <tr>\n",
       "      <th>2020-12-18</th>\n",
       "      <td>653.85</td>\n",
       "      <td>643.28</td>\n",
       "      <td>664.26</td>\n",
       "      <td>630.44</td>\n",
       "      <td>2.63M</td>\n",
       "      <td>1.66%</td>\n",
       "    </tr>\n",
       "  </tbody>\n",
       "</table>\n",
       "</div>"
      ],
      "text/plain": [
       "             Price    Open    High     Low   Vol. Change %\n",
       "Date                                                      \n",
       "2020-12-14  586.19  590.66  591.41  576.01  1.78M   -0.83%\n",
       "2020-12-15  588.91  586.22  596.97  579.95  1.74M    0.46%\n",
       "2020-12-16  637.38  588.81  638.18  580.90  3.11M    8.23%\n",
       "2020-12-17  643.17  637.29  675.68  627.36  3.67M    0.91%\n",
       "2020-12-18  653.85  643.28  664.26  630.44  2.63M    1.66%"
      ]
     },
<<<<<<< HEAD
     "execution_count": 45,
=======
     "execution_count": 8,
>>>>>>> c3c3b1c8d209a1265ef2a97967841f1f8b024d81
     "metadata": {},
     "output_type": "execute_result"
    }
   ],
   "source": [
    "csvpath = Path(\"Resources/Ethereum Historical Data - Investing.com.csv\")\n",
    "csv_df = pd.read_csv(csvpath, index_col=\"Date\", parse_dates=True, infer_datetime_format=True).sort_values(\"Date\")\n",
<<<<<<< HEAD
    "print(csv_df.shape)\n",
    "print(csv_df.isnull().sum())\n",
=======
>>>>>>> c3c3b1c8d209a1265ef2a97967841f1f8b024d81
    "csv_df.tail()"
   ]
  },
  {
   "cell_type": "markdown",
   "metadata": {},
   "source": [
    "## United States 30-Year Bond Yield:"
   ]
  },
  {
   "cell_type": "code",
<<<<<<< HEAD
   "execution_count": 46,
   "metadata": {},
   "outputs": [
    {
     "name": "stdout",
     "output_type": "stream",
     "text": [
      "(1209, 5)\n",
      "Price       0\n",
      "Open        0\n",
      "High        0\n",
      "Low         0\n",
      "Change %    0\n",
      "dtype: int64\n"
     ]
    },
    {
=======
   "execution_count": 9,
   "metadata": {},
   "outputs": [
    {
>>>>>>> c3c3b1c8d209a1265ef2a97967841f1f8b024d81
     "data": {
      "text/html": [
       "<div>\n",
       "<style scoped>\n",
       "    .dataframe tbody tr th:only-of-type {\n",
       "        vertical-align: middle;\n",
       "    }\n",
       "\n",
       "    .dataframe tbody tr th {\n",
       "        vertical-align: top;\n",
       "    }\n",
       "\n",
       "    .dataframe thead th {\n",
       "        text-align: right;\n",
       "    }\n",
       "</style>\n",
       "<table border=\"1\" class=\"dataframe\">\n",
       "  <thead>\n",
       "    <tr style=\"text-align: right;\">\n",
       "      <th></th>\n",
       "      <th>Price</th>\n",
       "      <th>Open</th>\n",
       "      <th>High</th>\n",
       "      <th>Low</th>\n",
       "      <th>Change %</th>\n",
       "    </tr>\n",
       "    <tr>\n",
       "      <th>Date</th>\n",
       "      <th></th>\n",
       "      <th></th>\n",
       "      <th></th>\n",
       "      <th></th>\n",
       "      <th></th>\n",
       "    </tr>\n",
       "  </thead>\n",
       "  <tbody>\n",
       "    <tr>\n",
       "      <th>2020-12-14</th>\n",
       "      <td>1.633</td>\n",
       "      <td>1.644</td>\n",
       "      <td>1.682</td>\n",
       "      <td>1.624</td>\n",
       "      <td>-0.65%</td>\n",
       "    </tr>\n",
       "    <tr>\n",
       "      <th>2020-12-15</th>\n",
       "      <td>1.653</td>\n",
       "      <td>1.632</td>\n",
       "      <td>1.669</td>\n",
       "      <td>1.616</td>\n",
       "      <td>1.26%</td>\n",
       "    </tr>\n",
       "    <tr>\n",
       "      <th>2020-12-16</th>\n",
       "      <td>1.657</td>\n",
       "      <td>1.654</td>\n",
       "      <td>1.707</td>\n",
       "      <td>1.647</td>\n",
       "      <td>0.21%</td>\n",
       "    </tr>\n",
       "    <tr>\n",
       "      <th>2020-12-17</th>\n",
       "      <td>1.681</td>\n",
       "      <td>1.660</td>\n",
       "      <td>1.692</td>\n",
       "      <td>1.626</td>\n",
       "      <td>1.45%</td>\n",
       "    </tr>\n",
       "    <tr>\n",
       "      <th>2020-12-18</th>\n",
       "      <td>1.690</td>\n",
       "      <td>1.680</td>\n",
       "      <td>1.701</td>\n",
       "      <td>1.657</td>\n",
       "      <td>0.52%</td>\n",
       "    </tr>\n",
       "  </tbody>\n",
       "</table>\n",
       "</div>"
      ],
      "text/plain": [
       "            Price   Open   High    Low Change %\n",
       "Date                                           \n",
       "2020-12-14  1.633  1.644  1.682  1.624   -0.65%\n",
       "2020-12-15  1.653  1.632  1.669  1.616    1.26%\n",
       "2020-12-16  1.657  1.654  1.707  1.647    0.21%\n",
       "2020-12-17  1.681  1.660  1.692  1.626    1.45%\n",
       "2020-12-18  1.690  1.680  1.701  1.657    0.52%"
      ]
     },
<<<<<<< HEAD
     "execution_count": 46,
=======
     "execution_count": 9,
>>>>>>> c3c3b1c8d209a1265ef2a97967841f1f8b024d81
     "metadata": {},
     "output_type": "execute_result"
    }
   ],
   "source": [
    "csvpath = Path(\"Resources/United States 30-Year Bond Yield Historical Data.csv\")\n",
    "csv_df = pd.read_csv(csvpath, index_col=\"Date\", parse_dates=True, infer_datetime_format=True).sort_values(\"Date\")\n",
<<<<<<< HEAD
    "print(csv_df.shape)\n",
    "print(csv_df.isnull().sum())\n",
=======
>>>>>>> c3c3b1c8d209a1265ef2a97967841f1f8b024d81
    "csv_df.tail()"
   ]
  },
  {
   "cell_type": "markdown",
   "metadata": {},
   "source": [
<<<<<<< HEAD
=======
    "# M2 US Money Supply"
   ]
  },
  {
   "cell_type": "code",
   "execution_count": 6,
   "metadata": {},
   "outputs": [
    {
     "ename": "NameError",
     "evalue": "name 'M2' is not defined",
     "output_type": "error",
     "traceback": [
      "\u001b[1;31m---------------------------------------------------------------------------\u001b[0m",
      "\u001b[1;31mNameError\u001b[0m                                 Traceback (most recent call last)",
      "\u001b[1;32m<ipython-input-6-93c528b23b36>\u001b[0m in \u001b[0;36m<module>\u001b[1;34m\u001b[0m\n\u001b[0;32m      1\u001b[0m \u001b[0mPath\u001b[0m\u001b[1;33m=\u001b[0m\u001b[1;34m'data/M2.csv'\u001b[0m\u001b[1;33m\u001b[0m\u001b[1;33m\u001b[0m\u001b[0m\n\u001b[0;32m      2\u001b[0m \u001b[0mbond\u001b[0m \u001b[1;33m=\u001b[0m \u001b[0mpd\u001b[0m\u001b[1;33m.\u001b[0m\u001b[0mread_csv\u001b[0m\u001b[1;33m(\u001b[0m\u001b[0mPath\u001b[0m\u001b[1;33m,\u001b[0m \u001b[0mindex_col\u001b[0m\u001b[1;33m=\u001b[0m\u001b[1;34m\"DATE\"\u001b[0m\u001b[1;33m,\u001b[0m \u001b[0minfer_datetime_format\u001b[0m\u001b[1;33m=\u001b[0m\u001b[1;32mTrue\u001b[0m\u001b[1;33m,\u001b[0m \u001b[0mparse_dates\u001b[0m\u001b[1;33m=\u001b[0m\u001b[1;32mTrue\u001b[0m\u001b[1;33m)\u001b[0m\u001b[1;33m\u001b[0m\u001b[1;33m\u001b[0m\u001b[0m\n\u001b[1;32m----> 3\u001b[1;33m \u001b[0mbond\u001b[0m\u001b[1;33m.\u001b[0m\u001b[0mrename\u001b[0m\u001b[1;33m(\u001b[0m\u001b[0mcolumns\u001b[0m\u001b[1;33m=\u001b[0m\u001b[1;33m{\u001b[0m\u001b[0mM2\u001b[0m \u001b[1;33m:\u001b[0m \u001b[0mM2\u001b[0m\u001b[1;33m(\u001b[0m\u001b[0mbillions\u001b[0m\u001b[1;33m)\u001b[0m\u001b[1;33m}\u001b[0m\u001b[1;33m)\u001b[0m\u001b[1;33m\u001b[0m\u001b[1;33m\u001b[0m\u001b[0m\n\u001b[0m\u001b[0;32m      4\u001b[0m \u001b[0mbond\u001b[0m\u001b[1;33m.\u001b[0m\u001b[0mhead\u001b[0m\u001b[1;33m(\u001b[0m\u001b[1;33m)\u001b[0m\u001b[1;33m\u001b[0m\u001b[1;33m\u001b[0m\u001b[0m\n",
      "\u001b[1;31mNameError\u001b[0m: name 'M2' is not defined"
     ]
    }
   ],
   "source": [
    "Path='data/M2.csv'\n",
    "bond = pd.read_csv(Path, index_col=\"DATE\", infer_datetime_format=True, parse_dates=True)\n",
    "bond.rename(columns={M2 : M2(billions)})\n",
    "bond.head()"
   ]
  },
  {
   "cell_type": "markdown",
   "metadata": {},
   "source": [
>>>>>>> c3c3b1c8d209a1265ef2a97967841f1f8b024d81
    "# Importing Data from Yahoo Finance"
   ]
  },
  {
   "cell_type": "markdown",
   "metadata": {},
   "source": [
    "<span style=color:red> Install yfinance:"
   ]
  },
  {
   "cell_type": "code",
   "execution_count": 10,
   "metadata": {},
   "outputs": [],
   "source": [
    "# !pip install yfinance"
   ]
  },
  {
   "cell_type": "code",
   "execution_count": 11,
   "metadata": {},
   "outputs": [],
   "source": [
    "import yfinance as yf"
   ]
  },
  {
   "cell_type": "markdown",
   "metadata": {},
   "source": [
    "## S&P 500 (^GSPC)："
   ]
  },
  {
   "cell_type": "code",
<<<<<<< HEAD
   "execution_count": 47,
=======
   "execution_count": 12,
>>>>>>> c3c3b1c8d209a1265ef2a97967841f1f8b024d81
   "metadata": {},
   "outputs": [
    {
     "name": "stdout",
     "output_type": "stream",
     "text": [
<<<<<<< HEAD
      "[*********************100%***********************]  1 of 1 downloaded\n",
      "(997, 6)\n",
      "Open         0\n",
      "High         0\n",
      "Low          0\n",
      "Close        0\n",
      "Adj Close    0\n",
      "Volume       0\n",
      "dtype: int64\n"
=======
      "[*********************100%***********************]  1 of 1 completed\n"
>>>>>>> c3c3b1c8d209a1265ef2a97967841f1f8b024d81
     ]
    },
    {
     "data": {
      "text/html": [
       "<div>\n",
       "<style scoped>\n",
       "    .dataframe tbody tr th:only-of-type {\n",
       "        vertical-align: middle;\n",
       "    }\n",
       "\n",
       "    .dataframe tbody tr th {\n",
       "        vertical-align: top;\n",
       "    }\n",
       "\n",
       "    .dataframe thead th {\n",
       "        text-align: right;\n",
       "    }\n",
       "</style>\n",
       "<table border=\"1\" class=\"dataframe\">\n",
       "  <thead>\n",
       "    <tr style=\"text-align: right;\">\n",
       "      <th></th>\n",
       "      <th>Open</th>\n",
       "      <th>High</th>\n",
       "      <th>Low</th>\n",
       "      <th>Close</th>\n",
       "      <th>Adj Close</th>\n",
       "      <th>Volume</th>\n",
       "    </tr>\n",
       "    <tr>\n",
       "      <th>Date</th>\n",
       "      <th></th>\n",
       "      <th></th>\n",
       "      <th></th>\n",
       "      <th></th>\n",
       "      <th></th>\n",
       "      <th></th>\n",
       "    </tr>\n",
       "  </thead>\n",
       "  <tbody>\n",
       "    <tr>\n",
       "      <th>2020-12-10</th>\n",
<<<<<<< HEAD
       "      <td>3659.13</td>\n",
       "      <td>3678.49</td>\n",
       "      <td>3645.18</td>\n",
       "      <td>3668.10</td>\n",
       "      <td>3668.10</td>\n",
=======
       "      <td>3659.129883</td>\n",
       "      <td>3678.489990</td>\n",
       "      <td>3645.179932</td>\n",
       "      <td>3668.100098</td>\n",
       "      <td>3668.100098</td>\n",
>>>>>>> c3c3b1c8d209a1265ef2a97967841f1f8b024d81
       "      <td>4618240000</td>\n",
       "    </tr>\n",
       "    <tr>\n",
       "      <th>2020-12-11</th>\n",
<<<<<<< HEAD
       "      <td>3656.08</td>\n",
       "      <td>3665.91</td>\n",
       "      <td>3633.40</td>\n",
       "      <td>3663.46</td>\n",
       "      <td>3663.46</td>\n",
=======
       "      <td>3656.080078</td>\n",
       "      <td>3665.909912</td>\n",
       "      <td>3633.399902</td>\n",
       "      <td>3663.459961</td>\n",
       "      <td>3663.459961</td>\n",
>>>>>>> c3c3b1c8d209a1265ef2a97967841f1f8b024d81
       "      <td>4367150000</td>\n",
       "    </tr>\n",
       "    <tr>\n",
       "      <th>2020-12-14</th>\n",
<<<<<<< HEAD
       "      <td>3675.27</td>\n",
       "      <td>3697.61</td>\n",
       "      <td>3645.84</td>\n",
       "      <td>3647.49</td>\n",
       "      <td>3647.49</td>\n",
=======
       "      <td>3675.270020</td>\n",
       "      <td>3697.610107</td>\n",
       "      <td>3645.840088</td>\n",
       "      <td>3647.489990</td>\n",
       "      <td>3647.489990</td>\n",
>>>>>>> c3c3b1c8d209a1265ef2a97967841f1f8b024d81
       "      <td>4594920000</td>\n",
       "    </tr>\n",
       "    <tr>\n",
       "      <th>2020-12-15</th>\n",
<<<<<<< HEAD
       "      <td>3666.41</td>\n",
       "      <td>3695.29</td>\n",
       "      <td>3659.62</td>\n",
       "      <td>3694.62</td>\n",
       "      <td>3694.62</td>\n",
=======
       "      <td>3666.409912</td>\n",
       "      <td>3695.290039</td>\n",
       "      <td>3659.620117</td>\n",
       "      <td>3694.620117</td>\n",
       "      <td>3694.620117</td>\n",
>>>>>>> c3c3b1c8d209a1265ef2a97967841f1f8b024d81
       "      <td>4360280000</td>\n",
       "    </tr>\n",
       "    <tr>\n",
       "      <th>2020-12-16</th>\n",
<<<<<<< HEAD
       "      <td>3696.25</td>\n",
       "      <td>3711.27</td>\n",
       "      <td>3688.57</td>\n",
       "      <td>3701.17</td>\n",
       "      <td>3701.17</td>\n",
=======
       "      <td>3696.250000</td>\n",
       "      <td>3711.270020</td>\n",
       "      <td>3688.570068</td>\n",
       "      <td>3701.169922</td>\n",
       "      <td>3701.169922</td>\n",
>>>>>>> c3c3b1c8d209a1265ef2a97967841f1f8b024d81
       "      <td>4056950000</td>\n",
       "    </tr>\n",
       "  </tbody>\n",
       "</table>\n",
       "</div>"
      ],
      "text/plain": [
<<<<<<< HEAD
       "               Open     High      Low    Close  Adj Close      Volume\n",
       "Date                                                                 \n",
       "2020-12-10  3659.13  3678.49  3645.18  3668.10    3668.10  4618240000\n",
       "2020-12-11  3656.08  3665.91  3633.40  3663.46    3663.46  4367150000\n",
       "2020-12-14  3675.27  3697.61  3645.84  3647.49    3647.49  4594920000\n",
       "2020-12-15  3666.41  3695.29  3659.62  3694.62    3694.62  4360280000\n",
       "2020-12-16  3696.25  3711.27  3688.57  3701.17    3701.17  4056950000"
      ]
     },
     "execution_count": 47,
=======
       "                   Open         High          Low        Close    Adj Close  \\\n",
       "Date                                                                          \n",
       "2020-12-10  3659.129883  3678.489990  3645.179932  3668.100098  3668.100098   \n",
       "2020-12-11  3656.080078  3665.909912  3633.399902  3663.459961  3663.459961   \n",
       "2020-12-14  3675.270020  3697.610107  3645.840088  3647.489990  3647.489990   \n",
       "2020-12-15  3666.409912  3695.290039  3659.620117  3694.620117  3694.620117   \n",
       "2020-12-16  3696.250000  3711.270020  3688.570068  3701.169922  3701.169922   \n",
       "\n",
       "                Volume  \n",
       "Date                    \n",
       "2020-12-10  4618240000  \n",
       "2020-12-11  4367150000  \n",
       "2020-12-14  4594920000  \n",
       "2020-12-15  4360280000  \n",
       "2020-12-16  4056950000  "
      ]
     },
     "execution_count": 12,
>>>>>>> c3c3b1c8d209a1265ef2a97967841f1f8b024d81
     "metadata": {},
     "output_type": "execute_result"
    }
   ],
   "source": [
    "yf_df = yf.download(\"^GSPC\", start=\"2017-01-01\", end=\"2020-12-18\")\n",
<<<<<<< HEAD
    "print(yf_df.shape)\n",
    "print(yf_df.isnull().sum())\n",
=======
>>>>>>> c3c3b1c8d209a1265ef2a97967841f1f8b024d81
    "yf_df.tail()"
   ]
  },
  {
   "cell_type": "markdown",
   "metadata": {},
   "source": [
    "## Bitcoin USD (BTC-USD)"
   ]
  },
  {
   "cell_type": "code",
<<<<<<< HEAD
   "execution_count": 48,
=======
   "execution_count": 13,
>>>>>>> c3c3b1c8d209a1265ef2a97967841f1f8b024d81
   "metadata": {},
   "outputs": [
    {
     "name": "stdout",
     "output_type": "stream",
     "text": [
<<<<<<< HEAD
      "[*********************100%***********************]  1 of 1 downloaded\n",
      "(1448, 6)\n",
      "Open         0\n",
      "High         0\n",
      "Low          0\n",
      "Close        0\n",
      "Adj Close    0\n",
      "Volume       0\n",
      "dtype: int64\n"
=======
      "[*********************100%***********************]  1 of 1 completed\n"
>>>>>>> c3c3b1c8d209a1265ef2a97967841f1f8b024d81
     ]
    },
    {
     "data": {
      "text/html": [
       "<div>\n",
       "<style scoped>\n",
       "    .dataframe tbody tr th:only-of-type {\n",
       "        vertical-align: middle;\n",
       "    }\n",
       "\n",
       "    .dataframe tbody tr th {\n",
       "        vertical-align: top;\n",
       "    }\n",
       "\n",
       "    .dataframe thead th {\n",
       "        text-align: right;\n",
       "    }\n",
       "</style>\n",
       "<table border=\"1\" class=\"dataframe\">\n",
       "  <thead>\n",
       "    <tr style=\"text-align: right;\">\n",
       "      <th></th>\n",
       "      <th>Open</th>\n",
       "      <th>High</th>\n",
       "      <th>Low</th>\n",
       "      <th>Close</th>\n",
       "      <th>Adj Close</th>\n",
       "      <th>Volume</th>\n",
       "    </tr>\n",
       "    <tr>\n",
       "      <th>Date</th>\n",
       "      <th></th>\n",
       "      <th></th>\n",
       "      <th></th>\n",
       "      <th></th>\n",
       "      <th></th>\n",
       "      <th></th>\n",
       "    </tr>\n",
       "  </thead>\n",
       "  <tbody>\n",
       "    <tr>\n",
       "      <th>2020-12-13</th>\n",
<<<<<<< HEAD
       "      <td>18806.77</td>\n",
       "      <td>19381.54</td>\n",
       "      <td>18734.33</td>\n",
       "      <td>19142.38</td>\n",
       "      <td>19142.38</td>\n",
=======
       "      <td>18806.765625</td>\n",
       "      <td>19381.535156</td>\n",
       "      <td>18734.332031</td>\n",
       "      <td>19142.382812</td>\n",
       "      <td>19142.382812</td>\n",
>>>>>>> c3c3b1c8d209a1265ef2a97967841f1f8b024d81
       "      <td>25450468637</td>\n",
       "    </tr>\n",
       "    <tr>\n",
       "      <th>2020-12-14</th>\n",
<<<<<<< HEAD
       "      <td>19144.49</td>\n",
       "      <td>19305.10</td>\n",
       "      <td>19012.71</td>\n",
       "      <td>19246.64</td>\n",
       "      <td>19246.64</td>\n",
=======
       "      <td>19144.492188</td>\n",
       "      <td>19305.099609</td>\n",
       "      <td>19012.708984</td>\n",
       "      <td>19246.644531</td>\n",
       "      <td>19246.644531</td>\n",
>>>>>>> c3c3b1c8d209a1265ef2a97967841f1f8b024d81
       "      <td>22473997681</td>\n",
       "    </tr>\n",
       "    <tr>\n",
       "      <th>2020-12-15</th>\n",
<<<<<<< HEAD
       "      <td>19246.92</td>\n",
       "      <td>19525.01</td>\n",
       "      <td>19079.84</td>\n",
       "      <td>19417.08</td>\n",
       "      <td>19417.08</td>\n",
=======
       "      <td>19246.919922</td>\n",
       "      <td>19525.007812</td>\n",
       "      <td>19079.841797</td>\n",
       "      <td>19417.076172</td>\n",
       "      <td>19417.076172</td>\n",
>>>>>>> c3c3b1c8d209a1265ef2a97967841f1f8b024d81
       "      <td>26741982541</td>\n",
       "    </tr>\n",
       "    <tr>\n",
       "      <th>2020-12-16</th>\n",
<<<<<<< HEAD
       "      <td>19418.82</td>\n",
       "      <td>21458.91</td>\n",
       "      <td>19298.32</td>\n",
       "      <td>21310.60</td>\n",
       "      <td>21310.60</td>\n",
=======
       "      <td>19418.818359</td>\n",
       "      <td>21458.908203</td>\n",
       "      <td>19298.316406</td>\n",
       "      <td>21310.597656</td>\n",
       "      <td>21310.597656</td>\n",
>>>>>>> c3c3b1c8d209a1265ef2a97967841f1f8b024d81
       "      <td>44409011479</td>\n",
       "    </tr>\n",
       "    <tr>\n",
       "      <th>2020-12-17</th>\n",
<<<<<<< HEAD
       "      <td>21308.35</td>\n",
       "      <td>23642.66</td>\n",
       "      <td>21234.68</td>\n",
       "      <td>22805.16</td>\n",
       "      <td>22805.16</td>\n",
=======
       "      <td>21308.351562</td>\n",
       "      <td>23642.660156</td>\n",
       "      <td>21234.675781</td>\n",
       "      <td>22805.162109</td>\n",
       "      <td>22805.162109</td>\n",
>>>>>>> c3c3b1c8d209a1265ef2a97967841f1f8b024d81
       "      <td>71378606374</td>\n",
       "    </tr>\n",
       "  </tbody>\n",
       "</table>\n",
       "</div>"
      ],
      "text/plain": [
<<<<<<< HEAD
       "                Open      High       Low     Close  Adj Close       Volume\n",
       "Date                                                                      \n",
       "2020-12-13  18806.77  19381.54  18734.33  19142.38   19142.38  25450468637\n",
       "2020-12-14  19144.49  19305.10  19012.71  19246.64   19246.64  22473997681\n",
       "2020-12-15  19246.92  19525.01  19079.84  19417.08   19417.08  26741982541\n",
       "2020-12-16  19418.82  21458.91  19298.32  21310.60   21310.60  44409011479\n",
       "2020-12-17  21308.35  23642.66  21234.68  22805.16   22805.16  71378606374"
      ]
     },
     "execution_count": 48,
=======
       "                    Open          High           Low         Close  \\\n",
       "Date                                                                 \n",
       "2020-12-13  18806.765625  19381.535156  18734.332031  19142.382812   \n",
       "2020-12-14  19144.492188  19305.099609  19012.708984  19246.644531   \n",
       "2020-12-15  19246.919922  19525.007812  19079.841797  19417.076172   \n",
       "2020-12-16  19418.818359  21458.908203  19298.316406  21310.597656   \n",
       "2020-12-17  21308.351562  23642.660156  21234.675781  22805.162109   \n",
       "\n",
       "               Adj Close       Volume  \n",
       "Date                                   \n",
       "2020-12-13  19142.382812  25450468637  \n",
       "2020-12-14  19246.644531  22473997681  \n",
       "2020-12-15  19417.076172  26741982541  \n",
       "2020-12-16  21310.597656  44409011479  \n",
       "2020-12-17  22805.162109  71378606374  "
      ]
     },
     "execution_count": 13,
>>>>>>> c3c3b1c8d209a1265ef2a97967841f1f8b024d81
     "metadata": {},
     "output_type": "execute_result"
    }
   ],
   "source": [
    "yf_df = yf.download(\"BTC-USD\", start=\"2017-01-01\", end=\"2020-12-18\")\n",
<<<<<<< HEAD
    "print(yf_df.shape)\n",
    "print(yf_df.isnull().sum())\n",
=======
>>>>>>> c3c3b1c8d209a1265ef2a97967841f1f8b024d81
    "yf_df.tail()"
   ]
  },
  {
   "cell_type": "markdown",
   "metadata": {},
   "source": [
    "## Ethereum USD (ETH-USD):"
   ]
  },
  {
   "cell_type": "code",
<<<<<<< HEAD
   "execution_count": 49,
=======
   "execution_count": 14,
>>>>>>> c3c3b1c8d209a1265ef2a97967841f1f8b024d81
   "metadata": {},
   "outputs": [
    {
     "name": "stdout",
     "output_type": "stream",
     "text": [
<<<<<<< HEAD
      "[*********************100%***********************]  1 of 1 downloaded\n",
      "(1448, 6)\n",
      "Open         0\n",
      "High         0\n",
      "Low          0\n",
      "Close        0\n",
      "Adj Close    0\n",
      "Volume       0\n",
      "dtype: int64\n"
=======
      "[*********************100%***********************]  1 of 1 completed\n"
>>>>>>> c3c3b1c8d209a1265ef2a97967841f1f8b024d81
     ]
    },
    {
     "data": {
      "text/html": [
       "<div>\n",
       "<style scoped>\n",
       "    .dataframe tbody tr th:only-of-type {\n",
       "        vertical-align: middle;\n",
       "    }\n",
       "\n",
       "    .dataframe tbody tr th {\n",
       "        vertical-align: top;\n",
       "    }\n",
       "\n",
       "    .dataframe thead th {\n",
       "        text-align: right;\n",
       "    }\n",
       "</style>\n",
       "<table border=\"1\" class=\"dataframe\">\n",
       "  <thead>\n",
       "    <tr style=\"text-align: right;\">\n",
       "      <th></th>\n",
       "      <th>Open</th>\n",
       "      <th>High</th>\n",
       "      <th>Low</th>\n",
       "      <th>Close</th>\n",
       "      <th>Adj Close</th>\n",
       "      <th>Volume</th>\n",
       "    </tr>\n",
       "    <tr>\n",
       "      <th>Date</th>\n",
       "      <th></th>\n",
       "      <th></th>\n",
       "      <th></th>\n",
       "      <th></th>\n",
       "      <th></th>\n",
       "      <th></th>\n",
       "    </tr>\n",
       "  </thead>\n",
       "  <tbody>\n",
       "    <tr>\n",
       "      <th>2020-12-13</th>\n",
<<<<<<< HEAD
       "      <td>568.61</td>\n",
       "      <td>593.78</td>\n",
       "      <td>564.57</td>\n",
       "      <td>589.66</td>\n",
       "      <td>589.66</td>\n",
=======
       "      <td>568.609863</td>\n",
       "      <td>593.781250</td>\n",
       "      <td>564.565979</td>\n",
       "      <td>589.663208</td>\n",
       "      <td>589.663208</td>\n",
>>>>>>> c3c3b1c8d209a1265ef2a97967841f1f8b024d81
       "      <td>9070377862</td>\n",
       "    </tr>\n",
       "    <tr>\n",
       "      <th>2020-12-14</th>\n",
<<<<<<< HEAD
       "      <td>589.78</td>\n",
       "      <td>590.49</td>\n",
       "      <td>577.12</td>\n",
       "      <td>586.01</td>\n",
       "      <td>586.01</td>\n",
=======
       "      <td>589.782471</td>\n",
       "      <td>590.492981</td>\n",
       "      <td>577.118408</td>\n",
       "      <td>586.011169</td>\n",
       "      <td>586.011169</td>\n",
>>>>>>> c3c3b1c8d209a1265ef2a97967841f1f8b024d81
       "      <td>8125837102</td>\n",
       "    </tr>\n",
       "    <tr>\n",
       "      <th>2020-12-15</th>\n",
<<<<<<< HEAD
       "      <td>586.02</td>\n",
       "      <td>596.25</td>\n",
       "      <td>580.63</td>\n",
       "      <td>589.36</td>\n",
       "      <td>589.36</td>\n",
=======
       "      <td>586.021790</td>\n",
       "      <td>596.247742</td>\n",
       "      <td>580.628784</td>\n",
       "      <td>589.355591</td>\n",
       "      <td>589.355591</td>\n",
>>>>>>> c3c3b1c8d209a1265ef2a97967841f1f8b024d81
       "      <td>9326645840</td>\n",
       "    </tr>\n",
       "    <tr>\n",
       "      <th>2020-12-16</th>\n",
<<<<<<< HEAD
       "      <td>589.38</td>\n",
       "      <td>636.64</td>\n",
       "      <td>582.04</td>\n",
       "      <td>636.18</td>\n",
       "      <td>636.18</td>\n",
=======
       "      <td>589.378662</td>\n",
       "      <td>636.640320</td>\n",
       "      <td>582.039124</td>\n",
       "      <td>636.181824</td>\n",
       "      <td>636.181824</td>\n",
>>>>>>> c3c3b1c8d209a1265ef2a97967841f1f8b024d81
       "      <td>15817248373</td>\n",
       "    </tr>\n",
       "    <tr>\n",
       "      <th>2020-12-17</th>\n",
<<<<<<< HEAD
       "      <td>636.15</td>\n",
       "      <td>673.83</td>\n",
       "      <td>628.75</td>\n",
       "      <td>642.87</td>\n",
       "      <td>642.87</td>\n",
=======
       "      <td>636.154175</td>\n",
       "      <td>673.834229</td>\n",
       "      <td>628.749390</td>\n",
       "      <td>642.868958</td>\n",
       "      <td>642.868958</td>\n",
>>>>>>> c3c3b1c8d209a1265ef2a97967841f1f8b024d81
       "      <td>25479532147</td>\n",
       "    </tr>\n",
       "  </tbody>\n",
       "</table>\n",
       "</div>"
      ],
      "text/plain": [
<<<<<<< HEAD
       "              Open    High     Low   Close  Adj Close       Volume\n",
       "Date                                                              \n",
       "2020-12-13  568.61  593.78  564.57  589.66     589.66   9070377862\n",
       "2020-12-14  589.78  590.49  577.12  586.01     586.01   8125837102\n",
       "2020-12-15  586.02  596.25  580.63  589.36     589.36   9326645840\n",
       "2020-12-16  589.38  636.64  582.04  636.18     636.18  15817248373\n",
       "2020-12-17  636.15  673.83  628.75  642.87     642.87  25479532147"
      ]
     },
     "execution_count": 49,
=======
       "                  Open        High         Low       Close   Adj Close  \\\n",
       "Date                                                                     \n",
       "2020-12-13  568.609863  593.781250  564.565979  589.663208  589.663208   \n",
       "2020-12-14  589.782471  590.492981  577.118408  586.011169  586.011169   \n",
       "2020-12-15  586.021790  596.247742  580.628784  589.355591  589.355591   \n",
       "2020-12-16  589.378662  636.640320  582.039124  636.181824  636.181824   \n",
       "2020-12-17  636.154175  673.834229  628.749390  642.868958  642.868958   \n",
       "\n",
       "                 Volume  \n",
       "Date                     \n",
       "2020-12-13   9070377862  \n",
       "2020-12-14   8125837102  \n",
       "2020-12-15   9326645840  \n",
       "2020-12-16  15817248373  \n",
       "2020-12-17  25479532147  "
      ]
     },
     "execution_count": 14,
>>>>>>> c3c3b1c8d209a1265ef2a97967841f1f8b024d81
     "metadata": {},
     "output_type": "execute_result"
    }
   ],
   "source": [
    "yf_df = yf.download(\"ETH-USD\", start=\"2017-01-01\", end=\"2020-12-18\")\n",
<<<<<<< HEAD
    "print(yf_df.shape)\n",
    "print(yf_df.isnull().sum())\n",
=======
>>>>>>> c3c3b1c8d209a1265ef2a97967841f1f8b024d81
    "yf_df.tail()"
   ]
  },
  {
   "cell_type": "markdown",
   "metadata": {},
   "source": [
    "## US Dollar/USDX - Index - Cash (DX-Y.NYB)"
   ]
  },
  {
   "cell_type": "code",
<<<<<<< HEAD
   "execution_count": 50,
=======
   "execution_count": 15,
>>>>>>> c3c3b1c8d209a1265ef2a97967841f1f8b024d81
   "metadata": {},
   "outputs": [
    {
     "name": "stdout",
     "output_type": "stream",
     "text": [
<<<<<<< HEAD
      "[*********************100%***********************]  1 of 1 downloaded\n",
      "(994, 6)\n",
      "Open         0\n",
      "High         0\n",
      "Low          0\n",
      "Close        0\n",
      "Adj Close    0\n",
      "Volume       0\n",
      "dtype: int64\n"
=======
      "[*********************100%***********************]  1 of 1 completed\n"
>>>>>>> c3c3b1c8d209a1265ef2a97967841f1f8b024d81
     ]
    },
    {
     "data": {
      "text/html": [
       "<div>\n",
       "<style scoped>\n",
       "    .dataframe tbody tr th:only-of-type {\n",
       "        vertical-align: middle;\n",
       "    }\n",
       "\n",
       "    .dataframe tbody tr th {\n",
       "        vertical-align: top;\n",
       "    }\n",
       "\n",
       "    .dataframe thead th {\n",
       "        text-align: right;\n",
       "    }\n",
       "</style>\n",
       "<table border=\"1\" class=\"dataframe\">\n",
       "  <thead>\n",
       "    <tr style=\"text-align: right;\">\n",
       "      <th></th>\n",
       "      <th>Open</th>\n",
       "      <th>High</th>\n",
       "      <th>Low</th>\n",
       "      <th>Close</th>\n",
       "      <th>Adj Close</th>\n",
       "      <th>Volume</th>\n",
       "    </tr>\n",
       "    <tr>\n",
       "      <th>Date</th>\n",
       "      <th></th>\n",
       "      <th></th>\n",
       "      <th></th>\n",
       "      <th></th>\n",
       "      <th></th>\n",
       "      <th></th>\n",
       "    </tr>\n",
       "  </thead>\n",
       "  <tbody>\n",
       "    <tr>\n",
       "      <th>2020-12-11</th>\n",
<<<<<<< HEAD
       "      <td>90.74</td>\n",
       "      <td>91.04</td>\n",
       "      <td>90.62</td>\n",
       "      <td>90.98</td>\n",
       "      <td>90.98</td>\n",
=======
       "      <td>90.739998</td>\n",
       "      <td>91.040001</td>\n",
       "      <td>90.620003</td>\n",
       "      <td>90.980003</td>\n",
       "      <td>90.980003</td>\n",
>>>>>>> c3c3b1c8d209a1265ef2a97967841f1f8b024d81
       "      <td>0</td>\n",
       "    </tr>\n",
       "    <tr>\n",
       "      <th>2020-12-14</th>\n",
<<<<<<< HEAD
       "      <td>90.98</td>\n",
       "      <td>90.98</td>\n",
       "      <td>90.42</td>\n",
       "      <td>90.72</td>\n",
       "      <td>90.72</td>\n",
=======
       "      <td>90.980003</td>\n",
       "      <td>90.980003</td>\n",
       "      <td>90.419998</td>\n",
       "      <td>90.720001</td>\n",
       "      <td>90.720001</td>\n",
>>>>>>> c3c3b1c8d209a1265ef2a97967841f1f8b024d81
       "      <td>0</td>\n",
       "    </tr>\n",
       "    <tr>\n",
       "      <th>2020-12-15</th>\n",
<<<<<<< HEAD
       "      <td>90.69</td>\n",
       "      <td>90.82</td>\n",
       "      <td>90.42</td>\n",
       "      <td>90.47</td>\n",
       "      <td>90.47</td>\n",
=======
       "      <td>90.690002</td>\n",
       "      <td>90.820000</td>\n",
       "      <td>90.419998</td>\n",
       "      <td>90.470001</td>\n",
       "      <td>90.470001</td>\n",
>>>>>>> c3c3b1c8d209a1265ef2a97967841f1f8b024d81
       "      <td>0</td>\n",
       "    </tr>\n",
       "    <tr>\n",
       "      <th>2020-12-16</th>\n",
<<<<<<< HEAD
       "      <td>90.49</td>\n",
       "      <td>90.70</td>\n",
       "      <td>90.13</td>\n",
       "      <td>90.45</td>\n",
       "      <td>90.45</td>\n",
=======
       "      <td>90.489998</td>\n",
       "      <td>90.699997</td>\n",
       "      <td>90.129997</td>\n",
       "      <td>90.449997</td>\n",
       "      <td>90.449997</td>\n",
>>>>>>> c3c3b1c8d209a1265ef2a97967841f1f8b024d81
       "      <td>0</td>\n",
       "    </tr>\n",
       "    <tr>\n",
       "      <th>2020-12-17</th>\n",
<<<<<<< HEAD
       "      <td>90.27</td>\n",
       "      <td>90.27</td>\n",
       "      <td>89.73</td>\n",
       "      <td>89.82</td>\n",
       "      <td>89.82</td>\n",
=======
       "      <td>90.269997</td>\n",
       "      <td>90.269997</td>\n",
       "      <td>89.730003</td>\n",
       "      <td>89.820000</td>\n",
       "      <td>89.820000</td>\n",
>>>>>>> c3c3b1c8d209a1265ef2a97967841f1f8b024d81
       "      <td>0</td>\n",
       "    </tr>\n",
       "  </tbody>\n",
       "</table>\n",
       "</div>"
      ],
      "text/plain": [
<<<<<<< HEAD
       "             Open   High    Low  Close  Adj Close  Volume\n",
       "Date                                                     \n",
       "2020-12-11  90.74  91.04  90.62  90.98      90.98       0\n",
       "2020-12-14  90.98  90.98  90.42  90.72      90.72       0\n",
       "2020-12-15  90.69  90.82  90.42  90.47      90.47       0\n",
       "2020-12-16  90.49  90.70  90.13  90.45      90.45       0\n",
       "2020-12-17  90.27  90.27  89.73  89.82      89.82       0"
      ]
     },
     "execution_count": 50,
=======
       "                 Open       High        Low      Close  Adj Close  Volume\n",
       "Date                                                                     \n",
       "2020-12-11  90.739998  91.040001  90.620003  90.980003  90.980003       0\n",
       "2020-12-14  90.980003  90.980003  90.419998  90.720001  90.720001       0\n",
       "2020-12-15  90.690002  90.820000  90.419998  90.470001  90.470001       0\n",
       "2020-12-16  90.489998  90.699997  90.129997  90.449997  90.449997       0\n",
       "2020-12-17  90.269997  90.269997  89.730003  89.820000  89.820000       0"
      ]
     },
     "execution_count": 15,
>>>>>>> c3c3b1c8d209a1265ef2a97967841f1f8b024d81
     "metadata": {},
     "output_type": "execute_result"
    }
   ],
   "source": [
    "yf_df = yf.download(\"DX-Y.NYB\", start=\"2017-01-01\", end=\"2020-12-18\")\n",
<<<<<<< HEAD
    "print(yf_df.shape)\n",
    "print(yf_df.isnull().sum())\n",
=======
>>>>>>> c3c3b1c8d209a1265ef2a97967841f1f8b024d81
    "yf_df.tail()"
   ]
  },
  {
   "cell_type": "markdown",
   "metadata": {},
   "source": [
    "## Gold Feb 21 (GC=F):"
   ]
  },
  {
   "cell_type": "code",
<<<<<<< HEAD
   "execution_count": 51,
=======
   "execution_count": 16,
>>>>>>> c3c3b1c8d209a1265ef2a97967841f1f8b024d81
   "metadata": {},
   "outputs": [
    {
     "name": "stdout",
     "output_type": "stream",
     "text": [
<<<<<<< HEAD
      "[*********************100%***********************]  1 of 1 downloaded\n",
      "(1072, 6)\n",
      "Open         0\n",
      "High         0\n",
      "Low          0\n",
      "Close        0\n",
      "Adj Close    0\n",
      "Volume       0\n",
      "dtype: int64\n"
=======
      "[*********************100%***********************]  1 of 1 completed\n"
>>>>>>> c3c3b1c8d209a1265ef2a97967841f1f8b024d81
     ]
    },
    {
     "data": {
      "text/html": [
       "<div>\n",
       "<style scoped>\n",
       "    .dataframe tbody tr th:only-of-type {\n",
       "        vertical-align: middle;\n",
       "    }\n",
       "\n",
       "    .dataframe tbody tr th {\n",
       "        vertical-align: top;\n",
       "    }\n",
       "\n",
       "    .dataframe thead th {\n",
       "        text-align: right;\n",
       "    }\n",
       "</style>\n",
       "<table border=\"1\" class=\"dataframe\">\n",
       "  <thead>\n",
       "    <tr style=\"text-align: right;\">\n",
       "      <th></th>\n",
       "      <th>Open</th>\n",
       "      <th>High</th>\n",
       "      <th>Low</th>\n",
       "      <th>Close</th>\n",
       "      <th>Adj Close</th>\n",
       "      <th>Volume</th>\n",
       "    </tr>\n",
       "    <tr>\n",
       "      <th>Date</th>\n",
       "      <th></th>\n",
       "      <th></th>\n",
       "      <th></th>\n",
       "      <th></th>\n",
       "      <th></th>\n",
       "      <th></th>\n",
       "    </tr>\n",
       "  </thead>\n",
       "  <tbody>\n",
       "    <tr>\n",
       "      <th>2020-12-11</th>\n",
<<<<<<< HEAD
       "      <td>1838.5</td>\n",
       "      <td>1846.0</td>\n",
       "      <td>1829.1</td>\n",
       "      <td>1839.8</td>\n",
       "      <td>1839.8</td>\n",
=======
       "      <td>1838.500000</td>\n",
       "      <td>1846.000000</td>\n",
       "      <td>1829.099976</td>\n",
       "      <td>1839.800049</td>\n",
       "      <td>1839.800049</td>\n",
>>>>>>> c3c3b1c8d209a1265ef2a97967841f1f8b024d81
       "      <td>109</td>\n",
       "    </tr>\n",
       "    <tr>\n",
       "      <th>2020-12-14</th>\n",
<<<<<<< HEAD
       "      <td>1835.5</td>\n",
       "      <td>1835.7</td>\n",
       "      <td>1822.7</td>\n",
       "      <td>1828.7</td>\n",
       "      <td>1828.7</td>\n",
=======
       "      <td>1835.500000</td>\n",
       "      <td>1835.699951</td>\n",
       "      <td>1822.699951</td>\n",
       "      <td>1828.699951</td>\n",
       "      <td>1828.699951</td>\n",
>>>>>>> c3c3b1c8d209a1265ef2a97967841f1f8b024d81
       "      <td>258</td>\n",
       "    </tr>\n",
       "    <tr>\n",
       "      <th>2020-12-15</th>\n",
<<<<<<< HEAD
       "      <td>1833.5</td>\n",
       "      <td>1853.6</td>\n",
       "      <td>1833.2</td>\n",
       "      <td>1852.3</td>\n",
       "      <td>1852.3</td>\n",
=======
       "      <td>1833.500000</td>\n",
       "      <td>1853.599976</td>\n",
       "      <td>1833.199951</td>\n",
       "      <td>1852.300049</td>\n",
       "      <td>1852.300049</td>\n",
>>>>>>> c3c3b1c8d209a1265ef2a97967841f1f8b024d81
       "      <td>961</td>\n",
       "    </tr>\n",
       "    <tr>\n",
       "      <th>2020-12-16</th>\n",
<<<<<<< HEAD
       "      <td>1856.5</td>\n",
       "      <td>1864.7</td>\n",
       "      <td>1850.5</td>\n",
       "      <td>1856.1</td>\n",
       "      <td>1856.1</td>\n",
=======
       "      <td>1856.500000</td>\n",
       "      <td>1864.699951</td>\n",
       "      <td>1850.500000</td>\n",
       "      <td>1856.099976</td>\n",
       "      <td>1856.099976</td>\n",
>>>>>>> c3c3b1c8d209a1265ef2a97967841f1f8b024d81
       "      <td>1090</td>\n",
       "    </tr>\n",
       "    <tr>\n",
       "      <th>2020-12-17</th>\n",
<<<<<<< HEAD
       "      <td>1874.2</td>\n",
       "      <td>1896.2</td>\n",
       "      <td>1874.2</td>\n",
       "      <td>1887.2</td>\n",
       "      <td>1887.2</td>\n",
=======
       "      <td>1874.199951</td>\n",
       "      <td>1896.199951</td>\n",
       "      <td>1874.199951</td>\n",
       "      <td>1887.199951</td>\n",
       "      <td>1887.199951</td>\n",
>>>>>>> c3c3b1c8d209a1265ef2a97967841f1f8b024d81
       "      <td>414</td>\n",
       "    </tr>\n",
       "  </tbody>\n",
       "</table>\n",
       "</div>"
      ],
      "text/plain": [
<<<<<<< HEAD
       "              Open    High     Low   Close  Adj Close  Volume\n",
       "Date                                                         \n",
       "2020-12-11  1838.5  1846.0  1829.1  1839.8     1839.8     109\n",
       "2020-12-14  1835.5  1835.7  1822.7  1828.7     1828.7     258\n",
       "2020-12-15  1833.5  1853.6  1833.2  1852.3     1852.3     961\n",
       "2020-12-16  1856.5  1864.7  1850.5  1856.1     1856.1    1090\n",
       "2020-12-17  1874.2  1896.2  1874.2  1887.2     1887.2     414"
      ]
     },
     "execution_count": 51,
=======
       "                   Open         High          Low        Close    Adj Close  \\\n",
       "Date                                                                          \n",
       "2020-12-11  1838.500000  1846.000000  1829.099976  1839.800049  1839.800049   \n",
       "2020-12-14  1835.500000  1835.699951  1822.699951  1828.699951  1828.699951   \n",
       "2020-12-15  1833.500000  1853.599976  1833.199951  1852.300049  1852.300049   \n",
       "2020-12-16  1856.500000  1864.699951  1850.500000  1856.099976  1856.099976   \n",
       "2020-12-17  1874.199951  1896.199951  1874.199951  1887.199951  1887.199951   \n",
       "\n",
       "            Volume  \n",
       "Date                \n",
       "2020-12-11     109  \n",
       "2020-12-14     258  \n",
       "2020-12-15     961  \n",
       "2020-12-16    1090  \n",
       "2020-12-17     414  "
      ]
     },
     "execution_count": 16,
>>>>>>> c3c3b1c8d209a1265ef2a97967841f1f8b024d81
     "metadata": {},
     "output_type": "execute_result"
    }
   ],
   "source": [
    "yf_df = yf.download(\"GC=F\", start=\"2017-01-01\", end=\"2020-12-18\")\n",
<<<<<<< HEAD
    "print(yf_df.shape)\n",
    "print(yf_df.isnull().sum())\n",
=======
>>>>>>> c3c3b1c8d209a1265ef2a97967841f1f8b024d81
    "yf_df.tail()"
   ]
  },
  {
   "cell_type": "markdown",
   "metadata": {},
   "source": [
    "## Treasury Yield 30 Years:"
   ]
  },
  {
   "cell_type": "code",
<<<<<<< HEAD
   "execution_count": 52,
=======
   "execution_count": 17,
>>>>>>> c3c3b1c8d209a1265ef2a97967841f1f8b024d81
   "metadata": {},
   "outputs": [
    {
     "name": "stdout",
     "output_type": "stream",
     "text": [
<<<<<<< HEAD
      "[*********************100%***********************]  1 of 1 downloaded\n",
      "(989, 6)\n",
      "Open         0\n",
      "High         0\n",
      "Low          0\n",
      "Close        0\n",
      "Adj Close    0\n",
      "Volume       0\n",
      "dtype: int64\n"
=======
      "[*********************100%***********************]  1 of 1 completed\n"
>>>>>>> c3c3b1c8d209a1265ef2a97967841f1f8b024d81
     ]
    },
    {
     "data": {
      "text/html": [
       "<div>\n",
       "<style scoped>\n",
       "    .dataframe tbody tr th:only-of-type {\n",
       "        vertical-align: middle;\n",
       "    }\n",
       "\n",
       "    .dataframe tbody tr th {\n",
       "        vertical-align: top;\n",
       "    }\n",
       "\n",
       "    .dataframe thead th {\n",
       "        text-align: right;\n",
       "    }\n",
       "</style>\n",
       "<table border=\"1\" class=\"dataframe\">\n",
       "  <thead>\n",
       "    <tr style=\"text-align: right;\">\n",
       "      <th></th>\n",
       "      <th>Open</th>\n",
       "      <th>High</th>\n",
       "      <th>Low</th>\n",
       "      <th>Close</th>\n",
       "      <th>Adj Close</th>\n",
       "      <th>Volume</th>\n",
       "    </tr>\n",
       "    <tr>\n",
       "      <th>Date</th>\n",
       "      <th></th>\n",
       "      <th></th>\n",
       "      <th></th>\n",
       "      <th></th>\n",
       "      <th></th>\n",
       "      <th></th>\n",
       "    </tr>\n",
       "  </thead>\n",
       "  <tbody>\n",
       "    <tr>\n",
       "      <th>2020-12-11</th>\n",
       "      <td>1.617</td>\n",
       "      <td>1.634</td>\n",
       "      <td>1.601</td>\n",
       "      <td>1.626</td>\n",
       "      <td>1.626</td>\n",
       "      <td>0</td>\n",
       "    </tr>\n",
       "    <tr>\n",
       "      <th>2020-12-14</th>\n",
       "      <td>1.672</td>\n",
       "      <td>1.678</td>\n",
       "      <td>1.624</td>\n",
       "      <td>1.628</td>\n",
       "      <td>1.628</td>\n",
       "      <td>0</td>\n",
       "    </tr>\n",
       "    <tr>\n",
       "      <th>2020-12-15</th>\n",
       "      <td>1.638</td>\n",
       "      <td>1.668</td>\n",
       "      <td>1.634</td>\n",
       "      <td>1.665</td>\n",
       "      <td>1.665</td>\n",
       "      <td>0</td>\n",
       "    </tr>\n",
       "    <tr>\n",
       "      <th>2020-12-16</th>\n",
       "      <td>1.692</td>\n",
       "      <td>1.707</td>\n",
       "      <td>1.655</td>\n",
       "      <td>1.666</td>\n",
       "      <td>1.666</td>\n",
       "      <td>0</td>\n",
       "    </tr>\n",
       "    <tr>\n",
       "      <th>2020-12-17</th>\n",
       "      <td>1.656</td>\n",
       "      <td>1.692</td>\n",
       "      <td>1.626</td>\n",
       "      <td>1.676</td>\n",
       "      <td>1.676</td>\n",
       "      <td>0</td>\n",
       "    </tr>\n",
       "  </tbody>\n",
       "</table>\n",
       "</div>"
      ],
      "text/plain": [
       "             Open   High    Low  Close  Adj Close  Volume\n",
       "Date                                                     \n",
       "2020-12-11  1.617  1.634  1.601  1.626      1.626       0\n",
       "2020-12-14  1.672  1.678  1.624  1.628      1.628       0\n",
       "2020-12-15  1.638  1.668  1.634  1.665      1.665       0\n",
       "2020-12-16  1.692  1.707  1.655  1.666      1.666       0\n",
       "2020-12-17  1.656  1.692  1.626  1.676      1.676       0"
      ]
     },
<<<<<<< HEAD
     "execution_count": 52,
=======
     "execution_count": 17,
>>>>>>> c3c3b1c8d209a1265ef2a97967841f1f8b024d81
     "metadata": {},
     "output_type": "execute_result"
    }
   ],
   "source": [
    "yf_df = yf.download(\"^TYX\", start=\"2017-01-01\", end=\"2020-12-18\")\n",
<<<<<<< HEAD
    "print(yf_df.shape)\n",
    "print(yf_df.isnull().sum())\n",
=======
>>>>>>> c3c3b1c8d209a1265ef2a97967841f1f8b024d81
    "yf_df.tail()"
   ]
  },
  {
   "cell_type": "markdown",
   "metadata": {},
   "source": [
    "## Treasury Yield 10 Years:"
   ]
  },
  {
   "cell_type": "code",
<<<<<<< HEAD
   "execution_count": 53,
=======
   "execution_count": 18,
>>>>>>> c3c3b1c8d209a1265ef2a97967841f1f8b024d81
   "metadata": {},
   "outputs": [
    {
     "name": "stdout",
     "output_type": "stream",
     "text": [
<<<<<<< HEAD
      "[*********************100%***********************]  1 of 1 downloaded\n",
      "(989, 6)\n",
      "Open         0\n",
      "High         0\n",
      "Low          0\n",
      "Close        0\n",
      "Adj Close    0\n",
      "Volume       0\n",
      "dtype: int64\n"
=======
      "[*********************100%***********************]  1 of 1 completed\n"
>>>>>>> c3c3b1c8d209a1265ef2a97967841f1f8b024d81
     ]
    },
    {
     "data": {
      "text/html": [
       "<div>\n",
       "<style scoped>\n",
       "    .dataframe tbody tr th:only-of-type {\n",
       "        vertical-align: middle;\n",
       "    }\n",
       "\n",
       "    .dataframe tbody tr th {\n",
       "        vertical-align: top;\n",
       "    }\n",
       "\n",
       "    .dataframe thead th {\n",
       "        text-align: right;\n",
       "    }\n",
       "</style>\n",
       "<table border=\"1\" class=\"dataframe\">\n",
       "  <thead>\n",
       "    <tr style=\"text-align: right;\">\n",
       "      <th></th>\n",
       "      <th>Open</th>\n",
       "      <th>High</th>\n",
       "      <th>Low</th>\n",
       "      <th>Close</th>\n",
       "      <th>Adj Close</th>\n",
       "      <th>Volume</th>\n",
       "    </tr>\n",
       "    <tr>\n",
       "      <th>Date</th>\n",
       "      <th></th>\n",
       "      <th></th>\n",
       "      <th></th>\n",
       "      <th></th>\n",
       "      <th></th>\n",
       "      <th></th>\n",
       "    </tr>\n",
       "  </thead>\n",
       "  <tbody>\n",
       "    <tr>\n",
       "      <th>2020-12-11</th>\n",
       "      <td>0.893</td>\n",
       "      <td>0.900</td>\n",
       "      <td>0.873</td>\n",
       "      <td>0.893</td>\n",
       "      <td>0.893</td>\n",
       "      <td>0</td>\n",
       "    </tr>\n",
       "    <tr>\n",
       "      <th>2020-12-14</th>\n",
       "      <td>0.930</td>\n",
       "      <td>0.936</td>\n",
       "      <td>0.888</td>\n",
       "      <td>0.892</td>\n",
       "      <td>0.892</td>\n",
       "      <td>0</td>\n",
       "    </tr>\n",
       "    <tr>\n",
       "      <th>2020-12-15</th>\n",
       "      <td>0.901</td>\n",
       "      <td>0.925</td>\n",
       "      <td>0.901</td>\n",
       "      <td>0.923</td>\n",
       "      <td>0.923</td>\n",
       "      <td>0</td>\n",
       "    </tr>\n",
       "    <tr>\n",
       "      <th>2020-12-16</th>\n",
       "      <td>0.943</td>\n",
       "      <td>0.953</td>\n",
       "      <td>0.913</td>\n",
       "      <td>0.920</td>\n",
       "      <td>0.920</td>\n",
       "      <td>0</td>\n",
       "    </tr>\n",
       "    <tr>\n",
       "      <th>2020-12-17</th>\n",
       "      <td>0.921</td>\n",
       "      <td>0.945</td>\n",
       "      <td>0.892</td>\n",
       "      <td>0.930</td>\n",
       "      <td>0.930</td>\n",
       "      <td>0</td>\n",
       "    </tr>\n",
       "  </tbody>\n",
       "</table>\n",
       "</div>"
      ],
      "text/plain": [
       "             Open   High    Low  Close  Adj Close  Volume\n",
       "Date                                                     \n",
       "2020-12-11  0.893  0.900  0.873  0.893      0.893       0\n",
       "2020-12-14  0.930  0.936  0.888  0.892      0.892       0\n",
       "2020-12-15  0.901  0.925  0.901  0.923      0.923       0\n",
       "2020-12-16  0.943  0.953  0.913  0.920      0.920       0\n",
       "2020-12-17  0.921  0.945  0.892  0.930      0.930       0"
      ]
     },
<<<<<<< HEAD
     "execution_count": 53,
=======
     "execution_count": 18,
>>>>>>> c3c3b1c8d209a1265ef2a97967841f1f8b024d81
     "metadata": {},
     "output_type": "execute_result"
    }
   ],
   "source": [
    "yf_df = yf.download(\"^TNX\", start=\"2017-01-01\", end=\"2020-12-18\")\n",
<<<<<<< HEAD
    "print(yf_df.shape)\n",
    "print(yf_df.isnull().sum())\n",
=======
>>>>>>> c3c3b1c8d209a1265ef2a97967841f1f8b024d81
    "yf_df.tail()"
   ]
  },
  {
   "cell_type": "code",
   "execution_count": null,
   "metadata": {},
   "outputs": [],
   "source": []
  }
 ],
 "metadata": {
  "kernelspec": {
<<<<<<< HEAD
   "display_name": "Python [conda env:quantenv] *",
   "language": "python",
   "name": "conda-env-quantenv-py"
=======
   "display_name": "Python [conda env:pyvizenv] *",
   "language": "python",
   "name": "conda-env-pyvizenv-py"
>>>>>>> c3c3b1c8d209a1265ef2a97967841f1f8b024d81
  },
  "language_info": {
   "codemirror_mode": {
    "name": "ipython",
    "version": 3
   },
   "file_extension": ".py",
   "mimetype": "text/x-python",
   "name": "python",
   "nbconvert_exporter": "python",
   "pygments_lexer": "ipython3",
<<<<<<< HEAD
   "version": "3.6.8"
=======
   "version": "3.7.9"
>>>>>>> c3c3b1c8d209a1265ef2a97967841f1f8b024d81
  }
 },
 "nbformat": 4,
 "nbformat_minor": 4
}
