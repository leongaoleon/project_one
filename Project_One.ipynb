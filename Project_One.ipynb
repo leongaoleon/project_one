{
 "cells": [
  {
   "cell_type": "markdown",
   "metadata": {},
   "source": [
    "# Initial Import"
   ]
  },
  {
   "cell_type": "code",
   "execution_count": null,
   "metadata": {},
   "outputs": [],
   "source": [
    "import pandas as pd\n",
    "from datetime import datetime\n",
    "import numpy as np\n",
    "import panel as pn\n",
    "pn.extension('plotly')\n",
    "import plotly.express as px\n",
    "import pandas as pd\n",
    "import hvplot.pandas\n",
    "import matplotlib.pyplot as plt\n",
    "import os    \n",
    "from dotenv  import load_dotenv\n",
    "from pathlib import Path\n",
    "%matplotlib inline"
   ]
  },
  {
   "cell_type": "markdown",
   "metadata": {},
   "source": [
    "# Importing Data from Yahoo Finance and Checking Data Quality:"
   ]
  },
  {
   "cell_type": "markdown",
   "metadata": {},
   "source": [
    "***Install yfinance:***\n",
    "\n",
    "\n"
   ]
  },
  {
   "cell_type": "code",
   "execution_count": null,
   "metadata": {},
   "outputs": [],
   "source": [
    "# !pip install yfinance"
   ]
  },
  {
   "cell_type": "code",
   "execution_count": null,
   "metadata": {},
   "outputs": [],
   "source": [
    "import yfinance as yf"
   ]
  },
  {
   "cell_type": "markdown",
   "metadata": {},
   "source": [
    "**U.S. Dollar Index (USDX) Futures Contract (DX=F):**\n",
    "---\n",
    "\n",
    "\n"
   ]
  },
  {
   "cell_type": "code",
   "execution_count": null,
   "metadata": {},
   "outputs": [],
   "source": [
    "yf_dollar_df = yf.download(\"DX=F\", start=\"2017-01-01\", end=\"2020-12-31\")\n",
    "\n",
    "# Checking Data Quality:\n",
    "print(yf_dollar_df.dtypes)\n",
    "print(\"\\n\")\n",
    "print(yf_dollar_df.shape)\n",
    "print(\"\\n\")\n",
    "print(yf_dollar_df[yf_dollar_df.duplicated(keep=False)]) #False: Mark all duplicates as True\n",
    "print(\"\\n\")\n",
    "print(yf_dollar_df.isnull().sum())\n",
    "print(\"\\n\")\n",
    "yf_dollar_df.tail()"
   ]
  },
  {
   "cell_type": "markdown",
   "metadata": {},
   "source": [
    "**Gold Futures Contract (GC=F):**\n",
    "---\n"
   ]
  },
  {
   "cell_type": "code",
   "execution_count": null,
   "metadata": {},
   "outputs": [],
   "source": [
    "yf_gold_df = yf.download(\"GC=F\", start=\"2017-01-01\", end=\"2020-12-31\")\n",
    "\n",
    "# Checking Data Quality:\n",
    "print(yf_gold_df.dtypes)\n",
    "print(\"\\n\")\n",
    "print(yf_gold_df.shape)\n",
    "print(\"\\n\")\n",
    "print(yf_gold_df[yf_gold_df.duplicated(keep=False)]) #False: Mark all duplicates as True\n",
    "print(\"\\n\")\n",
    "print(yf_gold_df.isnull().sum())\n",
    "print(\"\\n\")\n",
    "yf_gold_df.tail()"
   ]
  },
  {
   "cell_type": "markdown",
   "metadata": {},
   "source": [
    "**Bitcoin USD (BTC-USD):**\n",
    "---\n"
   ]
  },
  {
   "cell_type": "code",
   "execution_count": null,
   "metadata": {},
   "outputs": [],
   "source": [
    "yf_cyindex_df = yf.download(\"CMI10.SW\", start=\"2017-01-01\", end=\"2020-12-31\")"
   ]
  },
  {
   "cell_type": "code",
   "execution_count": null,
   "metadata": {},
   "outputs": [],
   "source": [
    "yf_bitcoin_df = yf.download(\"BTC-USD\", start=\"2017-01-01\", end=\"2020-12-31\")\n",
    "\n",
    "# Checking Data Quality:\n",
    "print(yf_bitcoin_df.dtypes)\n",
    "print(\"\\n\")\n",
    "print(yf_bitcoin_df.shape)\n",
    "print(\"\\n\")\n",
    "print(yf_bitcoin_df[yf_bitcoin_df.duplicated(keep=False)]) #False: Mark all duplicates as True\n",
    "print(\"\\n\")\n",
    "print(yf_bitcoin_df.isnull().sum())\n",
    "print(\"\\n\")\n",
    "yf_bitcoin_df.tail()"
   ]
  },
  {
   "cell_type": "markdown",
   "metadata": {},
   "source": [
    "**Other Data: S&P 500 Index (^GSPC):**\n",
    "---"
   ]
  },
  {
   "cell_type": "code",
   "execution_count": null,
   "metadata": {},
   "outputs": [],
   "source": [
    "yf_sp500_df = yf.download(\"^GSPC\", start=\"2017-01-01\", end=\"2020-12-31\")\n",
    "\n",
    "# Checking Data Quality:\n",
    "print(yf_sp500_df.dtypes)\n",
    "print(\"\\n\")\n",
    "print(yf_sp500_df.shape)\n",
    "print(\"\\n\")\n",
    "print(yf_sp500_df[yf_sp500_df.duplicated(keep=False)]) #False: Mark all duplicates as True\n",
    "print(\"\\n\")\n",
    "print(yf_sp500_df.isnull().sum())\n",
    "print(\"\\n\")\n",
    "yf_sp500_df.tail()"
   ]
  },
  {
   "cell_type": "markdown",
   "metadata": {},
   "source": [
    "**Importing Data from Investing by Reading CSV:**\n",
    "---\n"
   ]
  },
  {
   "cell_type": "markdown",
   "metadata": {},
   "source": [
    "**Other Data: M2 US Money Supply:**\n",
    "---\n",
    "\n",
    "\n"
   ]
  },
  {
   "cell_type": "code",
   "execution_count": null,
   "metadata": {},
   "outputs": [],
   "source": [
    "csvpath = Path(\"Resources/M2.csv\")\n",
    "m2_df = pd.read_csv(csvpath, index_col=\"DATE\", parse_dates=True, infer_datetime_format=True).sort_values(\"DATE\")\n",
    "m2_df.rename(columns={\"M2\" : \"M2(billions)\"}, inplace=True)\n",
    "\n",
    "# Checking Data Quality:\n",
    "print(m2_df.dtypes)\n",
    "print(\"\\n\")\n",
    "print(m2_df.shape)\n",
    "print(\"\\n\")\n",
    "print(m2_df[m2_df.duplicated(keep=False)]) #False: Mark all duplicates as True\n",
    "print(\"\\n\")\n",
    "print(m2_df.isnull().sum())\n",
    "print(\"\\n\")\n",
    "m2_df.tail()"
   ]
  },
  {
   "cell_type": "markdown",
   "metadata": {},
   "source": [
    "**Rename Columns & Copy Original DataFrames with Selected Columns:**\n",
    "---\n"
   ]
  },
  {
   "cell_type": "code",
   "execution_count": null,
   "metadata": {},
   "outputs": [],
   "source": [
    "# Rename Columns:\n",
    "selected_dollar_df = yf_dollar_df.copy()\n",
    "selected_dollar_df.columns = [('dollar_'+ column) for column in selected_dollar_df.columns]\n",
    "# Selected Columns:\n",
    "selected_dollar_df = selected_dollar_df.iloc[:,[-2,-1]]\n",
    "selected_dollar_df.tail(3)"
   ]
  },
  {
   "cell_type": "code",
   "execution_count": null,
   "metadata": {},
   "outputs": [],
   "source": [
    "# Rename Columns:\n",
    "selected_gold_df = yf_gold_df.copy()\n",
    "selected_gold_df.columns = [('gold_'+ column) for column in selected_gold_df.columns]\n",
    "# Selected Columns:\n",
    "selected_gold_df = selected_gold_df.iloc[:,[-2,-1]]\n",
    "selected_gold_df.tail(3)"
   ]
  },
  {
   "cell_type": "code",
   "execution_count": null,
   "metadata": {},
   "outputs": [],
   "source": [
    "# Rename Columns:\n",
    "selected_bitcoin_df = yf_bitcoin_df.copy()\n",
    "selected_bitcoin_df.columns = [('bitcoin_'+ column) for column in selected_bitcoin_df.columns]\n",
    "# Selected Columns:\n",
    "selected_bitcoin_df = selected_bitcoin_df.iloc[:,[-2,-1]]\n",
    "selected_bitcoin_df.tail(3)\n"
   ]
  },
  {
   "cell_type": "code",
   "execution_count": null,
   "metadata": {},
   "outputs": [],
   "source": [
    "# Rename Columns:\n",
    "selected_sp500_df = yf_sp500_df.copy()\n",
    "selected_sp500_df.columns = [('sp500_'+ column) for column in selected_sp500_df.columns]\n",
    "# Selected Columns:\n",
    "selected_sp500_df = selected_sp500_df.iloc[:,[-2,-1]]\n",
    "selected_sp500_df.tail(3)"
   ]
  },
  {
   "cell_type": "markdown",
   "metadata": {},
   "source": [
    "**Concatenating Selected DataFrames for Further Analysis:**\n",
    "---\n"
   ]
  },
  {
   "cell_type": "code",
   "execution_count": null,
   "metadata": {},
   "outputs": [],
   "source": [
    "joined_df = pd.concat([selected_dollar_df, selected_gold_df, selected_bitcoin_df, selected_sp500_df], axis = 'columns', join='inner', sort=True)\n",
    "joined_df.tail()"
   ]
  },
  {
   "cell_type": "code",
   "execution_count": null,
   "metadata": {},
   "outputs": [],
   "source": [
    "joined_df.head()"
   ]
  },
  {
   "cell_type": "markdown",
   "metadata": {},
   "source": [
    "## Section One: Past Performance"
   ]
  },
  {
   "cell_type": "markdown",
   "metadata": {},
   "source": [
    "**selection and Extracting Data**"
   ]
  },
  {
   "cell_type": "code",
   "execution_count": null,
   "metadata": {},
   "outputs": [],
   "source": [
    "#Extracting data Pre-Covid 2017 to 2019\n",
    "df_2017_to_2019 = joined_df.loc['2017-01-01':'2019-12-31']\n",
    "df_2017_to_2019.tail(10)"
   ]
  },
  {
   "cell_type": "code",
   "execution_count": null,
   "metadata": {},
   "outputs": [],
   "source": [
    "#Extracting data Covid 2020\n",
    "df_2020 = joined_df.loc['2020-01-01':'2020-12-31']\n",
    "df_2020.tail(10)\n"
   ]
  },
  {
   "cell_type": "markdown",
   "metadata": {},
   "source": [
    "**Calculating Historical Daily Returns:**\n"
   ]
  },
  {
   "cell_type": "code",
   "execution_count": null,
   "metadata": {
    "scrolled": true
   },
   "outputs": [],
   "source": [
    "#calculating historical data for pre-covid (2017-2019):\n",
    "joined_pc_returns_df = pd.DataFrame()\n",
    "joined_pc_returns_df['dollar_return'] = df_2017_to_2019[\"dollar_Adj Close\"].pct_change()\n",
    "joined_pc_returns_df['gold_return'] = df_2017_to_2019['gold_Adj Close'].pct_change()\n",
    "joined_pc_returns_df['bitcoin_return'] = df_2017_to_2019['bitcoin_Adj Close'].pct_change()\n",
    "joined_pc_returns_df['sp500_return'] = df_2017_to_2019['sp500_Adj Close'].pct_change()\n",
    "joined_pc_returns_df.dropna(inplace=True)\n",
    "joined_pc_returns_df.head()"
   ]
  },
  {
   "cell_type": "code",
   "execution_count": null,
   "metadata": {},
   "outputs": [],
   "source": [
    "#calculating historical data for covid (2020):\n",
    "joined_returns_df = pd.DataFrame()\n",
    "joined_returns_df['dollar_return'] = df_2020[\"dollar_Adj Close\"].pct_change()\n",
    "joined_returns_df['gold_return'] = df_2020['gold_Adj Close'].pct_change()\n",
    "joined_returns_df['bitcoin_return'] = df_2020['bitcoin_Adj Close'].pct_change()\n",
    "joined_returns_df['sp500_return'] = df_2020['sp500_Adj Close'].pct_change()\n",
    "joined_returns_df.dropna(inplace=True)\n",
    "joined_returns_df.head()\n"
   ]
  },
  {
   "cell_type": "markdown",
   "metadata": {},
   "source": [
    " **Plot Daily Returns of  Pre-covid vs. Covid Dataframe**\n"
   ]
  },
  {
   "cell_type": "code",
   "execution_count": null,
   "metadata": {},
   "outputs": [],
   "source": [
    "# Helper create_dailyreturn_chart function\n",
    "def create_dailyreturn_chart(data, title, xlabel, ylabel, color):\n",
    "\n",
    "    \"\"\"\n",
    "    Create a daily return chart based in the data argument.\n",
    "    \"\"\""
   ]
  },
  {
   "cell_type": "code",
   "execution_count": null,
   "metadata": {},
   "outputs": [],
   "source": [
    "# Plot daily returns of Pre-Covid (2017- 2019)\n",
    "daily_return_pc = joined_pc_returns_df.hvplot.line(title =\" Daily Returns of Pre-Covid (2017- 2019)\",  xlabel = \"Date\", ylabel=\"Daily Returns\", width=800, height = 400)\n",
    "daily_return_pc"
   ]
  },
  {
   "cell_type": "code",
   "execution_count": null,
   "metadata": {},
   "outputs": [],
   "source": [
    "# Plot daily returns of Covid (2020)\n",
    "daily_return = joined_returns_df.hvplot(title =\" Daily Returns of Covid (2020)\", xlabel = \"Date\", ylabel=\"Daily Returns\", width=800, height = 400)\n",
    "daily_return"
   ]
  },
  {
   "cell_type": "markdown",
   "metadata": {},
   "source": [
    "**calculating cumulative returns of all portfolios:**"
   ]
  },
  {
   "cell_type": "code",
   "execution_count": null,
   "metadata": {},
   "outputs": [],
   "source": [
    "# Calculate cumulative returns of Pre-Covid (2017-2019):\n",
    "cumulative_pc_returns = (1 + joined_pc_returns_df).cumprod()\n",
    "cumulative_pc_returns.head() "
   ]
  },
  {
   "cell_type": "code",
   "execution_count": null,
   "metadata": {},
   "outputs": [],
   "source": [
    "# Calculate cumulative returns of Covid (2020):\n",
    "cumulative_returns = (1 + joined_returns_df).cumprod()\n",
    "cumulative_returns.head()"
   ]
  },
  {
   "cell_type": "markdown",
   "metadata": {},
   "source": [
    " **Plot Cumulative Returns of  Pre-covid vs. Covid Dataframe**\n"
   ]
  },
  {
   "cell_type": "code",
   "execution_count": null,
   "metadata": {},
   "outputs": [],
   "source": [
    "# Helper create_cumulativereturn_chart function\n",
    "def create_cumulativereturn_chart(data, title, xlabel, ylabel, color):\n",
    "\n",
    "    \"\"\"\n",
    "    Create a cumulative return chart based in the data argument.\n",
    "    \"\"\""
   ]
  },
  {
   "cell_type": "code",
   "execution_count": null,
   "metadata": {},
   "outputs": [],
   "source": [
    "# Plot cumulative returns for Pre-Covid (2017-2019):\n",
    "cr_fig_pc = cumulative_pc_returns.hvplot(title=\"Cumulative Returns for Pre-Covid (2017-2019)\", xlabel = \"Date\", ylabel=\"cumulative Returns\", width=800, height = 400).opts(shared_axes=False)\n",
    "cr_fig_pc"
   ]
  },
  {
   "cell_type": "code",
   "execution_count": null,
   "metadata": {},
   "outputs": [],
   "source": [
    "# Plot cumulative returns for Covid (2020):\n",
    "cr_fig = cumulative_returns.hvplot(title=\"Cumulative Returns for Covid (2020)\", xlabel = \"Date\", ylabel=\"cumulative Returns\", width=800, height = 400).opts(shared_axes=False)\n",
    "cr_fig"
   ]
  },
  {
   "cell_type": "markdown",
   "metadata": {},
   "source": [
    "**Calculate the  average of Pre-covid and Covid dataframe**\n"
   ]
  },
  {
   "cell_type": "code",
   "execution_count": null,
   "metadata": {},
   "outputs": [],
   "source": [
    "#Calculate the daily average of Pre-covid (2017-2019):\n",
    "daily_pc_avg_df = pd.DataFrame(joined_pc_returns_df.mean()).rename(columns = {0:\"Average\"})\n",
    "daily_pc_avg_df.head()"
   ]
  },
  {
   "cell_type": "code",
   "execution_count": null,
   "metadata": {},
   "outputs": [],
   "source": [
    "#Calculate the daily average of covid (2020):\n",
    "daily_avg_df = pd.DataFrame(joined_returns_df.std()).rename(columns = {0:\"Average\"})\n",
    "daily_avg_df.head()"
   ]
  },
  {
   "cell_type": "markdown",
   "metadata": {},
   "source": [
    "**Calculate the daily standard deviations of all portfolios**\n"
   ]
  },
  {
   "cell_type": "code",
   "execution_count": null,
   "metadata": {},
   "outputs": [],
   "source": [
    "#Calculate the daily standard deviations of Pre-covid (2017-2019):\n",
    "daily_pc_std_df = pd.DataFrame(joined_pc_returns_df.std()).rename(columns = {0:\"Precovid_Standard_Deviation\"})\n",
    "daily_pc_std_df.head()"
   ]
  },
  {
   "cell_type": "code",
   "execution_count": null,
   "metadata": {},
   "outputs": [],
   "source": [
    "#Calculate the daily standard deviations of covid (2020):\n",
    "daily_std_df = pd.DataFrame(joined_returns_df.std()).rename(columns = {0:\"Covid_Standard_Deviation\"})\n",
    "daily_std_df.head()"
   ]
  },
  {
   "cell_type": "code",
   "execution_count": null,
   "metadata": {},
   "outputs": [],
   "source": [
    "# Calculate the annualized standard deviation (252 trading days) for Pre-covid(2017-2019):\n",
    "annualized_pc_std = daily_pc_std_df*np.sqrt(252)\n",
    "annualized_pc_std.head()"
   ]
  },
  {
   "cell_type": "code",
   "execution_count": null,
   "metadata": {},
   "outputs": [],
   "source": [
    "# Calculate the annualized standard deviation (252 trading days) for Covid(2020):\n",
    "annualized_std = daily_std_df*np.sqrt(252)\n",
    "annualized_std.head()"
   ]
  },
  {
   "cell_type": "markdown",
   "metadata": {},
   "source": [
    "**Calculate and plot the rolling moving average of Pre-covid and Covid dataframe**"
   ]
  },
  {
   "cell_type": "code",
   "execution_count": null,
   "metadata": {},
   "outputs": [],
   "source": [
    "# Helper create_avg_rolling21_chart function\n",
    "def create_avg_rolling21_chart(data, title, xlabel, ylabel, color):\n",
    "\n",
    "    \"\"\" \n",
    "    Create a rolling 21 day window avg chart based in the data argument.\n",
    "    \"\"\""
   ]
  },
  {
   "cell_type": "code",
   "execution_count": null,
   "metadata": {},
   "outputs": [],
   "source": [
    "# Calculate the rolling standard deviation for Pre-covid (2017-2019) using a 21-day window and plot. \n",
    "rolling_pc_avg = joined_pc_returns_df.rolling(window=21).mean()\n",
    "rolling_pc_avg.hvplot(title =\" Rolling moving average for  Pre-covid (2017-2019) using a 21-day Window\", xlabel = \"Date\", ylabel=\"Average\", width=800, height = 400)"
   ]
  },
  {
   "cell_type": "code",
   "execution_count": null,
   "metadata": {},
   "outputs": [],
   "source": [
    "# Calculate the rolling moving average for covid (2020) using a 21-day window and plot. \n",
    "rolling_avg = joined_returns_df.rolling(window=21).mean()\n",
    "rolling_avg.hvplot(title =\" Rolling moving average for Covid (2020) using a 21-day Window\", xlabel = \"Date\", ylabel=\"Average\", width=800, height = 400)"
   ]
  },
  {
   "cell_type": "markdown",
   "metadata": {},
   "source": [
    "**Calculate the rolling standard deviation using a 21-day window and plot**\n"
   ]
  },
  {
   "cell_type": "code",
   "execution_count": null,
   "metadata": {},
   "outputs": [],
   "source": [
    "# Helper create_std_rolling21_chart function\n",
    "def create_std_rolling21_chart(data, title, xlabel, ylabel, color):\n",
    "\n",
    "    \"\"\" \n",
    "    Create a rolling 21 day window std chart based in the data argument.\n",
    "    \"\"\""
   ]
  },
  {
   "cell_type": "code",
   "execution_count": null,
   "metadata": {},
   "outputs": [],
   "source": [
    "# Calculate the rolling standard deviation for Pre-covid (2017-2019) using a 21-day window and plot. \n",
    "rolling_pc_std = joined_pc_returns_df.rolling(window=21).std()\n",
    "roll_fig_std_pc = rolling_pc_std.hvplot(title =\" Rolling Standard Deviation for  Pre-covid (2017-2019) using a 21-day Window\", xlabel = \"Date\", ylabel=\"standard deviation\", width=800, height = 400).opts(shared_axes=False)\n",
    "roll_fig_std_pc"
   ]
  },
  {
   "cell_type": "code",
   "execution_count": null,
   "metadata": {},
   "outputs": [],
   "source": [
    "# Calculate the rolling standard deviation for covid (2020) using a 21-day window and plot. \n",
    "rolling_std = joined_returns_df.rolling(window=21).std()\n",
    "roll_fig_std = rolling_std.hvplot(title =\" Rolling Standard Deviation for Covid (2020) using a 21-day Window\", xlabel = \"Date\", ylabel=\"standard deviation\", width=800, height = 400).opts(shared_axes=False)\n",
    "roll_fig_std"
   ]
  },
  {
   "cell_type": "markdown",
   "metadata": {},
   "source": [
    "**Calculate the correlation for Pre-covid and Covid Dataframe**\n"
   ]
  },
  {
   "cell_type": "code",
   "execution_count": null,
   "metadata": {},
   "outputs": [],
   "source": [
    "# Calculate the correlation for Pre-covid (2017-2019):\n",
    "correlation_pc = pd.DataFrame(joined_pc_returns_df.corr())\n",
    "correlation_pc"
   ]
  },
  {
   "cell_type": "code",
   "execution_count": null,
   "metadata": {},
   "outputs": [],
   "source": [
    "# Calculate the correlation for covid (2020):\n",
    "correlation = pd.DataFrame(joined_returns_df.corr())\n",
    "correlation"
   ]
  },
  {
   "cell_type": "markdown",
   "metadata": {},
   "source": [
    "**Plot correlation for pre-covid and covid dataframe**"
   ]
  },
  {
   "cell_type": "code",
   "execution_count": null,
   "metadata": {},
   "outputs": [],
   "source": [
    "# Helper create_std_correlation_chart function\n",
    "def create_std_correlation_chart(data, title, xlabel, ylabel, color):\n",
    "\n",
    "    \"\"\" \n",
    "    Create a rolling 21 day window std chart based in the data argument.\n",
    "    \"\"\""
   ]
  },
  {
   "cell_type": "code",
   "execution_count": null,
   "metadata": {},
   "outputs": [],
   "source": [
    "# plot correlation for pre-covid (2017-2019) dataframe:\n",
    "correlation_pc.hvplot(title=\"Correlation for Pre-covid (2017-2019) \",  xlabel = \"Assets\", ylabel=\"correlation\", width=800, height = 400)\n"
   ]
  },
  {
   "cell_type": "code",
   "execution_count": null,
   "metadata": {},
   "outputs": [],
   "source": [
    "# plot correlation for pre-covid (2017-2019) dataframe:\n",
    "correlation.hvplot(title=\"Correlation for Covid (2020)\", xlabel = \"Assets\", ylabel=\"correlation\", width=800, height = 400)\n"
   ]
  },
  {
   "cell_type": "code",
   "execution_count": null,
   "metadata": {},
   "outputs": [],
   "source": [
    "# Display the correlation matrix for Pre-covid (2017-2019):\n",
    "cor_m_pc = correlation_pc.hvplot.heatmap(cmap='OrRd', title='Correlation of assets during pre-covid period')\n",
    "cor_m_pc"
   ]
  },
  {
   "cell_type": "code",
   "execution_count": null,
   "metadata": {},
   "outputs": [],
   "source": [
    "# Display the correlation matrix for Covid (2020):\n",
    "cor_m = correlation.hvplot.heatmap(cmap='OrRd', title='Correlation of assets during covid period')\n",
    "cor_m"
   ]
  },
  {
   "cell_type": "markdown",
   "metadata": {},
   "source": [
    "**Calculate covariance, variance and rolling beta of Pre-covid and Covid Dataframes**\n"
   ]
  },
  {
   "cell_type": "code",
   "execution_count": null,
   "metadata": {},
   "outputs": [],
   "source": [
    "# Calculate covariance of pre-covid (2017-2019):\n",
    "covariance_pc = joined_pc_returns_df.cov()\n",
    "covariance_pc\n"
   ]
  },
  {
   "cell_type": "code",
   "execution_count": null,
   "metadata": {},
   "outputs": [],
   "source": [
    "# Calculate covariance of covid (2020):\n",
    "covariance = joined_returns_df.cov()\n",
    "covariance"
   ]
  },
  {
   "cell_type": "code",
   "execution_count": null,
   "metadata": {},
   "outputs": [],
   "source": [
    "# Calculate variance of  pre-covid (2017-2019):\n",
    "variance_pc = joined_pc_returns_df.var()\n",
    "variance_pc"
   ]
  },
  {
   "cell_type": "code",
   "execution_count": null,
   "metadata": {},
   "outputs": [],
   "source": [
    "# Calculate variance of  covid (2020):\n",
    "variance = joined_returns_df.var()\n",
    "variance"
   ]
  },
  {
   "cell_type": "code",
   "execution_count": null,
   "metadata": {},
   "outputs": [],
   "source": [
    "# Calculate beta of all daily returns of precovid (2017-2019):\n",
    "precovid_beta = covariance_pc / variance_pc\n",
    "precovid_beta"
   ]
  },
  {
   "cell_type": "code",
   "execution_count": null,
   "metadata": {},
   "outputs": [],
   "source": [
    "# Calculate beta of all daily returns of covid(2020):\n",
    "covid_beta = covariance/ variance\n",
    "covid_beta"
   ]
  },
  {
   "cell_type": "code",
   "execution_count": null,
   "metadata": {},
   "outputs": [],
   "source": [
    "# plot beta trend for pre-covid (2017-2019) dataframe:\n",
    "precovid_beta.hvplot(title=\"Beta trend for Pre-covid (2017-2019) \",  xlabel = \"Assets\", ylabel=\"beta\", width=800, height = 400)\n"
   ]
  },
  {
   "cell_type": "code",
   "execution_count": null,
   "metadata": {},
   "outputs": [],
   "source": [
    "# plot beta trenhd for covid (2020) dataframe:\n",
    "covid_beta.hvplot(title=\"Beta Trend for covid (2020) \",  xlabel = \"Assets\", ylabel=\"beta\", width=800, height = 400)\n"
   ]
  },
  {
   "cell_type": "markdown",
   "metadata": {},
   "source": [
    "**calculate sharp ratio for pre-covid and covid**"
   ]
  },
  {
   "cell_type": "code",
   "execution_count": null,
   "metadata": {},
   "outputs": [],
   "source": [
    "# Annualized Sharpe Ratios for pre-covid(2017-2019)\n",
    "sharpe_ratios_pc = (joined_pc_returns_df.mean() * 252) / (joined_pc_returns_df.std() * np.sqrt(252))\n",
    "sharpe_ratios_pc"
   ]
  },
  {
   "cell_type": "code",
   "execution_count": null,
   "metadata": {},
   "outputs": [],
   "source": [
    "# Annualized Sharpe Ratios for covid(2020)\n",
    "sharpe_ratios = (joined_returns_df.mean() * 252) / (joined_returns_df.std() * np.sqrt(252))\n",
    "sharpe_ratios"
   ]
  },
  {
   "cell_type": "markdown",
   "metadata": {},
   "source": [
    "**Plot sharp ratio for pre-covid and covid data**"
   ]
  },
  {
   "cell_type": "code",
   "execution_count": null,
   "metadata": {},
   "outputs": [],
   "source": [
    "# Helper create_sharp_ratio_bar_chart function\n",
    "def create_sharp_ratio_bar_chart(data, title, xlabel, ylabel, color):\n",
    "\n",
    "    \"\"\"\n",
    "    Create a sharp ratio barplot based in the data argument.\n",
    "    \"\"\""
   ]
  },
  {
   "cell_type": "code",
   "execution_count": null,
   "metadata": {},
   "outputs": [],
   "source": [
    "# plot beta trenhd for pre-covid (2017-2019) dataframe:\n",
    "\n",
    "sharp_r_pc = sharpe_ratios_pc.hvplot.bar(title=\"Sharp Ratio for Pre-covid (2017-2019) \",  xlabel = \"Assets\", ylabel=\"sharp ratio\", width=600, height = 600)\n",
    "sharp_r_pc"
   ]
  },
  {
   "cell_type": "code",
   "execution_count": null,
   "metadata": {},
   "outputs": [],
   "source": [
    "# plot beta trenhd for covid (2020) dataframe:\n",
    "\n",
    "sharp_r = sharpe_ratios.hvplot.bar(title=\"Sharp Ratio for Covid (2020) \",  xlabel = \"Assets\", ylabel=\"sharp ratio\", width=600, height = 600)\n",
    "sharp_r"
   ]
  },
  {
   "cell_type": "markdown",
   "metadata": {},
   "source": [
    "## Section Two: Candlestick with Volume"
   ]
  },
  {
   "cell_type": "code",
   "execution_count": null,
   "metadata": {},
   "outputs": [],
   "source": [
    "from bokeh.models import BooleanFilter, CDSView, Select, Range1d, HoverTool, CrosshairTool\n",
    "from bokeh.models.formatters import NumeralTickFormatter\n",
    "from bokeh.layouts import gridplot\n",
    "from bokeh.palettes import Category20\n",
    "from bokeh.plotting import figure, output_file, show, ColumnDataSource"
   ]
  },
  {
   "cell_type": "code",
   "execution_count": null,
   "metadata": {},
   "outputs": [],
   "source": [
    "# Candlestick with Volume:\n",
    "def plot_candlesticks(df_input):\n",
    "    stock = ColumnDataSource(data=dict(index=[], Date=[], Open=[], Close=[], High=[], Low=[], Volume=[]))\n",
    "    stock.data = stock.from_df(df_input.reset_index())    \n",
    "   \n",
    "    # Settings:\n",
    "    VBAR_WIDTH = 0.5\n",
    "    RED = Category20[7][6]\n",
    "    BLUE = Category20[3][0]\n",
    "    W_PLOT = 1500\n",
    "    H_PLOT = 600\n",
    "    \n",
    "    # Tools Selections:\n",
    "    TOOLS = \"pan,xwheel_zoom,box_zoom,hover,crosshair,undo,redo,reset,save\" \n",
    "    linked_crosshair = CrosshairTool(dimensions=\"both\")\n",
    "\n",
    "    # Graph One:\n",
    "    p1 = figure(plot_width=W_PLOT, plot_height=H_PLOT, tools=TOOLS, active_scroll='xwheel_zoom', active_drag='pan',\n",
    "               title=\"\", toolbar_location='above')\n",
    "\n",
    "    inc = stock.data['Close'] > stock.data['Open']\n",
    "    dec = stock.data['Open'] > stock.data['Close']\n",
    "    view_inc = CDSView(source=stock, filters=[BooleanFilter(inc)])\n",
    "    view_dec = CDSView(source=stock, filters=[BooleanFilter(dec)])\n",
    "\n",
    "    # Map dataframe indices to date strings and use as label overrides:\n",
    "    p1.xaxis.major_label_overrides = {\n",
    "        i+int(stock.data['index'][0]): date.strftime('%b-%d') for i, date in enumerate(pd.to_datetime(stock.data[\"Date\"]))\n",
    "    }\n",
    "    p1.xaxis.bounds = (stock.data['index'][0], stock.data['index'][-1])\n",
    "\n",
    "    # Rendering the Graph:\n",
    "    p1.segment(x0='index', x1='index', y0='Low', y1='High', color=BLUE, source=stock, view=view_inc)\n",
    "    p1.segment(x0='index', x1='index', y0='Low', y1='High', color=RED, source=stock, view=view_dec)\n",
    "\n",
    "    p1.vbar(x='index', width=VBAR_WIDTH, top='Open', bottom='Close', fill_color=BLUE, line_color=BLUE,\n",
    "           source=stock,view=view_inc, name=\"price\")\n",
    "    p1.vbar(x='index', width=VBAR_WIDTH, top='Open', bottom='Close', fill_color=RED, line_color=RED,\n",
    "           source=stock,view=view_dec, name=\"price\")\n",
    "\n",
    "    # Formating Graph One:\n",
    "    p1.xaxis.major_label_orientation = 3.1415/4\n",
    "    p1.x_range.range_padding = 0.05\n",
    "    p1.xaxis.ticker.desired_num_ticks = 50\n",
    "    p1.yaxis.formatter = NumeralTickFormatter(format=' 0,0[.]000')\n",
    "    p1.add_tools(linked_crosshair)\n",
    "    \n",
    "    # Select specific tool for the plot:\n",
    "    price_hover = p1.select(dict(type=HoverTool))\n",
    "    # Choose, which glyphs are active by glyph name\n",
    "    price_hover.names = [\"price\"]\n",
    "    # Creating tooltips\n",
    "    price_hover.tooltips = [(\"Open\", \"@Open{0,0.00}\"),\n",
    "                            (\"Close\", \"@Close{0,0.00}\"),\n",
    "                            (\"Volume\", \"@Volume{(0.00 a)}\")]\n",
    "    price_hover.formatters = {\"Date\": 'datetime'}\n",
    "\n",
    "    \n",
    "    # Added-on Graph Two For Volume:\n",
    "    p2 = figure(x_axis_type=\"datetime\", tools=\"\", toolbar_location=None, plot_width=W_PLOT, \n",
    "                plot_height=200, x_range=p1.x_range)\n",
    "    \n",
    "    # Map dataframe indices to date strings and use as label overrides:\n",
    "    p2.xaxis.major_label_overrides = {\n",
    "        i+int(stock.data['index'][0]): date.strftime('%b-%d') for i, date in enumerate(pd.to_datetime(stock.data[\"Date\"]))\n",
    "    }\n",
    "    \n",
    "    # Reder the Graph:\n",
    "    p2.vbar(stock.data['index'], VBAR_WIDTH, stock.data['Volume'])\n",
    "    \n",
    "    # Formating Graph Two:\n",
    "    p2.xaxis.major_label_orientation = 3.1415/4\n",
    "    p2.xaxis.ticker.desired_num_ticks = 50\n",
    "    p2.yaxis.formatter = NumeralTickFormatter(format='0,0[.]000')\n",
    "    p2.add_tools(linked_crosshair)\n",
    "\n",
    "    return gridplot([[p1],[p2]])"
   ]
  },
  {
   "cell_type": "markdown",
   "metadata": {},
   "source": [
    "## Section Three: Finding Optimized Portfolio"
   ]
  },
  {
   "cell_type": "markdown",
   "metadata": {},
   "source": [
    "### Calculating Historical Daily Returns"
   ]
  },
  {
   "cell_type": "code",
   "execution_count": null,
   "metadata": {},
   "outputs": [],
   "source": [
    "joined_returns_df = pd.DataFrame()\n",
    "joined_returns_df['dollar_return'] = joined_df['dollar_Adj Close'].pct_change()\n",
    "joined_returns_df['gold_return'] = joined_df['gold_Adj Close'].pct_change()\n",
    "joined_returns_df['bitcoin_return'] = joined_df['bitcoin_Adj Close'].pct_change()\n",
    "joined_returns_df['sp500_return'] = joined_df['sp500_Adj Close'].pct_change()\n",
    "joined_returns_df.dropna(inplace=True)\n",
    "joined_returns_df.head()"
   ]
  },
  {
   "cell_type": "markdown",
   "metadata": {},
   "source": [
    "### If Economic Environment Under \"Normal\" (2017 - 2019):"
   ]
  },
  {
   "cell_type": "code",
   "execution_count": null,
   "metadata": {},
   "outputs": [],
   "source": [
    "# Portfolio Returns under \"Normal\" 2017-2019 Scenario:\n",
    "joined_returns_normal = joined_returns_df['20170101':'20191231'].drop(columns='sp500_return')\n",
    "joined_returns_normal.tail()"
   ]
  },
  {
   "cell_type": "markdown",
   "metadata": {},
   "source": [
    "#### Method A: Finding \"Optimal\" Weighting based on Trials for Different Weighting: "
   ]
  },
  {
   "cell_type": "code",
   "execution_count": null,
   "metadata": {},
   "outputs": [],
   "source": [
    "# Set Number of Trials:\n",
    "num_trials = 500\n",
    "\n",
    "# Set Empty Array to Hold Values:\n",
    "trial_weights_normal = np.zeros((num_trials, 3))  # np.zeros(shape) # 3 for three assets\n",
    "trial_returns_normal = np.zeros(num_trials)\n",
    "trial_std_normal = np.zeros(num_trials)\n",
    "trial_sharpe_normal = np.zeros(num_trials)"
   ]
  },
  {
   "cell_type": "markdown",
   "metadata": {},
   "source": [
    "#### Portfolio Standard Deviation Formula:\n",
    "![Cov](images/cov.png)"
   ]
  },
  {
   "cell_type": "code",
   "execution_count": null,
   "metadata": {},
   "outputs": [],
   "source": [
    "# Trials for Different Random Weights:\n",
    "for trial in range(num_trials):\n",
    "\n",
    "    # Create Random Weights\n",
    "    random_weights = np.array(np.random.random(3))\n",
    "\n",
    "    # Rebalance Weights\n",
    "    random_weights = random_weights / np.sum(random_weights)\n",
    "    \n",
    "    # Save Weights\n",
    "    trial_weights_normal[trial,:] = random_weights\n",
    "\n",
    "    # Expected Return\n",
    "    trial_returns_normal[trial] = np.sum((joined_returns_normal.mean() * random_weights) *252)\n",
    "\n",
    "    # Expected Std\n",
    "    trial_std_normal[trial] = np.sqrt(np.dot(random_weights.T, np.dot(joined_returns_normal.cov() * 252, random_weights)))\n",
    "\n",
    "    # Sharpe Ratio\n",
    "    trial_sharpe_normal[trial] = trial_returns_normal[trial] / trial_std_normal[trial]"
   ]
  },
  {
   "cell_type": "code",
   "execution_count": null,
   "metadata": {},
   "outputs": [],
   "source": [
    "# Calculating Returns & Risk for the Specific Trail which gives the Highest Sharp Ratio:\n",
    "\n",
    "# Finding the indices of the maximum shape value along an axis:\n",
    "index_of_max_sharpe_normal = trial_sharpe_normal.argmax()  \n",
    "max_weight_normal = trial_weights_normal[index_of_max_sharpe_normal, :]\n",
    "\n",
    "max_return_normal = trial_returns_normal[index_of_max_sharpe_normal]\n",
    "max_std_normal = trial_std_normal[index_of_max_sharpe_normal]\n",
    "max_sharpe_normal = max_return_normal / max_std_normal\n",
    "\n",
    "print(f\"Best Trial Weight in Dollar Futures: {max_weight_normal[0]:.1%}\")\n",
    "print(f\"Best Trial Weight in Gold Futures: {max_weight_normal[1]:.1%}\")\n",
    "print(f\"Best Trial Weight in Bitcoin: {max_weight_normal[2]:.1%}\")\n",
    "print(\"-------------------------------------------------\")\n",
    "print(f\"Best Trial Portfolio Return: {max_return_normal:0.3}\")\n",
    "print(f\"Best Trial Portfolio Standard Deviation/Volatility: {max_std_normal:0.3}\")\n",
    "print(f\"Best Trial Portfolio Sharpe: {max_sharpe_normal:0.5}\")"
   ]
  },
  {
   "cell_type": "markdown",
   "metadata": {},
   "source": [
    "#### Method B: Mathematical Optimization of the Portfolio:"
   ]
  },
  {
   "cell_type": "code",
   "execution_count": null,
   "metadata": {},
   "outputs": [],
   "source": [
    "import scipy\n",
    "from scipy.optimize import minimize\n"
   ]
  },
  {
   "cell_type": "code",
   "execution_count": null,
   "metadata": {},
   "outputs": [],
   "source": [
    "# Define a Function which Returns the Portfolio returns, standard deviation, and sharpe:\n",
    "def cal_returns_std_sharpe(weights):\n",
    "    weights = np.array(weights)\n",
    "    returns = np.sum(joined_returns_normal.mean()*weights)*252\n",
    "    std = np.sqrt(np.dot(weights.T, np.dot(joined_returns_normal.cov() * 252, weights)))\n",
    "    sharpe_ratios = returns/std\n",
    "    return np.array([returns, std, sharpe_ratios])"
   ]
  },
  {
   "cell_type": "code",
   "execution_count": null,
   "metadata": {},
   "outputs": [],
   "source": [
    "# Maximizing a Positive Sharpe is SAME as Minimizing a Negative Sharpe:\n",
    "# So the Objective Function to be Minimized:\n",
    "def objective_func(weights):\n",
    "    return cal_returns_std_sharpe(weights)[2]*-1"
   ]
  },
  {
   "cell_type": "code",
   "execution_count": null,
   "metadata": {},
   "outputs": [],
   "source": [
    "#  Initial Guess (\"x0\") for Weighting (if equally distributed):\n",
    "guess = [0.25, 0.25, 0.25]"
   ]
  },
  {
   "cell_type": "code",
   "execution_count": null,
   "metadata": {},
   "outputs": [],
   "source": [
    "# Constrians for Weighting:\n",
    "# Sequence of (min, max) pairs for each element in x. None is used to specify no bound.\n",
    "bounds = ((0, 1), (0, 1), (0, 1))"
   ]
  },
  {
   "cell_type": "code",
   "execution_count": null,
   "metadata": {},
   "outputs": [],
   "source": [
    "# The function defining the constraint that the total weight is one.\n",
    "# Return 0 if sum of weights is 1.0\n",
    "def check_weight(weights):\n",
    "    return np.sum(weights)-1\n",
    "\n",
    "# Constraints for COBYLA, SLSQP are defined as a list of dictionaries:\n",
    "# ‘eq’ for equality, ‘ineq’ for inequality.\n",
    "cons = ({'type':'eq', 'fun':check_weight})"
   ]
  },
  {
   "cell_type": "code",
   "execution_count": null,
   "metadata": {},
   "outputs": [],
   "source": [
    "# Minimize a scalar function of one or more variables using Sequential Least Squares Programming (SLSQP).\n",
    "# scipy.optimize.minimize(fun, x0, args=(), method=None, jac=None, hess=None, hessp=None, bounds=None, constraints=(), tol=None, callback=None, options=None)\n",
    "optimzation_results_normal = minimize(objective_func, guess, method='SLSQP', bounds=bounds, constraints=cons)\n",
    "optimzation_results_normal"
   ]
  },
  {
   "cell_type": "code",
   "execution_count": null,
   "metadata": {},
   "outputs": [],
   "source": [
    "# Print Results:\n",
    "optimal_weights_normal = optimzation_results_normal[\"x\"]\n",
    "result_normal = cal_returns_std_sharpe(optimal_weights_normal)\n",
    "print(f\"Optimized Portfolio Weight in Dollar Futures: {optimal_weights_normal[0]:.1%}\")\n",
    "print(f\"Optimized Portfolio Weight in Gold Futures: {optimal_weights_normal[1]:.1%}\")\n",
    "print(f\"Optimized Portfolio Weight in Bitcoin: {optimal_weights_normal[2]:.1%}\")\n",
    "print(\"-------------------------------------------------\")\n",
    "print(f\"Optimized Portfolio Return: {result_normal[0]:0.3}\")\n",
    "print(f\"Optimized Portfolio Standard Deviation/Volatility: {result_normal[1]:0.3}\")\n",
    "print(f\"Optimized Portfolio Sharpe Ratio: {result_normal[2]:0.5}\")"
   ]
  },
  {
   "cell_type": "markdown",
   "metadata": {},
   "source": [
    "#### Plotting the Trials and the Best Trial:"
   ]
  },
  {
   "cell_type": "code",
   "execution_count": null,
   "metadata": {},
   "outputs": [],
   "source": [
    "import hvplot.pandas \n",
    "import holoviews as hv"
   ]
  },
  {
   "cell_type": "code",
   "execution_count": null,
   "metadata": {},
   "outputs": [],
   "source": [
    "trail_scatter = hv.Scatter((trial_std_normal, trial_returns_normal, trial_sharpe_normal), \n",
    "                           'Volatility', ['Return', 'Sharpe Ratio']).opts(\n",
    "                            color='Sharpe Ratio', cmap='plasma', width=800, height=500, colorbar=True, padding=0.2\n",
    "                            )\n",
    "\n",
    "trail_max_sharpe = hv.Scatter([(max_std_normal, max_return_normal)]).opts(\n",
    "    title='Trials & the Best Trial (Blue Dot) Under \"Normal\" (2017 - 2019):', active_tools=['wheel_zoom'], \n",
    "    fontscale=1.1, color='blue', line_color='black', size=10\n",
    "    )\n",
    "\n",
    "trail_scatter * trail_max_sharpe"
   ]
  },
  {
   "cell_type": "markdown",
   "metadata": {},
   "source": [
    "#### Plotting the Efficent Frontier:\n",
    "The efficient frontier is the set of optimal portfolios that offers the highest expected return for a defined level of risk <br> or the lowest risk for a given level of expected return. "
   ]
  },
  {
   "cell_type": "code",
   "execution_count": null,
   "metadata": {},
   "outputs": [],
   "source": [
    "# Creat Evenly Spaced Numbers over a Specified Interval:\n",
    "frontier_returns_normal = np.linspace(0, 1, 100)"
   ]
  },
  {
   "cell_type": "code",
   "execution_count": null,
   "metadata": {},
   "outputs": [],
   "source": [
    "# Define a Empty List to Hold Results:\n",
    "frontier_volatility_normal = []"
   ]
  },
  {
   "cell_type": "code",
   "execution_count": null,
   "metadata": {},
   "outputs": [],
   "source": [
    "# Define an Object Function that Gives Minimum Volatility:\n",
    "def minimize_volatility(weights):\n",
    "    return cal_returns_std_sharpe(weights)[1]"
   ]
  },
  {
   "cell_type": "code",
   "execution_count": null,
   "metadata": {},
   "outputs": [],
   "source": [
    "# Calculte Minimul Volatility for Given Possible Returns:\n",
    "for possible_return in frontier_returns_normal:\n",
    "    \n",
    "    # Adding Given Possible Returns as a Constrain:\n",
    "    cons2 = ({'type':'eq', 'fun':check_weight},\n",
    "            {'type':'eq','fun': lambda wight: cal_returns_std_sharpe(wight)[0] - possible_return}\n",
    "           )\n",
    "    \n",
    "    result_normal2 = minimize(minimize_volatility, guess, method='SLSQP', bounds=bounds, constraints=cons2)\n",
    "    \n",
    "    # Store Calculation Results of Objective Function 'fun'-- Minimized Volatility\n",
    "    frontier_volatility_normal.append(result_normal2['fun'])"
   ]
  },
  {
   "cell_type": "code",
   "execution_count": null,
   "metadata": {},
   "outputs": [],
   "source": [
    "# Plotting the Optimal Portolio:\n",
    "opt_sharpe_normal = hv.Scatter([(result_normal[1], result_normal[0])]).opts(color='red', line_color='black', size=10)\n",
    "\n",
    "\n",
    "# Plotting the Efficient Frontier:\n",
    "efficient_frontier_normal = trail_scatter * opt_sharpe_normal * \\\n",
    "hv.Curve((frontier_volatility_normal, frontier_returns_normal)).opts(\n",
    "    title='Efficient Frontier & the Optimal Porfolio (Red Dot) Under \"Normal\" (2017 - 2019):', \n",
    "    active_tools=['wheel_zoom'], fontscale=1.1, color='green', line_dash='dashed', axiswise=True\n",
    "    )\n",
    "\n",
    "efficient_frontier_normal"
   ]
  },
  {
   "cell_type": "markdown",
   "metadata": {},
   "source": [
    "### If Economic Environment Under \"Epidemic\" (2020):"
   ]
  },
  {
   "cell_type": "code",
   "execution_count": null,
   "metadata": {},
   "outputs": [],
   "source": [
    "# Portfolio Returns under \"Epidemic (2020)\" Scenario:\n",
    "joined_returns_epi = joined_returns_df['20200101':'20201231'].drop(columns='sp500_return')\n",
    "joined_returns_epi.tail()"
   ]
  },
  {
   "cell_type": "markdown",
   "metadata": {},
   "source": [
    "#### Method A: Finding \"Optimal\" Weighting based on Trials for Different Weighting: "
   ]
  },
  {
   "cell_type": "code",
   "execution_count": null,
   "metadata": {},
   "outputs": [],
   "source": [
    "# Set Number of Trials:\n",
    "num_trials = 500\n",
    "\n",
    "# Set Empty Array to Hold Values:\n",
    "trial_weights_epi = np.zeros((num_trials, 3))  # np.zeros(shape) # 3 for three assets\n",
    "trial_returns_epi = np.zeros(num_trials)\n",
    "trial_std_epi = np.zeros(num_trials)\n",
    "trial_sharpe_epi = np.zeros(num_trials)"
   ]
  },
  {
   "cell_type": "code",
   "execution_count": null,
   "metadata": {},
   "outputs": [],
   "source": [
    "# Trials for Different Random Weights:\n",
    "for trial in range(num_trials):\n",
    "\n",
    "    # Create Random Weights\n",
    "    random_weights = np.array(np.random.random(3))\n",
    "\n",
    "    # Rebalance Weights\n",
    "    random_weights = random_weights / np.sum(random_weights)\n",
    "    \n",
    "    # Save Weights\n",
    "    trial_weights_epi[trial,:] = random_weights\n",
    "\n",
    "    # Expected Return\n",
    "    trial_returns_epi[trial] = np.sum((joined_returns_epi.mean() * random_weights) *252)\n",
    "\n",
    "    # Expected Std\n",
    "    trial_std_epi[trial] = np.sqrt(np.dot(random_weights.T, np.dot(joined_returns_epi.cov() * 252, random_weights)))\n",
    "\n",
    "    # Sharpe Ratio\n",
    "    trial_sharpe_epi[trial] = trial_returns_epi[trial] / trial_std_epi[trial]"
   ]
  },
  {
   "cell_type": "code",
   "execution_count": null,
   "metadata": {},
   "outputs": [],
   "source": [
    "# Calculating Returns & Risk for the Specific Trail which gives the Highest Sharp Ratio:\n",
    "\n",
    "# Finding the indices of the maximum shape value along an axis:\n",
    "index_of_max_sharpe_epi = trial_sharpe_epi.argmax()  \n",
    "max_weight_epi = trial_weights_epi[index_of_max_sharpe_epi, :]\n",
    "\n",
    "max_return_epi = trial_returns_epi[index_of_max_sharpe_epi]\n",
    "max_std_epi = trial_std_epi[index_of_max_sharpe_epi]\n",
    "max_sharpe_epi = max_return_epi / max_std_epi\n",
    "\n",
    "print(f\"Best Trial Weight in Dollar Futures: {max_weight_epi[0]:.1%}\")\n",
    "print(f\"Best Trial Weight in Gold Futures: {max_weight_epi[1]:.1%}\")\n",
    "print(f\"Best Trial Weight in Bitcoin: {max_weight_epi[2]:.1%}\")\n",
    "print(\"-------------------------------------------------\")\n",
    "print(f\"Best Trial Portfolio Return: {max_return_epi:0.3}\")\n",
    "print(f\"Best Trial Portfolio Standard Deviation/Volatility: {max_std_epi:0.3}\")\n",
    "print(f\"Best Trial Portfolio Sharpe: {max_sharpe_epi:0.5}\")"
   ]
  },
  {
   "cell_type": "markdown",
   "metadata": {},
   "source": [
    "#### Method B: Mathematical Optimization of the Portfolio:"
   ]
  },
  {
   "cell_type": "code",
   "execution_count": null,
   "metadata": {},
   "outputs": [],
   "source": [
    "# Define a Function which Returns the Portfolio returns, standard deviation, and sharpe:\n",
    "def cal_returns_std_sharpe(weights):\n",
    "    weights = np.array(weights)\n",
    "    returns = np.sum(joined_returns_epi.mean()*weights)*252\n",
    "    std = np.sqrt(np.dot(weights.T, np.dot(joined_returns_epi.cov() * 252, weights)))\n",
    "    sharpe_ratios = returns/std\n",
    "    return np.array([returns, std, sharpe_ratios])"
   ]
  },
  {
   "cell_type": "code",
   "execution_count": null,
   "metadata": {},
   "outputs": [],
   "source": [
    "# Maximizing a Positive Sharpe is SAME as Minimizing a Negative Sharpe:\n",
    "# So the Objective Function to be Minimized:\n",
    "def objective_func(weights):\n",
    "    return cal_returns_std_sharpe(weights)[2]*-1"
   ]
  },
  {
   "cell_type": "code",
   "execution_count": null,
   "metadata": {},
   "outputs": [],
   "source": [
    "#  Initial Guess (\"x0\") for Weighting (if equally distributed):\n",
    "guess = [0.25, 0.25, 0.25]"
   ]
  },
  {
   "cell_type": "code",
   "execution_count": null,
   "metadata": {},
   "outputs": [],
   "source": [
    "# Constrians for Weighting:\n",
    "# Sequence of (min, max) pairs for each element in x. None is used to specify no bound.\n",
    "bounds = ((0, 1), (0, 1), (0, 1))"
   ]
  },
  {
   "cell_type": "code",
   "execution_count": null,
   "metadata": {},
   "outputs": [],
   "source": [
    "# The function defining the constraint that the total weight is one.\n",
    "# Return 0 if sum of weights is 1.0\n",
    "def check_weight(weights):\n",
    "    return np.sum(weights)-1\n",
    "\n",
    "# Constraints for COBYLA, SLSQP are defined as a list of dictionaries:\n",
    "# ‘eq’ for equality, ‘ineq’ for inequality.\n",
    "cons = ({'type':'eq', 'fun':check_weight})"
   ]
  },
  {
   "cell_type": "code",
   "execution_count": null,
   "metadata": {},
   "outputs": [],
   "source": [
    "# Minimize a scalar function of one or more variables using Sequential Least Squares Programming (SLSQP).\n",
    "# scipy.optimize.minimize(fun, x0, args=(), method=None, jac=None, hess=None, hessp=None, bounds=None, constraints=(), tol=None, callback=None, options=None)\n",
    "optimzation_results_epi = minimize(objective_func, guess, method='SLSQP', bounds=bounds, constraints=cons)\n",
    "optimzation_results_epi"
   ]
  },
  {
   "cell_type": "code",
   "execution_count": null,
   "metadata": {},
   "outputs": [],
   "source": [
    "# Print Results:\n",
    "optimal_weights_epi = optimzation_results_epi[\"x\"]\n",
    "result_epi = cal_returns_std_sharpe(optimal_weights_epi)\n",
    "print(f\"Optimized Portfolio Weight in Dollar Futures: {optimal_weights_epi[0]:.1%}\")\n",
    "print(f\"Optimized Portfolio Weight in Gold Futures: {optimal_weights_epi[1]:.1%}\")\n",
    "print(f\"Optimized Portfolio Weight in Bitcoin: {optimal_weights_epi[2]:.1%}\")\n",
    "print(\"-------------------------------------------------\")\n",
    "print(f\"Optimized Portfolio Return: {result_epi[0]:0.3}\")\n",
    "print(f\"Optimized Portfolio Standard Deviation/Volatility: {result_epi[1]:0.3}\")\n",
    "print(f\"Optimized Portfolio Sharpe Ratio: {result_epi[2]:0.5}\")"
   ]
  },
  {
   "cell_type": "markdown",
   "metadata": {},
   "source": [
    "#### Plotting the Trials and the Best Trial:"
   ]
  },
  {
   "cell_type": "code",
   "execution_count": null,
   "metadata": {},
   "outputs": [],
   "source": [
    "trail_scatter = hv.Scatter((trial_std_epi, trial_returns_epi, trial_sharpe_epi), \n",
    "                           'Volatility', ['Return', 'Sharpe Ratio']).opts(\n",
    "                            color='Sharpe Ratio', cmap='plasma', width=800, height=500, colorbar=True, padding=0.2\n",
    "                            )\n",
    "\n",
    "trail_max_sharpe = hv.Scatter([(max_std_epi, max_return_epi)]).opts(\n",
    "    title='Trials & the Best Trial (Blue Dot) Under  \"Epidemic\" (2020):', active_tools=['wheel_zoom'], \n",
    "    fontscale=1.1, color='blue', line_color='black', size=10\n",
    "    )\n",
    "\n",
    "trail_scatter * trail_max_sharpe"
   ]
  },
  {
   "cell_type": "markdown",
   "metadata": {},
   "source": [
    "#### Plotting the Efficent Frontier:\n",
    "The efficient frontier is the set of optimal portfolios that offers the highest expected return for a defined level of risk <br> or the lowest risk for a given level of expected return. "
   ]
  },
  {
   "cell_type": "code",
   "execution_count": null,
   "metadata": {},
   "outputs": [],
   "source": [
    "# Creat Evenly Spaced Numbers over a Specified Interval:\n",
    "frontier_returns_epi = np.linspace(0, 1.5, 100)"
   ]
  },
  {
   "cell_type": "code",
   "execution_count": null,
   "metadata": {},
   "outputs": [],
   "source": [
    "# Define a Empty List to Hold Results:\n",
    "frontier_volatility_epi = []"
   ]
  },
  {
   "cell_type": "code",
   "execution_count": null,
   "metadata": {},
   "outputs": [],
   "source": [
    "# Define an Object Function that Gives Minimum Volatility:\n",
    "def minimize_volatility(weights):\n",
    "    return cal_returns_std_sharpe(weights)[1]"
   ]
  },
  {
   "cell_type": "code",
   "execution_count": null,
   "metadata": {},
   "outputs": [],
   "source": [
    "# Calculte Minimul Volatility for Given Possible Returns:\n",
    "for possible_return in frontier_returns_epi:\n",
    "    \n",
    "    # Adding Given Possible Returns as a Constrain:\n",
    "    cons2 = ({'type':'eq', 'fun':check_weight},\n",
    "            {'type':'eq','fun': lambda wight: cal_returns_std_sharpe(wight)[0] - possible_return}\n",
    "           )\n",
    "    \n",
    "    result_epi2 = minimize(minimize_volatility, guess, method='SLSQP', bounds=bounds, constraints=cons2)\n",
    "    \n",
    "    # Store Calculation Results of Objective Function 'fun'-- Minimized Volatility\n",
    "    frontier_volatility_epi.append(result_epi2['fun'])"
   ]
  },
  {
   "cell_type": "code",
   "execution_count": null,
   "metadata": {},
   "outputs": [],
   "source": [
    "# Plotting the Optimal Portolio:\n",
    "opt_sharpe_epi = hv.Scatter([(result_epi[1], result_epi[0])]).opts(color='red', line_color='black', size=10)\n",
    "\n",
    "\n",
    "# Plotting the Efficient Frontier:\n",
    "efficient_frontier_epi = trail_scatter * opt_sharpe_epi * \\\n",
    "hv.Curve((frontier_volatility_epi, frontier_returns_epi)).opts(\n",
    "    title='Efficient Frontier & the Optimal Porfolio (Red Dot) Under  \"Epidemic\" (2020):', \n",
    "    active_tools=['wheel_zoom'], fontscale=1.1, color='green', line_dash='dashed', axiswise=True\n",
    "    )\n",
    "\n",
    "efficient_frontier_epi"
   ]
  },
  {
   "cell_type": "markdown",
   "metadata": {},
   "source": [
    "### Table Summary"
   ]
  },
  {
   "cell_type": "code",
   "execution_count": null,
   "metadata": {},
   "outputs": [],
   "source": [
    "opt_summary = pd.DataFrame({\n",
    "    \"Normal 2017-2019\":[max_weight_normal[0],max_weight_normal[1],max_weight_normal[2],\\\n",
    "    max_return_normal,max_std_normal,max_sharpe_normal,optimal_weights_normal[0],\\\n",
    "    optimal_weights_normal[1],optimal_weights_normal[2],result_normal[0],result_normal[1],result_normal[2]],\\\n",
    "    \n",
    "    \"Epidemic 2020\":[max_weight_epi[0],max_weight_epi[1],max_weight_epi[2],max_return_epi,max_std_epi,\\\n",
    "    max_sharpe_epi,optimal_weights_epi[0],optimal_weights_epi[1],optimal_weights_epi[2],result_epi[0],\\\n",
    "    result_epi[1],result_epi[2]]}, \n",
    "    \n",
    "    index=[\"Best Trial Weight in Dollar Futures\",\"Best Trial Weight in Gold Futures\",\\\n",
    "            \"Best Trial Weight in Bitcoin\",\"Best Trial Portfolio Return\",\"Best Trial Portfolio Standard Deviation/Volatility\",\\\n",
    "            \"Best Trial Portfolio Sharpe Ratio\",\"Optimized Portfolio Weight in Dollar Futures\",\"Optimized Portfolio Weight in Gold Futures\",\\\n",
    "            \"Optimized Portfolio Weight in Bitcoin\",\"Optimized Portfolio Return\",\"Optimized Portfolio Standard Deviation/Volatility\",\\\n",
    "            \"Optimized Portfolio Sharpe Ratio\"])\n",
    "\n",
    "opt_summary = opt_summary.iloc[6:,:].round(decimals=5)\n",
    "opt_summary"
   ]
  },
  {
   "cell_type": "markdown",
   "metadata": {},
   "source": [
    "## Section Four : Quantitaive Forecast "
   ]
  },
  {
   "cell_type": "markdown",
   "metadata": {},
   "source": [
    "### Monte Carlo Simulation "
   ]
  },
  {
   "cell_type": "markdown",
   "metadata": {},
   "source": [
    "#### **If Economic Environment Back to Normal (2017 - 2019)**"
   ]
  },
  {
   "cell_type": "code",
   "execution_count": null,
   "metadata": {},
   "outputs": [],
   "source": [
    "from MCForecastTools import MCSimulation"
   ]
  },
  {
   "cell_type": "code",
   "execution_count": null,
   "metadata": {},
   "outputs": [],
   "source": [
    "header = pd.MultiIndex.from_product([['bitcoin'],\n",
    "                                     ['open', 'high', 'low', 'close', 'volume']]\n",
    "                                    )\n",
    "bitcoin_normal = yf_bitcoin_df['20170101':'20191231'].drop(['Adj Close'], axis=1)\n",
    "bitcoin_normal.columns = header\n",
    "bitcoin_normal.head()\n"
   ]
  },
  {
   "cell_type": "code",
   "execution_count": null,
   "metadata": {},
   "outputs": [],
   "source": [
    "header = pd.MultiIndex.from_product([['dollar'],\n",
    "                                     ['open', 'high', 'low', 'close', 'volume']]\n",
    "                                    )\n",
    "dollar_normal = yf_dollar_df['20170101':'20191231'].drop(['Adj Close'], axis=1)\n",
    "dollar_normal.columns = header\n",
    "dollar_normal.head()"
   ]
  },
  {
   "cell_type": "code",
   "execution_count": null,
   "metadata": {},
   "outputs": [],
   "source": [
    "header = pd.MultiIndex.from_product([['gold'],\n",
    "                                     ['open', 'high', 'low', 'close', 'volume']]\n",
    "                                    )\n",
    "gold_normal = yf_gold_df['20170101':'20191231'].drop(['Adj Close'], axis=1)\n",
    "gold_normal.columns = header\n",
    "gold_normal.head()"
   ]
  },
  {
   "cell_type": "code",
   "execution_count": null,
   "metadata": {},
   "outputs": [],
   "source": [
    "header = pd.MultiIndex.from_product([['sp500'],\n",
    "                                     ['open', 'high', 'low', 'close', 'volume']]\n",
    "                                    )\n",
    "sp500_normal = yf_sp500_df['20170101':'20191231'].drop(['Adj Close'], axis=1)\n",
    "sp500_normal.columns = header\n",
    "sp500_normal.head()"
   ]
  },
  {
   "cell_type": "code",
   "execution_count": null,
   "metadata": {},
   "outputs": [],
   "source": [
    "#concat datasets\n",
    "portfolio_normal = pd.concat([dollar_normal, gold_normal, bitcoin_normal], axis = 'columns', join='inner', sort=True)\n",
    "portfolio_normal.head()"
   ]
  },
  {
   "cell_type": "markdown",
   "metadata": {},
   "source": [
    "#### Simulation of Gold in Normal Condition"
   ]
  },
  {
   "cell_type": "code",
   "execution_count": null,
   "metadata": {},
   "outputs": [],
   "source": [
    "# Configuring a Monte Carlo simulation to forecast 3 years cumulative returns of gold\n",
    "\n",
    "MC_gold = MCSimulation(\n",
    "    portfolio_data = gold_normal,\n",
    "    num_simulation = 100,\n",
    "    num_trading_days = 252*3\n",
    ")\n",
    "\n",
    "# Printing the simulation input data\n",
    "MC_gold.portfolio_data.head()"
   ]
  },
  {
   "cell_type": "code",
   "execution_count": null,
   "metadata": {},
   "outputs": [],
   "source": [
    "# Running a Monte Carlo simulation to forecast 3 years cumulative returns\n",
    "MC_gold.calc_cumulative_return()"
   ]
  },
  {
   "cell_type": "code",
   "execution_count": null,
   "metadata": {},
   "outputs": [],
   "source": [
    "# Plot simulation outcomes\n",
    "line_plot_gold = MC_gold.plot_simulation().opts(axiswise=True)\n",
    "line_plot_gold"
   ]
  },
  {
   "cell_type": "code",
   "execution_count": null,
   "metadata": {},
   "outputs": [],
   "source": [
    "# Plot probability distribution and confidence intervals\n",
    "dist_plot_gold = MC_gold.plot_distribution()\n",
    "dist_plot_gold"
   ]
  },
  {
   "cell_type": "markdown",
   "metadata": {},
   "source": [
    "#### Gold Analysis Based on Normal Condition"
   ]
  },
  {
   "cell_type": "code",
   "execution_count": null,
   "metadata": {},
   "outputs": [],
   "source": [
    "# Fetch summary statistics from the Monte Carlo simulation results\n",
    "tbl_gold = MC_gold.summarize_cumulative_return()\n",
    "\n",
    "# Print summary statistics\n",
    "print(tbl_gold)"
   ]
  },
  {
   "cell_type": "markdown",
   "metadata": {},
   "source": [
    "#### Calculate the expected return at the 95% lower and upper confidence intervals based on a $10,000 initial investment."
   ]
  },
  {
   "cell_type": "code",
   "execution_count": null,
   "metadata": {},
   "outputs": [],
   "source": [
    "# Set initial investment\n",
    "initial_investment = 10000\n",
    "\n",
    "# Use the lower and upper `95%` confidence intervals to calculate the range of the possible outcomes of our $20,000\n",
    "ci_lower_gold = round(tbl_gold[8]*10000,2)\n",
    "ci_upper_gold = round(tbl_gold[9]*10000,2)\n",
    "\n",
    "# Print results\n",
    "gold_f = (f\"There is a 95% chance that an initial investment of ${initial_investment} in gold\"\n",
    "      f\" over the next 3 years will end within in the range of\"\n",
    "      f\" ${ci_lower_gold} and ${ci_upper_gold}\")\n",
    "gold_f"
   ]
  },
  {
   "cell_type": "markdown",
   "metadata": {},
   "source": [
    "#### Simulation of Dollar in Normal Condition"
   ]
  },
  {
   "cell_type": "code",
   "execution_count": null,
   "metadata": {},
   "outputs": [],
   "source": [
    "# Configuring a Monte Carlo simulation to forecast 3 years cumulative returns of dollar\n",
    "\n",
    "MC_dollar = MCSimulation(\n",
    "    portfolio_data = dollar_normal,\n",
    "    num_simulation = 100,\n",
    "    num_trading_days = 252*3\n",
    ")\n",
    "\n",
    "# Printing the simulation input data\n",
    "MC_dollar.portfolio_data.head()"
   ]
  },
  {
   "cell_type": "code",
   "execution_count": null,
   "metadata": {},
   "outputs": [],
   "source": [
    "# Running a Monte Carlo simulation to forecast 3 years cumulative returns\n",
    "MC_dollar.calc_cumulative_return()"
   ]
  },
  {
   "cell_type": "code",
   "execution_count": null,
   "metadata": {},
   "outputs": [],
   "source": [
    "# Plot simulation outcomes\n",
    "line_plot_dollar = MC_dollar.plot_simulation()\n",
    "line_plot_dollar "
   ]
  },
  {
   "cell_type": "code",
   "execution_count": null,
   "metadata": {},
   "outputs": [],
   "source": [
    "# Plot probability distribution and confidence intervals\n",
    "dist_plot_dollar = MC_dollar.plot_distribution()\n",
    "dist_plot_dollar"
   ]
  },
  {
   "cell_type": "markdown",
   "metadata": {},
   "source": [
    "#### Dollar Analysis Based on Normal Condition"
   ]
  },
  {
   "cell_type": "code",
   "execution_count": null,
   "metadata": {},
   "outputs": [],
   "source": [
    "# Fetch summary statistics from the Monte Carlo simulation results\n",
    "tbl_dollar = MC_dollar.summarize_cumulative_return()\n",
    "\n",
    "# Print summary statistics\n",
    "print(tbl_dollar)"
   ]
  },
  {
   "cell_type": "markdown",
   "metadata": {},
   "source": [
    "#### Calculate the expected return at the 95% lower and upper confidence intervals based on a $10,000 initial investment."
   ]
  },
  {
   "cell_type": "code",
   "execution_count": null,
   "metadata": {},
   "outputs": [],
   "source": [
    "# Set initial investment\n",
    "initial_investment = 10000\n",
    "\n",
    "# Use the lower and upper `95%` confidence intervals to calculate the range of the possible outcomes of our $20,000\n",
    "ci_lower_dollar = round(tbl_dollar[8]*10000,2)\n",
    "ci_upper_dollar = round(tbl_dollar[9]*10000,2)\n",
    "\n",
    "# Print results\n",
    "dollar_f = (f\"There is a 95% chance that an initial investment of ${initial_investment} in dollar\"\n",
    "      f\" over the next 3 years will end within in the range of\"\n",
    "      f\" ${ci_lower_dollar} and ${ci_upper_dollar}\")\n",
    "dollar_f"
   ]
  },
  {
   "cell_type": "markdown",
   "metadata": {},
   "source": [
    "#### Simulation of Bitcoin in Normal Condition"
   ]
  },
  {
   "cell_type": "code",
   "execution_count": null,
   "metadata": {},
   "outputs": [],
   "source": [
    "# Configuring a Monte Carlo simulation to forecast 3 years cumulative returns of bitcoin\n",
    "\n",
    "MC_bitcoin = MCSimulation(\n",
    "    portfolio_data = bitcoin_normal,\n",
    "    num_simulation = 100,\n",
    "    num_trading_days = 252*3\n",
    ")\n",
    "\n",
    "# Printing the simulation input data\n",
    "MC_bitcoin.portfolio_data.head()"
   ]
  },
  {
   "cell_type": "code",
   "execution_count": null,
   "metadata": {},
   "outputs": [],
   "source": [
    "# Running a Monte Carlo simulation to forecast 3 years cumulative returns\n",
    "MC_bitcoin.calc_cumulative_return()"
   ]
  },
  {
   "cell_type": "code",
   "execution_count": null,
   "metadata": {},
   "outputs": [],
   "source": [
    "# Plot simulation outcomes\n",
    "line_plot_bitcoin = MC_bitcoin.plot_simulation()\n",
    "line_plot_bitcoin"
   ]
  },
  {
   "cell_type": "code",
   "execution_count": null,
   "metadata": {},
   "outputs": [],
   "source": [
    "# Plot probability distribution and confidence intervals\n",
    "dist_plot_bitcoin = MC_bitcoin.plot_distribution()\n",
    "dist_plot_bitcoin"
   ]
  },
  {
   "cell_type": "markdown",
   "metadata": {},
   "source": [
    "#### Bitcoin Analysis Based on Normal Condition"
   ]
  },
  {
   "cell_type": "code",
   "execution_count": null,
   "metadata": {},
   "outputs": [],
   "source": [
    "# Fetch summary statistics from the Monte Carlo simulation results\n",
    "tbl_bitcoin = MC_bitcoin.summarize_cumulative_return()\n",
    "\n",
    "# Print summary statistics\n",
    "print(tbl_bitcoin)"
   ]
  },
  {
   "cell_type": "markdown",
   "metadata": {},
   "source": [
    "#### Calculate the expected return at the 95% lower and upper confidence intervals based on a $10,000 initial investment."
   ]
  },
  {
   "cell_type": "code",
   "execution_count": null,
   "metadata": {},
   "outputs": [],
   "source": [
    "# Set initial investment\n",
    "initial_investment = 10000\n",
    "\n",
    "# Use the lower and upper `95%` confidence intervals to calculate the range of the possible outcomes of our $20,000\n",
    "ci_lower_bitcoin = round(tbl_bitcoin[8]*10000,2)\n",
    "ci_upper_bitcoin = round(tbl_bitcoin[9]*10000,2)\n",
    "\n",
    "# Print results\n",
    "bit_f = (f\"There is a 95% chance that an initial investment of ${initial_investment} in bitcoin\"\n",
    "      f\" over the next 3 years will end within in the range of\"\n",
    "      f\" ${ci_lower_bitcoin} and ${ci_upper_bitcoin}\")\n",
    "bit_f\n"
   ]
  },
  {
   "cell_type": "markdown",
   "metadata": {},
   "source": [
    "#### Simulation of S&P 500 in Normal Condition"
   ]
  },
  {
   "cell_type": "code",
   "execution_count": null,
   "metadata": {},
   "outputs": [],
   "source": [
    "# Configuring a Monte Carlo simulation to forecast 3 years cumulative returns of sp500\n",
    "\n",
    "MC_sp500 = MCSimulation(\n",
    "    portfolio_data = sp500_normal,\n",
    "    num_simulation = 100,\n",
    "    num_trading_days = 252*3\n",
    ")\n",
    "\n",
    "# Printing the simulation input data\n",
    "MC_sp500.portfolio_data.head()"
   ]
  },
  {
   "cell_type": "code",
   "execution_count": null,
   "metadata": {},
   "outputs": [],
   "source": [
    "# Running a Monte Carlo simulation to forecast 3 years cumulative returns\n",
    "MC_sp500.calc_cumulative_return()"
   ]
  },
  {
   "cell_type": "code",
   "execution_count": null,
   "metadata": {},
   "outputs": [],
   "source": [
    "# Plot simulation outcomes\n",
    "line_plot_sp500 = MC_sp500.plot_simulation()\n",
    "line_plot_sp500"
   ]
  },
  {
   "cell_type": "code",
   "execution_count": null,
   "metadata": {},
   "outputs": [],
   "source": [
    "# Plot probability distribution and confidence intervals\n",
    "dist_plot_sp500 = MC_sp500.plot_distribution()\n",
    "dist_plot_sp500"
   ]
  },
  {
   "cell_type": "markdown",
   "metadata": {},
   "source": [
    "#### S&P 500 Analysis Based on Normal Condition"
   ]
  },
  {
   "cell_type": "code",
   "execution_count": null,
   "metadata": {},
   "outputs": [],
   "source": [
    "# Fetch summary statistics from the Monte Carlo simulation results\n",
    "tbl_sp500 = MC_sp500.summarize_cumulative_return()\n",
    "\n",
    "# Print summary statistics\n",
    "print(tbl_sp500)"
   ]
  },
  {
   "cell_type": "markdown",
   "metadata": {},
   "source": [
    "#### Calculate the expected return at the 95% lower and upper confidence intervals based on a $10,000 initial investment."
   ]
  },
  {
   "cell_type": "code",
   "execution_count": null,
   "metadata": {},
   "outputs": [],
   "source": [
    "# Set initial investment\n",
    "initial_investment = 10000\n",
    "\n",
    "# Use the lower and upper `95%` confidence intervals to calculate the range of the possible outcomes of our $20,000\n",
    "ci_lower_sp500 = round(tbl_sp500[8]*10000,2)\n",
    "ci_upper_sp500 = round(tbl_sp500[9]*10000,2)\n",
    "\n",
    "# Print results\n",
    "sp500_f = (f\"There is a 95% chance that an initial investment of ${initial_investment} in sp500\"\n",
    "      f\" over the next 3 years will end within in the range of\"\n",
    "      f\" ${ci_lower_sp500} and ${ci_upper_sp500}\")\n",
    "sp500_f"
   ]
  },
  {
   "cell_type": "markdown",
   "metadata": {},
   "source": [
    "#### Simulation of Optimized Portfolio in Normal Condition"
   ]
  },
  {
   "cell_type": "code",
   "execution_count": null,
   "metadata": {},
   "outputs": [],
   "source": [
    "# Configuring a Monte Carlo simulation to forecast 3 years cumulative returns of sp500\n",
    "\n",
    "MC_portfolio_normal = MCSimulation(\n",
    "    portfolio_data = portfolio_normal,\n",
    "    weights=[0.09885, 0.76229, 0.13886],\n",
    "    num_simulation = 100,\n",
    "    num_trading_days = 252*3\n",
    ")\n",
    "\n",
    "# Printing the simulation input data\n",
    "MC_portfolio_normal.portfolio_data.head()"
   ]
  },
  {
   "cell_type": "code",
   "execution_count": null,
   "metadata": {},
   "outputs": [],
   "source": [
    "# Running a Monte Carlo simulation to forecast 3 years cumulative returns\n",
    "MC_portfolio_normal.calc_cumulative_return()"
   ]
  },
  {
   "cell_type": "code",
   "execution_count": null,
   "metadata": {},
   "outputs": [],
   "source": [
    "# Plot simulation outcomes\n",
    "line_plot_portfolio_normal = MC_portfolio_normal.plot_simulation()\n",
    "line_plot_portfolio_normal"
   ]
  },
  {
   "cell_type": "code",
   "execution_count": null,
   "metadata": {},
   "outputs": [],
   "source": [
    "# Plot probability distribution and confidence intervals\n",
    "dist_plot_portfolio_normal = MC_portfolio_normal.plot_distribution()\n",
    "dist_plot_portfolio_normal"
   ]
  },
  {
   "cell_type": "markdown",
   "metadata": {},
   "source": [
    "#### Portfolio Analysis Based on Normal Condition"
   ]
  },
  {
   "cell_type": "code",
   "execution_count": null,
   "metadata": {},
   "outputs": [],
   "source": [
    "# Fetch summary statistics from the Monte Carlo simulation results\n",
    "tbl_portfolio_normal = MC_portfolio_normal.summarize_cumulative_return()\n",
    "\n",
    "# Print summary statistics\n",
    "print(tbl_portfolio_normal)"
   ]
  },
  {
   "cell_type": "markdown",
   "metadata": {},
   "source": [
    "#### Calculate the expected return at the 95% lower and upper confidence intervals based on a $10,000 initial investment."
   ]
  },
  {
   "cell_type": "code",
   "execution_count": null,
   "metadata": {},
   "outputs": [],
   "source": [
    "# Set initial investment\n",
    "initial_investment = 10000\n",
    "\n",
    "# Use the lower and upper `95%` confidence intervals to calculate the range of the possible outcomes of our $20,000\n",
    "ci_lower_portfolio_normal = round(tbl_portfolio_normal[8]*10000,2)\n",
    "ci_upper_portfolio_normal = round(tbl_portfolio_normal[9]*10000,2)\n",
    "\n",
    "# Print results\n",
    "portfolio_f = (f\"There is a 95% chance that an initial investment of ${initial_investment} in the portfolio\"\n",
    "      f\" over the next 3 years will end within in the range of\"\n",
    "      f\" ${ci_lower_portfolio_normal} and ${ci_upper_portfolio_normal}\")\n",
    "portfolio_f"
   ]
  },
  {
   "cell_type": "markdown",
   "metadata": {},
   "source": [
    "#### **If Epidemic Situation Doesn't Relief (2020 Economic Condition)**"
   ]
  },
  {
   "cell_type": "code",
   "execution_count": null,
   "metadata": {},
   "outputs": [],
   "source": [
    "header = pd.MultiIndex.from_product([['bitcoin'],\n",
    "                                     ['open', 'high', 'low', 'close', 'volume']]\n",
    "                                    )\n",
    "bitcoin_epi = yf_bitcoin_df['20200101':'20201231'].drop(['Adj Close'], axis=1)\n",
    "bitcoin_epi.columns = header\n",
    "bitcoin_epi.head()"
   ]
  },
  {
   "cell_type": "code",
   "execution_count": null,
   "metadata": {},
   "outputs": [],
   "source": [
    "header = pd.MultiIndex.from_product([['dollar'],\n",
    "                                     ['open', 'high', 'low', 'close', 'volume']]\n",
    "                                    )\n",
    "dollar_epi = yf_dollar_df['20200101':'20201231'].drop(['Adj Close'], axis=1)\n",
    "dollar_epi.columns = header\n",
    "dollar_epi.head()"
   ]
  },
  {
   "cell_type": "code",
   "execution_count": null,
   "metadata": {},
   "outputs": [],
   "source": [
    "header = pd.MultiIndex.from_product([['gold'],\n",
    "                                     ['open', 'high', 'low', 'close', 'volume']]\n",
    "                                    )\n",
    "gold_epi = yf_gold_df['20200101':'20201231'].drop(['Adj Close'], axis=1)\n",
    "gold_epi.columns = header\n",
    "gold_epi.head()"
   ]
  },
  {
   "cell_type": "code",
   "execution_count": null,
   "metadata": {},
   "outputs": [],
   "source": [
    "header = pd.MultiIndex.from_product([['sp500'],\n",
    "                                     ['open', 'high', 'low', 'close', 'volume']]\n",
    "                                    )\n",
    "sp500_epi = yf_sp500_df['20200101':'20201231'].drop(['Adj Close'], axis=1)\n",
    "sp500_epi.columns = header\n",
    "sp500_epi.head()"
   ]
  },
  {
   "cell_type": "code",
   "execution_count": null,
   "metadata": {},
   "outputs": [],
   "source": [
    "#concat datasets\n",
    "portfolio_epi= pd.concat([dollar_epi, gold_epi, bitcoin_epi], axis = 'columns', join='inner', sort=True)\n",
    "portfolio_epi.head()"
   ]
  },
  {
   "cell_type": "markdown",
   "metadata": {},
   "source": [
    "#### Simulation of Gold in Epidemic Condition"
   ]
  },
  {
   "cell_type": "code",
   "execution_count": null,
   "metadata": {},
   "outputs": [],
   "source": [
    "# Configuring a Monte Carlo simulation to forecast 3 years cumulative returns of gold\n",
    "\n",
    "MC_gold_epi = MCSimulation(\n",
    "    portfolio_data = gold_epi,\n",
    "    num_simulation = 100,\n",
    "    num_trading_days = 252*3\n",
    ")\n",
    "\n",
    "# Printing the simulation input data\n",
    "MC_gold_epi.portfolio_data.head()"
   ]
  },
  {
   "cell_type": "code",
   "execution_count": null,
   "metadata": {},
   "outputs": [],
   "source": [
    "# Running a Monte Carlo simulation to forecast 3 years cumulative returns\n",
    "MC_gold_epi.calc_cumulative_return()"
   ]
  },
  {
   "cell_type": "code",
   "execution_count": null,
   "metadata": {},
   "outputs": [],
   "source": [
    "# Plot simulation outcomes\n",
    "line_plot_gold_epi = MC_gold_epi.plot_simulation()\n",
    "line_plot_gold_epi"
   ]
  },
  {
   "cell_type": "code",
   "execution_count": null,
   "metadata": {},
   "outputs": [],
   "source": [
    "# Plot probability distribution and confidence intervals\n",
    "dist_plot_gold_epi = MC_gold_epi.plot_distribution()\n",
    "dist_plot_gold_epi"
   ]
  },
  {
   "cell_type": "markdown",
   "metadata": {},
   "source": [
    "#### Gold Analysis Based on Epidemic Condition"
   ]
  },
  {
   "cell_type": "code",
   "execution_count": null,
   "metadata": {},
   "outputs": [],
   "source": [
    "# Fetch summary statistics from the Monte Carlo simulation results\n",
    "tbl_gold_epi = MC_gold_epi.summarize_cumulative_return()\n",
    "\n",
    "# Print summary statistics\n",
    "print(tbl_gold_epi)"
   ]
  },
  {
   "cell_type": "markdown",
   "metadata": {},
   "source": [
    "#### Calculate the expected return at the 95% lower and upper confidence intervals based on a $10,000 initial investment."
   ]
  },
  {
   "cell_type": "code",
   "execution_count": null,
   "metadata": {},
   "outputs": [],
   "source": [
    "# Set initial investment\n",
    "initial_investment = 10000\n",
    "\n",
    "# Use the lower and upper `95%` confidence intervals to calculate the range of the possible outcomes of our $20,000\n",
    "ci_lower_gold_epi = round(tbl_gold_epi[8]*10000,2)\n",
    "ci_upper_gold_epi = round(tbl_gold_epi[9]*10000,2)\n",
    "\n",
    "# Print results\n",
    "gold_epi_f = (f\"There is a 95% chance that an initial investment of ${initial_investment} in gold\"\n",
    "      f\" over the next 30 years will end within in the range of\"\n",
    "      f\" ${ci_lower_gold_epi} and ${ci_upper_gold_epi}\")\n",
    "gold_epi_f"
   ]
  },
  {
   "cell_type": "markdown",
   "metadata": {},
   "source": [
    "#### Simulation of Dollar in Epidemic Condition"
   ]
  },
  {
   "cell_type": "code",
   "execution_count": null,
   "metadata": {},
   "outputs": [],
   "source": [
    "# Configuring a Monte Carlo simulation to forecast 3 years cumulative returns of dollar\n",
    "\n",
    "MC_dollar_epi = MCSimulation(\n",
    "    portfolio_data = dollar_epi,\n",
    "    num_simulation = 100,\n",
    "    num_trading_days = 252*3\n",
    ")\n",
    "\n",
    "# Printing the simulation input data\n",
    "MC_dollar_epi.portfolio_data.head()"
   ]
  },
  {
   "cell_type": "code",
   "execution_count": null,
   "metadata": {},
   "outputs": [],
   "source": [
    "# Running a Monte Carlo simulation to forecast 3 years cumulative returns\n",
    "MC_dollar_epi.calc_cumulative_return()"
   ]
  },
  {
   "cell_type": "code",
   "execution_count": null,
   "metadata": {},
   "outputs": [],
   "source": [
    "# Plot simulation outcomes\n",
    "line_plot_dollar_epi = MC_dollar_epi.plot_simulation()\n",
    "line_plot_dollar_epi "
   ]
  },
  {
   "cell_type": "code",
   "execution_count": null,
   "metadata": {},
   "outputs": [],
   "source": [
    "# Plot probability distribution and confidence intervals\n",
    "dist_plot_dollar_epi = MC_dollar_epi.plot_distribution()\n",
    "dist_plot_dollar_epi"
   ]
  },
  {
   "cell_type": "markdown",
   "metadata": {},
   "source": [
    "#### Dollar Analysis Based on Epidemic Condition"
   ]
  },
  {
   "cell_type": "code",
   "execution_count": null,
   "metadata": {},
   "outputs": [],
   "source": [
    "# Fetch summary statistics from the Monte Carlo simulation results\n",
    "tbl_dollar_epi = MC_dollar_epi.summarize_cumulative_return()\n",
    "\n",
    "# Print summary statistics\n",
    "print(tbl_dollar_epi)"
   ]
  },
  {
   "cell_type": "markdown",
   "metadata": {},
   "source": [
    "#### Calculate the expected return at the 95% lower and upper confidence intervals based on a $10,000 initial investment."
   ]
  },
  {
   "cell_type": "code",
   "execution_count": null,
   "metadata": {},
   "outputs": [],
   "source": [
    "# Set initial investment\n",
    "initial_investment = 10000\n",
    "\n",
    "# Use the lower and upper `95%` confidence intervals to calculate the range of the possible outcomes of our $20,000\n",
    "ci_lower_dollar_epi = round(tbl_dollar_epi[8]*10000,2)\n",
    "ci_upper_dollar_epi = round(tbl_dollar_epi[9]*10000,2)\n",
    "\n",
    "# Print results\n",
    "dollar_epi_f = (f\"There is a 95% chance that an initial investment of ${initial_investment} in dollar\"\n",
    "      f\" over the next 30 years will end within in the range of\"\n",
    "      f\" ${ci_lower_dollar_epi} and ${ci_upper_dollar_epi}\")\n",
    "dollar_epi_f"
   ]
  },
  {
   "cell_type": "markdown",
   "metadata": {},
   "source": [
    "#### Simulation of Bitcoin in Epidemic Condition"
   ]
  },
  {
   "cell_type": "code",
   "execution_count": null,
   "metadata": {},
   "outputs": [],
   "source": [
    "# Configuring a Monte Carlo simulation to forecast 3 years cumulative returns of bitcoin\n",
    "\n",
    "MC_bitcoin_epi = MCSimulation(\n",
    "    portfolio_data = bitcoin_epi,\n",
    "    num_simulation = 100,\n",
    "    num_trading_days = 252*3\n",
    ")\n",
    "\n",
    "# Printing the simulation input data\n",
    "MC_bitcoin_epi.portfolio_data.head()"
   ]
  },
  {
   "cell_type": "code",
   "execution_count": null,
   "metadata": {},
   "outputs": [],
   "source": [
    "# Running a Monte Carlo simulation to forecast 3 years cumulative returns\n",
    "MC_bitcoin_epi.calc_cumulative_return()"
   ]
  },
  {
   "cell_type": "code",
   "execution_count": null,
   "metadata": {},
   "outputs": [],
   "source": [
    "# Plot simulation outcomes\n",
    "line_plot_bitcoin_epi = MC_bitcoin_epi.plot_simulation()\n",
    "line_plot_bitcoin_epi"
   ]
  },
  {
   "cell_type": "code",
   "execution_count": null,
   "metadata": {},
   "outputs": [],
   "source": [
    "# Plot probability distribution and confidence intervals\n",
    "dist_plot_bitcoin_epi = MC_bitcoin_epi.plot_distribution()\n",
    "dist_plot_bitcoin_epi"
   ]
  },
  {
   "cell_type": "markdown",
   "metadata": {},
   "source": [
    "#### Bitcoin Analysis Based on Epidemic Condition"
   ]
  },
  {
   "cell_type": "code",
   "execution_count": null,
   "metadata": {},
   "outputs": [],
   "source": [
    "# Fetch summary statistics from the Monte Carlo simulation results\n",
    "tbl_bitcoin_epi = MC_bitcoin_epi.summarize_cumulative_return()\n",
    "\n",
    "# Print summary statistics\n",
    "print(tbl_bitcoin_epi)"
   ]
  },
  {
   "cell_type": "markdown",
   "metadata": {},
   "source": [
    "#### Calculate the expected return at the 95% lower and upper confidence intervals based on a $10,000 initial investment."
   ]
  },
  {
   "cell_type": "code",
   "execution_count": null,
   "metadata": {},
   "outputs": [],
   "source": [
    "# Set initial investment\n",
    "initial_investment = 10000\n",
    "\n",
    "# Use the lower and upper `95%` confidence intervals to calculate the range of the possible outcomes of our $20,000\n",
    "ci_lower_bitcoin_epi = round(tbl_bitcoin_epi[8]*10000,2)\n",
    "ci_upper_bitcoin_epi = round(tbl_bitcoin_epi[9]*10000,2)\n",
    "\n",
    "# Print results\n",
    "bit_epi_f = (f\"There is a 95% chance that an initial investment of ${initial_investment} in bitcoin\"\n",
    "      f\" over the next 30 years will end within in the range of\"\n",
    "      f\" ${ci_lower_bitcoin_epi} and ${ci_upper_bitcoin_epi}\")\n",
    "bit_epi_f"
   ]
  },
  {
   "cell_type": "markdown",
   "metadata": {},
   "source": [
    "#### Simulation of S&P 500 in Epidemic Condition"
   ]
  },
  {
   "cell_type": "code",
   "execution_count": null,
   "metadata": {},
   "outputs": [],
   "source": [
    "# Configuring a Monte Carlo simulation to forecast 3 years cumulative returns of gold\n",
    "\n",
    "MC_sp500_epi = MCSimulation(\n",
    "    portfolio_data = sp500_epi,\n",
    "    num_simulation = 100,\n",
    "    num_trading_days = 252*3\n",
    ")\n",
    "\n",
    "# Printing the simulation input data\n",
    "MC_sp500_epi.portfolio_data.head()"
   ]
  },
  {
   "cell_type": "code",
   "execution_count": null,
   "metadata": {},
   "outputs": [],
   "source": [
    "# Running a Monte Carlo simulation to forecast 3 years cumulative returns\n",
    "MC_sp500_epi.calc_cumulative_return()"
   ]
  },
  {
   "cell_type": "code",
   "execution_count": null,
   "metadata": {},
   "outputs": [],
   "source": [
    "# Plot simulation outcomes\n",
    "line_plot_sp500_epi = MC_sp500_epi.plot_simulation()\n",
    "line_plot_sp500_epi"
   ]
  },
  {
   "cell_type": "code",
   "execution_count": null,
   "metadata": {},
   "outputs": [],
   "source": [
    "# Plot probability distribution and confidence intervals\n",
    "dist_plot_sp500_epi = MC_sp500_epi.plot_distribution()\n",
    "dist_plot_sp500_epi"
   ]
  },
  {
   "cell_type": "markdown",
   "metadata": {},
   "source": [
    "#### S&P 500  Analysis Based on Epidemic Condition"
   ]
  },
  {
   "cell_type": "code",
   "execution_count": null,
   "metadata": {},
   "outputs": [],
   "source": [
    "# Fetch summary statistics from the Monte Carlo simulation results\n",
    "tbl_sp500_epi = MC_sp500_epi.summarize_cumulative_return()\n",
    "\n",
    "# Print summary statistics\n",
    "print(tbl_sp500_epi)"
   ]
  },
  {
   "cell_type": "markdown",
   "metadata": {},
   "source": [
    "#### Calculate the expected return at the 95% lower and upper confidence intervals based on a $10,000 initial investment."
   ]
  },
  {
   "cell_type": "code",
   "execution_count": null,
   "metadata": {},
   "outputs": [],
   "source": [
    "# Set initial investment\n",
    "initial_investment = 10000\n",
    "\n",
    "# Use the lower and upper `95%` confidence intervals to calculate the range of the possible outcomes of our $20,000\n",
    "ci_lower_sp500_epi = round(tbl_sp500_epi[8]*10000,2)\n",
    "ci_upper_sp500_epi = round(tbl_sp500_epi[9]*10000,2)\n",
    "\n",
    "# Print results\n",
    "sp500_epi_f = (f\"There is a 95% chance that an initial investment of ${initial_investment} in sp500\"\n",
    "      f\" over the next 30 years will end within in the range of\"\n",
    "      f\" ${ci_lower_sp500_epi} and ${ci_upper_sp500_epi}\")\n",
    "sp500_epi_f"
   ]
  },
  {
   "cell_type": "markdown",
   "metadata": {},
   "source": [
    "#### Simulation of Portfolio in Epidemic Condition"
   ]
  },
  {
   "cell_type": "code",
   "execution_count": null,
   "metadata": {},
   "outputs": [],
   "source": [
    "# Configuring a Monte Carlo simulation to forecast 3 years cumulative returns of portfolio\n",
    "\n",
    "MC_portfolio_epi = MCSimulation(\n",
    "    portfolio_data = portfolio_epi,\n",
    "    weights=[0.00000, 0.44175, 0.55825],\n",
    "    num_simulation = 100,\n",
    "    num_trading_days = 252*3\n",
    ")\n",
    "\n",
    "# Printing the simulation input data\n",
    "MC_portfolio_epi.portfolio_data.head()"
   ]
  },
  {
   "cell_type": "code",
   "execution_count": null,
   "metadata": {},
   "outputs": [],
   "source": [
    "# Running a Monte Carlo simulation to forecast 3 years cumulative returns\n",
    "MC_gold_epi.calc_cumulative_return()"
   ]
  },
  {
   "cell_type": "code",
   "execution_count": null,
   "metadata": {},
   "outputs": [],
   "source": [
    "# Plot simulation outcomes\n",
    "line_plot_portfolio_epi = MC_portfolio_epi.plot_simulation()\n",
    "line_plot_portfolio_epi"
   ]
  },
  {
   "cell_type": "code",
   "execution_count": null,
   "metadata": {},
   "outputs": [],
   "source": [
    "# Plot probability distribution and confidence intervals\n",
    "dist_plot_portfolio_epi = MC_portfolio_epi.plot_distribution()\n",
    "dist_plot_portfolio_epi"
   ]
  },
  {
   "cell_type": "markdown",
   "metadata": {},
   "source": [
    "#### Gold Analysis Based on Epidemic Condition"
   ]
  },
  {
   "cell_type": "code",
   "execution_count": null,
   "metadata": {},
   "outputs": [],
   "source": [
    "# Fetch summary statistics from the Monte Carlo simulation results\n",
    "tbl_portfolio_epi = MC_portfolio_epi.summarize_cumulative_return()\n",
    "\n",
    "# Print summary statistics\n",
    "print(tbl_portfolio_epi)"
   ]
  },
  {
   "cell_type": "markdown",
   "metadata": {},
   "source": [
    "#### Calculate the expected return at the 95% lower and upper confidence intervals based on a $10,000 initial investment."
   ]
  },
  {
   "cell_type": "code",
   "execution_count": null,
   "metadata": {},
   "outputs": [],
   "source": [
    "# Set initial investment\n",
    "initial_investment = 10000\n",
    "\n",
    "# Use the lower and upper `95%` confidence intervals to calculate the range of the possible outcomes of our $20,000\n",
    "ci_lower_portfolio_epi = round(tbl_portfolio_epi[8]*10000,2)\n",
    "ci_upper_portfolio_epi = round(tbl_portfolio_epi[9]*10000,2)\n",
    "\n",
    "# Print results\n",
    "portfolio_epi_f = (f\"There is a 95% chance that an initial investment of ${initial_investment} in the portfolio\"\n",
    "      f\" over the next 30 years will end within in the range of\"\n",
    "      f\" ${ci_lower_portfolio_epi} and ${ci_upper_portfolio_epi}\")\n",
    "portfolio_epi_f"
   ]
  },
  {
   "cell_type": "markdown",
   "metadata": {},
   "source": [
    "### Quantitative Forecast Based on US M2 Money Supply "
   ]
  },
  {
   "cell_type": "markdown",
   "metadata": {},
   "source": [
    "#### Data Manipulation"
   ]
  },
  {
   "cell_type": "code",
   "execution_count": null,
   "metadata": {},
   "outputs": [],
   "source": [
    "# Extract adjusted close price\n",
    "joined_close = joined_df[['dollar_Adj Close', 'gold_Adj Close', 'bitcoin_Adj Close', 'sp500_Adj Close']]"
   ]
  },
  {
   "cell_type": "code",
   "execution_count": null,
   "metadata": {},
   "outputs": [],
   "source": [
    "m2_df_3yrs = m2_df.loc['2017-01-01':'2020-12-31']"
   ]
  },
  {
   "cell_type": "code",
   "execution_count": null,
   "metadata": {},
   "outputs": [],
   "source": [
    "# plot M2 Money Supply \n",
    "m2_plot = m2_df_3yrs.hvplot(title='M2 Money Supply', xlabel = \"Date\", ylabel = \"M2\", color ='red')\n",
    "m2_plot"
   ]
  },
  {
   "cell_type": "code",
   "execution_count": null,
   "metadata": {},
   "outputs": [],
   "source": [
    "# plot asset ajusted close price\n",
    "joined_close_plot = joined_close[['dollar_Adj Close', 'gold_Adj Close', 'sp500_Adj Close']].hvplot(title='Ajusted Close Prices of Assets', xlabel = \"Date\", \n",
    "                                                                                                   ylabel = \"Adj Close\").opts(axiswise=True)\n",
    "joined_close_plot"
   ]
  },
  {
   "cell_type": "code",
   "execution_count": null,
   "metadata": {},
   "outputs": [],
   "source": [
    "# Plot close price of bitcoin\n",
    "bit_close_plot = joined_close[['bitcoin_Adj Close']].hvplot(title='Ajusted Close Prices of Bitcoin', xlabel = \"Date\", \n",
    "                                                                                                   ylabel = \"Adj Close\", color='yellow').opts(axiswise=True)\n",
    "bit_close_plot"
   ]
  },
  {
   "cell_type": "code",
   "execution_count": null,
   "metadata": {},
   "outputs": [],
   "source": [
    "# combine m2 and joined plot together \n",
    "concat_m2_assets = pd.concat([m2_df_3yrs, joined_close], axis = 1, join='inner')\n",
    "concat_m2_assets.columns = ['m2', 'dollar', 'gold', 'bitcoin', 'sp500']\n",
    "concat_m2_assets.tail()"
   ]
  },
  {
   "cell_type": "code",
   "execution_count": null,
   "metadata": {},
   "outputs": [],
   "source": [
    "# plot combined data\n",
    "concat_m2_plot = concat_m2_assets.hvplot(title='M2 and Assets Close Prices', xlabel = \"Date\", ylabel = \"Amount\")\n",
    "concat_m2_plot"
   ]
  },
  {
   "cell_type": "markdown",
   "metadata": {},
   "source": [
    "#### Visualize Correlation Between M2 and Assets during 2017 to 2020"
   ]
  },
  {
   "cell_type": "markdown",
   "metadata": {},
   "source": [
    "* M2 is a measure of the money supply that includes cash, checking deposits, and easily convertible near money.\n",
    "* M2 is a broader measure of the money supply than M1, which just includes cash and checking deposits.\n",
    "* M2 is closely watched as an indicator of money supply and future inflation, and as a target of central bank monetary policy."
   ]
  },
  {
   "cell_type": "code",
   "execution_count": null,
   "metadata": {},
   "outputs": [],
   "source": [
    "# Calculate Correlation of M2 and Assets\n",
    "correlation_M2 = concat_m2_assets.corr()\n",
    "correlation_M2"
   ]
  },
  {
   "cell_type": "code",
   "execution_count": null,
   "metadata": {},
   "outputs": [],
   "source": [
    "# Create a heatmap from the correlation values\n",
    "cor_m2 = correlation_M2.hvplot.heatmap(cmap='OrRd', title='Correlation of M2 and Assets')\n",
    "cor_m2"
   ]
  },
  {
   "cell_type": "markdown",
   "metadata": {},
   "source": [
    "#### Forecast Assets' Value Based on Linear Regression of M2 Against Each Asset "
   ]
  },
  {
   "cell_type": "code",
   "execution_count": null,
   "metadata": {},
   "outputs": [],
   "source": [
    "# Import linear regression library \n",
    "from sklearn.linear_model import LinearRegression\n",
    "from sklearn.model_selection import train_test_split\n",
    "import holoviews as hv"
   ]
  },
  {
   "cell_type": "code",
   "execution_count": null,
   "metadata": {},
   "outputs": [],
   "source": [
    "# M2 forecast Value \n",
    "csvpath_forecast = Path('Resources/m2-forecast-data.csv')\n",
    "m2_forecast = pd.read_csv(csvpath_forecast,index_col='DATE', parse_dates=True, infer_datetime_format=True)\n",
    "m2_forecast.dropna(inplace=True)"
   ]
  },
  {
   "cell_type": "markdown",
   "metadata": {},
   "source": [
    "#### Linear Regression between M2 and Gold"
   ]
  },
  {
   "cell_type": "code",
   "execution_count": null,
   "metadata": {},
   "outputs": [],
   "source": [
    "# Test train split for m2 and dollar\n",
    "x_train, x_test, y_train, y_test = train_test_split(concat_m2_assets.m2, concat_m2_assets.gold)"
   ]
  },
  {
   "cell_type": "code",
   "execution_count": null,
   "metadata": {},
   "outputs": [],
   "source": [
    "# Create Linear Model and Train it\n",
    "lr_M2_gold = LinearRegression()\n",
    "lr_M2_gold.fit(x_train.values.reshape(-1,1), y_train.values)"
   ]
  },
  {
   "cell_type": "code",
   "execution_count": null,
   "metadata": {},
   "outputs": [],
   "source": [
    "# Use Model to predict on TEST data\n",
    "prediction_gold = lr_M2_gold.predict(x_test.values.reshape(-1,1))\n",
    "\n",
    "# plot prediction line against actual test data\n",
    "plt_gold_1 = hv.Curve((x_test, prediction_gold)).opts(color='blue', title='Linear Regression of Gold',axiswise = True)\n",
    "plt_gold_2 = hv.Scatter((x_test, y_test), label='test data').opts(color = 'green', width=500, legend_position='top_left',axiswise = True)\n",
    "\n",
    "plt_gold = (plt_gold_1 * plt_gold_2).opts(axiswise = True)\n",
    "plt_gold"
   ]
  },
  {
   "cell_type": "code",
   "execution_count": null,
   "metadata": {},
   "outputs": [],
   "source": [
    "# Predict gold value of M2 forecast\n",
    "m2_volume_forecast = m2_forecast['m2']\n",
    "\n",
    "for i in range(len(m2_forecast)):\n",
    "    gold_forecast = lr_M2_gold.predict([[m2_volume_forecast[i]]])[0]\n",
    "    print(f\"In {m2_forecast.index[i]}, m2 money supply will be {m2_volume_forecast[i]}, it is predicted that gold will be ${gold_forecast:.6}\")"
   ]
  },
  {
   "cell_type": "markdown",
   "metadata": {},
   "source": [
    "#### Linear Regression between M2 and Dollar "
   ]
  },
  {
   "cell_type": "code",
   "execution_count": null,
   "metadata": {},
   "outputs": [],
   "source": [
    "# Test train split for m2 and dollar\n",
    "x_train, x_test, y_train, y_test = train_test_split(concat_m2_assets.m2, concat_m2_assets.dollar)"
   ]
  },
  {
   "cell_type": "code",
   "execution_count": null,
   "metadata": {},
   "outputs": [],
   "source": [
    "# Create Linear Model and Train it\n",
    "lr_M2_dollar = LinearRegression()\n",
    "lr_M2_dollar.fit(x_train.values.reshape(-1,1), y_train.values)"
   ]
  },
  {
   "cell_type": "code",
   "execution_count": null,
   "metadata": {},
   "outputs": [],
   "source": [
    "# Use Model to predict on TEST data\n",
    "prediction_dollar = lr_M2_dollar.predict(x_test.values.reshape(-1,1))\n",
    "\n",
    "# plot prediction line against actual test data\n",
    "plt_dollar_1 = hv.Curve((x_test, prediction_dollar)).opts(color='blue', title='Linear Regression of Dollar',axiswise = True)\n",
    "plt_dollar_2 = hv.Scatter((x_test, y_test), label='test data').opts(color = 'green', width=500, legend_position='top_left',axiswise = True)\n",
    "\n",
    "plt_dollar = (plt_dollar_1 * plt_dollar_2).opts(axiswise = True)\n",
    "plt_dollar"
   ]
  },
  {
   "cell_type": "code",
   "execution_count": null,
   "metadata": {},
   "outputs": [],
   "source": [
    "# Predict dollar value of M2 forecast\n",
    "m2_volume_forecast = m2_forecast['m2']\n",
    "\n",
    "for i in range(len(m2_forecast)):\n",
    "    dollar_forecast = lr_M2_dollar.predict([[m2_volume_forecast[i]]])[0]\n",
    "    print(f\"In {m2_forecast.index[i]}, m2 money supply will be {m2_volume_forecast[i]}, it is predicted that dollar index will be ${dollar_forecast:.4}\")"
   ]
  },
  {
   "cell_type": "markdown",
   "metadata": {},
   "source": [
    "#### Linear Regression between M2 and Bitcoin "
   ]
  },
  {
   "cell_type": "code",
   "execution_count": null,
   "metadata": {},
   "outputs": [],
   "source": [
    "# Test train split for m2 and dollar\n",
    "x_train, x_test, y_train, y_test = train_test_split(concat_m2_assets.m2, concat_m2_assets.bitcoin)"
   ]
  },
  {
   "cell_type": "code",
   "execution_count": null,
   "metadata": {},
   "outputs": [],
   "source": [
    "# Create Linear Model and Train it\n",
    "lr_M2_bitcoin = LinearRegression()\n",
    "lr_M2_bitcoin.fit(x_train.values.reshape(-1,1), y_train.values)"
   ]
  },
  {
   "cell_type": "code",
   "execution_count": null,
   "metadata": {},
   "outputs": [],
   "source": [
    "# Use Model to predict on TEST data\n",
    "prediction_bitcoin = lr_M2_bitcoin.predict(x_test.values.reshape(-1,1))\n",
    "\n",
    "# plot prediction line against actual test data\n",
    "plt_bitcoin_1 = hv.Curve((x_test, prediction_bitcoin)).opts(color='blue', title='Linear Regression of Bitcoin',axiswise = True)\n",
    "plt_bitcoin_2 = hv.Scatter((x_test, y_test), label='test data').opts(color = 'green', width=500, legend_position='top_left',axiswise = True)\n",
    "\n",
    "plt_bitcoin = (plt_bitcoin_1 * plt_bitcoin_2).opts(axiswise=True)\n",
    "plt_bitcoin"
   ]
  },
  {
   "cell_type": "code",
   "execution_count": null,
   "metadata": {},
   "outputs": [],
   "source": [
    "# Predict bitcoin value of M2 forecast\n",
    "m2_volume_forecast = m2_forecast['m2']\n",
    "\n",
    "for i in range(len(m2_forecast)):\n",
    "    bitcoin_forecast = lr_M2_bitcoin.predict([[m2_volume_forecast[i]]])[0]\n",
    "    print(f\"In {m2_forecast.index[i]}, m2 money supply will be {m2_volume_forecast[i]}, it is predicted that bitcoin will be ${bitcoin_forecast:.6}\")"
   ]
  },
  {
   "cell_type": "markdown",
   "metadata": {},
   "source": [
    "#### Linear Regression between M2 and S&P 500 "
   ]
  },
  {
   "cell_type": "code",
   "execution_count": null,
   "metadata": {},
   "outputs": [],
   "source": [
    "# Test train split for m2 and dollar\n",
    "x_train, x_test, y_train, y_test = train_test_split(concat_m2_assets.m2, concat_m2_assets.sp500)"
   ]
  },
  {
   "cell_type": "code",
   "execution_count": null,
   "metadata": {},
   "outputs": [],
   "source": [
    "# Create Linear Model and Train it\n",
    "lr_M2_sp500 = LinearRegression()\n",
    "lr_M2_sp500.fit(x_train.values.reshape(-1,1), y_train.values)"
   ]
  },
  {
   "cell_type": "code",
   "execution_count": null,
   "metadata": {},
   "outputs": [],
   "source": [
    "# Use Model to predict on TEST data\n",
    "prediction_sp500 = lr_M2_sp500.predict(x_test.values.reshape(-1,1))\n",
    "\n",
    "# plot prediction line against actual test data\n",
    "plt_sp500_1 = hv.Curve((x_test, prediction_sp500)).opts(color='blue', title='Linear Regression of S&P500',axiswise = True)\n",
    "plt_sp500_2 = hv.Scatter((x_test, y_test), label='test data').opts(color='green', width=500, legend_position='top_left',axiswise = True)\n",
    "\n",
    "plt_sp500 = (plt_sp500_1 * plt_sp500_2).opts(axiswise=True)\n",
    "plt_sp500"
   ]
  },
  {
   "cell_type": "code",
   "execution_count": null,
   "metadata": {},
   "outputs": [],
   "source": [
    "# Predict sp500 value of M2 forecast\n",
    "m2_volume_forecast = m2_forecast['m2']\n",
    "\n",
    "for i in range(len(m2_forecast)):\n",
    "    sp500_forecast = lr_M2_sp500.predict([[m2_volume_forecast[i]]])[0]\n",
    "    print(f\"In {m2_forecast.index[i]}, m2 money supply will be {m2_volume_forecast[i]}, it is predicted that S&P 500 will be {sp500_forecast:.6}\")"
   ]
  },
  {
   "cell_type": "markdown",
   "metadata": {},
   "source": [
    "## Section Five : Qualitative Forecast Based on Transactions of Bitcoin "
   ]
  },
  {
   "cell_type": "code",
   "execution_count": null,
   "metadata": {},
   "outputs": [],
   "source": [
    "# Rename Columns:\n",
    "yf_bitcoin.columns = [('bitcoin_'+ column) for column in yf_bitcoin.columns]\n",
    "# Selected Columns:\n",
    "yf_bitcoin = yf_bitcoin.iloc[:,[-2,-1]]\n",
    "yf_bitcoin.head()"
   ]
  },
  {
   "cell_type": "code",
   "execution_count": null,
   "metadata": {},
   "outputs": [],
   "source": [
    "# Loading In Data & Some Formating\n",
    "csvpath_trans = Path(\"Resources/n-transactions.csv\")\n",
    "trans_df = pd.read_csv(csvpath_trans, parse_dates=True, infer_datetime_format=True).sort_values(\"Timestamp\")\n",
    "trans_df['Timestamp'] = pd.to_datetime(trans_df['Timestamp']).dt.date\n",
    "trans_df.rename(columns={'Timestamp': 'Date','n-transactions': 'Bitcoin_Transactions'}, inplace=True)\n",
    "trans_df = trans_df.set_index('Date')\n",
    "trans_df"
   ]
  },
  {
   "cell_type": "code",
   "execution_count": null,
   "metadata": {},
   "outputs": [],
   "source": [
    "# Checking Trans Data Quality:\n",
    "print(trans_df.dtypes)\n",
    "print(\"\\n\")\n",
    "print(trans_df.shape)\n",
    "print(\"\\n\")\n",
    "print(trans_df[trans_df.duplicated(keep=False)])\n",
    "print(\"\\n\")\n",
    "print(trans_df.isnull().sum())"
   ]
  },
  {
   "cell_type": "code",
   "execution_count": null,
   "metadata": {},
   "outputs": [],
   "source": [
    "# Join and Clean Data\n",
    "trans_joined_df = pd.concat((yf_bitcoin['bitcoin_Adj Close'], trans_df), axis = 'columns', join='inner', sort=True)\n",
    "trans_joined_df = trans_joined_df.dropna().copy()\n",
    "trans_joined_df['btc_price_natural_log'] = np.log(trans_joined_df['bitcoin_Adj Close']) \n",
    "trans_joined_df['btc_transactions_natural_log'] = np.log(trans_joined_df['Bitcoin_Transactions']) \n",
    "trans_joined_df.head()"
   ]
  },
  {
   "cell_type": "code",
   "execution_count": null,
   "metadata": {},
   "outputs": [],
   "source": [
    "# Plot data\n",
    "transplot = trans_joined_df.hvplot.area(x='Date', y=['btc_price_natural_log','btc_transactions_natural_log'])\n",
    "transplot"
   ]
  },
  {
   "cell_type": "code",
   "execution_count": null,
   "metadata": {},
   "outputs": [],
   "source": [
    "# Adding Rolling 14 Day MA on Pct Changes in Transcations and Bitcoin Price\n",
    "trans_joined_df[\"Transaction Change 14 Day MA\"] = trans_joined_df[\"Bitcoin_Transactions\"].pct_change().rolling(window=14).mean()\n",
    "trans_joined_df[\"Bitcoin Price Change 14 Day MA\"] = trans_joined_df[\"bitcoin_Adj Close\"].pct_change().rolling(window=14).mean()\n",
    "trans_joined_df.head()"
   ]
  },
  {
   "cell_type": "code",
   "execution_count": null,
   "metadata": {},
   "outputs": [],
   "source": [
    "# Correlation\n",
    "data = trans_joined_df[['Transaction Change 14 Day MA','Bitcoin Price Change 14 Day MA']]\n",
    "correlation = data.corr()\n",
    "correlation"
   ]
  },
  {
   "cell_type": "markdown",
   "metadata": {},
   "source": [
    "**Panel for Dashboard**\n",
    "---"
   ]
  },
  {
   "cell_type": "code",
   "execution_count": null,
   "metadata": {},
   "outputs": [],
   "source": [
    "# Create a Title for the Dashboard:\n",
    "title = \"# **Traditional Currency vs. Paper Currency vs. Crypto Currency, which one should we invest?**\"\n",
    "\n",
    "# Create a Tab Layout for the Dashboard:\n",
    "row_cor = pn.Row(cor_m_pc,cor_m)\n",
    "row_cr = pn.Row(cr_fig_pc, cr_fig)\n",
    "row_1 = pn.Row(line_plot_dollar, dist_plot_dollar)\n",
    "row_2 = pn.Row(line_plot_gold, dist_plot_gold)\n",
    "row_3 = pn.Row(line_plot_bitcoin, dist_plot_bitcoin)\n",
    "row_4 = pn.Row(line_plot_sp500, dist_plot_sp500)\n",
    "row_5 = pn.Row(line_plot_portfolio_normal, dist_plot_portfolio_normal)\n",
    "row_6 = pn.Row(line_plot_dollar_epi, dist_plot_dollar_epi)\n",
    "row_7 = pn.Row(line_plot_gold_epi, dist_plot_gold_epi)\n",
    "row_8 = pn.Row(line_plot_bitcoin_epi, dist_plot_bitcoin_epi)\n",
    "row_9 = pn.Row(line_plot_sp500_epi, dist_plot_sp500_epi)\n",
    "row_10 = pn.Row(line_plot_portfolio_epi, dist_plot_portfolio_epi)\n",
    "row_11 = pn.Row(m2_plot, joined_close_plot)\n",
    "row_12 = pn.Row(bit_close_plot, cor_m2)\n",
    "column_1 = pn.Column(plt_dollar, '###Dollar Index will be $95.13')\n",
    "column_2 = pn.Column(plt_gold, '### Gold will be $1937.43')\n",
    "column_3 = pn.Column(plt_bitcoin, '### Bitcoin will be $13825.60')\n",
    "column_4 = pn.Column(plt_sp500, '### S&P 500 will be 3510.70')\n",
    "pane_1 = pn.Row(column_1, column_2)\n",
    "pane_2 = pn.Row(column_3, column_4)\n",
    "\n",
    "# Create Tabs:\n",
    "welcome_tab = pn.Column(\n",
    "    \"### This dashboard presents a visual analysis of pre-covid and covid period\",\n",
    "    \"### You can nagivate through the tabs above to explore more details \",\n",
    "    \"##**Dollar Futures:**\", plot_candlesticks(yf_dollar_df),\n",
    "    \"##**Bitcoin: **\", plot_candlesticks(yf_bitcoin_df),\n",
    "    \"##**Gold Futures:  **\", plot_candlesticks(yf_gold_df),\n",
    "    \n",
    ")\n",
    "return_tab = pn.Column(\"##**cumulative returns of Pre-covid and Covid Period: **\", row_cr,\n",
    "                        \"##**correlation between assets during pre-covid and covid period: **\", row_cor )\n",
    "\n",
    "risk_tab = pn.Column(\n",
    "        \"### Risk Analysis of Past Performances of Precovid and Covid Period\",\n",
    "        pn.Row(daily_pc_std_df, daily_std_df),\n",
    "        pn.Row(roll_fig_std_pc, roll_fig_std),\n",
    "        pn.Row(sharp_r_pc,sharp_r))\n",
    "\n",
    "\n",
    "optimization_tab = pn.Column(\n",
    "        \"### Portolio Optimazation and Efficient Frontiers:\",\n",
    "        opt_summary,\n",
    "        pn.Row(efficient_frontier_normal,efficient_frontier_epi))\n",
    "\n",
    "panel_1 = pn.Column(row_1, dollar_f,\n",
    "                   row_2, gold_f,\n",
    "                   row_3, bit_f,\n",
    "                   row_4, sp500_f,\n",
    "                   row_5, portfolio_f)\n",
    "\n",
    "panel_2 = pn.Column(row_6, dollar_epi_f,\n",
    "                   row_7, gold_epi_f,\n",
    "                   row_8, bit_epi_f,\n",
    "                   row_9, sp500_epi_f,\n",
    "                    row_10, portfolio_epi_f)\n",
    "\n",
    "panel_3 = pn.Column('### * M2 is a measure of the money supply that includes cash, checking deposits, and easily convertible near money.',\n",
    "                    '### * M2 is closely watched as an indicator of money supply and future inflation, and as a target of central bank monetary policy.',\n",
    "                   row_11, row_12)\n",
    "panel_4 = pn.Column('### In Jan 2021 , m2 money supply will be 19250.0', pane_1, pane_2)\n",
    "\n",
    "btc_tran_tab = pn.Column(\n",
    "    \"# Bitcoin Price & Transactions\", transplot,\n",
    "    \"# Bitcoin Price & Transactions Correlation\", correlation\n",
    ")\n"
   ]
  },
  {
   "cell_type": "code",
   "execution_count": null,
   "metadata": {},
   "outputs": [],
   "source": [
    "# Create a Dashboard:\n",
    "dashboard = pn.Column(\n",
    "    title,\n",
    "    pn.Tabs(\n",
    "        (\"Welcome\", welcome_tab),\n",
    "        (\"Return and Correlation\", return_tab),\n",
    "        (\"Risk Analysis\", risk_tab),        \n",
    "        (\"Portfolio Optimization\", optimization_tab),\n",
    "        ('Prediction based on Pre-covid period', panel_1),\n",
    "        ('Prediction based on Post-covid period', panel_2),\n",
    "        ('Correlation between M2 and Assets', panel_3),\n",
    "        ('Prediction based on M2', panel_4),\n",
    "        ('Prediciton based on Bitcoin Transcations', btc_tran_tab)\n",
    "    )\n",
    ")"
   ]
  },
  {
   "cell_type": "code",
   "execution_count": null,
   "metadata": {},
   "outputs": [],
   "source": [
    "dashboard.servable()\n"
   ]
  },
  {
   "cell_type": "code",
   "execution_count": null,
   "metadata": {},
   "outputs": [],
   "source": []
  }
 ],
 "metadata": {
  "kernelspec": {
   "display_name": "Python 3",
   "language": "python",
   "name": "python3"
  },
  "language_info": {
   "codemirror_mode": {
    "name": "ipython",
    "version": 3
   },
   "file_extension": ".py",
   "mimetype": "text/x-python",
   "name": "python",
   "nbconvert_exporter": "python",
   "pygments_lexer": "ipython3",
   "version": "3.7.9"
  }
 },
 "nbformat": 4,
 "nbformat_minor": 4
}
